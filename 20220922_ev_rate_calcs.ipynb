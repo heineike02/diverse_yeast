{
 "cells": [
  {
   "cell_type": "code",
   "execution_count": 1,
   "metadata": {},
   "outputs": [],
   "source": [
    "## Integrate Jacob's tidied up alignments\n",
    "\n",
    "seq_blacklist = {}# {'alloascoidea_hylecoeti__OG1299__0_2015'}"
   ]
  },
  {
   "cell_type": "code",
   "execution_count": 2,
   "metadata": {},
   "outputs": [],
   "source": [
    "import os\n",
    "import pickle \n",
    "import pandas as pd\n",
    "\n",
    "from Bio import SeqIO, AlignIO\n",
    "#from Bio import codonalign\n",
    "\n",
    "    \n",
    "\n",
    "y1000plus_dir = os.path.normpath('C:/Users/heineib/Documents/GitHub/y1000plus_tools/data') + os.sep\n",
    "#base_dir = os.path.normpath('G:/My Drive/Crick_LMS/projects/diverse_yeasts')\n",
    "\n",
    "\n",
    "#Load y1000 species table\n",
    "y1000_species = pd.read_csv(y1000plus_dir + os.path.normpath(\"y1000plus_tools_data/y1000plus/y1000_species_table.csv\"), index_col=0)\n",
    "\n",
    "\n",
    "orig_genome_lookup = dict(zip(y1000_species['original_genome_id'],y1000_species['old_species_names']))\n",
    "\n",
    "base_dir = os.path.normpath('G:/My Drive/Crick_LMS/projects/diverse_yeasts/alphafold')\n",
    "\n",
    "\n",
    "spec_abbrev_to_orig = {'Scer': 'Saccharomyces_cerevisiae', \n",
    "                    'Calb': 'Candida_albicans'\n",
    "                   }\n",
    "\n",
    "gene_id_2_y1000_id = {}\n",
    "\n",
    "#Load S.cer lookup table: \n",
    "scer_lookup_fname = y1000plus_dir + os.path.normpath('y1000plus_tools_data/y1000plus/id_lookups/saccharomyces_cerevisiae.csv')\n",
    "scer_lookup = pd.read_csv(scer_lookup_fname, index_col=0)\n",
    "gene_id_2_y1000_id['Scer'] = dict(zip(scer_lookup.index,scer_lookup['y1000_id']))\n",
    "\n",
    "#Load C.alb lookup table\n",
    "calb_lookup_fname = y1000plus_dir + os.path.normpath('y1000plus_tools_data/y1000plus/id_lookups/candida_albicans.csv')\n",
    "calb_lookup = pd.read_csv(calb_lookup_fname, index_col=0)\n",
    "gene_id_2_y1000_id['Calb'] = dict(zip(calb_lookup.index,calb_lookup['y1000_id']))\n",
    "\n",
    "#Lookup from swissprot_id to gene_id\n",
    "swissprot_id_2_gene_id= {}\n",
    "scer_swissprot_id_2_gene_id_df = pd.read_table(base_dir + os.sep + os.path.normpath('msas/structural/Scer_protein_names.tsv'))\n",
    "swissprot_id_2_gene_id['Scer'] = dict(zip(scer_swissprot_id_2_gene_id_df['Swiss-Prot'],scer_swissprot_id_2_gene_id_df['OLN']))\n",
    "\n",
    "calb_swissprot_id_2_gene_id = pickle.load(open(base_dir + os.sep + os.path.normpath('msas/structural/Mapping_calb.pkl'),\"rb\"))\n",
    "swissprot_id_2_gene_id['Calb'] = dict(zip(calb_swissprot_id_2_gene_id.values(),calb_swissprot_id_2_gene_id.keys()))\n",
    "\n",
    "\n",
    "\n"
   ]
  },
  {
   "cell_type": "code",
   "execution_count": 3,
   "metadata": {},
   "outputs": [],
   "source": [
    "def seq_squeeze(seq_in):\n",
    "    seq_out = ''\n",
    "    for res in seq_in:\n",
    "        if res!= '-':\n",
    "            seq_out = seq_out + res\n",
    "    \n",
    "    return seq_out"
   ]
  },
  {
   "cell_type": "code",
   "execution_count": 2,
   "metadata": {},
   "outputs": [],
   "source": [
    "#Start with example: CDC19, 'OG1299'\n",
    "#Open sequence alignment\n",
    "#Open structural alignment\n",
    "\n",
    "#Assign Codons to Sequences\n",
    "#https://jlsteenwyk.com/PhyKIT/usage/index.html#protein-to-nucleotide-alignment\n",
    "\n",
    "#Need to know which parts of each sequence was trimmed.  (could use clipkit format)\n",
    "#col1: position in the alignment (starting at 1)\n",
    "#col2: reports if site was trimmed or kept (trim or keep, respectively)\n",
    "#col3: reports if the site is parsimony informative or not (PI or nPI, respectively)\n",
    "#col4: reports the gappyness of the position (number of gaps / entries in alignment)\n",
    "\n",
    "#I think I might need to do this in a custom way\n",
    "\n",
    "\n",
    "\n",
    "\n",
    "##Data file: REF_Scer_AF-P00549-F1-model_v2.pkl\n",
    "\n"
   ]
  },
  {
   "cell_type": "code",
   "execution_count": 4,
   "metadata": {},
   "outputs": [
    {
     "ename": "KeyError",
     "evalue": "'Saccharomyces_cerevisiae|110_4286'",
     "output_type": "error",
     "traceback": [
      "\u001b[1;31m---------------------------------------------------------------------------\u001b[0m",
      "\u001b[1;31mKeyError\u001b[0m                                  Traceback (most recent call last)",
      "\u001b[1;32m<ipython-input-4-3d608ec4dc3a>\u001b[0m in \u001b[0;36m<module>\u001b[1;34m\u001b[0m\n\u001b[0;32m     75\u001b[0m             \u001b[1;32mif\u001b[0m \u001b[0mseq_aln_id\u001b[0m \u001b[1;32min\u001b[0m \u001b[0mstruct_aln_aa_dict\u001b[0m\u001b[1;33m.\u001b[0m\u001b[0mkeys\u001b[0m\u001b[1;33m(\u001b[0m\u001b[1;33m)\u001b[0m\u001b[1;33m:\u001b[0m  \u001b[1;31m#Only included if it is part of Oliver's structural alignment\u001b[0m\u001b[1;33m\u001b[0m\u001b[1;33m\u001b[0m\u001b[0m\n\u001b[0;32m     76\u001b[0m                 \u001b[1;31m#Extract protein sequence\u001b[0m\u001b[1;33m\u001b[0m\u001b[1;33m\u001b[0m\u001b[1;33m\u001b[0m\u001b[0m\n\u001b[1;32m---> 77\u001b[1;33m                 \u001b[0mseq_aa_gaps\u001b[0m \u001b[1;33m=\u001b[0m \u001b[0mseq_aln_aa\u001b[0m\u001b[1;33m[\u001b[0m\u001b[0mseq_aln_aa_inds\u001b[0m\u001b[1;33m[\u001b[0m\u001b[0mseq_aln_id\u001b[0m\u001b[1;33m]\u001b[0m\u001b[1;33m]\u001b[0m\u001b[1;33m.\u001b[0m\u001b[0mseq\u001b[0m\u001b[1;33m\u001b[0m\u001b[1;33m\u001b[0m\u001b[0m\n\u001b[0m\u001b[0;32m     78\u001b[0m                 \u001b[0mseq_aa\u001b[0m \u001b[1;33m=\u001b[0m \u001b[0mseq_squeeze\u001b[0m\u001b[1;33m(\u001b[0m\u001b[0mseq_aa_gaps\u001b[0m\u001b[1;33m)\u001b[0m\u001b[1;33m\u001b[0m\u001b[1;33m\u001b[0m\u001b[0m\n\u001b[0;32m     79\u001b[0m \u001b[1;33m\u001b[0m\u001b[0m\n",
      "\u001b[1;31mKeyError\u001b[0m: 'Saccharomyces_cerevisiae|110_4286'"
     ]
    }
   ],
   "source": [
    "#Make Codon Based structural Alignments: \n",
    "\n",
    "\n",
    "#For an orthogroup/reference\n",
    "struct_aln_aa_dir = base_dir + os.sep + os.path.normpath(\"msas/structural/fasta_renamed_struct_filt\") + os.sep\n",
    "\n",
    "#Loop through all structures in that directory\n",
    "struct_aln_aa_fname_base =  'OG1299__Scer_AF-P00549-F1-model_v2.struct_filt.fasta'\n",
    "struct_aln_aa_fname =  struct_aln_aa_dir + struct_aln_aa_fname_base #Use this as a filter for the structures to keep, also use to check aa alignment\n",
    "\n",
    "struct_aln_aa = AlignIO.read(struct_aln_aa_fname, 'fasta')\n",
    "\n",
    "struct_aln_aa_dict = {}\n",
    "for record in struct_aln_aa:\n",
    "    struct_aln_aa_dict[record.id] = str(record.seq)\n",
    "\n",
    "\n",
    "(og,ref_ext) = struct_aln_aa_fname_base.split('__')\n",
    "(ref, ext1,ext2) = ref_ext.split('.')\n",
    "\n",
    "struct_aln_codon_fname =  base_dir + os.sep + os.path.normpath(\"msas/structural/fasta_renamed_struct_filt_codon/\" + og + '__' + ref + '_struct_filt_codon.fasta')\n",
    "\n",
    "struct_data_fname = base_dir + os.sep + os.path.normpath('/Output/Summary/REF_' + ref + '.pkl')\n",
    "\n",
    "og_struct_data = pickle.load(open(struct_data_fname, 'rb'))\n",
    "\n",
    "seq_aln_aa_fname = base_dir + os.sep + os.path.normpath(\"msas\\ogs_pep_aligned\\\\\" + og + '.mfaa.mafft' )\n",
    "seq_aln_codon_fname = base_dir + os.sep + os.path.normpath(\"msas\\ogs_cds_threaded\\\\\" + og + '.mfna.threaded' )\n",
    "\n",
    "seq_aln_aa = AlignIO.read(seq_aln_aa_fname, 'fasta')\n",
    "seq_aln_aa_inds = {}\n",
    "\n",
    "for jj, record in enumerate(seq_aln_aa):\n",
    "     seq_aln_aa_inds[record.id] = jj\n",
    "    \n",
    "seq_aln_codon = AlignIO.read(seq_aln_codon_fname, 'fasta')\n",
    "seq_aln_codon_inds = {}\n",
    "\n",
    "for jj, record in enumerate(seq_aln_codon):\n",
    "     seq_aln_codon_inds[record.id] = jj\n",
    "    \n",
    "\n",
    "\n",
    "#For each sequence\n",
    "with open(struct_aln_codon_fname, 'w') as fout_struct_codon: \n",
    "    for seq_ind, name in enumerate(og_struct_data['Molecules'].keys()): \n",
    "        # seq_ind = 7\n",
    "        # name = 'ascoidea_rubescens__OG1299__6_3105'\n",
    "        spec_abbrev_test = name.split('_')[0]\n",
    "        seq_keep = True\n",
    "        if name in seq_blacklist:  #Make sure I am using Jacob's most recent sequence alignments\n",
    "            seq_keep=False\n",
    "            \n",
    "        if spec_abbrev_test in {'REF', 'Spom', 'Calb'}: #it is never Scer as REF refers to the fact that we are using Scer as the reference species. \n",
    "            if spec_abbrev_test == 'REF': \n",
    "                spec_abbrev = 'Scer'\n",
    "                name = '_'.join(name.split('_')[1:]) # removes 'REF_' from the beginning of the name\n",
    "            else: \n",
    "                spec_abbrev = spec_abbrev_test \n",
    "\n",
    "            if spec_abbrev == 'Spom': \n",
    "                seq_keep = False\n",
    "            else: \n",
    "                spec_old = spec_abbrev_to_orig[spec_abbrev]\n",
    "\n",
    "                swissprot_id = name.split('_')[1].split('-')[1]\n",
    "                y1000_id = gene_id_2_y1000_id[spec_abbrev][swissprot_id_2_gene_id[spec_abbrev][swissprot_id]]\n",
    "\n",
    "        else: \n",
    "            (spec, og_name, y1000_id) = name.split('__')\n",
    "            spec_old = orig_genome_lookup[spec] \n",
    "\n",
    "        if seq_keep: \n",
    "            seq_aln_id = spec_old + '|' + y1000_id\n",
    "            if seq_aln_id in struct_aln_aa_dict.keys():  #Only included if it is part of Oliver's structural alignment\n",
    "                #Extract protein sequence\n",
    "                seq_aa_gaps = seq_aln_aa[seq_aln_aa_inds[seq_aln_id]].seq\n",
    "                seq_aa = seq_squeeze(seq_aa_gaps)\n",
    "\n",
    "                #Extract codon sequenc\n",
    "                seq_codon_gaps = seq_aln_codon[seq_aln_codon_inds[seq_aln_id]].seq\n",
    "                seq_codon = seq_squeeze(seq_codon_gaps)\n",
    "\n",
    "                #Extract trimming data\n",
    "                seq_mapping = og_struct_data['Mapping']['Mapping'][seq_ind]\n",
    "\n",
    "                #Make aa_line and codon_line\n",
    "\n",
    "                line_header = '>' + seq_aln_id + '\\n'\n",
    "\n",
    "                aa_line = ''\n",
    "                codon_line = ''\n",
    "                for aln_ind in seq_mapping: \n",
    "                    if aln_ind ==-1: \n",
    "                        aa_line = aa_line + '-'\n",
    "                        codon_line = codon_line + '---'\n",
    "                    else: \n",
    "                        aa_line = aa_line + seq_aa[aln_ind]\n",
    "                        codon_line = codon_line + seq_codon[3*aln_ind: 3*aln_ind + 3]\n",
    "                \n",
    "                assert aa_line==struct_aln_aa_dict[seq_aln_id], seq_aln_id + ' msa in filtered structure alignments does not have same alignment as corresponding sequence, ' + name + ', in raw data'\n",
    "                   \n",
    "                fout_struct_codon.write(line_header)\n",
    "                fout_struct_codon.write(codon_line + '\\n')\n",
    "                \n"
   ]
  },
  {
   "cell_type": "code",
   "execution_count": 8,
   "metadata": {},
   "outputs": [
    {
     "data": {
      "text/plain": [
       "'P00549'"
      ]
     },
     "execution_count": 8,
     "metadata": {},
     "output_type": "execute_result"
    }
   ],
   "source": [
    "swissprot_id"
   ]
  },
  {
   "cell_type": "code",
   "execution_count": null,
   "metadata": {},
   "outputs": [],
   "source": [
    "emboss: \n",
    "http://emboss.open-bio.org/rel/rel6/apps/coderet.html"
   ]
  },
  {
   "cell_type": "code",
   "execution_count": 10,
   "metadata": {},
   "outputs": [
    {
     "data": {
      "text/plain": [
       "{'Alloascoidea_hylecoeti|0_2015': 0,\n",
       " 'Alloascoidea_hylecoeti|0_6964': 1,\n",
       " 'Alloascoidea_hylecoeti|0_7561': 2,\n",
       " 'Ogataea_parapolymorpha|104_2044': 3,\n",
       " 'Pachysolen_tannophilus|106_930': 4,\n",
       " 'Tortispora_caseinolytica|134_405': 5,\n",
       " 'Torulaspora_delbrueckii|135_4439': 6,\n",
       " 'Vanderwaltozyma_polyspora|136_2033': 7,\n",
       " 'Wickerhamomyces_anomalus|139_1240': 8,\n",
       " 'Candida_apicola|13_3972': 9,\n",
       " 'Yarrowia_lipolytica|144_6037': 10,\n",
       " 'yHMPu5000034604_Sporopachydermia_lactativora|170_306': 11,\n",
       " 'yHMPu5000034604_Sporopachydermia_lactativora|170_6188': 12,\n",
       " 'yHMPu5000034957_Hanseniaspora_osmophila|247_3065': 13,\n",
       " 'Candida_tropicalis|30_3271': 14,\n",
       " 'Zygosaccharomyces_rouxii|342_99': 15,\n",
       " 'Cyberlindnera_jadinii|35_1953': 16,\n",
       " 'Debaryomyces_hansenii|36_3767': 17,\n",
       " 'Eremothecium_gossypii|40_309': 18,\n",
       " 'Geotrichum_candidum|43_1496': 19,\n",
       " 'Geotrichum_candidum|43_2944': 20,\n",
       " 'Kazachstania_naganishii|49_3029': 21,\n",
       " 'Kazachstania_naganishii|49_4108': 22,\n",
       " 'Kluyveromyces_lactis|50_393': 23,\n",
       " 'Kluyveromyces_marxianus|51_4988': 24,\n",
       " 'Komagataella_pastoris|52_2808': 25,\n",
       " 'Lachancea_thermotolerans|64_2570': 26,\n",
       " 'Lipomyces_starkeyi|66_159': 27,\n",
       " 'Ascoidea_rubescens|6_3105': 28,\n",
       " 'Ascoidea_rubescens|6_5005': 29}"
      ]
     },
     "execution_count": 10,
     "metadata": {},
     "output_type": "execute_result"
    }
   ],
   "source": [
    "seq_aln_aa_inds"
   ]
  },
  {
   "cell_type": "code",
   "execution_count": 9,
   "metadata": {},
   "outputs": [
    {
     "data": {
      "text/plain": [
       "'Scer_AF-P00549-F1-model_v2'"
      ]
     },
     "execution_count": 9,
     "metadata": {},
     "output_type": "execute_result"
    }
   ],
   "source": [
    "name"
   ]
  },
  {
   "cell_type": "code",
   "execution_count": 5,
   "metadata": {},
   "outputs": [
    {
     "data": {
      "text/plain": [
       "'Saccharomyces_cerevisiae|110_4286'"
      ]
     },
     "execution_count": 5,
     "metadata": {},
     "output_type": "execute_result"
    }
   ],
   "source": [
    "seq_aln_id"
   ]
  },
  {
   "cell_type": "code",
   "execution_count": null,
   "metadata": {},
   "outputs": [],
   "source": [
    "# Prepare to Run CodeML\n",
    "# Convert codon alignment to phylip, shorten names\n",
    "\n",
    "# Get a tree (prune to only have correct leaves, use short names)\n",
    "\n",
    "# Build codeml run file, set up input/output directories"
   ]
  },
  {
   "cell_type": "code",
   "execution_count": null,
   "metadata": {},
   "outputs": [],
   "source": [
    "codeml_input = [('seqfile', 'OG1299_cds_aln.phy'), \n",
    "                ('treefile', 'OG1299_clean.treefile'), \n",
    "                ('outfile', 'pamlOne.out'), \n",
    "                ('noisy', '9'), #0,1,2,3,9: how much rubbish on the screen\n",
    "                ('verbose', '1'), # 0: concise; 1: detailed, 2: too much\n",
    "                ('runmode', '0'), #user tree\n",
    "                ('seqtype', '1'), #Codons\n",
    "                ('CodonFreq', '2'), #0:1/61 each, 1:F1X4, 2:F3X4, 3:codon table \n",
    "                ('clock', '0'), # No clock - rates vary from branch to branch\n",
    "                ('model', '0'), #How many omegas estimated 0: 1, 1: one per branch,  2: 2 or more - need to specify branches \n",
    "                ('NSsites', '0'), #one\n",
    "                ('icode', '0'), # universal code.  Yeast mitochondria is 3, Alternative yeast nuclear should be 12, but the doc says 8.\n",
    "                ('fix_kappa', '0'), #Uses Kappa estimate as initial guess\n",
    "                ('kappa', '2'), \n",
    "                ('fix_omega', '0'), \n",
    "                ('omega', '1'), # initial or fixed omega - for codons or codon based AAs - default is 0.4\n",
    "                ('fix_alpha', '1'), # setting this along with NSsites and alpha=0 below means that NSsites is used\n",
    "                ('alpha', '.0'),   #why .0 instead of 0?\n",
    "                ('Malpha', '0'),  #one gamma distribution across all sites\n",
    "                ('ncatG', '10'),  #Number of categories in dG of NSsites models - default is 3\n",
    "                ('getSE', '0'),   #get standard errors of estimates\n",
    "                ('RateAncestor', '1'),  #Ancestral state - default is 0\n",
    "                ('method', '0'), #simultaneous\n",
    "                ('cleandata', '1'), #remove sites with ambiguity data - yes (default is no)\n",
    "                ('Small_Diff', '.5e-6')  #Use a value between 1e-8 and 1e-5 and check that the results are not sensitive to the value used.\n",
    "               ]\n",
    "\n",
    "for (param_name, param_val) in "
   ]
  },
  {
   "cell_type": "code",
   "execution_count": null,
   "metadata": {},
   "outputs": [],
   "source": [
    "#function: run codeML given a codon alignment, output into file"
   ]
  },
  {
   "cell_type": "code",
   "execution_count": null,
   "metadata": {},
   "outputs": [],
   "source": [
    "#function: #Extract relevant information from CodeML file\n",
    "#Overall Ev Rate"
   ]
  },
  {
   "cell_type": "code",
   "execution_count": null,
   "metadata": {},
   "outputs": [],
   "source": [
    "#Compare Ev Rate for seq alignment, structural alignment, all structurally conserved regions, sub-network"
   ]
  },
  {
   "cell_type": "code",
   "execution_count": 24,
   "metadata": {},
   "outputs": [],
   "source": []
  },
  {
   "cell_type": "code",
   "execution_count": 34,
   "metadata": {},
   "outputs": [
    {
     "data": {
      "text/plain": [
       "'ATGGTGGCCAACGGATACCACCATAAACTGAGCCAGCGTCTGAGCCAGCGTCTGAGCCAGCGTCTGAGCCGATCAGGATTCTGGACCAGCACGACTGCCCCGAGCCAGCCATTCAATCCAGCACTTCCAGTCCTCTTAAAGCCAGTATGTTTCCTCCCCAACTTTATTATTTCTTTTTATTTTCCCCCCCCAAAAAAACAAAAAAACCACAAAACCATGTCTGTTCTTGATGATGCTAACTTCCCCTCGATGGAGATGTTTTTCGAACGGTACGGTGATGACGGGGTCCAGGAACCCCGAGACGAACATTACATGCTGCATGAGGAATACGAGGAGACGTACGCAGCGCAATTTAGCTACGAATTCGGGCTGACTAAAGACACCAAGCTCCGTGATGTGTCCGAAACACCCATCAACTATGATGTCAGTGATTACTACTTTGACCCCCAGCTAGGGTTGGGCATCCACAAGGAGATCGGACTTGTGGTGGTGTTCCACCGAGACCCCCGGAAAAACTATATCATCCGGTCGCTTTTATTTGAGAGGTACGCACAGGCCATCATGTGCAAGATAACACTGTTCCGCGGGGCCTTGCAGTTGCTGCGGGCCAAGGACGAGCTCAGTCTGAAGCTTGTGCTCAGTTGCGAGATGGGTGAGCCAGGACTCGAACACGCCCGCGGCAAGCTCAGTCCGCAATGCATGCCGCTCCAGGCCGTGCCCATCCACTTTGGTTTTGGCTGCGGCTGCGGCATCATCAGAAGAAGGTATGGCGAGTTGAGTCGCCACTCATGCATCCAACGGGACTCGATCCGACCCATGGCGTTCCAAAAGTTCCCGCAGAGGTATGGTCTCCGGCCTGCCAACTTTGAGGTTTATTGTCCCACCGACGACGGCTATGTGGAGGCCCGCGCCAGGGATGGTCCTGCGTCGTCGTCGTCGTCGTCGTCGTCGTCGTCATTATCAGGGACTGCGACAACCGTCCAGAACCACCTGCGGACAACCACTGTGCCCGACCTGCAGCACCATCCGTTGGTGAAAAAGATTCTCCAGGAGGTGGACCGAGAAATAGTGGACATCCAGGTCAAAGGTATGAAGGAGGCCAATTTTGTTCCGAAGATAGCCCAGCTCTTGGTGGGTGCCATGACACTTTTCAGCGCCAACATCAACCATGTCAATCTTGCGGGACTCGAAGTGGTGCGACTTTTCAAAGGCGCCGCCAATAACACCGGGCGCGCCTCCAATAACTTTAACCGCCGCCCATCTACGTATTTCCGCGCAGTCCAGACATACCTGACGTGCGTGCAGTACAGCAAGTACATGGCCGAGCTAGTATACATGGTATTGATGTATGGACCCAAACCTGCGGCCTCCTTGGCGCTCACTGAGATGCTTGATAAGTATAGAGACGATGAAGTTGTGTTGGAGGTCAATTCCCGTGATTATCACAATTTGACAGGCTACTCGCAGTTCATCACGGCCGAGGAGCGCACGCGGATCTTGGACCAGACGTTTACCGAGTCGTCCCTTCGTGACATCGACCAGCTCGTGCATTGGATCATGGACCACTGCATAAGAAAGGAGTTCGACGAAAACCTTTCTGTGGCGGGGGATGAGCAGCAGCAGCAGCAGCAGCAGCCAGATATCGATATTGAGAGTGATGCCATAGCCGCGGGTATCTTGGATGAGGACGGCGACGACAACAATGAAACCCCAGAGGTGTATTTGGAGGCCATGAACACAACAATGTCGTCCTCGCAGCAGCAAACAGCTGCTGAGTCTTTGGCCAGTTTGTACTATCCGGTCTATGGCGTCAACAATAATGCCGAAGAAGAAGAAGAACAAAATACGTCAAACGAAAATGCGTTTGTGGTGTACCTTGGGTACCTAGGGGCTAAGTATCCGACCAAGCAGTATTGTCGGTCGTTGAGCGGAATATGCTATGTGGCCAAGACGTGTGTTTTGTTGGATATCATCAAACGGGCGCGCACCCGCCGCGTATCGCTTCGAGACGCTGAGGATCCGTCTGTTGTGGACACCGGTCTGTACCGCATATTGGCCCAGGTGCGCACCCATTATACGTATCTCGGGCTATCGTTGGCTCGAAGCGAGGGTAATCTCTTTCGCCTCAACTTTTCCACGGGAGACATCTTCAACAGCGACAACGTGGTTGTGGGCCACACGAATATGATCAGCAAGATATTCGGCCGGTTGTACGACCTTGCACAGGAAACCATCCAGGATTTGTCGAATGGTGAAGAATTGGACTACTCCGTTGACAACGCTCGGCTCAGCGACGGGATGGTTTCGTTTACGGAGTGCGTGAGAGTACCGCTGTATTCGCGATATAAGCACCGATTGCTCTCGATCCATAACAACAACATCGACCTGTTCCGGAAAGCGCACACCAACTTGTCGCTCATCCTCATCACGCTCCTCCATATCCTGTGCTTGCCGGCACGGTCAACTGAAATCGACCGATTATCGGTGGAGGGCACGTCCAAGGAGTATCGGGGTGTGTACTTTCTTGGCCCCACGTTTGGGTTTTGCTATAACTATAACAAGTCGGCCAATTCGAAAGACCCCATCATCCGGGAAATCGGTCCTGAATTGTCGTTGTTGTTTTTGTGGTATGTGCTCGTCTTCAGGCGGATGTACGTAGAGCTGTCGCGTGTGGAGAGCAGTGAGAAGTTGTACCAGTTTGATGCGATGCTGCCGGACAAGATCCGGAGAGGAGTCCTGTATTGGTTCACGTACGGCATGAATAACCAGCGCGAGTATAAGTTCTGTGAGGTGCGCCAGATCCTCAAGCGGTGCATCGAGTTCCATTACACCAAAAGCGTGACTGCAGATCTCGACATGTACCGTCTGGTTTACGAGACCATTGCGCGGACCCTGGGCCATTCGGTGGCCACGTCCACGGAGCATTACGGGACGATTGCGAATTATCCGCCATCAGTCAACGCCGCCGATGTGCTCCGGTCCCGTCATTTGGGCCAGGTCTGGCATCGGCTGGGGTTGCGTCGGAAGTTTATCGGTTTCGAGGGTGAGGTTGTTGAGCCGGAGGGTGAGCCGGGTGATGTGGATGAGGTGGTGGCATCTGATGTTTCAATTGACCCGGCTAGCCCTGTCAATGAAGAGGTTGAGGAAGTTGAACCCTTGCGTGATGATATTGGCGGGAATCCTGTTTATGCAGATGACGAGGTTGAGGAAGTTGAACCCCTGCGTGACGATATTGGCGGGAATCCTGTTTATGCAGATGACGAGGTTGATTCTATTTCGGATATGCTTATGGAAATTCCTCGCATAGATTATAATAGGGCTGTAGGCTCTGATCCTACGCCTGTTCCTCCGCTTGAACCTTCTGCTGTTTCACCTTCTGAACCCCCAGCTCCTTCTCGTTCAGTCCCTGTTTCAGCTCCCGACGCCCCTCCAGTGTCTGTTTCGTGGAACGATTCGAGCCTCTCCCCAAACCACGCTTCGTCCCCTTATGTTCACCAGCTCCCAGGTTATCGTCCTCCCTTCTCACCTCCCTACCACCACGCTCCTGTATCTTCTGGGTTTGCTTTACCTCCGCAAGATGCATATCTAGGCGCGCCGTTATATGATGCGCATGTGTCTCGAGAAGTGCTTCTGGGAGCGAGAAAACGCCATAGTCGAGAAAAAAAGGAAAGCAAAGAGAGAAAAATGGAAAGGAAGAGGAAGGAGAAAGAAAGGATCAGTAAAAGAGAGGAAGATATCAGGAAAAGAGAGGAAAAGATCAGAAAAAGAGAGGAGAAAGAAAAGATAAGGAAAAGAGAGAAGAGAGAGAAAAGGGAAAGAAAACGGGCAGAGGAGAAACGAGAAAAAGAAAGTGCAGCCCTAGCTTCTCCTGTCACCCCAGTCAGGACCCTAAAAGTCAAAGACGTCCATCTATATCTGTCTGCAACGAGTGGCCGGTTATTCCGTAGCGAAAGCCCATCAGGCCCCTCAGGCCCTTCAGGCCCCTCAAGTCCTCGAGCCATGCCATCGGGTCCCCCAACGCCGAATCTGAGTGCCAGGCGGGTGCACCCCCTTATCTATCAATCGCGCACGCAAAGCCTGGCCGTTCCTGGGTCTTCCCACCCAACGCGCGTGCAAAAGCAGCCAAAGCAGCCTCCCAGCGCGCGCTCTTTAGGATCGCCTCCCTCGTTTCCCGAGACGCCGCGCCGGTCCTTGCTTTCTCCCCAGCATCTCCGCCAAAGAATAACGGAGAGTTTGCAGGCATCGCCGTTGGGAAGGTTCTTTGCTCCGTCAGATTCCCCTAAAAGCGTTGCTCGGAAAGGGCCCAAGATCCCTAAGAATGATCCTGTGGTGGATGATCTGGATTATCTGGAGCTGGATTATCTGGATGAAGATTAG'"
      ]
     },
     "execution_count": 34,
     "metadata": {},
     "output_type": "execute_result"
    }
   ],
   "source": []
  },
  {
   "cell_type": "code",
   "execution_count": 30,
   "metadata": {},
   "outputs": [],
   "source": []
  },
  {
   "cell_type": "code",
   "execution_count": 38,
   "metadata": {},
   "outputs": [
    {
     "data": {
      "text/plain": [
       "OrderedDict([('transl_table', ['12']),\n",
       "             ('locus_tag', ['DEHA2G00110g']),\n",
       "             ('old_locus_tag',\n",
       "              ['DEHA0G00110g', 'DEHA-IPF1099', 'DEHA-CDS0121.1']),\n",
       "             ('product', ['DEHA2G00110p']),\n",
       "             ('note', ['no similarity']),\n",
       "             ('db_xref',\n",
       "              ['EnsemblGenomes-Gn:DEHA2G00110g',\n",
       "               'EnsemblGenomes-Tr:CAG89967',\n",
       "               'UniProtKB/TrEMBL:Q6BJT8']),\n",
       "             ('protein_id', ['CAG89967.2']),\n",
       "             ('translation',\n",
       "              ['MVANGYHHKSSQRSSQRSSQRSSRSGFWTSTTAPSQPFNPALPVLLKPVCFLPNFIISFYFPPPKKQKNHKTMSVLDDANFPSMEMFFERYGDDGVQEPRDEHYMSHEEYEETYAAQFSYEFGSTKDTKLRDVSETPINYDVSDYYFDPQLGLGIHKEIGLVVVFHRDPRKNYIIRSLLFERYAQAIMCKITSFRGALQLSRAKDELSSKLVLSCEMGEPGLEHARGKLSPQCMPLQAVPIHFGFGCGCGIIRRRYGELSRHSCIQRDSIRPMAFQKFPQRYGLRPANFEVYCPTDDGYVEARARDGPASSSSSSSSSSLSGTATTVQNHSRTTTVPDSQHHPLVKKILQEVDREIVDIQVKGMKEANFVPKIAQLLVGAMTLFSANINHVNLAGLEVVRLFKGAANNTGRASNNFNRRPSTYFRAVQTYSTCVQYSKYMAELVYMVLMYGPKPAASLALTEMLDKYRDDEVVLEVNSRDYHNLTGYSQFITAEERTRILDQTFTESSLRDIDQLVHWIMDHCIRKEFDENLSVAGDEQQQQQQQPDIDIESDAIAAGILDEDGDDNNETPEVYLEAMNTTMSSSQQQTAAESLASLYYPVYGVNNNAEEEEEQNTSNENAFVVYLGYLGAKYPTKQYCRSLSGICYVAKTCVLLDIIKRARTRRVSLRDAEDPSVVDTGSYRILAQVRTHYTYLGLSLARSEGNLFRLNFSTGDIFNSDNVVVGHTNMISKIFGRLYDLAQETIQDLSNGEELDYSVDNARLSDGMVSFTECVRVPSYSRYKHRLLSIHNNNIDSFRKAHTNLSLILITLLHISCLPARSTEIDRLSVEGTSKEYRGVYFLGPTFGFCYNYNKSANSKDPIIREIGPELSLLFLWYVLVFRRMYVESSRVESSEKLYQFDAMSPDKIRRGVSYWFTYGMNNQREYKFCEVRQILKRCIEFHYTKSVTADLDMYRSVYETIARTSGHSVATSTEHYGTIANYPPSVNAADVLRSRHLGQVWHRSGLRRKFIGFEGEVVEPEGEPGDVDEVVASDVSIDPASPVNEEVEEVEPLRDDIGGNPVYADDEVEEVEPSRDDIGGNPVYADDEVDSISDMLMEIPRIDYNRAVGSDPTPVPPLEPSAVSPSEPPAPSRSVPVSAPDAPPVSVSWNDSSLSPNHASSPYVHQLPGYRPPFSPPYHHAPVSSGFALPPQDAYLGAPLYDAHVSREVLSGARKRHSREKKESKERKMERKRKEKERISKREEDIRKREEKIRKREEKEKIRKREKREKRERKRAEEKREKESAALASPVTPVRTLKVKDVHLYSSATSGRLFRSESPSGPSGPSGPSSPRAMPSGPPTPNSSARRVHPLIYQSRTQSSAVPGSSHPTRVQKQPKQPPSARSLGSPPSFPETPRRSLLSPQHLRQRITESLQASPLGRFFAPSDSPKSVARKGPKIPKNDPVVDDSDYSESDYSDED'])])"
      ]
     },
     "execution_count": 38,
     "metadata": {},
     "output_type": "execute_result"
    }
   ],
   "source": []
  },
  {
   "cell_type": "code",
   "execution_count": 12,
   "metadata": {},
   "outputs": [
    {
     "name": "stdout",
     "output_type": "stream",
     "text": [
      "CR382133.2\n",
      "CR382134.2\n",
      "CR382135.2\n",
      "CR382136.2\n",
      "CR382137.2\n",
      "CR382138.2\n",
      "CR382139.2\n"
     ]
    }
   ],
   "source": []
  },
  {
   "cell_type": "code",
   "execution_count": null,
   "metadata": {},
   "outputs": [],
   "source": []
  },
  {
   "cell_type": "code",
   "execution_count": null,
   "metadata": {},
   "outputs": [],
   "source": []
  }
 ],
 "metadata": {
  "kernelspec": {
   "display_name": "Python 3",
   "language": "python",
   "name": "python3"
  },
  "language_info": {
   "codemirror_mode": {
    "name": "ipython",
    "version": 3
   },
   "file_extension": ".py",
   "mimetype": "text/x-python",
   "name": "python",
   "nbconvert_exporter": "python",
   "pygments_lexer": "ipython3",
   "version": "3.7.9"
  }
 },
 "nbformat": 4,
 "nbformat_minor": 4
}
