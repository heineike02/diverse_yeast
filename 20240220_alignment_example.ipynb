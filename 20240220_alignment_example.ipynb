{
 "cells": [
  {
   "cell_type": "code",
   "execution_count": 1,
   "id": "52ccb443-ef5c-4358-8993-3eef91e50c93",
   "metadata": {
    "tags": []
   },
   "outputs": [],
   "source": [
    "import os\n",
    "import numpy as np\n",
    "import pandas as pd\n",
    "#import pickle\n",
    "import json\n",
    "from Bio import SeqIO\n",
    "#from Bio import AlignIO   #, Align\n",
    "#import shutil\n",
    "from ete3 import Tree, SeqMotifFace, TreeStyle, add_face_to_node, RectFace, NodeStyle, TextFace, AttrFace\n",
    "#from collections import Counter\n",
    "import matplotlib.pyplot as plt\n",
    "\n",
    "%load_ext autoreload\n",
    "%autoreload 2\n",
    "import diverse_yeast_tools as dyt\n",
    "\n",
    "base_dir = os.path.normpath('G:/My Drive/Crick_LMS/projects/diverse_yeasts/alphafold')\n"
   ]
  },
  {
   "cell_type": "code",
   "execution_count": 25,
   "id": "6c995c53-47da-4610-997d-3663c5d45708",
   "metadata": {
    "tags": []
   },
   "outputs": [
    {
     "data": {
      "text/plain": [
       "'lipomyces_starkeyi__66_944'"
      ]
     },
     "execution_count": 25,
     "metadata": {},
     "output_type": "execute_result"
    }
   ],
   "source": [
    "node.name.split('.')[0]"
   ]
  },
  {
   "cell_type": "code",
   "execution_count": 34,
   "id": "7d82ba60-485f-4c44-854c-b87bf49f7d45",
   "metadata": {
    "tags": []
   },
   "outputs": [
    {
     "name": "stdout",
     "output_type": "stream",
     "text": [
      "candida_albicans\n",
      "candida_tropicalis\n",
      "debaryomyces_hansenii\n",
      "ascoidea_rubescens\n",
      "ogataea_parapolymorpha\n",
      "cyberlindnera_jadinii\n",
      "wickerhamomyces_anomalus\n",
      "komagataella_pastoris\n",
      "lachancea_thermotolerans\n",
      "eremothecium_gossypii\n",
      "saccharomyces_cerevisiae\n",
      "kluyveromyces_lactis\n",
      "kluyveromyces_marxianus\n",
      "candida_apicola\n",
      "yarrowia_lipolytica\n",
      "kazachstania_naganishii\n",
      "alloascoidea_hylecoeti\n",
      "yHMPu5000034604_sporopachydermia_lactativora_160519\n",
      "vanderwaltozyma_polyspora\n",
      "geotrichum_candidum\n",
      "tortispora_caseinolytica\n",
      "torulaspora_delbrueckii\n",
      "zygosaccharomyces_rouxii\n",
      "schizosaccharomyces_pombe\n",
      "pachysolen_tannophilus\n",
      "lipomyces_starkeyi\n",
      "lipomyces_starkeyi\n"
     ]
    }
   ],
   "source": [
    "#Generate phylogenetic tree for OG3416_P40099\n",
    "#Export List for Oliver\n",
    "\n",
    "og_ref = 'OG3416_REF_Scer_AF-P40099-F1-model_v2'\n",
    "tree_fname = base_dir + os.sep + os.path.normpath('msas/structural/tm_align/trees/' + og_ref + '.tm.fasta.clipkit.treefile')\n",
    "                                                  \n",
    "\n",
    "\n",
    "species_colors = {'saccharomyces_cerevisiae': 'LightSteelBlue'}\n",
    "      \n",
    "t = Tree(tree_fname, format=1)   # format=1 allows it to work with the bootstrap values \n",
    "ts = TreeStyle()\n",
    "ts.draw_guiding_lines = True\n",
    "ts.show_leaf_name = False\n",
    "ts.show_branch_length = False\n",
    "\n",
    "t_orig = t.copy()\n",
    "\n",
    "for node in t.traverse(): \n",
    "    if node.is_leaf():\n",
    "        \n",
    "        node.name = node.name.split('.')[0]  #remove .pdb from name\n",
    "        spec, gene_id = dyt.species_from_fasta_id(node.name)\n",
    "        print(spec)\n",
    "        if spec == 'yHMPu5000034604_sporopachydermia_lactativora_160519': \n",
    "            spec = 'sporopachydermia_lactativora'\n",
    "        \n",
    "        \n",
    "        new_name = spec + '__' + gene_id  # + '__' + y1000_id\n",
    "        \n",
    "     \n",
    "        \n",
    "        node_color = 'white'\n",
    "        \n",
    "        if spec=='saccharomyces_cerevisiae': \n",
    "            node_color = species_colors[spec]\n",
    "                \n",
    "        ns = NodeStyle()\n",
    "        ns['bgcolor'] = node_color\n",
    "        \n",
    "        node.set_style(ns)\n",
    "        node.name = new_name\n",
    "            #node.set_style(nodes[cluster_id])\n",
    "#             elif new_name in cluster_names_og['C2']: \n",
    "#                 node.set_style(red_node)\n",
    "\n",
    "#             node.name = new_name\n",
    "        name_face = AttrFace(\"name\",fsize=20)\n",
    "        node.add_face(name_face, column=0, position='aligned')#position=\"branch-right\") \n",
    "        \n",
    "t.ladderize()\n",
    "node_names = t.get_leaf_names()\n",
    "\n",
    "t_orig.ladderize()\n",
    "node_names_orig = t_orig.get_leaf_names()\n",
    "\n",
    "#t.render('%%inline', tree_style=ts)\n",
    "t.render( base_dir + os.sep + os.path.normpath('manuscripts/' + og_ref + 'tree_image.svg'), tree_style=ts)\n",
    "\n",
    "with open(base_dir + os.sep + os.path.normpath('manuscripts/' + og_ref + 'leaf_names.csv'), 'w') as f_out: \n",
    "    for node_name, node_name_orig in zip(node_names, node_names_orig): \n",
    "        f_out.write(node_name + ',' + node_name_orig + '\\n')\n",
    "\n",
    "                                              "
   ]
  },
  {
   "cell_type": "code",
   "execution_count": 33,
   "id": "2050133e-2283-4a30-a602-f3d9369521e8",
   "metadata": {
    "tags": []
   },
   "outputs": [
    {
     "data": {
      "text/plain": [
       "['Calb_AF-Q59TA8-F1-model_v2.pdb',\n",
       " 'candida_tropicalis__OG3416__30_3131.pdb',\n",
       " 'debaryomyces_hansenii__OG3416__36_2739.pdb',\n",
       " 'ascoidea_rubescens__OG3416__6_4333.pdb',\n",
       " 'cyberlindnera_jadinii__OG3416__35_5264.pdb',\n",
       " 'wickerhamomyces_anomalus__OG3416__139_6114.pdb',\n",
       " 'eremothecium_gossypii__OG3416__40_620.pdb',\n",
       " 'kluyveromyces_lactis__OG3416__50_4006.pdb',\n",
       " 'kluyveromyces_marxianus__OG3416__51_2366.pdb',\n",
       " 'lachancea_thermotolerans__OG3416__64_4771.pdb',\n",
       " 'REF_Scer_AF-P40099-F1-model_v2.pdb',\n",
       " 'kazachstania_naganishii__OG3416__49_4394.pdb',\n",
       " 'vanderwaltozyma_polyspora__OG3416__136_4452.pdb',\n",
       " 'torulaspora_delbrueckii__OG3416__135_3920.pdb',\n",
       " 'zygosaccharomyces_rouxii__OG3416__342_4570.pdb',\n",
       " 'ogataea_parapolymorpha__OG3416__104_589.pdb',\n",
       " 'komagataella_pastoris__OG3416__52_2401.pdb',\n",
       " 'candida_apicola__OG3416__13_1221.pdb',\n",
       " 'yarrowia_lipolytica__OG3416__144_4214.pdb',\n",
       " 'alloascoidea_hylecoeti__OG3416__0_7308.pdb',\n",
       " 'yHMPu5000034604_sporopachydermia_lactativora_160519__OG3416__170_3046.pdb',\n",
       " 'geotrichum_candidum__OG3416__43_6701.pdb',\n",
       " 'tortispora_caseinolytica__OG3416__134_3783.pdb',\n",
       " 'Spom_AF-Q9P7W2-F1-model_v2.pdb',\n",
       " 'pachysolen_tannophilus__OG3416__106_963.pdb',\n",
       " 'lipomyces_starkeyi__OG3416__66_351.pdb',\n",
       " 'lipomyces_starkeyi__OG3416__66_944.pdb']"
      ]
     },
     "execution_count": 33,
     "metadata": {},
     "output_type": "execute_result"
    }
   ],
   "source": [
    "node_names_orig"
   ]
  },
  {
   "cell_type": "code",
   "execution_count": 32,
   "id": "e947c408-648f-444b-b349-a9436721e2f8",
   "metadata": {
    "tags": []
   },
   "outputs": [
    {
     "data": {
      "text/plain": [
       "['candida_albicans__Q59TA8',\n",
       " 'candida_tropicalis__30_3131',\n",
       " 'debaryomyces_hansenii__36_2739',\n",
       " 'ascoidea_rubescens__6_4333',\n",
       " 'cyberlindnera_jadinii__35_5264',\n",
       " 'wickerhamomyces_anomalus__139_6114',\n",
       " 'eremothecium_gossypii__40_620',\n",
       " 'kluyveromyces_lactis__50_4006',\n",
       " 'kluyveromyces_marxianus__51_2366',\n",
       " 'lachancea_thermotolerans__64_4771',\n",
       " 'saccharomyces_cerevisiae__P40099',\n",
       " 'kazachstania_naganishii__49_4394',\n",
       " 'vanderwaltozyma_polyspora__136_4452',\n",
       " 'torulaspora_delbrueckii__135_3920',\n",
       " 'zygosaccharomyces_rouxii__342_4570',\n",
       " 'ogataea_parapolymorpha__104_589',\n",
       " 'komagataella_pastoris__52_2401',\n",
       " 'candida_apicola__13_1221',\n",
       " 'yarrowia_lipolytica__144_4214',\n",
       " 'alloascoidea_hylecoeti__0_7308',\n",
       " 'sporopachydermia_lactativora__170_3046',\n",
       " 'geotrichum_candidum__43_6701',\n",
       " 'tortispora_caseinolytica__134_3783',\n",
       " 'schizosaccharomyces_pombe__Q9P7W2',\n",
       " 'pachysolen_tannophilus__106_963',\n",
       " 'lipomyces_starkeyi__66_351',\n",
       " 'lipomyces_starkeyi__66_944']"
      ]
     },
     "execution_count": 32,
     "metadata": {},
     "output_type": "execute_result"
    }
   ],
   "source": [
    "node_names"
   ]
  }
 ],
 "metadata": {
  "kernelspec": {
   "display_name": "Python 3 (ipykernel)",
   "language": "python",
   "name": "python3"
  },
  "language_info": {
   "codemirror_mode": {
    "name": "ipython",
    "version": 3
   },
   "file_extension": ".py",
   "mimetype": "text/x-python",
   "name": "python",
   "nbconvert_exporter": "python",
   "pygments_lexer": "ipython3",
   "version": "3.11.5"
  }
 },
 "nbformat": 4,
 "nbformat_minor": 5
}
