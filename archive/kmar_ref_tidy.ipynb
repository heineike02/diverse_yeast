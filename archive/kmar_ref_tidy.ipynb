{
 "cells": [
  {
   "cell_type": "code",
   "execution_count": 5,
   "metadata": {},
   "outputs": [],
   "source": [
    "import os\n",
    "import pandas as pd\n",
    "import numpy as np\n",
    "\n",
    "from Bio import SeqIO\n",
    "\n",
    "base_dir = os.path.normpath('C:/Users/heineib/Google Drive/Crick_LMS/projects/9_strains')"
   ]
  },
  {
   "cell_type": "code",
   "execution_count": 28,
   "metadata": {},
   "outputs": [],
   "source": [
    "out_file = base_dir + os.sep + os.path.normpath('reference_genomes/Kmar/GCF_001417885.1_Kmar_1.0_protein_tidy.fa')\n",
    "\n",
    "records = []\n",
    "# with open(out_file, 'w') as f_out: \n",
    "for record in SeqIO.parse(base_dir + os.sep + os.path.normpath('reference_genomes/Kmar/GCF_001417885.1_Kmar_1.0_protein.faa'), format='fasta'):\n",
    "#     f_out.write('>' + record.id + '\\n')\n",
    "#     f_out.write(str(record.seq) + '\\n')\n",
    "    record.name = ''\n",
    "    record.description = ''\n",
    "    records.append(record)\n",
    "\n",
    "with open(out_file, 'w') as f_out: \n",
    "    SeqIO.write(records, f_out, 'fasta')"
   ]
  }
 ],
 "metadata": {
  "kernelspec": {
   "display_name": "Python 3",
   "language": "python",
   "name": "python3"
  },
  "language_info": {
   "codemirror_mode": {
    "name": "ipython",
    "version": 3
   },
   "file_extension": ".py",
   "mimetype": "text/x-python",
   "name": "python",
   "nbconvert_exporter": "python",
   "pygments_lexer": "ipython3",
   "version": "3.7.9"
  }
 },
 "nbformat": 4,
 "nbformat_minor": 4
}
