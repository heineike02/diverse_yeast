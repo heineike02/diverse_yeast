{
 "cells": [
  {
   "cell_type": "code",
   "execution_count": 1,
   "metadata": {},
   "outputs": [],
   "source": [
    "import os\n",
    "import pandas as pd\n",
    "import matplotlib.pyplot as plt\n",
    "import numpy as np\n",
    "\n",
    "from venn import venn\n",
    "\n",
    "\n"
   ]
  },
  {
   "cell_type": "code",
   "execution_count": null,
   "metadata": {},
   "outputs": [],
   "source": [
    "#Import eggnog files and build a mapping\n",
    "\n",
    "#Start with K. marxianus to S. cerevisiae and inverse.  \n",
    "\n",
    "#Get gene expression for each species\n",
    "\n",
    "#Merge gene expression data across species\n",
    "\n",
    "#Scatter plot across species. "
   ]
  },
  {
   "cell_type": "code",
   "execution_count": 22,
   "metadata": {},
   "outputs": [],
   "source": [
    "base_dir = os.path.normpath('C:/Users/heineib/Google Drive/Crick_LMS/projects/9_strains')\n"
   ]
  },
  {
   "cell_type": "code",
   "execution_count": 23,
   "metadata": {},
   "outputs": [],
   "source": [
    "orthtable = pd.read_table( base_dir + os.sep + os.path.normpath('eggnog_mapper/Kmar/genemark/out.emapper.orthologs'), skiprows = 4, skipfooter=3, engine='python')"
   ]
  },
  {
   "cell_type": "code",
   "execution_count": 24,
   "metadata": {},
   "outputs": [],
   "source": [
    "orthtable_scer = orthtable[orthtable['species']=='Saccharomyces cerevisiae(4932)']"
   ]
  },
  {
   "cell_type": "code",
   "execution_count": 74,
   "metadata": {},
   "outputs": [
    {
     "name": "stdout",
     "output_type": "stream",
     "text": [
      "NC_036025.1:1089523-1090612(-)_1 should have more than one ortholog, but only has one: *YJR153W\n"
     ]
    }
   ],
   "source": [
    "#orth_types = ['one2one', 'many2one', 'one2many', 'many2many']\n",
    "\n",
    "source = 'Kmar'\n",
    "target = 'Scer'\n",
    "\n",
    "orthgroups = orthtable_scer.groupby('orth_type')\n",
    "\n",
    "#for orth_type in orth_types:\n",
    "\n",
    "\n",
    "\n",
    "data = []\n",
    "\n",
    "#Append data with source_genename, target_genename, orth_type\n",
    "\n",
    "for orth_type in ['one2one', 'many2one', 'one2many', 'many2many']: \n",
    "    orthtable_scer_type = orthgroups.get_group(orth_type)\n",
    "\n",
    "    for row in orthtable_scer_type.iterrows():\n",
    "        source_genename = row[1]['#query']\n",
    "        row_orths_raw = row[1]['orthologs']\n",
    "        row_orths = row_orths_raw.split(',')\n",
    "        if orth_type in {'one2many', 'many2many'}:\n",
    "            if len(row_orths)==1: \n",
    "                print(\"{} should have more than one ortholog, but only has one: {}\".format(source_genename,row_orths_raw )) \n",
    "        for row_orth in row_orths: \n",
    "            if row_orth[0]=='*': \n",
    "                data.append((source_genename, row_orth.split('*')[1],orth_type))\n",
    "            else: \n",
    "                data.append((source_genename, row_orth[0],orth_type))\n"
   ]
  },
  {
   "cell_type": "code",
   "execution_count": 71,
   "metadata": {},
   "outputs": [
    {
     "name": "stdout",
     "output_type": "stream",
     "text": [
      "NC_036025.1:1089523-1090612(-)_1 should have more than one ortholog, but only has one: *YJR153W\n"
     ]
    }
   ],
   "source": [
    "    orthtable_scer_type = orthgroups.get_group(orth_type)\n",
    "\n",
    "    for row in orthtable_scer_type.iterrows():\n",
    "        row_orth = row[1]['orthologs']\n",
    "        assert row_orth[0]=='*', 'No * at the beginning of ortholog'\n",
    "        data.append((row[1]['#query'], row[1]['orthologs'].split('*')[1],orth_type))"
   ]
  },
  {
   "cell_type": "code",
   "execution_count": null,
   "metadata": {},
   "outputs": [],
   "source": [
    "#Said it was one to many but only had one ortholog: NC_036025.1:1089523-1090612(-)_1\tone2many\tSaccharomyces cerevisiae(4932)\t*YJR153W"
   ]
  },
  {
   "cell_type": "code",
   "execution_count": 76,
   "metadata": {},
   "outputs": [],
   "source": [
    "orth_map = pd.DataFrame(data, columns=[source + '_genename', target+'_genename', 'orth_type'])"
   ]
  },
  {
   "cell_type": "code",
   "execution_count": 80,
   "metadata": {},
   "outputs": [],
   "source": [
    "orth_map.to_csv(base_dir + os.sep + os.path.normpath('eggnog_mapper/')+ source + '_' + target + '.csv')"
   ]
  }
 ],
 "metadata": {
  "kernelspec": {
   "display_name": "Python 3",
   "language": "python",
   "name": "python3"
  },
  "language_info": {
   "codemirror_mode": {
    "name": "ipython",
    "version": 3
   },
   "file_extension": ".py",
   "mimetype": "text/x-python",
   "name": "python",
   "nbconvert_exporter": "python",
   "pygments_lexer": "ipython3",
   "version": "3.7.9"
  }
 },
 "nbformat": 4,
 "nbformat_minor": 4
}
