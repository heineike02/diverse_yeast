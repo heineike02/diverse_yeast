{
 "cells": [
  {
   "cell_type": "code",
   "execution_count": 39,
   "metadata": {},
   "outputs": [],
   "source": [
    "import os\n",
    "import pandas as pd\n"
   ]
  },
  {
   "cell_type": "code",
   "execution_count": 58,
   "metadata": {},
   "outputs": [
    {
     "name": "stdout",
     "output_type": "stream",
     "text": [
      "cellobiose\n",
      "fructose\n",
      "galactose\n",
      "glucose\n",
      "maltose\n",
      "mannose\n",
      "sucrose\n",
      "xylose\n"
     ]
    }
   ],
   "source": [
    "sugars = ['cellobiose', 'fructose', 'galactose', 'glucose', 'maltose', 'mannose', 'sucrose', 'xylose']\n",
    "\n",
    "with open(\"C:/Users/heineib/Google Drive/Crick_LMS/Ralser_lab/projects/9_strains/wu_data/sugar_metabolites.tsv\", 'w') as f:\n",
    "    #Write first two lines\n",
    "    sugar = 'cellobiose'\n",
    "    metabolite_data = pd.read_table(os.path.normpath(\"C:/Users/heineib/Google Drive/Crick_LMS/Ralser_lab/projects/9_strains/wu_data/\" + sugar + \".txt\"), sep=' ', skiprows=0, index_col=0)\n",
    "    f.write('sugar\\tmetabolite\\t'+'\\t'.join(metabolite_data.columns)+'\\n')\n",
    "    f.write('sugar\\tmetabolite\\t'+'\\t'.join(metabolite_data.loc['species'].values)+'\\n')\n",
    "    for sugar in sugars: \n",
    "        print(sugar)\n",
    "        metabolite_data = pd.read_table(os.path.normpath(\"C:/Users/heineib/Google Drive/Crick_LMS/Ralser_lab/projects/9_strains/wu_data/\" + sugar + \".txt\"), sep=' ', skiprows=1, index_col=0)\n",
    "        for row in metabolite_data.iterrows():\n",
    "            row_str = ['{:0.2f}'.format(item) for item in row[1]]\n",
    "            f.write(sugar + '\\t' + row[0] + '\\t' + '\\t'.join(row_str) + '\\n')\n",
    "    "
   ]
  },
  {
   "cell_type": "code",
   "execution_count": 23,
   "metadata": {},
   "outputs": [],
   "source": [
    " metabolite_data = pd.read_table(os.path.normpath(\"C:/Users/heineib/Google Drive/Crick_LMS/Ralser_lab/projects/9_strains/wu_data/\" + sugar + \".txt\"), sep=' ', skiprows=0, index_col=0)\n"
   ]
  },
  {
   "cell_type": "code",
   "execution_count": 35,
   "metadata": {},
   "outputs": [
    {
     "data": {
      "text/plain": [
       "'sugar\\tmetabolite\\tKluyveromyces_marxianus\\tRhodotorula_mucilaginosa\\tHanseniaspora_osmophila\\tDebaromyces_hansenii\\tZygosaccharomyces_rouxii\\tWickerhamomyces_anomalus\\tLachancea_thermotolerans\\tCandida_tropicalis\\tKazachstania_servazzii\\tGalactomyces_candidus\\tSaccharomyces_cerevisiae'"
      ]
     },
     "execution_count": 35,
     "metadata": {},
     "output_type": "execute_result"
    }
   ],
   "source": []
  },
  {
   "cell_type": "code",
   "execution_count": 22,
   "metadata": {},
   "outputs": [
    {
     "name": "stdout",
     "output_type": "stream",
     "text": [
      "cellobiose\t2,3-Butanediol\t0.00\t0.00\t0.00\t0.00\t0.00\t0.00\t0.00\t0.00\t0.00\t0.00\t0.00\n",
      "cellobiose\tAcetate\t0.01\t0.00\t0.05\t0.00\t0.02\t0.05\t0.03\t0.01\t0.00\t0.00\t0.01\n",
      "cellobiose\tArabinitol\t0.00\t0.00\t0.00\t0.02\t0.04\t0.03\t0.00\t0.00\t0.00\t0.02\t0.03\n",
      "cellobiose\tCitric_acid\t0.00\t0.00\t0.00\t0.00\t0.00\t0.00\t0.00\t0.00\t0.00\t0.00\t0.00\n",
      "cellobiose\tEthanol\t0.02\t0.03\t1.10\t0.01\t0.05\t0.02\t0.10\t0.02\t0.06\t0.07\t0.16\n",
      "cellobiose\tFormic_acid\t0.00\t0.00\t0.00\t0.00\t0.00\t0.00\t0.00\t0.00\t0.00\t0.00\t0.00\n",
      "cellobiose\tFumaric_acid\t0.00\t0.00\t0.00\t0.00\t0.00\t0.00\t0.00\t0.00\t0.00\t0.00\t0.00\n",
      "cellobiose\tGlycerol\t0.01\t0.00\t0.02\t0.00\t0.00\t0.00\t0.01\t0.00\t0.00\t0.00\t0.00\n",
      "cellobiose\tLactic_acid\t0.00\t0.00\t0.00\t0.00\t0.00\t0.00\t0.00\t0.00\t0.00\t0.00\t0.01\n",
      "cellobiose\tPyruvic_acid\t0.00\t0.00\t0.00\t0.00\t0.00\t0.00\t0.00\t0.00\t0.00\t0.00\t0.00\n",
      "cellobiose\tSuccinate\t0.00\t0.00\t0.01\t0.00\t0.00\t0.00\t0.00\t0.00\t0.00\t0.00\t0.00\n",
      "cellobiose\tAcetaldehyde\t0.00\t0.00\t0.00\t0.00\t0.00\t0.00\t0.00\t0.00\t0.00\t0.00\t0.00\n",
      "cellobiose\tEthyl_acetate\t0.00\t0.00\t0.00\t0.01\t0.07\t0.08\t0.04\t0.01\t0.00\t0.00\t0.00\n",
      "cellobiose\tIsoamyl_alcohol\t0.00\t0.00\t0.00\t0.00\t0.00\t0.00\t0.00\t0.00\t0.00\t0.00\t0.00\n",
      "cellobiose\tIsobutanol\t0.00\t0.00\t0.00\t0.00\t0.00\t0.00\t0.00\t0.00\t0.00\t0.00\t0.00\n",
      "cellobiose\tMalic_acid\t0.00\t0.00\t0.00\t0.00\t0.00\t0.00\t0.00\t0.00\t0.00\t0.00\t0.00\n"
     ]
    }
   ],
   "source": [
    "\n"
   ]
  }
 ],
 "metadata": {
  "kernelspec": {
   "display_name": "Python 3",
   "language": "python",
   "name": "python3"
  },
  "language_info": {
   "codemirror_mode": {
    "name": "ipython",
    "version": 3
   },
   "file_extension": ".py",
   "mimetype": "text/x-python",
   "name": "python",
   "nbconvert_exporter": "python",
   "pygments_lexer": "ipython3",
   "version": "3.7.9"
  }
 },
 "nbformat": 4,
 "nbformat_minor": 4
}
