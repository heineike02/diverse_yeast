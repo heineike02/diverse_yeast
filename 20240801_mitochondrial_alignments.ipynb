{
 "cells": [
  {
   "cell_type": "code",
   "execution_count": null,
   "id": "8b6ecbea-9bc2-4b28-9211-a389d72238aa",
   "metadata": {},
   "outputs": [],
   "source": [
    "#Align mitochondrial genes based on mitochondrial sequences from Wolters et al 2023"
   ]
  },
  {
   "cell_type": "code",
   "execution_count": null,
   "id": "eedd0f84-1087-4d68-a386-c7ee4d4b9d94",
   "metadata": {},
   "outputs": [],
   "source": [
    "import os\n",
    "import pandas as pd\n",
    "import matplotlib.pyplot as plt\n",
    "\n",
    "from Bio import SeqIO\n",
    "\n",
    "#Import data from paper\n",
    "#G:\\My Drive\\Crick_LMS\\external_data\\yeast_mitochondrial\\Finalized_Assemblies\\gene_alignments\n",
    "\n",
    "#Import list of species\n",
    "\n",
    "external_data_base = os.path.normpath('G:/My Drive/Crick_LMS/external_data/genomes')\n",
    "\n",
    "\n",
    "y1000plus_dir = os.path.normpath('C:/Users/bheineike/Documents/GitHub/y1000plus_tools') + os.sep\n",
    "#Load y1000 species table\n",
    "y1000_species = pd.read_csv(y1000plus_dir + os.path.normpath(\"y1000plus_tools_data/y1000plus/y1000_species_table.csv\"), index_col=0)\n"
   ]
  },
  {
   "cell_type": "code",
   "execution_count": null,
   "id": "d092ebae-4fe4-48d3-848d-48cb0cdbc899",
   "metadata": {},
   "outputs": [],
   "source": []
  },
  {
   "cell_type": "code",
   "execution_count": null,
   "id": "0ccf2260-2d8f-42c4-93a1-b5340e749566",
   "metadata": {},
   "outputs": [],
   "source": [
    "#Extract mitochondrial genes for key species and put into single fasta\n",
    "#\n",
    "\n",
    "\n"
   ]
  }
 ],
 "metadata": {
  "kernelspec": {
   "display_name": "Python 3 (ipykernel)",
   "language": "python",
   "name": "python3"
  },
  "language_info": {
   "codemirror_mode": {
    "name": "ipython",
    "version": 3
   },
   "file_extension": ".py",
   "mimetype": "text/x-python",
   "name": "python",
   "nbconvert_exporter": "python",
   "pygments_lexer": "ipython3",
   "version": "3.11.5"
  }
 },
 "nbformat": 4,
 "nbformat_minor": 5
}
