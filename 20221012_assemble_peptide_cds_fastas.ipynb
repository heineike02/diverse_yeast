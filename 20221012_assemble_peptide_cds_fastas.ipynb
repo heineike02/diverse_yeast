{
 "cells": [
  {
   "cell_type": "code",
   "execution_count": 41,
   "metadata": {},
   "outputs": [
    {
     "name": "stdout",
     "output_type": "stream",
     "text": [
      "The autoreload extension is already loaded. To reload it, use:\n",
      "  %reload_ext autoreload\n"
     ]
    }
   ],
   "source": [
    "import os\n",
    "import pandas as pd\n",
    "import pickle\n",
    "import json\n",
    "from Bio import SeqIO\n",
    "from Bio import AlignIO   #, Align\n",
    "\n",
    "\n",
    "%load_ext autoreload\n",
    "%autoreload 2\n",
    "import diverse_yeast_tools as dyt\n",
    "\n",
    "base_dir = os.path.normpath('G:/My Drive/Crick_LMS/projects/diverse_yeasts/alphafold')\n",
    "divyeast_dir = os.path.normpath('C:/Users/heineib/Documents/GitHub/diverse_yeast')\n",
    "y1000plus_dir = os.path.normpath('C:/Users/heineib/Documents/GitHub/y1000plus_tools/data') + os.sep\n",
    "genomes_dir = os.path.normpath('G:/My Drive/Crick_LMS/external_data/genomes')\n"
   ]
  },
  {
   "cell_type": "code",
   "execution_count": 32,
   "metadata": {},
   "outputs": [],
   "source": [
    "#Load main analysis file\n",
    "struct_analysis = pickle.load(open(base_dir + os.sep + os.path.normpath('Output/data/Analysis_new_02.pkl'), 'rb'))\n",
    "\n",
    "#Load original sequence file, and make dictionary of gene_id to fasta header and gene_id to peptide sequence\n",
    "#Read in Sequence File, extract all names make dict of seq_alignment sequences\n",
    "selected_proteins = SeqIO.parse(base_dir +os.sep +  'selected_proteins.fasta', 'fasta')\n",
    "selected_proteins_headers = {}\n",
    "selected_proteins_seqs = {}\n",
    "for record in selected_proteins: \n",
    "    selected_proteins_headers[record.id] = record.description\n",
    "    selected_proteins_seqs[record.id] = str(record.seq)\n",
    "\n",
    "#Load peptide sequences for model species, make dictionary from gene id to peptide sequence\n",
    "model_protein_dict = {}\n",
    "for spec_abbrev in ['Scer', 'Spom', 'Calb']: \n",
    "    model_protein_dict[spec_abbrev] = dyt.load_model_protein_dict(spec_abbrev)\n",
    "    \n",
    "\n",
    "#ID Mapping for model species\n",
    "#Lookup from gene_id to y1000_id \n",
    "gene_id_2_y1000_id = dyt.load_model_gene_id_2_y1000_id()\n",
    "\n",
    "#swissprot_id_2_gene_id = dyt.load_model_swissprot_id_2_gene_id()\n",
    "swissprot_id_2_gene_id = dyt.load_model_swissprot_id_2_gene_id()\n",
    "\n",
    "\n",
    "# #Load S.cer lookup table: \n",
    "# scer_lookup_fname = y1000plus_dir + os.path.normpath('y1000plus_tools_data/y1000plus/id_lookups/saccharomyces_cerevisiae.csv')\n",
    "# scer_lookup = pd.read_csv(scer_lookup_fname, index_col=0)\n",
    "# gene_id_2_y1000_id['Scer'] = dict(zip(scer_lookup.index,scer_lookup['y1000_id']))\n",
    "\n",
    "# #Load C.alb lookup table\n",
    "# calb_lookup_fname = y1000plus_dir + os.path.normpath('y1000plus_tools_data/y1000plus/id_lookups/candida_albicans.csv')\n",
    "# calb_lookup = pd.read_csv(calb_lookup_fname, index_col=0)\n",
    "# gene_id_2_y1000_id['Calb'] = dict(zip(calb_lookup.index,calb_lookup['y1000_id']))\n",
    "\n",
    "# #Lookup from swissprot_id to gene_id\n",
    "# #would prefer to use a more official source for these for S.cer and S.pom\n",
    "\n",
    "# swissprot_id_2_gene_id= {}\n",
    "# scer_swissprot_id_2_gene_id_df = pd.read_table(base_dir + os.sep + os.path.normpath('msas/structural/Scer_protein_names.tsv'))\n",
    "# swissprot_id_2_gene_id['Scer'] = dict(zip(scer_swissprot_id_2_gene_id_df['Swiss-Prot'],scer_swissprot_id_2_gene_id_df['OLN']))\n",
    "\n",
    "# calb_swissprot_id_2_gene_id = pickle.load(open(base_dir + os.sep + os.path.normpath('msas/structural/Mapping_calb.pkl'),\"rb\"))\n",
    "# swissprot_id_2_gene_id['Calb'] = dict(zip(calb_swissprot_id_2_gene_id.values(),calb_swissprot_id_2_gene_id.keys()))\n",
    "\n",
    "# spom_swissprot_id_2_gene_id_df = pd.read_table(genomes_dir + os.sep + os.path.normpath('Schizosaccharomyces_pombe/PomBase2UniProt.tsv'), header=None)\n",
    "# swissprot_id_2_gene_id['Spom'] = dict(zip(spom_swissprot_id_2_gene_id_df[1],spom_swissprot_id_2_gene_id_df[0]))\n",
    "\n"
   ]
  },
  {
   "cell_type": "code",
   "execution_count": 37,
   "metadata": {},
   "outputs": [
    {
     "data": {
      "text/plain": [
       "['saccharomyces_cerevisiae',\n",
       " 'debaryomyces_hansenii',\n",
       " 'wickerhamomyces_anomalus',\n",
       " 'lachancea_thermotolerans',\n",
       " 'kazachstania_naganishii',\n",
       " 'kluyveromyces_marxianus',\n",
       " 'yHMPu5000034957_hanseniaspora_osmophila_160519',\n",
       " 'geotrichum_candidum',\n",
       " 'zygosaccharomyces_rouxii',\n",
       " 'candida_albicans',\n",
       " 'candida_tropicalis',\n",
       " 'kluyveromyces_lactis',\n",
       " 'komagataella_pastoris',\n",
       " 'vanderwaltozyma_polyspora',\n",
       " 'torulaspora_delbrueckii',\n",
       " 'eremothecium_gossypii',\n",
       " 'ascoidea_rubescens',\n",
       " 'cyberlindnera_jadinii',\n",
       " 'ogataea_parapolymorpha',\n",
       " 'pachysolen_tannophilus',\n",
       " 'yHMPu5000034604_sporopachydermia_lactativora_160519',\n",
       " 'alloascoidea_hylecoeti',\n",
       " 'candida_apicola',\n",
       " 'yarrowia_lipolytica',\n",
       " 'tortispora_caseinolytica',\n",
       " 'lipomyces_starkeyi']"
      ]
     },
     "execution_count": 37,
     "metadata": {},
     "output_type": "execute_result"
    }
   ],
   "source": [
    "specs"
   ]
  },
  {
   "cell_type": "code",
   "execution_count": 43,
   "metadata": {},
   "outputs": [
    {
     "data": {
      "text/plain": [
       "'G:\\\\My Drive\\\\Crick_LMS\\\\projects\\\\diverse_yeasts\\\\alphafold'"
      ]
     },
     "execution_count": 43,
     "metadata": {},
     "output_type": "execute_result"
    }
   ],
   "source": [
    "base_dir"
   ]
  },
  {
   "cell_type": "code",
   "execution_count": 67,
   "metadata": {},
   "outputs": [
    {
     "ename": "IndexError",
     "evalue": "list index out of range",
     "output_type": "error",
     "traceback": [
      "\u001b[1;31m---------------------------------------------------------------------------\u001b[0m",
      "\u001b[1;31mIndexError\u001b[0m                                Traceback (most recent call last)",
      "\u001b[1;32m<ipython-input-67-868dfae3fbbb>\u001b[0m in \u001b[0;36m<module>\u001b[1;34m\u001b[0m\n\u001b[0;32m     79\u001b[0m \u001b[1;33m\u001b[0m\u001b[0m\n\u001b[0;32m     80\u001b[0m                         \u001b[1;32mif\u001b[0m \u001b[0mheader_dict\u001b[0m\u001b[1;33m[\u001b[0m\u001b[1;34m'source'\u001b[0m\u001b[1;33m]\u001b[0m\u001b[1;33m==\u001b[0m\u001b[1;34m'uniprot'\u001b[0m\u001b[1;33m:\u001b[0m\u001b[1;33m\u001b[0m\u001b[1;33m\u001b[0m\u001b[0m\n\u001b[1;32m---> 81\u001b[1;33m                             \u001b[0mswissprot_id\u001b[0m \u001b[1;33m=\u001b[0m \u001b[0mheader_dict\u001b[0m\u001b[1;33m[\u001b[0m\u001b[1;34m'gene_full'\u001b[0m\u001b[1;33m]\u001b[0m\u001b[1;33m.\u001b[0m\u001b[0msplit\u001b[0m\u001b[1;33m(\u001b[0m\u001b[1;34m'|'\u001b[0m\u001b[1;33m)\u001b[0m\u001b[1;33m[\u001b[0m\u001b[1;36m1\u001b[0m\u001b[1;33m]\u001b[0m\u001b[1;33m\u001b[0m\u001b[1;33m\u001b[0m\u001b[0m\n\u001b[0m\u001b[0;32m     82\u001b[0m                         \u001b[1;32melif\u001b[0m \u001b[0mheader_dict\u001b[0m\u001b[1;33m[\u001b[0m\u001b[1;34m'source'\u001b[0m\u001b[1;33m]\u001b[0m\u001b[1;33m==\u001b[0m\u001b[1;34m'shen'\u001b[0m\u001b[1;33m:\u001b[0m\u001b[1;33m\u001b[0m\u001b[1;33m\u001b[0m\u001b[0m\n\u001b[0;32m     83\u001b[0m                             \u001b[0mswissprot_id\u001b[0m \u001b[1;33m=\u001b[0m \u001b[1;32mNone\u001b[0m\u001b[1;33m\u001b[0m\u001b[1;33m\u001b[0m\u001b[0m\n",
      "\u001b[1;31mIndexError\u001b[0m: list index out of range"
     ]
    }
   ],
   "source": [
    "#Filter original structural alignments to remove bad structures\n",
    "#Also include metadata from original species selection fasta and add metadata for model species. \n",
    "# base_dir/selected_proteins.fasta\n",
    "#\n",
    "#\n",
    "# Make a protein fasta for each alignment from orignal sequence and with model species sequences\n",
    "#\n",
    "# Make a dictionary of lists of each protein present in each species - save as a .json\n",
    "\n",
    "species_table = pd.read_csv(base_dir + os.sep + 'species_selection.csv')\n",
    "specs = list(species_table.loc[species_table['Load']=='Y']['original_genome_id'])\n",
    "proteins_present_by_spec = {spec: [] for spec in specs}\n",
    "\n",
    "modelspec_params = {'Scer':('saccharomyces_cerevisiae'), \n",
    "                    'Calb':('candida_albicans'), \n",
    "                    'Spom':('schizosaccharomyces_pombe')\n",
    "                   }\n",
    "proteins_present_by_spec_fname = base_dir + os.sep + 'selected_protein_ids.json'\n",
    "\n",
    "for fasta_fname in os.listdir(base_dir + os.sep +  os.path.normpath('msas\\structural\\FASTA') + os.sep  ):\n",
    "    #fasta_fname = 'OG1004_REF_Scer_AF-P15938-F1-model_v2.FASTA'\n",
    "    fasta_fname_base = fasta_fname.split('.')[0]\n",
    "\n",
    "    seqs_to_remove = struct_analysis[fasta_fname.split('.')[0]]['Files to be excluded']\n",
    "\n",
    "    fname_struct_aln_orig = base_dir + os.sep +  os.path.normpath('msas\\structural\\FASTA\\\\' + fasta_fname)   # os.path.normpath('msas\\FILES_ogs_pep_aligned\\\\' + og + '.mfaa.mafft')\n",
    "    fname_struct_aln_filt_out = base_dir + os.sep + os.path.normpath('msas\\structural\\\\fasta_filt\\\\' + fasta_fname_base + '.struct_filt.fasta')\n",
    "    fname_proteome = base_dir + os.sep + os.path.normpath('og_sequences\\proteome\\\\' + fasta_fname_base + '.pep.fasta')\n",
    "\n",
    "    #Read in dictionary of ref name map to sequence name\n",
    "    struct_align = AlignIO.read(fname_struct_aln_orig, 'fasta')\n",
    "    with open(fname_struct_aln_filt_out , 'w') as f_out_filt:\n",
    "        with open(fname_proteome, 'w') as f_out_prot: \n",
    "            for record in struct_align: \n",
    "                structure_imported = False\n",
    "                name_orig = record.id    \n",
    "\n",
    "                #Check if name in ref sequence (S.cer, C.alb, and S. pom) + convert\n",
    "                if name_orig.split('_')[0] in set(['Scer', 'REF', 'Calb', 'Spom']):\n",
    "                    structure_imported = True\n",
    "                    if name_orig.split('_')[0] == 'REF': \n",
    "                        spec_abbrev = name_orig.split('_')[1]\n",
    "                        swissprot_id = name_orig.split('_')[2].split('-')[1]\n",
    "                    else: \n",
    "                        spec_abbrev = name_orig.split('_')[0]\n",
    "                        swissprot_id = name_orig.split('_')[1].split('-')[1]\n",
    "                    \n",
    "                    (spec) = modelspec_params[spec_abbrev]\n",
    "                    gene_id = swissprot_id_2_gene_id[spec_abbrev][swissprot_id]\n",
    "                    if spec_abbrev == 'Spom':\n",
    "                        y1000_id = 'None'\n",
    "                    else: \n",
    "                        #spec_old = spec_abbrev_dict[spec_abbrev]\n",
    "                        y1000_id = gene_id_2_y1000_id[spec_abbrev][gene_id]\n",
    "\n",
    "                else: \n",
    "                    (spec, og, y1000_id) = name_orig.split('__')\n",
    "\n",
    "\n",
    "                #Filter out seqs with bad alignments\n",
    "                if not(name_orig in seqs_to_remove): \n",
    "                    \n",
    "                    #Extract sequence from original peptide fasta\n",
    "                    \n",
    "                    if structure_imported: \n",
    "                        prot_seq = model_protein_dict[spec_abbrev][gene_id]\n",
    "                        L = len(prot_seq)\n",
    "                        header = '>' + name_orig + ' source=af2  gene_full=' + gene_id +' y1000_id=' + y1000_id + ' L=' + str(L) + '\\n' \n",
    "                        \n",
    "                        proteins_present_by_spec[spec].append((name_orig,gene_id,y1000_id,swissprot_id))\n",
    "                    \n",
    "                        \n",
    "                    else: \n",
    "                        header_dict = {}\n",
    "                        header_raw =selected_proteins_headers[name_orig] \n",
    "                        for item in header_raw.split(' ')[1:]: \n",
    "                            key,val = item.split('=')\n",
    "                            header_dict[key] = val\n",
    "                        \n",
    "                        if header_dict['source']=='uniprot':\n",
    "                            swissprot_id = header_dict['gene_full'].split('|')[1]\n",
    "                        elif header_dict['source']=='shen':\n",
    "                            swissprot_id = None\n",
    "\n",
    "                        proteins_present_by_spec[spec].append((name_orig,None,y1000_id,swissprot_id))\n",
    "            \n",
    "                        prot_seq = selected_proteins_seqs[name_orig]\n",
    "                        header = '>' + header_raw + '\\n'  \n",
    "                        \n",
    "\n",
    "                    f_out_prot.write(header)\n",
    "                    f_out_prot.write(prot_seq + '\\n')\n",
    "\n",
    "                    f_out_filt.write(header)\n",
    "                    f_out_filt.write(str(record.seq) + '\\n')\n",
    "                    \n",
    "\n",
    "\n",
    "\n",
    "# Save proteins_present_by_spec\n",
    "\n",
    "#remove_duplicates\n",
    "for spec in specs: \n",
    "    proteins_present_by_spec[spec] = list(set(proteins_present_by_spec[spec]))\n",
    "\n",
    "with open(proteins_present_by_spec_fname, 'w') as f:\n",
    "    json.dump(proteins_present_by_spec, f, sort_keys=True, indent=4 )\n"
   ]
  },
  {
   "cell_type": "code",
   "execution_count": 69,
   "metadata": {},
   "outputs": [
    {
     "data": {
      "text/plain": [
       "{'source': 'uniprot',\n",
       " 'gene_full': 'augustus_masked-Deha2E-processed-gene-7.91',\n",
       " 'gene_full_shen': 'augustus_masked-Deha2E-processed-gene-7.91',\n",
       " 'L': '1184',\n",
       " 'sim_score_vs_shen': '60.1',\n",
       " 'sim_score_vs_shen_diff': '0.5'}"
      ]
     },
     "execution_count": 69,
     "metadata": {},
     "output_type": "execute_result"
    }
   ],
   "source": [
    "header_dict"
   ]
  },
  {
   "cell_type": "code",
   "execution_count": 64,
   "metadata": {},
   "outputs": [
    {
     "data": {
      "text/plain": [
       "{'source': 'uniprot',\n",
       " 'gene_full': 'sp|Q6BUG5|PURA_DEBHA',\n",
       " 'gene_full_shen': 'maker-Deha2C-augustus-gene-9.144',\n",
       " 'L': '429',\n",
       " 'sim_score_vs_shen': '95.2',\n",
       " 'sim_score_vs_shen_diff': '44.5'}"
      ]
     },
     "execution_count": 64,
     "metadata": {},
     "output_type": "execute_result"
    }
   ],
   "source": [
    "header_dict"
   ]
  },
  {
   "cell_type": "code",
   "execution_count": null,
   "metadata": {},
   "outputs": [],
   "source": [
    "cds_params = { \n",
    "                 'saccharomyces_cerevisiae': ,\n",
    "                 'schizosaccharomyces_pombe': ,\n",
    "                 'candida_albicans' :,\n",
    "                 'debaryomyces_hansenii',\n",
    "                 #shen_only\n",
    "                 'kazachstania_naganishii',\n",
    "                 'geotrichum_candidum',\n",
    "                 'vanderwaltozyma_polyspora',                              \n",
    "                 'eremothecium_gossypii',\n",
    "                 'ascoidea_rubescens',\n",
    "                 'cyberlindnera_jadinii',\n",
    "                 'ogataea_parapolymorpha',\n",
    "                 'pachysolen_tannophilus',\n",
    "                 'yHMPu5000034604_sporopachydermia_lactativora_160519',\n",
    "                 'alloascoidea_hylecoeti',\n",
    "                 'candida_apicola',\n",
    "                 'yarrowia_lipolytica',\n",
    "                 'tortispora_caseinolytica',\n",
    "                 'lipomyces_starkeyi'\n",
    "                 #shen/uniprot-ENA         \n",
    "                 'wickerhamomyces_anomalus',\n",
    "                 'yHMPu5000034957_hanseniaspora_osmophila_160519',\n",
    "                 'candida_tropicalis',\n",
    "                 #shen/uniprot-NCBI\n",
    "                 'zygosaccharomyces_rouxii',             \n",
    "                 'lachancea_thermotolerans',\n",
    "                 'kluyveromyces_marxianus',\n",
    "                 'kluyveromyces_lactis',\n",
    "                 'komagataella_pastoris',\n",
    "                 'torulaspora_delbrueckii',\n",
    "    }"
   ]
  },
  {
   "cell_type": "code",
   "execution_count": 55,
   "metadata": {},
   "outputs": [
    {
     "data": {
      "text/plain": [
       "['saccharomyces_cerevisiae',\n",
       " 'debaryomyces_hansenii',\n",
       " 'wickerhamomyces_anomalus',\n",
       " 'lachancea_thermotolerans',\n",
       " 'kazachstania_naganishii',\n",
       " 'kluyveromyces_marxianus',\n",
       " 'yHMPu5000034957_hanseniaspora_osmophila_160519',\n",
       " 'geotrichum_candidum',\n",
       " 'zygosaccharomyces_rouxii',\n",
       " 'candida_albicans',\n",
       " 'candida_tropicalis',\n",
       " 'kluyveromyces_lactis',\n",
       " 'komagataella_pastoris',\n",
       " 'schizosaccharomyces_pombe',\n",
       " 'vanderwaltozyma_polyspora',\n",
       " 'torulaspora_delbrueckii',\n",
       " 'eremothecium_gossypii',\n",
       " 'ascoidea_rubescens',\n",
       " 'cyberlindnera_jadinii',\n",
       " 'ogataea_parapolymorpha',\n",
       " 'pachysolen_tannophilus',\n",
       " 'yHMPu5000034604_sporopachydermia_lactativora_160519',\n",
       " 'alloascoidea_hylecoeti',\n",
       " 'candida_apicola',\n",
       " 'yarrowia_lipolytica',\n",
       " 'tortispora_caseinolytica',\n",
       " 'lipomyces_starkeyi']"
      ]
     },
     "execution_count": 55,
     "metadata": {},
     "output_type": "execute_result"
    }
   ],
   "source": [
    "specs"
   ]
  },
  {
   "cell_type": "code",
   "execution_count": null,
   "metadata": {},
   "outputs": [],
   "source": [
    "#For each species subset the database of CDS files and make a dictionary\n",
    "\n",
    "for spec in specs: \n",
    "    \n"
   ]
  },
  {
   "cell_type": "code",
   "execution_count": 53,
   "metadata": {},
   "outputs": [],
   "source": [
    "proteins_present_by_spec_fname = base_dir + os.sep + 'selected_protein_ids.json'"
   ]
  },
  {
   "cell_type": "code",
   "execution_count": 54,
   "metadata": {},
   "outputs": [],
   "source": []
  },
  {
   "cell_type": "code",
   "execution_count": 50,
   "metadata": {},
   "outputs": [],
   "source": [
    "a = proteins_present_by_spec['saccharomyces_cerevisiae']"
   ]
  },
  {
   "cell_type": "code",
   "execution_count": 52,
   "metadata": {},
   "outputs": [
    {
     "data": {
      "text/plain": [
       "'selected_protein_ids.json'"
      ]
     },
     "execution_count": 52,
     "metadata": {},
     "output_type": "execute_result"
    }
   ],
   "source": [
    "proteins_present_by_spec_fname"
   ]
  },
  {
   "cell_type": "code",
   "execution_count": 51,
   "metadata": {},
   "outputs": [
    {
     "data": {
      "text/plain": [
       "531"
      ]
     },
     "execution_count": 51,
     "metadata": {},
     "output_type": "execute_result"
    }
   ],
   "source": [
    "len(a)"
   ]
  },
  {
   "cell_type": "code",
   "execution_count": null,
   "metadata": {},
   "outputs": [],
   "source": [
    "\n",
    "\n",
    "\n",
    "\n"
   ]
  },
  {
   "cell_type": "code",
   "execution_count": null,
   "metadata": {},
   "outputs": [],
   "source": [
    "#For each of the Clustered OG sets, make a CDS file\n",
    "\n",
    "#G:\\My Drive\\Crick_LMS\\projects\\diverse_yeasts\\alphafold\\msas\\structural\\fasta_renamed_struct_filt\n",
    "#G:\\My Drive\\Crick_LMS\\projects\\diverse_yeasts\\alphafold\\og_sequences \n",
    "#    cds\n",
    "#    proteome\n",
    "\n",
    "#for fname_proteome in os.listdir(base_dir + os.sep + os.path.normpath('alphafold/og_sequences/proteome')): \n",
    "fname_proteome = 'OG1004_REF_Scer_AF-P15938-F1-model_v2.pep.fasta'\n",
    "fname_base = fname_proteome.split('.')[0]\n",
    "\n",
    "fname_proteome_full = base_dir + os.sep + os.path.normpath('og_sequences\\proteome\\\\' + fname_proteome)\n",
    "fname_cds = base_dir + os.sep + os.path.normpath('og_sequences\\proteome\\\\' + fname_proteome)\n",
    "\n",
    "\n",
    "#Cycle through the proteomes make a dictionary of lists of proteins from each species.  Save as a .json\n",
    "\n",
    "#For each species build a dictionary (and save as a short fasta) with only the appropriate proteins from that species. \n",
    "\n",
    "#Cycle through the proteomes again\n",
    "proteome = SeqIO.parse(fname_proteome_full, 'fasta')\n",
    "with open(fname_cds, 'w') as f_out_cds:\n",
    "    for record in proteome: \n",
    "        #extract species\n",
    "        \n",
    "        #extract cds from cds file\n",
    "        \n",
    "        \n",
    "\n"
   ]
  },
  {
   "cell_type": "code",
   "execution_count": 30,
   "metadata": {},
   "outputs": [],
   "source": [
    "#Model species info\n",
    "\n",
    "#C. albicans\n",
    "#http://www.candidagenome.org/download/sequence/C_albicans_SC5314/Assembly22/current/  \n",
    "# C_albicans_SC5314_A22_current_default_coding.fasta\n",
    "# C_albicans_SC5314_A22_current_default_protein.fasta\n",
    "#downloaded on 20221012 and stored in\n",
    "#G:\\My Drive\\Crick_LMS\\external_data\\genomes\\Candida_albicans\n",
    "\n",
    "\n",
    "#S. cerevisiae\n",
    "#G:\\My Drive\\Crick_LMS\\external_data\\genomes\\Saccharomyces_cerevisiae\\S288C_reference_genome_R64-2-1_20150113\n",
    "#orf_coding_all_R64-2-1_20150113.fasta\n",
    "#orf_trans_all_R64-2-1_20150113.fasta\n",
    "\n",
    "#S. pombe\n",
    "#From https://www.pombase.org/data/genome_sequence_and_features/feature_sequences/ on 20221012\n",
    "#cds.fa \n",
    "#peptide.fa  \n",
    "#both last modified 2022-10-12 03:26\n",
    "#Stored at\n",
    "#G:\\My Drive\\Crick_LMS\\external_data\\genomes\\Schizosaccharomyces_pombe"
   ]
  },
  {
   "cell_type": "markdown",
   "metadata": {},
   "source": [
    "## Make a Fasta of structures for S.pom, S.cer, and C. alb that we need Kcat/Km from"
   ]
  },
  {
   "cell_type": "code",
   "execution_count": null,
   "metadata": {},
   "outputs": [],
   "source": [
    "#Import og_metadata"
   ]
  }
 ],
 "metadata": {
  "kernelspec": {
   "display_name": "Python 3",
   "language": "python",
   "name": "python3"
  },
  "language_info": {
   "codemirror_mode": {
    "name": "ipython",
    "version": 3
   },
   "file_extension": ".py",
   "mimetype": "text/x-python",
   "name": "python",
   "nbconvert_exporter": "python",
   "pygments_lexer": "ipython3",
   "version": "3.7.9"
  }
 },
 "nbformat": 4,
 "nbformat_minor": 4
}
