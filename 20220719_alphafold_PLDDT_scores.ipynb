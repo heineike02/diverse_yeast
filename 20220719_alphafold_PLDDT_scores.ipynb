{
 "cells": [
  {
   "cell_type": "code",
   "execution_count": 34,
   "metadata": {},
   "outputs": [],
   "source": [
    "#Survey Alphafold PLDDT scores and plot by orthogroup.  \n",
    "import os\n",
    "import pandas as pd\n",
    "import matplotlib.pyplot as plt\n",
    "from Bio import SeqIO\n",
    "from collections import Counter\n",
    "%load_ext autoreload\n",
    "%autoreload 2\n",
    "import diverse_yeast_tools as dyt\n",
    "\n",
    "import json\n",
    "\n",
    "base_dir = os.path.normpath('G:/My Drive/Crick_LMS/projects/diverse_yeasts')\n",
    "\n",
    "y1000plus_dir = os.path.normpath('C:/Users/heineib/Documents/GitHub/y1000plus_tools/data') + os.sep\n",
    "\n",
    "#Load y1000 species table\n",
    "y1000_species = pd.read_csv(y1000plus_dir + os.path.normpath(\"y1000plus_tools_data/y1000plus/y1000_species_table.csv\"), index_col=0)\n",
    "\n",
    "#fig2_orig_genome_lookup = dict(zip(y1000_species['species_names_fig2'], y1000_species['original_genome_id']))\n",
    "orig_genome_lookup = dict(zip(y1000_species['original_genome_id'],y1000_species['old_species_names']))\n",
    "\n",
    "with open(base_dir + os.sep + 'alphafold' + os.sep + 'og_metadata.json', 'r') as f:\n",
    "    og_metadata = json.load(f)\n",
    "\n"
   ]
  },
  {
   "cell_type": "code",
   "execution_count": 3,
   "metadata": {},
   "outputs": [],
   "source": [
    "score_table = pd.read_table(base_dir + os.sep + 'alphafold' + os.sep + 'selected_proteins_progress.tsv')"
   ]
  },
  {
   "cell_type": "code",
   "execution_count": 4,
   "metadata": {},
   "outputs": [],
   "source": [
    "new_score = []\n",
    "for score in score_table['Plddt']:\n",
    "    if score == '-': \n",
    "        new_score.append(0)\n",
    "    else:\n",
    "        new_score.append(float(score))\n",
    "        \n",
    "score_table['Plddt_0_rep'] = new_score"
   ]
  },
  {
   "cell_type": "code",
   "execution_count": 5,
   "metadata": {},
   "outputs": [],
   "source": [
    "#Add name from the sequence MSAs\n",
    "seq_aln_names = []\n",
    "for name in score_table['ID']:\n",
    "    (old_name, og, y1000_id) = name.split('__')\n",
    "    seq_aln_names.append(orig_genome_lookup[old_name] + '|' + y1000_id)\n",
    "\n",
    "score_table['ID_seq_aln'] = seq_aln_names\n"
   ]
  },
  {
   "cell_type": "code",
   "execution_count": 6,
   "metadata": {},
   "outputs": [
    {
     "data": {
      "text/html": [
       "<div>\n",
       "<style scoped>\n",
       "    .dataframe tbody tr th:only-of-type {\n",
       "        vertical-align: middle;\n",
       "    }\n",
       "\n",
       "    .dataframe tbody tr th {\n",
       "        vertical-align: top;\n",
       "    }\n",
       "\n",
       "    .dataframe thead th {\n",
       "        text-align: right;\n",
       "    }\n",
       "</style>\n",
       "<table border=\"1\" class=\"dataframe\">\n",
       "  <thead>\n",
       "    <tr style=\"text-align: right;\">\n",
       "      <th></th>\n",
       "      <th>ID</th>\n",
       "      <th>species</th>\n",
       "      <th>OG</th>\n",
       "      <th>Plddt</th>\n",
       "      <th>Plddt_0_rep</th>\n",
       "      <th>ID_seq_aln</th>\n",
       "    </tr>\n",
       "  </thead>\n",
       "  <tbody>\n",
       "    <tr>\n",
       "      <th>0</th>\n",
       "      <td>alloascoidea_hylecoeti__OG1004__0_1963</td>\n",
       "      <td>alloascoidea</td>\n",
       "      <td>OG1004</td>\n",
       "      <td>79.9559</td>\n",
       "      <td>79.9559</td>\n",
       "      <td>Alloascoidea_hylecoeti|0_1963</td>\n",
       "    </tr>\n",
       "    <tr>\n",
       "      <th>1</th>\n",
       "      <td>alloascoidea_hylecoeti__OG1004__0_887</td>\n",
       "      <td>alloascoidea</td>\n",
       "      <td>OG1004</td>\n",
       "      <td>69.6685</td>\n",
       "      <td>69.6685</td>\n",
       "      <td>Alloascoidea_hylecoeti|0_887</td>\n",
       "    </tr>\n",
       "    <tr>\n",
       "      <th>2</th>\n",
       "      <td>alloascoidea_hylecoeti__OG1004__0_8918</td>\n",
       "      <td>alloascoidea</td>\n",
       "      <td>OG1004</td>\n",
       "      <td>75.0749</td>\n",
       "      <td>75.0749</td>\n",
       "      <td>Alloascoidea_hylecoeti|0_8918</td>\n",
       "    </tr>\n",
       "    <tr>\n",
       "      <th>3</th>\n",
       "      <td>alloascoidea_hylecoeti__OG1004__0_9006</td>\n",
       "      <td>alloascoidea</td>\n",
       "      <td>OG1004</td>\n",
       "      <td>74.7122</td>\n",
       "      <td>74.7122</td>\n",
       "      <td>Alloascoidea_hylecoeti|0_9006</td>\n",
       "    </tr>\n",
       "    <tr>\n",
       "      <th>4</th>\n",
       "      <td>alloascoidea_hylecoeti__OG1004__0_9052</td>\n",
       "      <td>alloascoidea</td>\n",
       "      <td>OG1004</td>\n",
       "      <td>85.0866</td>\n",
       "      <td>85.0866</td>\n",
       "      <td>Alloascoidea_hylecoeti|0_9052</td>\n",
       "    </tr>\n",
       "    <tr>\n",
       "      <th>...</th>\n",
       "      <td>...</td>\n",
       "      <td>...</td>\n",
       "      <td>...</td>\n",
       "      <td>...</td>\n",
       "      <td>...</td>\n",
       "      <td>...</td>\n",
       "    </tr>\n",
       "    <tr>\n",
       "      <th>10635</th>\n",
       "      <td>zygosaccharomyces_rouxii__OG6290__342_1547</td>\n",
       "      <td>zygosaccharomyces</td>\n",
       "      <td>OG6290</td>\n",
       "      <td>-</td>\n",
       "      <td>0.0000</td>\n",
       "      <td>Zygosaccharomyces_rouxii|342_1547</td>\n",
       "    </tr>\n",
       "    <tr>\n",
       "      <th>10636</th>\n",
       "      <td>zygosaccharomyces_rouxii__OG6574__342_722</td>\n",
       "      <td>zygosaccharomyces</td>\n",
       "      <td>OG6574</td>\n",
       "      <td>-</td>\n",
       "      <td>0.0000</td>\n",
       "      <td>Zygosaccharomyces_rouxii|342_722</td>\n",
       "    </tr>\n",
       "    <tr>\n",
       "      <th>10637</th>\n",
       "      <td>zygosaccharomyces_rouxii__OG6598__342_4556</td>\n",
       "      <td>zygosaccharomyces</td>\n",
       "      <td>OG6598</td>\n",
       "      <td>-</td>\n",
       "      <td>0.0000</td>\n",
       "      <td>Zygosaccharomyces_rouxii|342_4556</td>\n",
       "    </tr>\n",
       "    <tr>\n",
       "      <th>10638</th>\n",
       "      <td>zygosaccharomyces_rouxii__OG7278__342_638</td>\n",
       "      <td>zygosaccharomyces</td>\n",
       "      <td>OG7278</td>\n",
       "      <td>-</td>\n",
       "      <td>0.0000</td>\n",
       "      <td>Zygosaccharomyces_rouxii|342_638</td>\n",
       "    </tr>\n",
       "    <tr>\n",
       "      <th>10639</th>\n",
       "      <td>zygosaccharomyces_rouxii__OG7818__342_3800</td>\n",
       "      <td>zygosaccharomyces</td>\n",
       "      <td>OG7818</td>\n",
       "      <td>-</td>\n",
       "      <td>0.0000</td>\n",
       "      <td>Zygosaccharomyces_rouxii|342_3800</td>\n",
       "    </tr>\n",
       "  </tbody>\n",
       "</table>\n",
       "<p>10640 rows × 6 columns</p>\n",
       "</div>"
      ],
      "text/plain": [
       "                                               ID            species      OG  \\\n",
       "0          alloascoidea_hylecoeti__OG1004__0_1963       alloascoidea  OG1004   \n",
       "1           alloascoidea_hylecoeti__OG1004__0_887       alloascoidea  OG1004   \n",
       "2          alloascoidea_hylecoeti__OG1004__0_8918       alloascoidea  OG1004   \n",
       "3          alloascoidea_hylecoeti__OG1004__0_9006       alloascoidea  OG1004   \n",
       "4          alloascoidea_hylecoeti__OG1004__0_9052       alloascoidea  OG1004   \n",
       "...                                           ...                ...     ...   \n",
       "10635  zygosaccharomyces_rouxii__OG6290__342_1547  zygosaccharomyces  OG6290   \n",
       "10636   zygosaccharomyces_rouxii__OG6574__342_722  zygosaccharomyces  OG6574   \n",
       "10637  zygosaccharomyces_rouxii__OG6598__342_4556  zygosaccharomyces  OG6598   \n",
       "10638   zygosaccharomyces_rouxii__OG7278__342_638  zygosaccharomyces  OG7278   \n",
       "10639  zygosaccharomyces_rouxii__OG7818__342_3800  zygosaccharomyces  OG7818   \n",
       "\n",
       "         Plddt  Plddt_0_rep                         ID_seq_aln  \n",
       "0      79.9559      79.9559      Alloascoidea_hylecoeti|0_1963  \n",
       "1      69.6685      69.6685       Alloascoidea_hylecoeti|0_887  \n",
       "2      75.0749      75.0749      Alloascoidea_hylecoeti|0_8918  \n",
       "3      74.7122      74.7122      Alloascoidea_hylecoeti|0_9006  \n",
       "4      85.0866      85.0866      Alloascoidea_hylecoeti|0_9052  \n",
       "...        ...          ...                                ...  \n",
       "10635        -       0.0000  Zygosaccharomyces_rouxii|342_1547  \n",
       "10636        -       0.0000   Zygosaccharomyces_rouxii|342_722  \n",
       "10637        -       0.0000  Zygosaccharomyces_rouxii|342_4556  \n",
       "10638        -       0.0000   Zygosaccharomyces_rouxii|342_638  \n",
       "10639        -       0.0000  Zygosaccharomyces_rouxii|342_3800  \n",
       "\n",
       "[10640 rows x 6 columns]"
      ]
     },
     "execution_count": 6,
     "metadata": {},
     "output_type": "execute_result"
    }
   ],
   "source": [
    "score_table"
   ]
  },
  {
   "cell_type": "code",
   "execution_count": 26,
   "metadata": {},
   "outputs": [
    {
     "data": {
      "text/plain": [
       "Text(0.5, 1.0, 'Histogram of PLDDT Scores for Calculated Structures')"
      ]
     },
     "execution_count": 26,
     "metadata": {},
     "output_type": "execute_result"
    },
    {
     "data": {
      "image/png": "[encoded data removed]",
      "text/plain": [
       "<Figure size 432x288 with 1 Axes>"
      ]
     },
     "metadata": {
      "needs_background": "light"
     },
     "output_type": "display_data"
    }
   ],
   "source": [
    "fig, ax = plt.subplots()\n",
    "\n",
    "ax.hist(score_table['Plddt_0_rep'], bins = 20)\n",
    "ax.set_xlabel('PLDDT score')\n",
    "ax.set_ylabel('Frequency')\n",
    "ax.set_title('Histogram of PLDDT Scores for Calculated Structures')"
   ]
  },
  {
   "cell_type": "code",
   "execution_count": 62,
   "metadata": {},
   "outputs": [
    {
     "name": "stdout",
     "output_type": "stream",
     "text": [
      "591 structures that could not be calculated\n"
     ]
    }
   ],
   "source": [
    "#For each OG, for the peptides that are calculated, calculate Mean and Var\n",
    "\n",
    "#Scatter of Mean vs Var of PLDDT score, with color as percentage that is not calculate\n",
    "\n",
    "peptides_calculated = score_table.loc[score_table['Plddt_0_rep']>0,:].copy()\n",
    "peptides_calculated_grouped = peptides_calculated.groupby('OG')\n",
    "peptides_not_calculated = score_table.loc[score_table['Plddt_0_rep']==0,:].copy()\n",
    "print(str(len(peptides_not_calculated)) + ' structures that could not be calculated')\n",
    "\n",
    "all_og_counts = Counter(score_table['OG'])\n",
    "og_blank_counts = Counter(peptides_not_calculated['OG'])\n",
    "\n",
    "og_plddt_dict = {}\n",
    "\n",
    "for og in list(set(score_table['OG'])):\n",
    "    #(plddt_mean, plddt_var, N_tot, N_not_calc, pct_not_calc, sc_names, pathway_name)\n",
    "    if og in set(peptides_calculated['OG']):\n",
    "        plddt_mean = peptides_calculated_grouped.mean().loc[og,'Plddt_0_rep']\n",
    "        plddt_std = peptides_calculated_grouped.std().loc[og,'Plddt_0_rep']\n",
    "    else:\n",
    "        plddt_mean = 0\n",
    "        plddt_std = 0\n",
    "    \n",
    "    N_tot = all_og_counts[og]\n",
    "    if og in og_blank_counts.keys(): \n",
    "        N_not_calc = og_blank_counts[og]\n",
    "    else: \n",
    "        N_not_calc = 0\n",
    "    pct_not_calc = N_not_calc/N_tot\n",
    "    sc_names = og_metadata[og]['sc_names']\n",
    "    pathway_name = og_metadata[og]['pathways_name']\n",
    "    \n",
    "    og_plddt_dict[og] = (plddt_mean, plddt_std, N_tot, N_not_calc, pct_not_calc, sc_names, pathway_name)\n",
    "    \n",
    "\n",
    "og_plddt_table = pd.DataFrame.from_dict(og_plddt_dict, orient = 'index', columns = ['plddt_mean', 'plddt_std', 'N_tot', 'N_not_calc', 'pct_not_calc', 'sc_names', 'pathway_name'])\n",
    "\n",
    "og_plddt_table.sort_values('N_not_calc', ascending=False, inplace=True)"
   ]
  },
  {
   "cell_type": "code",
   "execution_count": 54,
   "metadata": {},
   "outputs": [
    {
     "data": {
      "text/plain": [
       "Text(0, 0.5, 'Std of Plddt for OG')"
      ]
     },
     "execution_count": 54,
     "metadata": {},
     "output_type": "execute_result"
    },
    {
     "data": {
      "image/png": "[encoded data removed]",
      "text/plain": [
       "<Figure size 360x288 with 2 Axes>"
      ]
     },
     "metadata": {
      "needs_background": "light"
     },
     "output_type": "display_data"
    }
   ],
   "source": [
    "fig, ax = plt.subplots(figsize = (5,4))\n",
    "\n",
    "im = ax.scatter(og_plddt_table['plddt_mean'], og_plddt_table['plddt_std'], alpha = 0.4, c = og_plddt_table['pct_not_calc'], s = 30*og_plddt_table['pct_not_calc'] + 7 )\n",
    "fig.colorbar(im, ax=ax, label = 'Percent of OG not calculated')\n",
    "ax.set_xlabel('Mean Plddt for OG')\n",
    "ax.set_ylabel('Std of Plddt for OG')\n"
   ]
  },
  {
   "cell_type": "code",
   "execution_count": 58,
   "metadata": {},
   "outputs": [],
   "source": [
    "peptides_not_calculated.sort_values('OG', inplace=True)"
   ]
  },
  {
   "cell_type": "code",
   "execution_count": 61,
   "metadata": {},
   "outputs": [],
   "source": [
    "#og_plddt_table.to_csv(base_dir + os.sep + 'alphafold' + os.sep + 'og_plddt_data.csv')\n",
    "peptides_not_calculated.to_csv(base_dir + os.sep + 'alphafold' + os.sep + 'failed_structures.csv')"
   ]
  },
  {
   "cell_type": "code",
   "execution_count": 4,
   "metadata": {},
   "outputs": [],
   "source": [
    "#Add Uniprot Names to Peptides not calculated\n",
    "\n",
    "peptides_not_calculated = pd.read_csv(base_dir + os.sep + 'alphafold' + os.sep + 'failed_structures.csv', index_col=0)"
   ]
  },
  {
   "cell_type": "code",
   "execution_count": 35,
   "metadata": {},
   "outputs": [],
   "source": [
    "#Load original sequence file, and make dictionary of gene_id to fasta header and gene_id to peptide sequence\n",
    "#Read in Sequence File, extract all names make dict of seq_alignment sequences\n",
    "selected_proteins = SeqIO.parse(base_dir +os.sep +'alphafold' + os.sep +   'selected_proteins.fasta', 'fasta')\n",
    "selected_proteins_headers = {}\n",
    "selected_proteins_seqs = {}\n",
    "for record in selected_proteins: \n",
    "    selected_proteins_headers[record.id] = record.description\n",
    "    selected_proteins_seqs[record.id] = str(record.seq)\n",
    "\n",
    "#Load peptide sequences for model species, make dictionary from gene id to peptide sequence\n",
    "model_protein_dict = {}\n",
    "for spec_abbrev in ['Scer', 'Spom', 'Calb']: \n",
    "    model_protein_dict[spec_abbrev] = dyt.load_model_protein_dict(spec_abbrev)\n",
    "    "
   ]
  },
  {
   "cell_type": "code",
   "execution_count": null,
   "metadata": {},
   "outputs": [],
   "source": [
    "uniprot_id = []\n",
    "seq_len = []\n",
    "for ind, (name_orig, spec_table, og, plddt, plddt_0_rep, id_seq_aln) in peptides_not_calculated.iterrows():\n",
    "    structure_imported=False\n",
    "    #Check if name in ref sequence (S.cer, C.alb, and S. pom) + convert\n",
    "    if name_orig.split('_')[0] in set(['Scer', 'REF', 'Calb', 'Spom']):\n",
    "        structure_imported = True\n",
    "        if name_orig.split('_')[0] == 'REF': \n",
    "            spec_abbrev = name_orig.split('_')[1]\n",
    "            swissprot_id = name_orig.split('_')[2].split('-')[1]\n",
    "        else: \n",
    "            spec_abbrev = name_orig.split('_')[0]\n",
    "            swissprot_id = name_orig.split('_')[1].split('-')[1]\n",
    "\n",
    "        (spec) = modelspec_params[spec_abbrev]\n",
    "        gene_id = swissprot_id_2_gene_id[spec_abbrev][swissprot_id]\n",
    "        if spec_abbrev == 'Spom':\n",
    "            y1000_id = 'None'\n",
    "        else: \n",
    "            #spec_old = spec_abbrev_dict[spec_abbrev]\n",
    "            y1000_id = gene_id_2_y1000_id[spec_abbrev][gene_id]\n",
    "\n",
    "    else: \n",
    "        (spec, og, y1000_id) = name_orig.split('__')\n",
    "\n",
    "\n",
    "    #Filter by structural clusters within OGs based on Nir's analysis\n",
    "    #if name_orig in seqs_to_include: \n",
    "\n",
    "    #Extract sequence from original peptide fasta\n",
    "\n",
    "    if structure_imported: \n",
    "        prot_seq = model_protein_dict[spec_abbrev][gene_id]\n",
    "        L = len(prot_seq)\n",
    "        #header = '>' + name_orig + ' source=af2  gene_full=' + gene_id +' y1000_id=' + y1000_id + ' L=' + str(L) + '\\n' \n",
    "\n",
    "        #proteins_present_by_spec[spec].append((name_orig,gene_id,y1000_id,swissprot_id,'af2'))\n",
    "\n",
    "\n",
    "    else: \n",
    "        header_dict = {}\n",
    "        header_raw =selected_proteins_headers[name_orig] \n",
    "        for item in header_raw.split(' ')[1:]: \n",
    "            key,val = item.split('=')\n",
    "            header_dict[key] = val\n",
    "\n",
    "        source = header_dict['source']\n",
    "        if source=='uniprot':\n",
    "            swissprot_id = header_dict['gene_full'].split('|')[1]\n",
    "        elif source=='shen':\n",
    "            swissprot_id = None\n",
    "\n",
    "        #proteins_present_by_spec[spec].append((name_orig,None,y1000_id,swissprot_id, source))\n",
    "\n",
    "        prot_seq = selected_proteins_seqs[name_orig]\n",
    "        L = len(prot_seq)\n",
    "        #header = '>' + header_raw + '\\n'  \n",
    "    \n",
    "    uniprot_id.append(swissprot_id)\n",
    "    seq_len.append(L)\n",
    "\n",
    "peptides_not_calculated['seq_len'] = seq_len\n",
    "peptides_not_calculated['uniprot_id'] = uniprot_id"
   ]
  },
  {
   "cell_type": "code",
   "execution_count": 44,
   "metadata": {},
   "outputs": [],
   "source": [
    "peptides_not_calculated.to_csv(base_dir + os.sep + 'alphafold' + os.sep + 'failed_structures.csv')"
   ]
  }
 ],
 "metadata": {
  "kernelspec": {
   "display_name": "Python 3",
   "language": "python",
   "name": "python3"
  },
  "language_info": {
   "codemirror_mode": {
    "name": "ipython",
    "version": 3
   },
   "file_extension": ".py",
   "mimetype": "text/x-python",
   "name": "python",
   "nbconvert_exporter": "python",
   "pygments_lexer": "ipython3",
   "version": "3.7.9"
  }
 },
 "nbformat": 4,
 "nbformat_minor": 4
}
