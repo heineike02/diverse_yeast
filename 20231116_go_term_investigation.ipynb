{
 "cells": [
  {
   "cell_type": "code",
   "execution_count": 1,
   "id": "6310a375-92e7-4f55-8f91-bd007f4d6bc3",
   "metadata": {
    "tags": []
   },
   "outputs": [],
   "source": [
    "%load_ext autoreload\n",
    "%autoreload 2\n",
    "import diverse_yeast_tools as dyt\n",
    "import os\n",
    "import sys\n",
    "import pandas as pd\n",
    "#from collections import Counter\n",
    "import pickle\n",
    "import json\n",
    "import numpy as np\n",
    "import matplotlib.pyplot as plt \n",
    "import warnings\n",
    "import scipy.stats as stats\n",
    "#from Bio import SeqIO, AlignIO, pairwise2\n",
    "#from ete3 import Tree, SeqMotifFace, TreeStyle, add_face_to_node, RectFace, NodeStyle, TextFace, AttrFace, EvolTree\n",
    "\n",
    "# yeast_esr_flag = input(\"Use yeast_esr_expression functions? (Y/n)\")\n",
    "\n",
    "# if yeast_esr_flag=='Y':\n",
    "#     yeast_esr_exp_path = os.path.normpath('C:/Users/heineib/Documents/GitHub/yeast_esr_expression_analysis') + os.sep\n",
    "#     #io_library_path_core = io_library_path + 'core' + os.sep\n",
    "#     if not(yeast_esr_exp_path in sys.path):\n",
    "#         sys.path.append(yeast_esr_exp_path)\n",
    "#         print(\"Added \" + yeast_esr_exp_path + \" to path\" )\n",
    "#     import yeast_esr_exp\n",
    "#     yeast_esr_exp.base_dir = yeast_esr_exp_path\n",
    "#     yeast_esr_exp.data_processing_dir = yeast_esr_exp_path + os.path.normpath('expression_data') + os.sep\n",
    "    \n",
    "base_dir = os.path.normpath('G:/My Drive/Crick_LMS/projects/diverse_yeasts/alphafold')\n",
    "divyeast_dir = os.path.normpath('C:/Users/bheineike/Documents/GitHub/diverse_yeast')\n",
    "y1000plus_dir = os.path.normpath('C:/Users/bheineike/Documents/GitHub/y1000plus_tools/data') + os.sep\n",
    "genomes_dir = os.path.normpath('G:/My Drive/Crick_LMS/external_data/genomes')"
   ]
  },
  {
   "cell_type": "code",
   "execution_count": 5,
   "id": "35af066d-9e7a-40af-9248-2de9ceaac1e7",
   "metadata": {
    "tags": []
   },
   "outputs": [],
   "source": [
    "#Investigate Lipid Metabolic Process Genes - is there anything special?\n",
    "\n",
    "go_term_table = pd.read_table(base_dir + os.sep + os.path.normpath('examples/lipid_metabolic_process/lipid_metabolic_process_annotations.txt'), skiprows=8)"
   ]
  },
  {
   "cell_type": "code",
   "execution_count": 7,
   "id": "0ba8ee7a-8fea-49d8-b8a3-a83c6d6cd1f1",
   "metadata": {
    "tags": []
   },
   "outputs": [
    {
     "data": {
      "text/plain": [
       "{'lipid metabolic process'}"
      ]
     },
     "execution_count": 7,
     "metadata": {},
     "output_type": "execute_result"
    }
   ],
   "source": [
    "set(go_term_table['Gene Ontology Term'])"
   ]
  }
 ],
 "metadata": {
  "kernelspec": {
   "display_name": "Python 3 (ipykernel)",
   "language": "python",
   "name": "python3"
  },
  "language_info": {
   "codemirror_mode": {
    "name": "ipython",
    "version": 3
   },
   "file_extension": ".py",
   "mimetype": "text/x-python",
   "name": "python",
   "nbconvert_exporter": "python",
   "pygments_lexer": "ipython3",
   "version": "3.11.5"
  }
 },
 "nbformat": 4,
 "nbformat_minor": 5
}
