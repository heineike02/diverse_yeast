{
 "cells": [
  {
   "cell_type": "code",
   "execution_count": 2,
   "metadata": {},
   "outputs": [
    {
     "name": "stdin",
     "output_type": "stream",
     "text": [
      "Use yeast_esr_expression functions? (Y/n) Y\n"
     ]
    },
    {
     "name": "stdout",
     "output_type": "stream",
     "text": [
      "Added C:\\Users\\heineib\\Documents\\GitHub\\yeast_esr_expression_analysis\\ to path\n",
      "Importing yeast_esr_exp.  If autoreload, may need to reset base_dir and data_processing dir \n",
      "  yeast_esr_exp.base_dir=base_dir \n",
      " yeast_esr_exp.data_processing_dir = data_processing_dir\n"
     ]
    },
    {
     "name": "stdin",
     "output_type": "stream",
     "text": [
      "Use y1000plus_tools functions? (Y/n) Y\n"
     ]
    },
    {
     "name": "stdout",
     "output_type": "stream",
     "text": [
      "Added C:\\Users\\heineib\\Documents\\GitHub\\y1000plus_tools\\ to path\n",
      "y1000plus_tools dir is unset\n",
      "y1000plus data dir is unset\n",
      "y1000plus_tools dir is C:\\Users\\heineib\\Documents\\GitHub\\y1000plus_tools\\\n",
      "y1000plus data dir is C:\\Users\\heineib\\Documents\\GitHub\\y1000plus_tools\\data\\\n"
     ]
    }
   ],
   "source": [
    "import os\n",
    "import pandas as pd\n",
    "import matplotlib.pyplot as plt\n",
    "import numpy as np\n",
    "from collections import Counter\n",
    "import ast\n",
    "\n",
    "import json\n",
    "import pickle\n",
    "\n",
    "from Bio import SeqIO, pairwise2, AlignIO\n",
    "\n",
    "\n",
    "\n",
    "import sys\n",
    "# if not(base_dir in sys.path): \n",
    "#     sys.path.append(base_dir)\n",
    "#     print(\"Added \" + base_dir + \" to path\" )\n",
    "\n",
    "\n",
    "yeast_esr_flag = input(\"Use yeast_esr_expression functions? (Y/n)\")\n",
    "\n",
    "if yeast_esr_flag =='Y':\n",
    "    yeast_esr_exp_path = os.path.normpath('C:/Users/heineib/Documents/GitHub/yeast_esr_expression_analysis') + os.sep\n",
    "    #io_library_path_core = io_library_path + 'core' + os.sep\n",
    "    if not(yeast_esr_exp_path in sys.path):\n",
    "        sys.path.append(yeast_esr_exp_path)\n",
    "        print(\"Added \" + yeast_esr_exp_path + \" to path\" )\n",
    "\n",
    "    import yeast_esr_exp\n",
    "    yeast_esr_exp.base_dir = yeast_esr_exp_path\n",
    "    yeast_esr_exp.data_processing_dir = yeast_esr_exp_path + os.path.normpath('expression_data') + os.sep\n",
    "\n",
    "\n",
    "y1000plus_tools_flag = input(\"Use y1000plus_tools functions? (Y/n)\")\n",
    "\n",
    "if y1000plus_tools_flag =='Y':\n",
    "    y1000plus_tools_path = os.path.normpath('C:/Users/heineib/Documents/GitHub/y1000plus_tools') + os.sep\n",
    "    #io_library_path_core = io_library_path + 'core' + os.sep\n",
    "    if not(y1000plus_tools_path in sys.path):\n",
    "        sys.path.append(y1000plus_tools_path)\n",
    "        print(\"Added \" + y1000plus_tools_path + \" to path\" )\n",
    "\n",
    "    import y1000plus_tools\n",
    "    y1000plus_tools.base_dir = os.path.normpath('C:/Users/heineib/Documents/GitHub/y1000plus_tools') + os.sep\n",
    "    print(\"y1000plus_tools dir is \" + y1000plus_tools.base_dir )                      \n",
    "    y1000plus_tools.y1000plus_dir = y1000plus_tools.base_dir + 'data' + os.sep \n",
    "    print(\"y1000plus data dir is \" + y1000plus_tools.y1000plus_dir)\n",
    "\n",
    "\n",
    "\n",
    "    \n",
    "#from venn import venn\n",
    "\n",
    "y1000plus_dir = os.path.normpath('C:/Users/heineib/Documents/GitHub/y1000plus_tools/data') + os.sep\n",
    "base_dir = os.path.normpath('G:/My Drive/Crick_LMS/projects/diverse_yeasts')\n",
    "\n",
    "\n",
    "#Load y1000 species table\n",
    "y1000_species = pd.read_csv(y1000plus_dir + os.path.normpath(\"y1000plus_tools_data/y1000plus/y1000_species_table.csv\"), index_col=0)\n",
    "\n",
    "#Load S.Cer lookup table: \n",
    "#scer_lookup_fname = y1000plus_dir + os.path.normpath('y1000plus_tools_data/y1000plus/id_lookups/saccharomyces_cerevisiae.csv')\n",
    "\n",
    "#scer_lookup = pd.read_csv(scer_lookup_fname, index_col=0)\n",
    "#scer_y1000_id_gene_id_lookup = dict(zip(scer_lookup['y1000_id'], scer_lookup.index))\n",
    "\n",
    "#spec_orig_genome_lookup = dict(zip(y1000_species['spec_og_id'], y1000_species['original_genome_id']))\n",
    "\n",
    "fig2_orig_genome_lookup = dict(zip(y1000_species['species_names_fig2'], y1000_species['original_genome_id']))\n",
    "old_orig_genome_lookup = dict(zip(y1000_species['old_species_names'], y1000_species['original_genome_id']))\n",
    "\n",
    "#protein_dir = os.path.normpath(y1000plus_dir + 'shen_2018_data/0_332yeast_genomes/332_genome_annotations/pep') + os.sep \n",
    "\n"
   ]
  },
  {
   "cell_type": "code",
   "execution_count": 12,
   "metadata": {},
   "outputs": [],
   "source": [
    "fig2_orig_genome_lookup = dict(zip(y1000_species['species_names_fig2'], y1000_species['original_genome_id']))"
   ]
  },
  {
   "cell_type": "code",
   "execution_count": 25,
   "metadata": {},
   "outputs": [],
   "source": [
    "leaves_to_remove = ['Vanderwaltozyma_polyspora|136_2033',\n",
    "                    'Zygosaccharomyces_rouxii|342_99',\n",
    "                    'Kluyveromyces_lactis|50_393',\n",
    "                    'Kluyveromyces_marxianus|51_4988',\n",
    "                    'Lachancea_thermotolerans|64_2570',\n",
    "                    'yHMPu5000034957_Hanseniaspora_osmophila|247_3065',\n",
    "                    'Wickerhamomyces_anomalus|139_1240',\n",
    "                    'Komagataella_pastoris|52_2808',\n",
    "                    'Debaryomyces_hansenii|36_3767',\n",
    "                    'Candida_tropicalis|30_3271'\n",
    "                ]\n",
    "\n",
    "leaves_to_conv = {'Saccharomyces_cerevisiae|110_4286' : 'REF_Scer_AF-P00549-F1-model_v2',  #CDC19  \n",
    "                'Saccharomyces_cerevisiae|110_1977' : 'REF_Scer_AF-P52489-F1-model_v2', #PYK2\n",
    "                'Candida_albicans|12_2204': 'Calb_AF-P46614-F1-model_v2'\n",
    "                }\n",
    "\n",
    "#Spom_AF-Q10208-F1-model_v2"
   ]
  },
  {
   "cell_type": "code",
   "execution_count": 27,
   "metadata": {},
   "outputs": [],
   "source": [
    "t.prune(list(set(t.get_leaf_names())-set(leaves_to_remove)))"
   ]
  },
  {
   "cell_type": "code",
   "execution_count": 29,
   "metadata": {},
   "outputs": [
    {
     "data": {
      "text/plain": [
       "23"
      ]
     },
     "execution_count": 29,
     "metadata": {},
     "output_type": "execute_result"
    }
   ],
   "source": [
    "t.ladderize()"
   ]
  },
  {
   "cell_type": "code",
   "execution_count": 30,
   "metadata": {},
   "outputs": [
    {
     "name": "stdout",
     "output_type": "stream",
     "text": [
      "\n",
      "   /-Alloascoidea_hylecoeti|0_2015\n",
      "  |\n",
      "  |--Kazachstania_naganishii|49_3029\n",
      "--|\n",
      "  |   /-Saccharomyces_cerevisiae|110_4286\n",
      "  |  |\n",
      "   \\-|      /-Saccharomyces_cerevisiae|110_1977\n",
      "     |   /-|\n",
      "     |  |   \\-Kazachstania_naganishii|49_4108\n",
      "      \\-|\n",
      "        |   /-Torulaspora_delbrueckii|135_4439\n",
      "        |  |\n",
      "         \\-|   /-Eremothecium_gossypii|40_309\n",
      "           |  |\n",
      "            \\-|   /-Cyberlindnera_jadinii|35_1953\n",
      "              |  |\n",
      "              |  |      /-Ogataea_parapolymorpha|104_2044\n",
      "               \\-|   /-|\n",
      "                 |  |   \\-Pachysolen_tannophilus|106_930\n",
      "                 |  |\n",
      "                 |  |      /-Candida_albicans|12_2204\n",
      "                  \\-|   /-|\n",
      "                    |  |  |   /-Ascoidea_rubescens|6_3105\n",
      "                    |  |   \\-|\n",
      "                    |  |      \\-Ascoidea_rubescens|6_5005\n",
      "                    |  |\n",
      "                     \\-|      /-yHMPu5000034604_Sporopachydermia_lactativora|170_6188\n",
      "                       |   /-|\n",
      "                       |  |  |   /-Alloascoidea_hylecoeti|0_6964\n",
      "                       |  |   \\-|\n",
      "                       |  |      \\-Alloascoidea_hylecoeti|0_7561\n",
      "                        \\-|\n",
      "                          |   /-yHMPu5000034604_Sporopachydermia_lactativora|170_306\n",
      "                          |  |\n",
      "                          |  |      /-Yarrowia_lipolytica|144_6037\n",
      "                           \\-|   /-|\n",
      "                             |  |  |   /-Tortispora_caseinolytica|134_405\n",
      "                             |  |   \\-|\n",
      "                              \\-|      \\-Lipomyces_starkeyi|66_159\n",
      "                                |\n",
      "                                |   /-Candida_apicola|13_3972\n",
      "                                 \\-|\n",
      "                                   |   /-Geotrichum_candidum|43_1496\n",
      "                                    \\-|\n",
      "                                       \\-Geotrichum_candidum|43_2944\n"
     ]
    }
   ],
   "source": [
    "print(t)"
   ]
  },
  {
   "cell_type": "code",
   "execution_count": 34,
   "metadata": {},
   "outputs": [
    {
     "data": {
      "text/plain": [
       "{'nodes': [[0.5, 43.3310546875, 4.5, 47.3310546875, 0, None],\n",
       "  [183.5, 9.0, 187.5, 13.0, 1, None],\n",
       "  [3.5000943700032465, 29.0, 7.5000943700032465, 33.0, 2, None],\n",
       "  [7.76948573797233, 77.662109375, 11.76948573797233, 81.662109375, 3, None],\n",
       "  [13.175632252941293, 49.0, 17.17563225294129, 53.0, 4, None],\n",
       "  [12.44495003572091, 106.32421875, 16.444950035720908, 110.32421875, 5, None],\n",
       "  [20.587253100471568, 79.0, 24.587253100471568, 83.0, 6, None],\n",
       "  [43.31503544636713, 69.0, 47.31503544636713, 73.0, 7, None],\n",
       "  [41.96341240553488, 89.0, 45.96341240553488, 93.0, 8, None],\n",
       "  [16.025878339369587, 133.6484375, 20.025878339369587, 137.6484375, 9, None],\n",
       "  [22.181390717279648, 109.0, 26.181390717279648, 113.0, 10, None],\n",
       "  [20.903109126045955, 158.296875, 24.903109126045955, 162.296875, 11, None],\n",
       "  [28.452624892676127, 129.0, 32.45262489267613, 133.0, 12, None],\n",
       "  [31.464401306685318, 187.59375, 35.46440130668532, 191.59375, 13, None],\n",
       "  [43.16153872886063, 149.0, 47.16153872886063, 153.0, 14, None],\n",
       "  [35.67404826889102, 226.1875, 39.67404826889102, 230.1875, 15, None],\n",
       "  [39.96963586300281, 179.0, 43.96963586300281, 183.0, 16, None],\n",
       "  [50.638950702751, 169.0, 54.638950702751, 173.0, 17, None],\n",
       "  [51.166607574178016, 189.0, 55.166607574178016, 193.0, 18, None],\n",
       "  [40.38524321926237, 273.375, 44.38524321926237, 277.375, 19, None],\n",
       "  [44.75044357732963, 224.0, 48.75044357732963, 228.0, 20, None],\n",
       "  [49.37641520480638, 209.0, 53.37641520480638, 213.0, 21, None],\n",
       "  [56.10602540233511, 239.0, 60.10602540233511, 243.0, 22, None],\n",
       "  [65.47721175805088, 229.0, 69.47721175805088, 233.0, 23, None],\n",
       "  [67.83440367829105, 249.0, 71.83440367829105, 253.0, 24, None],\n",
       "  [46.50416330359943, 322.75, 50.50416330359943, 326.75, 25, None],\n",
       "  [50.79237581424976, 284.0, 54.79237581424976, 288.0, 26, None],\n",
       "  [61.946421809683365, 269.0, 65.94642180968336, 273.0, 27, None],\n",
       "  [56.217270251580196, 299.0, 60.217270251580196, 303.0, 28, None],\n",
       "  [69.46694965310293, 289.0, 73.46694965310293, 293.0, 29, None],\n",
       "  [69.12292174758697, 309.0, 73.12292174758697, 313.0, 30, None],\n",
       "  [51.74558433363916, 361.5, 55.74558433363916, 365.5, 31, None],\n",
       "  [75.56070119200142, 329.0, 79.56070119200142, 333.0, 32, None],\n",
       "  [58.13170116010867, 394.0, 62.13170116010867, 398.0, 33, None],\n",
       "  [62.20030645677503, 364.0, 66.20030645677502, 368.0, 34, None],\n",
       "  [75.36761080491215, 349.0, 79.36761080491215, 353.0, 35, None],\n",
       "  [70.43310717054315, 379.0, 74.43310717054315, 383.0, 36, None],\n",
       "  [85.02705738538667, 369.0, 89.02705738538667, 373.0, 37, None],\n",
       "  [83.36224804109553, 389.0, 87.36224804109553, 393.0, 38, None],\n",
       "  [63.29907572415997, 424.0, 67.29907572415996, 428.0, 39, None],\n",
       "  [95.90119912881508, 409.0, 99.90119912881508, 413.0, 40, None],\n",
       "  [68.86243424223827, 439.0, 72.86243424223827, 443.0, 41, None],\n",
       "  [76.73592596766451, 429.0, 80.73592596766451, 433.0, 42, None],\n",
       "  [78.23672446890043, 449.0, 82.23672446890043, 453.0, 43, None]],\n",
       " 'faces': [[187.0,\n",
       "   1.0,\n",
       "   559.0,\n",
       "   21.0,\n",
       "   1,\n",
       "   'alloascoidea_hylecoeti__OG1299__0_2015'],\n",
       "  [187.0, 21.0, 588.0, 41.0, 2, 'kazachstania_naganishii__OG1299__49_3029'],\n",
       "  [187.0, 41.0, 497.0, 61.0, 4, 'REF_Scer_AF-P00549-F1-model_v2'],\n",
       "  [187.0, 61.0, 497.0, 81.0, 7, 'REF_Scer_AF-P52489-F1-model_v2'],\n",
       "  [187.0, 81.0, 588.0, 101.0, 8, 'kazachstania_naganishii__OG1299__49_4108'],\n",
       "  [187.0,\n",
       "   101.0,\n",
       "   591.0,\n",
       "   121.0,\n",
       "   10,\n",
       "   'torulaspora_delbrueckii__OG1299__135_4439'],\n",
       "  [187.0, 121.0, 572.0, 141.0, 12, 'eremothecium_gossypii__OG1299__40_309'],\n",
       "  [187.0, 141.0, 559.0, 161.0, 14, 'cyberlindnera_jadinii__OG1299__35_1953'],\n",
       "  [187.0, 161.0, 608.0, 181.0, 17, 'ogataea_parapolymorpha__OG1299__104_2044'],\n",
       "  [187.0, 181.0, 586.0, 201.0, 18, 'pachysolen_tannophilus__OG1299__106_930'],\n",
       "  [187.0, 201.0, 453.0, 221.0, 21, 'Calb_AF-P46614-F1-model_v2'],\n",
       "  [187.0, 221.0, 539.0, 241.0, 23, 'ascoidea_rubescens__OG1299__6_3105'],\n",
       "  [187.0, 241.0, 539.0, 261.0, 24, 'ascoidea_rubescens__OG1299__6_5005'],\n",
       "  [187.0,\n",
       "   261.0,\n",
       "   904.0,\n",
       "   281.0,\n",
       "   27,\n",
       "   'yHMPu5000034604_sporopachydermia_lactativora_160519__OG1299__170_6188'],\n",
       "  [187.0, 281.0, 559.0, 301.0, 29, 'alloascoidea_hylecoeti__OG1299__0_6964'],\n",
       "  [187.0, 301.0, 559.0, 321.0, 30, 'alloascoidea_hylecoeti__OG1299__0_7561'],\n",
       "  [187.0,\n",
       "   321.0,\n",
       "   893.0,\n",
       "   341.0,\n",
       "   32,\n",
       "   'yHMPu5000034604_sporopachydermia_lactativora_160519__OG1299__170_306'],\n",
       "  [187.0, 341.0, 550.0, 361.0, 35, 'yarrowia_lipolytica__OG1299__144_6037'],\n",
       "  [187.0,\n",
       "   361.0,\n",
       "   582.0,\n",
       "   381.0,\n",
       "   37,\n",
       "   'tortispora_caseinolytica__OG1299__134_405'],\n",
       "  [187.0, 381.0, 532.0, 401.0, 38, 'lipomyces_starkeyi__OG1299__66_159'],\n",
       "  [187.0, 401.0, 516.0, 421.0, 40, 'candida_apicola__OG1299__13_3972'],\n",
       "  [187.0, 421.0, 572.0, 441.0, 42, 'geotrichum_candidum__OG1299__43_1496'],\n",
       "  [187.0, 441.0, 572.0, 461.0, 43, 'geotrichum_candidum__OG1299__43_2944']],\n",
       " 'node_areas': {0: [1.0, 1.0, 187.0, 461.0],\n",
       "  1: [4.0, 1.0, 187.0, 21.0],\n",
       "  2: [4.0, 21.0, 7.0000943700032465, 41.0],\n",
       "  3: [4.0, 41.0, 99.40119912881505, 461.0],\n",
       "  4: [11.26948573797233, 41.0, 16.67563225294129, 61.0],\n",
       "  5: [11.26948573797233, 61.0, 99.40119912881505, 461.0],\n",
       "  6: [15.94495003572091, 61.0, 46.81503544636713, 101.0],\n",
       "  7: [24.087253100471568, 61.0, 46.81503544636713, 81.0],\n",
       "  8: [24.087253100471568, 81.0, 45.46341240553488, 101.0],\n",
       "  9: [15.94495003572091, 101.0, 99.40119912881505, 461.0],\n",
       "  10: [19.525878339369587, 101.0, 25.681390717279648, 121.0],\n",
       "  11: [19.525878339369587, 121.0, 99.40119912881505, 461.0],\n",
       "  12: [24.403109126045955, 121.0, 31.952624892676127, 141.0],\n",
       "  13: [24.403109126045955, 141.0, 99.40119912881505, 461.0],\n",
       "  14: [34.96440130668532, 141.0, 46.66153872886063, 161.0],\n",
       "  15: [34.96440130668532, 161.0, 99.40119912881507, 461.0],\n",
       "  16: [39.17404826889102, 161.0, 54.666607574178016, 201.0],\n",
       "  17: [43.46963586300281, 161.0, 54.138950702751, 181.0],\n",
       "  18: [43.46963586300281, 181.0, 54.666607574178016, 201.0],\n",
       "  19: [39.17404826889102, 201.0, 99.40119912881507, 461.0],\n",
       "  20: [43.88524321926237, 201.0, 71.33440367829105, 261.0],\n",
       "  21: [48.25044357732963, 201.0, 52.87641520480638, 221.0],\n",
       "  22: [48.25044357732963, 221.0, 71.33440367829105, 261.0],\n",
       "  23: [59.60602540233511, 221.0, 68.97721175805088, 241.0],\n",
       "  24: [59.60602540233511, 241.0, 71.33440367829105, 261.0],\n",
       "  25: [43.88524321926237, 261.0, 99.40119912881507, 461.0],\n",
       "  26: [50.00416330359943, 261.0, 72.96694965310294, 321.0],\n",
       "  27: [54.29237581424976, 261.0, 65.44642180968336, 281.0],\n",
       "  28: [54.29237581424976, 281.0, 72.96694965310294, 321.0],\n",
       "  29: [59.717270251580196, 281.0, 72.96694965310293, 301.0],\n",
       "  30: [59.717270251580196, 301.0, 72.62292174758697, 321.0],\n",
       "  31: [50.00416330359943, 321.0, 99.40119912881507, 461.0],\n",
       "  32: [55.24558433363916, 321.0, 79.06070119200142, 341.0],\n",
       "  33: [55.24558433363916, 341.0, 99.40119912881507, 461.0],\n",
       "  34: [61.63170116010867, 341.0, 88.52705738538667, 401.0],\n",
       "  35: [65.70030645677504, 341.0, 78.86761080491215, 361.0],\n",
       "  36: [65.70030645677504, 361.0, 88.52705738538667, 401.0],\n",
       "  37: [73.93310717054315, 361.0, 88.52705738538667, 381.0],\n",
       "  38: [73.93310717054315, 381.0, 86.86224804109553, 401.0],\n",
       "  39: [61.63170116010867, 401.0, 99.40119912881507, 461.0],\n",
       "  40: [66.79907572415998, 401.0, 99.40119912881508, 421.0],\n",
       "  41: [66.79907572415998, 421.0, 81.73672446890042, 461.0],\n",
       "  42: [72.36243424223827, 421.0, 80.23592596766451, 441.0],\n",
       "  43: [72.36243424223827, 441.0, 81.73672446890043, 461.0]}}"
      ]
     },
     "execution_count": 34,
     "metadata": {},
     "output_type": "execute_result"
    }
   ],
   "source": [
    "## For a given orthogroup, plot tree name and extract gene order from tree. \n",
    "\n",
    "tree_dir = base_dir + os.sep + os.path.normpath('alphafold/msas/FILES_ogs_pep_trees_only') + os.sep \n",
    "og = 'OG1299'\n",
    "\n",
    "node_colors = {'saccharomyces_cerevisiae':  '#f2d46f',\n",
    "               'candida_albicans':  '#f2c6b1' }\n",
    "\n",
    "\n",
    "tree_fname = tree_dir + og + '.mfaa.mafft.clipkit.treefile' \n",
    "t = y1000plus_tools.Tree(tree_fname)\n",
    "\n",
    "ts = y1000plus_tools.TreeStyle()\n",
    "ts.show_leaf_name = False\n",
    "\n",
    "leaves_to_remove = ['Vanderwaltozyma_polyspora|136_2033',\n",
    "                    'Zygosaccharomyces_rouxii|342_99',\n",
    "                    'Kluyveromyces_lactis|50_393',\n",
    "                    'Kluyveromyces_marxianus|51_4988',\n",
    "                    'Lachancea_thermotolerans|64_2570',\n",
    "                    'yHMPu5000034957_Hanseniaspora_osmophila|247_3065',\n",
    "                    'Wickerhamomyces_anomalus|139_1240',\n",
    "                    'Komagataella_pastoris|52_2808',\n",
    "                    'Debaryomyces_hansenii|36_3767',\n",
    "                    'Candida_tropicalis|30_3271'\n",
    "                ]\n",
    "\n",
    "leaves_to_conv = {'Saccharomyces_cerevisiae|110_4286' : 'REF_Scer_AF-P00549-F1-model_v2',  #CDC19  \n",
    "                'Saccharomyces_cerevisiae|110_1977' : 'REF_Scer_AF-P52489-F1-model_v2', #PYK2\n",
    "                'Candida_albicans|12_2204': 'Calb_AF-P46614-F1-model_v2'\n",
    "                }\n",
    "\n",
    "t.prune(list(set(t.get_leaf_names())-set(leaves_to_remove)))\n",
    "\n",
    "t.ladderize()\n",
    "\n",
    "pdb_names = []\n",
    "\n",
    "for node in t.get_leaves():\n",
    "    name = node.name\n",
    "    \n",
    "    if name in leaves_to_conv.keys():\n",
    "        name_sp = name.split('|')\n",
    "        orig_genome_id = old_orig_genome_lookup[name_sp[0]]\n",
    "        pdb_name = leaves_to_conv[name]\n",
    "    else: \n",
    "        name_sp = name.split('|')\n",
    "        orig_genome_id = old_orig_genome_lookup[name_sp[0]]\n",
    "        pdb_name = orig_genome_id + '__' + og + '__' + name_sp[1]\n",
    "    \n",
    "    \n",
    "    pdb_names.append(pdb_name)\n",
    "    \n",
    "    if orig_genome_id in node_colors.keys(): \n",
    "        nstyle = y1000plus_tools.NodeStyle()\n",
    "        nstyle['bgcolor'] = node_colors[orig_genome_id]\n",
    "        node.set_style(nstyle)\n",
    "    \n",
    "    \n",
    "    #group, abbrev = leaves_to_view[name]\n",
    "    \n",
    "#     nstyle = NodeStyle()\n",
    "#     node_color = node_color_dict[group]\n",
    "#     nstyle['bgcolor']=node_color\n",
    "\n",
    "    \n",
    "    node_label_face = y1000plus_tools.TextFace(pdb_name) # + \" ({})\".format(abbrev)) #, fsize=16, fgcolor=\"black\")\n",
    "    node.add_face(node_label_face, column=1, position = \"aligned\")\n",
    "\n",
    "\n",
    "\n",
    "pdb_names_fname = base_dir + os.sep + 'alphafold' + os.sep + og + '_pdb_names.txt'\n",
    "with open(pdb_names_fname, 'w') as f: \n",
    "    for pdb_name in pdb_names: \n",
    "        f.write(pdb_name + '\\n')\n",
    "\n",
    "# t.render('%%inline', tree_style=ts)\n",
    "fname = base_dir + os.sep + 'alphafold' + os.sep + og + '_tree.svg'\n",
    "t.render(fname, tree_style=ts)"
   ]
  },
  {
   "cell_type": "code",
   "execution_count": null,
   "metadata": {},
   "outputs": [],
   "source": [
    "\n",
    "#ts.show_branch_length = True\n",
    "\n",
    "# for node in t.traverse():\n",
    "#     if not(node.is_leaf()):\n",
    "#         node_label = TextFace(node.name)\n",
    "#         node.add_face(node_label, column=1, position = \"branch-bottom\")\n",
    "\n",
    "# post_WGH_colors = {'low':  '#8cc3f6', # '#d3d3fe', #'#3192ff',#'#7eeaf7', ##2DD7ED',      #'#e6fcff', \n",
    "#                    'high': '#fcbba1'} #'#59E3EB'}  #'#ffebe6'}\n",
    "\n",
    "\n",
    "# node_color_dict = {'KLE':\"#deb9f6\",\n",
    "#                    'ZT': \"YellowGreen\",\n",
    "#                    'Post_WGH': \"LightYellow\",   #default color for post WGH\n",
    "#                    'low': '#8cc3f6',    #syntenic orthologs of low LFC ohnolog\n",
    "#                    'high': '#fcbba1',    #syntenic orthologs of high LFC ohnolog\n",
    "#                    'outgroup': 'LightGrey'\n",
    "#                   }\n",
    "\n",
    "#K.lactis, K. marxianus, K. servazzii, W.anomalus, P.pastoris, C.albicans, C.tropicalis, D.hansenii, G.candidus, R.mucilaginosa, S.pombe, S.cerevisiae\n",
    "\n",
    "\n",
    "# leaves_to_view = {'Geotrichum_candidum':('outgroup', 'Ylip'),\n",
    "#                   'Komagataella_pastoris': ('outgroup','Kpas'),\n",
    "#                   'Debaryomyces_hansenii': ('outgroup','Dhan'),\n",
    "#                   'Candida_albicans': ('outgroup','Calb'),\n",
    "#                   'Candida_tropicalis': ('outgroup','Ctro'),\n",
    "#                   'Wickerhamomyces_anomalus': ('outgroup', 'Wano'), \n",
    "#                  'Lachancea_thermotolerans':  ('KLE','Lthe'),\n",
    "#                   'Kluyveromyces_lactis': ('KLE','Klac'),\n",
    "#                   'Kluyveromyces_marxianus': ('KLE','Kmar'),\n",
    "#                   'Zygosaccharomyces_rouxii': ('ZT', 'Zrou'),\n",
    "#                   'Kazachstania_naganishii': ('Post_WGH','Knag'),\n",
    "#                   'Saccharomyces_cerevisiae': ('Post_WGH','Scer')\n",
    "\n",
    "#                  }\n",
    "\n",
    "\n",
    "#t.prune(leaves_to_view.keys())\n",
    "\n",
    "#t.prune(time_tree_names)\n",
    "\n",
    "\n",
    "\n",
    "#t.write(outfile=base_dir + os.sep + 'alphafold' + os.sep + 'species_selection.nw')\n",
    "\n",
    "for node in t.get_leaves():\n",
    "    name = node.name\n",
    "    #group, abbrev = leaves_to_view[name]\n",
    "    \n",
    "#     nstyle = NodeStyle()\n",
    "#     node_color = node_color_dict[group]\n",
    "#     nstyle['bgcolor']=node_color\n",
    "#     node.set_style(nstyle)\n",
    "    \n",
    "    node_label_face = y1000plus_tools.TextFace(name) # + \" ({})\".format(abbrev)) #, fsize=16, fgcolor=\"black\")\n",
    "    node.add_face(node_label_face, column=1, position = \"aligned\")\n",
    "\n"
   ]
  },
  {
   "cell_type": "code",
   "execution_count": 11,
   "metadata": {},
   "outputs": [
    {
     "data": {
      "text/plain": [
       "'G:\\\\My Drive\\\\Crick_LMS\\\\projects\\\\diverse_yeasts\\\\alphafold\\\\selection_calculations\\\\OG1299\\\\OG1299_aln.paml'"
      ]
     },
     "execution_count": 11,
     "metadata": {},
     "output_type": "execute_result"
    }
   ],
   "source": [
    "os.path.normpath(base_dir + '/alphafold/selection_calculations/'  + og + '/' + og +'_aln.paml')"
   ]
  },
  {
   "cell_type": "markdown",
   "metadata": {},
   "source": [
    "## Load example sequences and convert to phylip\n",
    "\n",
    "\n",
    "#phylip conversion done via biokit after name truncation\n",
    "\n",
    "\n",
    "#STR2/HSU1: OG1390\n",
    "#ERG11: OG1355\n",
    "#CDC19/PYK2: OG1299\n",
    "\n",
    "#G:\\My Drive\\Crick_LMS\\projects\\diverse_yeasts\\alphafold\\msas"
   ]
  },
  {
   "cell_type": "code",
   "execution_count": 8,
   "metadata": {},
   "outputs": [],
   "source": [
    "#Make a python routine that tidies the file and then calls codeml"
   ]
  },
  {
   "cell_type": "code",
   "execution_count": 11,
   "metadata": {},
   "outputs": [
    {
     "data": {
      "text/plain": [
       "\u001b[1;31mSignature:\u001b[0m\n",
       "\u001b[0mjson\u001b[0m\u001b[1;33m.\u001b[0m\u001b[0mdump\u001b[0m\u001b[1;33m(\u001b[0m\u001b[1;33m\n",
       "\u001b[0m    \u001b[0mobj\u001b[0m\u001b[1;33m,\u001b[0m\u001b[1;33m\n",
       "\u001b[0m    \u001b[0mfp\u001b[0m\u001b[1;33m,\u001b[0m\u001b[1;33m\n",
       "\u001b[0m    \u001b[1;33m*\u001b[0m\u001b[1;33m,\u001b[0m\u001b[1;33m\n",
       "\u001b[0m    \u001b[0mskipkeys\u001b[0m\u001b[1;33m=\u001b[0m\u001b[1;32mFalse\u001b[0m\u001b[1;33m,\u001b[0m\u001b[1;33m\n",
       "\u001b[0m    \u001b[0mensure_ascii\u001b[0m\u001b[1;33m=\u001b[0m\u001b[1;32mTrue\u001b[0m\u001b[1;33m,\u001b[0m\u001b[1;33m\n",
       "\u001b[0m    \u001b[0mcheck_circular\u001b[0m\u001b[1;33m=\u001b[0m\u001b[1;32mTrue\u001b[0m\u001b[1;33m,\u001b[0m\u001b[1;33m\n",
       "\u001b[0m    \u001b[0mallow_nan\u001b[0m\u001b[1;33m=\u001b[0m\u001b[1;32mTrue\u001b[0m\u001b[1;33m,\u001b[0m\u001b[1;33m\n",
       "\u001b[0m    \u001b[0mcls\u001b[0m\u001b[1;33m=\u001b[0m\u001b[1;32mNone\u001b[0m\u001b[1;33m,\u001b[0m\u001b[1;33m\n",
       "\u001b[0m    \u001b[0mindent\u001b[0m\u001b[1;33m=\u001b[0m\u001b[1;32mNone\u001b[0m\u001b[1;33m,\u001b[0m\u001b[1;33m\n",
       "\u001b[0m    \u001b[0mseparators\u001b[0m\u001b[1;33m=\u001b[0m\u001b[1;32mNone\u001b[0m\u001b[1;33m,\u001b[0m\u001b[1;33m\n",
       "\u001b[0m    \u001b[0mdefault\u001b[0m\u001b[1;33m=\u001b[0m\u001b[1;32mNone\u001b[0m\u001b[1;33m,\u001b[0m\u001b[1;33m\n",
       "\u001b[0m    \u001b[0msort_keys\u001b[0m\u001b[1;33m=\u001b[0m\u001b[1;32mFalse\u001b[0m\u001b[1;33m,\u001b[0m\u001b[1;33m\n",
       "\u001b[0m    \u001b[1;33m**\u001b[0m\u001b[0mkw\u001b[0m\u001b[1;33m,\u001b[0m\u001b[1;33m\n",
       "\u001b[0m\u001b[1;33m)\u001b[0m\u001b[1;33m\u001b[0m\u001b[1;33m\u001b[0m\u001b[0m\n",
       "\u001b[1;31mDocstring:\u001b[0m\n",
       "Serialize ``obj`` as a JSON formatted stream to ``fp`` (a\n",
       "``.write()``-supporting file-like object).\n",
       "\n",
       "If ``skipkeys`` is true then ``dict`` keys that are not basic types\n",
       "(``str``, ``int``, ``float``, ``bool``, ``None``) will be skipped\n",
       "instead of raising a ``TypeError``.\n",
       "\n",
       "If ``ensure_ascii`` is false, then the strings written to ``fp`` can\n",
       "contain non-ASCII characters if they appear in strings contained in\n",
       "``obj``. Otherwise, all such characters are escaped in JSON strings.\n",
       "\n",
       "If ``check_circular`` is false, then the circular reference check\n",
       "for container types will be skipped and a circular reference will\n",
       "result in an ``OverflowError`` (or worse).\n",
       "\n",
       "If ``allow_nan`` is false, then it will be a ``ValueError`` to\n",
       "serialize out of range ``float`` values (``nan``, ``inf``, ``-inf``)\n",
       "in strict compliance of the JSON specification, instead of using the\n",
       "JavaScript equivalents (``NaN``, ``Infinity``, ``-Infinity``).\n",
       "\n",
       "If ``indent`` is a non-negative integer, then JSON array elements and\n",
       "object members will be pretty-printed with that indent level. An indent\n",
       "level of 0 will only insert newlines. ``None`` is the most compact\n",
       "representation.\n",
       "\n",
       "If specified, ``separators`` should be an ``(item_separator, key_separator)``\n",
       "tuple.  The default is ``(', ', ': ')`` if *indent* is ``None`` and\n",
       "``(',', ': ')`` otherwise.  To get the most compact JSON representation,\n",
       "you should specify ``(',', ':')`` to eliminate whitespace.\n",
       "\n",
       "``default(obj)`` is a function that should return a serializable version\n",
       "of obj or raise TypeError. The default simply raises TypeError.\n",
       "\n",
       "If *sort_keys* is true (default: ``False``), then the output of\n",
       "dictionaries will be sorted by key.\n",
       "\n",
       "To use a custom ``JSONEncoder`` subclass (e.g. one that overrides the\n",
       "``.default()`` method to serialize additional types), specify it with\n",
       "the ``cls`` kwarg; otherwise ``JSONEncoder`` is used.\n",
       "\u001b[1;31mFile:\u001b[0m      c:\\users\\heineib\\anaconda3\\envs\\sc_seq_py\\lib\\json\\__init__.py\n",
       "\u001b[1;31mType:\u001b[0m      function\n"
      ]
     },
     "metadata": {},
     "output_type": "display_data"
    }
   ],
   "source": [
    "?json.dump"
   ]
  },
  {
   "cell_type": "code",
   "execution_count": 21,
   "metadata": {},
   "outputs": [
    {
     "data": {
      "text/plain": [
       "'1234'"
      ]
     },
     "execution_count": 21,
     "metadata": {},
     "output_type": "execute_result"
    }
   ],
   "source": [
    "a = '>1234\\n'\n",
    "a.split('>')[1].strip()"
   ]
  },
  {
   "cell_type": "code",
   "execution_count": 16,
   "metadata": {},
   "outputs": [],
   "source": [
    "og_input = {'OG1299': {'name': 'STR2-HSU1',\n",
    "                          'genes_to_rm': ['0_2015']\n",
    "                         },\n",
    "               'OG1355': {'name': 'CDC19-PYK2',\n",
    "                          'genes_to_rm': ['0_2015']\n",
    "                         },\n",
    "               'OG1390': {'name': 'ERG11',\n",
    "                          'genes_to_rm': ['0_2015']\n",
    "                         }\n",
    "              }\n",
    "\n",
    "with open(base_dir + os.sep + os.path.normpath('alphafold/selection_calculations/20220526_og_input.json'), 'w') as og_input_f: \n",
    "    og_input = json.dump(og_input, fp = og_input_f)"
   ]
  },
  {
   "cell_type": "code",
   "execution_count": 9,
   "metadata": {},
   "outputs": [],
   "source": [
    "#shorten the name of the fasta\n",
    "for og in ['OG1390','OG1355','OG1299']:\n",
    "    fname_in = base_dir + os.sep + os.path.normpath('alphafold/msas/FILES_ogs_cds_threaded/' + og + '.mfna.threaded')\n",
    "    fname_out = base_dir + os.sep + os.path.normpath('alphafold/msas/ogs_cds_threaded_short/' + og + '_aln.fasta')\n",
    "    with open(fname_in,'r') as f_in:\n",
    "        with open(fname_out,'w') as f_out: \n",
    "            for line in f_in: \n",
    "                if line[0]=='>':\n",
    "                    line_out = '>' + line.split('|')[1]\n",
    "                else: \n",
    "                    line_out = line\n",
    "                f_out.write(line_out)\n"
   ]
  },
  {
   "cell_type": "code",
   "execution_count": null,
   "metadata": {},
   "outputs": [],
   "source": [
    "#Clean Fasta\n",
    "#given list of leaves to prune, remove them from the fasta. \n",
    "\n",
    "#Convert to Phylip\n",
    "\n",
    "#Add I to first line of phylip (because it is interleaved)"
   ]
  },
  {
   "cell_type": "code",
   "execution_count": 2,
   "metadata": {},
   "outputs": [],
   "source": [
    "#Clean Tree\n",
    "og = 'OG1299'\n",
    "leaves_to_prune = ['0_2015']#\n",
    "tree_in = base_dir + os.sep + os.path.normpath('alphafold/msas/FILES_ogs_pep_trees_only/' + og + '.mfaa.mafft.clipkit.treefile')\n",
    "tree_out = base_dir + os.sep + os.path.normpath('alphafold/selection_calculations/' + og + '/'+ og + '_clean.treefile')\n",
    "\n",
    "t = y1000plus_tools.Tree(tree_in)\n",
    "\n",
    "name_rep = {}\n",
    "for leaf_name in t.get_leaf_names():\n",
    "    name_rep[leaf_name] = leaf_name.split('|')[1]\n",
    "\n",
    "for leaf in t.iter_leaves():\n",
    "    leaf.name = name_rep[leaf.name]\n",
    "    \n",
    "leaves = t.get_leaf_names()\n",
    "\n",
    "for leaf_to_prune in leaves_to_prune: \n",
    "    leaves.remove(leaf_to_prune)\n",
    "    \n",
    "t.prune(leaves)\n",
    "t.unroot()\n",
    "    \n",
    "t.write(format = 0, outfile=tree_out)\n"
   ]
  },
  {
   "cell_type": "code",
   "execution_count": null,
   "metadata": {},
   "outputs": [],
   "source": [
    "#Make control file\n",
    "\n",
    "\n",
    "#Run codeml\n",
    "\n",
    "/home/heineike/paml/paml4.9j/bin/codeml codeml_bmh.ctl"
   ]
  },
  {
   "cell_type": "code",
   "execution_count": 4,
   "metadata": {},
   "outputs": [],
   "source": [
    "t_orig_codeml = '(24, ((((((((((((1, 2), 15), ((((8, 30), 13), (12, (22, 23))), 14)), (((7, 17), 20), (31, 32))), (3, 4)), 28), (11, 19)), 16), 29), (21, (26, 27))), (9, 18)), ((5, 25), 10)), 6)'\n",
    "\n",
    "t_out_codeml = '(49_3029: 0.481075, ((((((((((((0_6964: 0.610188, 0_7561: 0.642457): 0.217320, 170_6188: 1.229161): 0.147260, ((((134_405: 1.231779, 66_159: 1.013815): 0.395780, 144_6037: 0.746403): 0.076428, (13_3972: 2.176080, (43_1496: 0.505338, 43_2944: 0.725364): 0.241327): 0.176513): 0.829219, 170_306: 1.777825): 0.613758): 0.296140, (((12_2204: 0.163714, 30_3271: 0.241204): 0.226778, 36_3767: 0.437498): 0.285937, (6_3105: 0.570687, 6_5005: 0.759027): 0.622416): 0.083194): 0.090068, (104_2044: 1.533234, 106_930: 0.685844): 0.100050): 0.033692, 52_2808: 1.602761): 0.090488, (139_1240: 0.355563, 35_1953: 1.301293): 0.110335): 0.463151, 247_3065: 0.315601): 0.214825, 64_2570: 0.368667): 0.043131, (40_309: 0.626510, (50_393: 0.256467, 51_4988: 0.116369): 0.149276): 0.055288): 0.075245, (135_4439: 0.211406, 342_99: 0.423814): 0.097820): 0.046856, ((110_1977: 1.552288, 49_4108: 1.613142): 0.761944, 136_2033: 0.301810): 0.088071): 0.047811, 110_4286: 0.118334);'\n",
    "t_out = y1000plus_tools.Tree(t_out_codeml)"
   ]
  },
  {
   "cell_type": "code",
   "execution_count": 6,
   "metadata": {},
   "outputs": [
    {
     "data": {
      "image/png": "[encoded data removed]",
      "text/plain": [
       "<IPython.core.display.Image object>"
      ]
     },
     "execution_count": 6,
     "metadata": {},
     "output_type": "execute_result"
    }
   ],
   "source": [
    "t.render('%%inline')"
   ]
  },
  {
   "cell_type": "code",
   "execution_count": 7,
   "metadata": {},
   "outputs": [
    {
     "data": {
      "image/png": "[encoded data removed]",
      "text/plain": [
       "<IPython.core.display.Image object>"
      ]
     },
     "execution_count": 7,
     "metadata": {},
     "output_type": "execute_result"
    }
   ],
   "source": [
    "t_out.render('%%inline')"
   ]
  },
  {
   "cell_type": "code",
   "execution_count": 18,
   "metadata": {},
   "outputs": [],
   "source": [
    "for record in input_alignment:\n",
    "    print(record.seq + \" \" + record.id)"
   ]
  },
  {
   "cell_type": "code",
   "execution_count": 17,
   "metadata": {},
   "outputs": [
    {
     "ename": "TypeError",
     "evalue": "unsupported format string passed to generator.__format__",
     "output_type": "error",
     "traceback": [
      "\u001b[1;31m---------------------------------------------------------------------------\u001b[0m",
      "\u001b[1;31mTypeError\u001b[0m                                 Traceback (most recent call last)",
      "\u001b[1;32m<ipython-input-17-98542261ec6d>\u001b[0m in \u001b[0;36m<module>\u001b[1;34m\u001b[0m\n\u001b[1;32m----> 1\u001b[1;33m \u001b[0mformat\u001b[0m\u001b[1;33m(\u001b[0m\u001b[0minput_alignment\u001b[0m\u001b[1;33m,\u001b[0m \u001b[1;34m\"fasta\"\u001b[0m\u001b[1;33m)\u001b[0m\u001b[1;33m\u001b[0m\u001b[1;33m\u001b[0m\u001b[0m\n\u001b[0m",
      "\u001b[1;31mTypeError\u001b[0m: unsupported format string passed to generator.__format__"
     ]
    }
   ],
   "source": [
    "format(input_alignment, \"fasta\")"
   ]
  },
  {
   "cell_type": "code",
   "execution_count": 16,
   "metadata": {},
   "outputs": [
    {
     "name": "stderr",
     "output_type": "stream",
     "text": [
      "C:\\Users\\heineib\\Anaconda3\\envs\\sc_seq_py\\lib\\site-packages\\ipykernel_launcher.py:5: DeprecationWarning: 'U' mode is deprecated\n",
      "  \"\"\"\n"
     ]
    },
    {
     "ename": "ValueError",
     "evalue": "I/O operation on closed file.",
     "output_type": "error",
     "traceback": [
      "\u001b[1;31m---------------------------------------------------------------------------\u001b[0m",
      "\u001b[1;31mTypeError\u001b[0m                                 Traceback (most recent call last)",
      "\u001b[1;32m~\\Anaconda3\\envs\\sc_seq_py\\lib\\site-packages\\Bio\\SeqIO\\Interfaces.py\u001b[0m in \u001b[0;36m__init__\u001b[1;34m(self, source, alphabet, mode, fmt)\u001b[0m\n\u001b[0;32m     46\u001b[0m         \u001b[1;32mtry\u001b[0m\u001b[1;33m:\u001b[0m\u001b[1;33m\u001b[0m\u001b[1;33m\u001b[0m\u001b[0m\n\u001b[1;32m---> 47\u001b[1;33m             \u001b[0mself\u001b[0m\u001b[1;33m.\u001b[0m\u001b[0mstream\u001b[0m \u001b[1;33m=\u001b[0m \u001b[0mopen\u001b[0m\u001b[1;33m(\u001b[0m\u001b[0msource\u001b[0m\u001b[1;33m,\u001b[0m \u001b[1;34m\"r\"\u001b[0m \u001b[1;33m+\u001b[0m \u001b[0mmode\u001b[0m\u001b[1;33m)\u001b[0m\u001b[1;33m\u001b[0m\u001b[1;33m\u001b[0m\u001b[0m\n\u001b[0m\u001b[0;32m     48\u001b[0m             \u001b[0mself\u001b[0m\u001b[1;33m.\u001b[0m\u001b[0mshould_close_stream\u001b[0m \u001b[1;33m=\u001b[0m \u001b[1;32mTrue\u001b[0m\u001b[1;33m\u001b[0m\u001b[1;33m\u001b[0m\u001b[0m\n",
      "\u001b[1;31mTypeError\u001b[0m: expected str, bytes or os.PathLike object, not _io.TextIOWrapper",
      "\nDuring handling of the above exception, another exception occurred:\n",
      "\u001b[1;31mValueError\u001b[0m                                Traceback (most recent call last)",
      "\u001b[1;32m<ipython-input-16-412e0afa42b0>\u001b[0m in \u001b[0;36m<module>\u001b[1;34m\u001b[0m\n\u001b[0;32m      8\u001b[0m \u001b[1;33m\u001b[0m\u001b[0m\n\u001b[0;32m      9\u001b[0m \u001b[0minput_alignment\u001b[0m \u001b[1;33m=\u001b[0m \u001b[0mAlignIO\u001b[0m\u001b[1;33m.\u001b[0m\u001b[0mparse\u001b[0m\u001b[1;33m(\u001b[0m\u001b[0mf_in\u001b[0m\u001b[1;33m,\u001b[0m \u001b[1;34m\"fasta\"\u001b[0m\u001b[1;33m)\u001b[0m\u001b[1;33m\u001b[0m\u001b[1;33m\u001b[0m\u001b[0m\n\u001b[1;32m---> 10\u001b[1;33m \u001b[0mAlignIO\u001b[0m\u001b[1;33m.\u001b[0m\u001b[0mwrite\u001b[0m\u001b[1;33m(\u001b[0m\u001b[0minput_alignment\u001b[0m\u001b[1;33m,\u001b[0m \u001b[0mf_out\u001b[0m\u001b[1;33m,\u001b[0m \u001b[1;34m'phylip'\u001b[0m\u001b[1;33m)\u001b[0m\u001b[1;33m\u001b[0m\u001b[1;33m\u001b[0m\u001b[0m\n\u001b[0m\u001b[0;32m     11\u001b[0m \u001b[1;33m\u001b[0m\u001b[0m\n\u001b[0;32m     12\u001b[0m \u001b[0moutput_aln\u001b[0m\u001b[1;33m.\u001b[0m\u001b[0mclose\u001b[0m\u001b[1;33m(\u001b[0m\u001b[1;33m)\u001b[0m\u001b[1;33m\u001b[0m\u001b[1;33m\u001b[0m\u001b[0m\n",
      "\u001b[1;32m~\\Anaconda3\\envs\\sc_seq_py\\lib\\site-packages\\Bio\\AlignIO\\__init__.py\u001b[0m in \u001b[0;36mwrite\u001b[1;34m(alignments, handle, format)\u001b[0m\n\u001b[0;32m    217\u001b[0m         \u001b[1;32mif\u001b[0m \u001b[0mformat\u001b[0m \u001b[1;32min\u001b[0m \u001b[0m_FormatToWriter\u001b[0m\u001b[1;33m:\u001b[0m\u001b[1;33m\u001b[0m\u001b[1;33m\u001b[0m\u001b[0m\n\u001b[0;32m    218\u001b[0m             \u001b[0mwriter_class\u001b[0m \u001b[1;33m=\u001b[0m \u001b[0m_FormatToWriter\u001b[0m\u001b[1;33m[\u001b[0m\u001b[0mformat\u001b[0m\u001b[1;33m]\u001b[0m\u001b[1;33m\u001b[0m\u001b[1;33m\u001b[0m\u001b[0m\n\u001b[1;32m--> 219\u001b[1;33m             \u001b[0mcount\u001b[0m \u001b[1;33m=\u001b[0m \u001b[0mwriter_class\u001b[0m\u001b[1;33m(\u001b[0m\u001b[0mfp\u001b[0m\u001b[1;33m)\u001b[0m\u001b[1;33m.\u001b[0m\u001b[0mwrite_file\u001b[0m\u001b[1;33m(\u001b[0m\u001b[0malignments\u001b[0m\u001b[1;33m)\u001b[0m\u001b[1;33m\u001b[0m\u001b[1;33m\u001b[0m\u001b[0m\n\u001b[0m\u001b[0;32m    220\u001b[0m         \u001b[1;32melif\u001b[0m \u001b[0mformat\u001b[0m \u001b[1;32min\u001b[0m \u001b[0mSeqIO\u001b[0m\u001b[1;33m.\u001b[0m\u001b[0m_FormatToWriter\u001b[0m\u001b[1;33m:\u001b[0m\u001b[1;33m\u001b[0m\u001b[1;33m\u001b[0m\u001b[0m\n\u001b[0;32m    221\u001b[0m             \u001b[1;31m# Exploit the existing SeqIO parser to do the dirty work!\u001b[0m\u001b[1;33m\u001b[0m\u001b[1;33m\u001b[0m\u001b[1;33m\u001b[0m\u001b[0m\n",
      "\u001b[1;32m~\\Anaconda3\\envs\\sc_seq_py\\lib\\site-packages\\Bio\\AlignIO\\Interfaces.py\u001b[0m in \u001b[0;36mwrite_file\u001b[1;34m(self, alignments)\u001b[0m\n\u001b[0;32m    126\u001b[0m         \u001b[0mself\u001b[0m\u001b[1;33m.\u001b[0m\u001b[0mwrite_header\u001b[0m\u001b[1;33m(\u001b[0m\u001b[1;33m)\u001b[0m\u001b[1;33m\u001b[0m\u001b[1;33m\u001b[0m\u001b[0m\n\u001b[0;32m    127\u001b[0m         \u001b[0mcount\u001b[0m \u001b[1;33m=\u001b[0m \u001b[1;36m0\u001b[0m\u001b[1;33m\u001b[0m\u001b[1;33m\u001b[0m\u001b[0m\n\u001b[1;32m--> 128\u001b[1;33m         \u001b[1;32mfor\u001b[0m \u001b[0malignment\u001b[0m \u001b[1;32min\u001b[0m \u001b[0malignments\u001b[0m\u001b[1;33m:\u001b[0m\u001b[1;33m\u001b[0m\u001b[1;33m\u001b[0m\u001b[0m\n\u001b[0m\u001b[0;32m    129\u001b[0m             \u001b[0mself\u001b[0m\u001b[1;33m.\u001b[0m\u001b[0mwrite_alignment\u001b[0m\u001b[1;33m(\u001b[0m\u001b[0malignment\u001b[0m\u001b[1;33m)\u001b[0m\u001b[1;33m\u001b[0m\u001b[1;33m\u001b[0m\u001b[0m\n\u001b[0;32m    130\u001b[0m             \u001b[0mcount\u001b[0m \u001b[1;33m+=\u001b[0m \u001b[1;36m1\u001b[0m\u001b[1;33m\u001b[0m\u001b[1;33m\u001b[0m\u001b[0m\n",
      "\u001b[1;32m~\\Anaconda3\\envs\\sc_seq_py\\lib\\site-packages\\Bio\\AlignIO\\__init__.py\u001b[0m in \u001b[0;36mparse\u001b[1;34m(handle, format, seq_count)\u001b[0m\n\u001b[0;32m    339\u001b[0m             \u001b[1;32mraise\u001b[0m \u001b[0mValueError\u001b[0m\u001b[1;33m(\u001b[0m\u001b[1;34m\"Unknown format '%s'\"\u001b[0m \u001b[1;33m%\u001b[0m \u001b[0mformat\u001b[0m\u001b[1;33m)\u001b[0m\u001b[1;33m\u001b[0m\u001b[1;33m\u001b[0m\u001b[0m\n\u001b[0;32m    340\u001b[0m \u001b[1;33m\u001b[0m\u001b[0m\n\u001b[1;32m--> 341\u001b[1;33m         \u001b[1;32myield\u001b[0m \u001b[1;32mfrom\u001b[0m \u001b[0mi\u001b[0m\u001b[1;33m\u001b[0m\u001b[1;33m\u001b[0m\u001b[0m\n\u001b[0m\u001b[0;32m    342\u001b[0m \u001b[1;33m\u001b[0m\u001b[0m\n\u001b[0;32m    343\u001b[0m \u001b[1;33m\u001b[0m\u001b[0m\n",
      "\u001b[1;32m~\\Anaconda3\\envs\\sc_seq_py\\lib\\site-packages\\Bio\\AlignIO\\__init__.py\u001b[0m in \u001b[0;36m_SeqIO_to_alignment_iterator\u001b[1;34m(handle, format, seq_count)\u001b[0m\n\u001b[0;32m    279\u001b[0m         \u001b[1;31m# Must assume that there is a single alignment using all\u001b[0m\u001b[1;33m\u001b[0m\u001b[1;33m\u001b[0m\u001b[1;33m\u001b[0m\u001b[0m\n\u001b[0;32m    280\u001b[0m         \u001b[1;31m# the SeqRecord objects:\u001b[0m\u001b[1;33m\u001b[0m\u001b[1;33m\u001b[0m\u001b[1;33m\u001b[0m\u001b[0m\n\u001b[1;32m--> 281\u001b[1;33m         \u001b[0mrecords\u001b[0m \u001b[1;33m=\u001b[0m \u001b[0mlist\u001b[0m\u001b[1;33m(\u001b[0m\u001b[0mSeqIO\u001b[0m\u001b[1;33m.\u001b[0m\u001b[0mparse\u001b[0m\u001b[1;33m(\u001b[0m\u001b[0mhandle\u001b[0m\u001b[1;33m,\u001b[0m \u001b[0mformat\u001b[0m\u001b[1;33m)\u001b[0m\u001b[1;33m)\u001b[0m\u001b[1;33m\u001b[0m\u001b[1;33m\u001b[0m\u001b[0m\n\u001b[0m\u001b[0;32m    282\u001b[0m         \u001b[1;32mif\u001b[0m \u001b[0mrecords\u001b[0m\u001b[1;33m:\u001b[0m\u001b[1;33m\u001b[0m\u001b[1;33m\u001b[0m\u001b[0m\n\u001b[0;32m    283\u001b[0m             \u001b[1;32myield\u001b[0m \u001b[0mMultipleSeqAlignment\u001b[0m\u001b[1;33m(\u001b[0m\u001b[0mrecords\u001b[0m\u001b[1;33m)\u001b[0m\u001b[1;33m\u001b[0m\u001b[1;33m\u001b[0m\u001b[0m\n",
      "\u001b[1;32m~\\Anaconda3\\envs\\sc_seq_py\\lib\\site-packages\\Bio\\SeqIO\\__init__.py\u001b[0m in \u001b[0;36mparse\u001b[1;34m(handle, format, alphabet)\u001b[0m\n\u001b[0;32m    605\u001b[0m     \u001b[0miterator_generator\u001b[0m \u001b[1;33m=\u001b[0m \u001b[0m_FormatToIterator\u001b[0m\u001b[1;33m.\u001b[0m\u001b[0mget\u001b[0m\u001b[1;33m(\u001b[0m\u001b[0mformat\u001b[0m\u001b[1;33m)\u001b[0m\u001b[1;33m\u001b[0m\u001b[1;33m\u001b[0m\u001b[0m\n\u001b[0;32m    606\u001b[0m     \u001b[1;32mif\u001b[0m \u001b[0miterator_generator\u001b[0m\u001b[1;33m:\u001b[0m\u001b[1;33m\u001b[0m\u001b[1;33m\u001b[0m\u001b[0m\n\u001b[1;32m--> 607\u001b[1;33m         \u001b[1;32mreturn\u001b[0m \u001b[0miterator_generator\u001b[0m\u001b[1;33m(\u001b[0m\u001b[0mhandle\u001b[0m\u001b[1;33m)\u001b[0m\u001b[1;33m\u001b[0m\u001b[1;33m\u001b[0m\u001b[0m\n\u001b[0m\u001b[0;32m    608\u001b[0m     \u001b[1;32mif\u001b[0m \u001b[0mformat\u001b[0m \u001b[1;32min\u001b[0m \u001b[0mAlignIO\u001b[0m\u001b[1;33m.\u001b[0m\u001b[0m_FormatToIterator\u001b[0m\u001b[1;33m:\u001b[0m\u001b[1;33m\u001b[0m\u001b[1;33m\u001b[0m\u001b[0m\n\u001b[0;32m    609\u001b[0m         \u001b[1;31m# Use Bio.AlignIO to read in the alignments\u001b[0m\u001b[1;33m\u001b[0m\u001b[1;33m\u001b[0m\u001b[1;33m\u001b[0m\u001b[0m\n",
      "\u001b[1;32m~\\Anaconda3\\envs\\sc_seq_py\\lib\\site-packages\\Bio\\SeqIO\\FastaIO.py\u001b[0m in \u001b[0;36m__init__\u001b[1;34m(self, source, alphabet, title2ids)\u001b[0m\n\u001b[0;32m    181\u001b[0m             \u001b[1;32mraise\u001b[0m \u001b[0mValueError\u001b[0m\u001b[1;33m(\u001b[0m\u001b[1;34m\"The alphabet argument is no longer supported\"\u001b[0m\u001b[1;33m)\u001b[0m\u001b[1;33m\u001b[0m\u001b[1;33m\u001b[0m\u001b[0m\n\u001b[0;32m    182\u001b[0m         \u001b[0mself\u001b[0m\u001b[1;33m.\u001b[0m\u001b[0mtitle2ids\u001b[0m \u001b[1;33m=\u001b[0m \u001b[0mtitle2ids\u001b[0m\u001b[1;33m\u001b[0m\u001b[1;33m\u001b[0m\u001b[0m\n\u001b[1;32m--> 183\u001b[1;33m         \u001b[0msuper\u001b[0m\u001b[1;33m(\u001b[0m\u001b[1;33m)\u001b[0m\u001b[1;33m.\u001b[0m\u001b[0m__init__\u001b[0m\u001b[1;33m(\u001b[0m\u001b[0msource\u001b[0m\u001b[1;33m,\u001b[0m \u001b[0mmode\u001b[0m\u001b[1;33m=\u001b[0m\u001b[1;34m\"t\"\u001b[0m\u001b[1;33m,\u001b[0m \u001b[0mfmt\u001b[0m\u001b[1;33m=\u001b[0m\u001b[1;34m\"Fasta\"\u001b[0m\u001b[1;33m)\u001b[0m\u001b[1;33m\u001b[0m\u001b[1;33m\u001b[0m\u001b[0m\n\u001b[0m\u001b[0;32m    184\u001b[0m \u001b[1;33m\u001b[0m\u001b[0m\n\u001b[0;32m    185\u001b[0m     \u001b[1;32mdef\u001b[0m \u001b[0mparse\u001b[0m\u001b[1;33m(\u001b[0m\u001b[0mself\u001b[0m\u001b[1;33m,\u001b[0m \u001b[0mhandle\u001b[0m\u001b[1;33m)\u001b[0m\u001b[1;33m:\u001b[0m\u001b[1;33m\u001b[0m\u001b[1;33m\u001b[0m\u001b[0m\n",
      "\u001b[1;32m~\\Anaconda3\\envs\\sc_seq_py\\lib\\site-packages\\Bio\\SeqIO\\Interfaces.py\u001b[0m in \u001b[0;36m__init__\u001b[1;34m(self, source, alphabet, mode, fmt)\u001b[0m\n\u001b[0;32m     49\u001b[0m         \u001b[1;32mexcept\u001b[0m \u001b[0mTypeError\u001b[0m\u001b[1;33m:\u001b[0m  \u001b[1;31m# not a path, assume we received a stream\u001b[0m\u001b[1;33m\u001b[0m\u001b[1;33m\u001b[0m\u001b[0m\n\u001b[0;32m     50\u001b[0m             \u001b[1;32mif\u001b[0m \u001b[0mmode\u001b[0m \u001b[1;33m==\u001b[0m \u001b[1;34m\"t\"\u001b[0m\u001b[1;33m:\u001b[0m\u001b[1;33m\u001b[0m\u001b[1;33m\u001b[0m\u001b[0m\n\u001b[1;32m---> 51\u001b[1;33m                 \u001b[1;32mif\u001b[0m \u001b[0msource\u001b[0m\u001b[1;33m.\u001b[0m\u001b[0mread\u001b[0m\u001b[1;33m(\u001b[0m\u001b[1;36m0\u001b[0m\u001b[1;33m)\u001b[0m \u001b[1;33m!=\u001b[0m \u001b[1;34m\"\"\u001b[0m\u001b[1;33m:\u001b[0m\u001b[1;33m\u001b[0m\u001b[1;33m\u001b[0m\u001b[0m\n\u001b[0m\u001b[0;32m     52\u001b[0m                     raise StreamModeError(\n\u001b[0;32m     53\u001b[0m                         \u001b[1;34m\"%s files must be opened in text mode.\"\u001b[0m \u001b[1;33m%\u001b[0m \u001b[0mfmt\u001b[0m\u001b[1;33m\u001b[0m\u001b[1;33m\u001b[0m\u001b[0m\n",
      "\u001b[1;31mValueError\u001b[0m: I/O operation on closed file."
     ]
    }
   ],
   "source": [
    "og = 'OG1299'\n",
    "\n",
    "#Check if directory exists - if not make it\n",
    "\n",
    "input_aln= open(os.path.normpath(base_dir + '/alphafold/msas/FILES_ogs_cds_threaded/'  + og + '.mfna.threaded'), \"rU\")\n",
    "output_aln = open(os.path.normpath(base_dir + '/alphafold/selection_calculations/'  + og + '/' + og +'_aln.paml'),'w')\n",
    "\n",
    "\n",
    "input_alignment = AlignIO.parse(f_in, \"fasta\")\n",
    "AlignIO.write(input_alignment, f_out, 'phylip')\n",
    "\n",
    "output_aln.close()\n",
    "input_aln.close()\n",
    "\n",
    "#with open(input_aln_fname, \"rU\") as f_in: \n",
    "#with open(output_aln_fname, 'w') as f_out: \n"
   ]
  },
  {
   "cell_type": "code",
   "execution_count": 6,
   "metadata": {},
   "outputs": [
    {
     "data": {
      "text/plain": [
       "<generator object parse at 0x000001CA66BACE48>"
      ]
     },
     "execution_count": 6,
     "metadata": {},
     "output_type": "execute_result"
    }
   ],
   "source": [
    "input_aln"
   ]
  },
  {
   "cell_type": "code",
   "execution_count": null,
   "metadata": {},
   "outputs": [],
   "source": [
    "from Bio import AlignIO\n",
    "\n",
    "\n",
    "\n",
    "input_handle = open(\"example.phy\", \"rU\")\n",
    "output_handle = open(\"example.sth\", \"w\")\n",
    "\n",
    "alignments = AlignIO.parse(input_handle, \"phylip\")\n",
    "AlignIO.write(alignments, output_handle, \"stockholm\")\n",
    "\n",
    "output_handle.close()\n",
    "input_handle.close()"
   ]
  }
 ],
 "metadata": {
  "kernelspec": {
   "display_name": "Python 3",
   "language": "python",
   "name": "python3"
  },
  "language_info": {
   "codemirror_mode": {
    "name": "ipython",
    "version": 3
   },
   "file_extension": ".py",
   "mimetype": "text/x-python",
   "name": "python",
   "nbconvert_exporter": "python",
   "pygments_lexer": "ipython3",
   "version": "3.7.9"
  }
 },
 "nbformat": 4,
 "nbformat_minor": 4
}
