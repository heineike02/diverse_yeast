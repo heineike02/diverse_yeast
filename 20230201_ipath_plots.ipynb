{
 "cells": [
  {
   "cell_type": "code",
   "execution_count": 1,
   "metadata": {
    "tags": []
   },
   "outputs": [],
   "source": [
    "%load_ext autoreload\n",
    "%autoreload 2\n",
    "import diverse_yeast_tools as dyt\n",
    "import os\n",
    "import pickle\n",
    "import numpy as np\n",
    "import pandas as pd\n",
    "import json\n",
    "import matplotlib as mpl\n",
    "import matplotlib.pyplot as plt\n",
    "\n",
    "base_dir = os.path.normpath('G:/My Drive/Crick_LMS/projects/diverse_yeasts/alphafold')"
   ]
  },
  {
   "cell_type": "code",
   "execution_count": null,
   "metadata": {},
   "outputs": [],
   "source": [
    "## Ipath image of selected genes "
   ]
  },
  {
   "cell_type": "code",
   "execution_count": 2,
   "metadata": {
    "tags": []
   },
   "outputs": [],
   "source": [
    "#Go from : G:\\My Drive\\Crick_LMS\\projects\\diverse_yeasts\\alphafold\\selected_proteins\\og_metadata.json\n",
    "#Make a dictionary to map to Uniprot Names\n",
    "#Export list, see what is present in Ipath\n",
    "\n",
    "#Load og_metadata (used to be called og_out_data_full)\n",
    "og_fname = base_dir + os.sep + os.path.normpath('selected_proteins/og_metadata.json')\n",
    "with open(og_fname, 'r') as f:\n",
    "    og_metadata = json.load(f) \n",
    "\n",
    "model_gene_id_2_swissprot_id = dyt.load_model_gene_id_2_swissprot_id()\n",
    "model_gene_swissprot_id_2_id = dyt.load_model_swissprot_id_2_gene_id()\n",
    "\n",
    "#Load data for conservation\n",
    "struct_analysis = pickle.load(open(base_dir + os.sep + os.path.normpath('Output/data/Analysis_new_02.pkl'), 'rb'))\n",
    "\n",
    "## This should be a function or a csv\n",
    "params_to_plot = ['Mean(Mapping rate)', 'Mean(Conservation rate AA)', 'Mean(Conservation rate Type)']\n",
    "\n",
    "struct_data_to_plot = {}\n",
    "\n",
    "for jj, (og_ref, struct_data) in enumerate(struct_analysis.items()): \n",
    "    og = og_ref.split('_')[0]\n",
    "    struct_data_og = []\n",
    "    for param in params_to_plot:\n",
    "        struct_data_og.append(struct_data[param])\n",
    "    struct_data_to_plot[jj] = [og, og_ref] + struct_data_og \n",
    "    \n",
    "struct_data_to_plot_df = pd.DataFrame.from_dict(struct_data_to_plot, orient='index', columns = ['og', 'og_ref'] + params_to_plot )\n",
    "\n",
    "#struct_data_to_plot_og_grouped = struct_data_to_plot_df.groupby('og').mean()\n"
   ]
  },
  {
   "cell_type": "code",
   "execution_count": 5,
   "metadata": {
    "tags": []
   },
   "outputs": [
    {
     "data": {
      "text/plain": [
       "'Q00955'"
      ]
     },
     "execution_count": 5,
     "metadata": {},
     "output_type": "execute_result"
    }
   ],
   "source": [
    "model_gene_id_2_swissprot_id['Scer']['YNR016C']"
   ]
  },
  {
   "cell_type": "code",
   "execution_count": 4,
   "metadata": {
    "tags": []
   },
   "outputs": [
    {
     "data": {
      "text/html": [
       "<div>\n",
       "<style scoped>\n",
       "    .dataframe tbody tr th:only-of-type {\n",
       "        vertical-align: middle;\n",
       "    }\n",
       "\n",
       "    .dataframe tbody tr th {\n",
       "        vertical-align: top;\n",
       "    }\n",
       "\n",
       "    .dataframe thead th {\n",
       "        text-align: right;\n",
       "    }\n",
       "</style>\n",
       "<table border=\"1\" class=\"dataframe\">\n",
       "  <thead>\n",
       "    <tr style=\"text-align: right;\">\n",
       "      <th></th>\n",
       "      <th>og</th>\n",
       "      <th>og_ref</th>\n",
       "      <th>Mean(Mapping rate)</th>\n",
       "      <th>Mean(Conservation rate AA)</th>\n",
       "      <th>Mean(Conservation rate Type)</th>\n",
       "    </tr>\n",
       "  </thead>\n",
       "  <tbody>\n",
       "    <tr>\n",
       "      <th>0</th>\n",
       "      <td>OG4352</td>\n",
       "      <td>OG4352_REF_Scer_AF-P00127-F1-model_v2</td>\n",
       "      <td>0.515006</td>\n",
       "      <td>0.488312</td>\n",
       "      <td>0.583829</td>\n",
       "    </tr>\n",
       "    <tr>\n",
       "      <th>1</th>\n",
       "      <td>OG3208</td>\n",
       "      <td>OG3208_REF_Scer_AF-P00128-F1-model_v2</td>\n",
       "      <td>0.983085</td>\n",
       "      <td>0.577829</td>\n",
       "      <td>0.742639</td>\n",
       "    </tr>\n",
       "    <tr>\n",
       "      <th>2</th>\n",
       "      <td>OG1016</td>\n",
       "      <td>OG1016_REF_Scer_AF-P00330-F1-model_v2</td>\n",
       "      <td>0.954863</td>\n",
       "      <td>0.736954</td>\n",
       "      <td>0.817145</td>\n",
       "    </tr>\n",
       "    <tr>\n",
       "      <th>3</th>\n",
       "      <td>OG1016</td>\n",
       "      <td>OG1016_REF_Scer_AF-P00331-F1-model_v2</td>\n",
       "      <td>0.938285</td>\n",
       "      <td>0.737345</td>\n",
       "      <td>0.817970</td>\n",
       "    </tr>\n",
       "    <tr>\n",
       "      <th>4</th>\n",
       "      <td>OG1145</td>\n",
       "      <td>OG1145_REF_Scer_AF-P00358-F1-model_v2</td>\n",
       "      <td>0.994326</td>\n",
       "      <td>0.769694</td>\n",
       "      <td>0.856194</td>\n",
       "    </tr>\n",
       "    <tr>\n",
       "      <th>...</th>\n",
       "      <td>...</td>\n",
       "      <td>...</td>\n",
       "      <td>...</td>\n",
       "      <td>...</td>\n",
       "      <td>...</td>\n",
       "    </tr>\n",
       "    <tr>\n",
       "      <th>526</th>\n",
       "      <td>OG1589</td>\n",
       "      <td>OG1589_REF_Scer_AF-Q12680-F1-model_v2</td>\n",
       "      <td>0.933520</td>\n",
       "      <td>0.653170</td>\n",
       "      <td>0.744908</td>\n",
       "    </tr>\n",
       "    <tr>\n",
       "      <th>527</th>\n",
       "      <td>OG2765</td>\n",
       "      <td>OG2765_REF_Scer_AF-Q3E840-F1-model_v2</td>\n",
       "      <td>0.859512</td>\n",
       "      <td>0.633210</td>\n",
       "      <td>0.791702</td>\n",
       "    </tr>\n",
       "    <tr>\n",
       "      <th>528</th>\n",
       "      <td>OG2562</td>\n",
       "      <td>OG2562_REF_Scer_AF-Q99190-F1-model_v2</td>\n",
       "      <td>0.754167</td>\n",
       "      <td>0.473902</td>\n",
       "      <td>0.637396</td>\n",
       "    </tr>\n",
       "    <tr>\n",
       "      <th>529</th>\n",
       "      <td>OG2061</td>\n",
       "      <td>OG2061_REF_Scer_AF-Q99258-F1-model_v2</td>\n",
       "      <td>0.947771</td>\n",
       "      <td>0.608130</td>\n",
       "      <td>0.726445</td>\n",
       "    </tr>\n",
       "    <tr>\n",
       "      <th>530</th>\n",
       "      <td>OG3531</td>\n",
       "      <td>OG3531_REF_Scer_AF-Q99312-F1-model_v2</td>\n",
       "      <td>0.831378</td>\n",
       "      <td>0.542579</td>\n",
       "      <td>0.668640</td>\n",
       "    </tr>\n",
       "  </tbody>\n",
       "</table>\n",
       "<p>531 rows × 5 columns</p>\n",
       "</div>"
      ],
      "text/plain": [
       "         og                                 og_ref  Mean(Mapping rate)  \\\n",
       "0    OG4352  OG4352_REF_Scer_AF-P00127-F1-model_v2            0.515006   \n",
       "1    OG3208  OG3208_REF_Scer_AF-P00128-F1-model_v2            0.983085   \n",
       "2    OG1016  OG1016_REF_Scer_AF-P00330-F1-model_v2            0.954863   \n",
       "3    OG1016  OG1016_REF_Scer_AF-P00331-F1-model_v2            0.938285   \n",
       "4    OG1145  OG1145_REF_Scer_AF-P00358-F1-model_v2            0.994326   \n",
       "..      ...                                    ...                 ...   \n",
       "526  OG1589  OG1589_REF_Scer_AF-Q12680-F1-model_v2            0.933520   \n",
       "527  OG2765  OG2765_REF_Scer_AF-Q3E840-F1-model_v2            0.859512   \n",
       "528  OG2562  OG2562_REF_Scer_AF-Q99190-F1-model_v2            0.754167   \n",
       "529  OG2061  OG2061_REF_Scer_AF-Q99258-F1-model_v2            0.947771   \n",
       "530  OG3531  OG3531_REF_Scer_AF-Q99312-F1-model_v2            0.831378   \n",
       "\n",
       "     Mean(Conservation rate AA)  Mean(Conservation rate Type)  \n",
       "0                      0.488312                      0.583829  \n",
       "1                      0.577829                      0.742639  \n",
       "2                      0.736954                      0.817145  \n",
       "3                      0.737345                      0.817970  \n",
       "4                      0.769694                      0.856194  \n",
       "..                          ...                           ...  \n",
       "526                    0.653170                      0.744908  \n",
       "527                    0.633210                      0.791702  \n",
       "528                    0.473902                      0.637396  \n",
       "529                    0.608130                      0.726445  \n",
       "530                    0.542579                      0.668640  \n",
       "\n",
       "[531 rows x 5 columns]"
      ]
     },
     "execution_count": 4,
     "metadata": {},
     "output_type": "execute_result"
    }
   ],
   "source": [
    "struct_data_to_plot_df"
   ]
  },
  {
   "cell_type": "code",
   "execution_count": 6,
   "metadata": {
    "tags": []
   },
   "outputs": [
    {
     "name": "stdout",
     "output_type": "stream",
     "text": [
      "534 orfs present in 426 orthogroups\n"
     ]
    }
   ],
   "source": [
    "#Make list of all sc orfs\n",
    "sc_orfs_present_dupes = []\n",
    "\n",
    "orf_to_og = {}\n",
    "kept_og_list = []\n",
    "for og, og_data in og_metadata.items():\n",
    "    if og_data['pass_species_filter']:\n",
    "        kept_og_list.append(og)\n",
    "        for orf in og_data['sc_genes']:\n",
    "            sc_orfs_present_dupes.append(orf)\n",
    "            orf_to_og[orf] = og\n",
    "\n",
    "sc_orfs_present = list(set(sc_orfs_present_dupes))\n",
    "\n",
    "print(str(len(sc_orfs_present)) + ' orfs present in ' + str(len(kept_og_list)) + ' orthogroups')\n",
    "\n",
    "#output file for Ipath\n",
    "ipath_full_prot_list = base_dir + os.sep + os.path.normpath('selected_proteins/ipath/ipath_full_prot_list.txt')\n",
    "\n",
    "with open(ipath_full_prot_list,'w') as f_out: \n",
    "    for orf in sc_orfs_present: \n",
    "        if orf in model_gene_id_2_swissprot_id['Scer'].keys():\n",
    "            f_out.write('UNIPROT:'+model_gene_id_2_swissprot_id['Scer'][orf] + '\\n')\n",
    "        else: \n",
    "            print('No Uniprot ID for ' + orf)\n",
    "    \n",
    "#Load this text file into ipath tools.cgi\n",
    "#Identifier valdidator, with Metabolic Pathways Checked, and Output only valid IDs set to NO\n",
    "#Would be useful to see if the other selections have some of the missing genes\n",
    "#\n",
    "#Biosynthesis of secondary metabolites\n",
    "#Microbial Metabolism in diverse environments\n",
    "#Biosynthesis of antibiotics\n",
    "#\n",
    "#output saved as base_dir + os.sep + os.path.normpath('alphafold/selected_proteins/ipath/iPath_ID_validation_metabolic_20230201.txt')"
   ]
  },
  {
   "cell_type": "code",
   "execution_count": 7,
   "metadata": {
    "tags": []
   },
   "outputs": [],
   "source": [
    "#Use Ipath validation to identify the percentage of iPath3 Genes present in our orthogroups. \n",
    "#ipath3 genes present in all of S. cerevisiae \n",
    "\n",
    "\n",
    "#output file for Ipath\n",
    "ipath_all_sc_uniprot = base_dir + os.sep + os.path.normpath('selected_proteins/ipath/ipath_all_sc_uniprot.txt')\n",
    "\n",
    "with open(ipath_all_sc_uniprot,'w') as f_out: \n",
    "    for uniprot_id in model_gene_swissprot_id_2_id['Scer'].keys(): \n",
    "        if isinstance(uniprot_id, float): \n",
    "            assert np.isnan(uniprot_id)\n",
    "        else: \n",
    "            f_out.write('UNIPROT:'+uniprot_id + '\\n')\n",
    "            \n",
    "#Provide this file to ipath3 identifier validator at https://pathways.embl.de/tools.cgi\n",
    "#check all maps and output valid and invalid ids (check no on 'output only valid IDs')"
   ]
  },
  {
   "cell_type": "code",
   "execution_count": 5,
   "metadata": {
    "tags": []
   },
   "outputs": [
    {
     "name": "stdout",
     "output_type": "stream",
     "text": [
      "717 Uniprot IDs present in ipath3 Metabolic Map\n",
      "450 Uniprot IDs present ipath3 metabolic maps for our orthogroups\n",
      "62.761506%\n"
     ]
    }
   ],
   "source": [
    "#Count total number of valid uniprot IDS from ipath metabolic map\n",
    "ipath_map = 'metabolic'#'all'#'all' #metabolic\n",
    "\n",
    "ipath_validation_all_uniprot = pd.read_table(base_dir + os.sep + os.path.normpath('selected_proteins/ipath/iPath_ID_validation_' + ipath_map +'_uniprot.txt'), header=None)\n",
    "ipath_validation_all_uniprot.rename(columns={0:'ID', 1:'valid'}, inplace=True)\n",
    "\n",
    "valid_ID_list_all_uniprot = ipath_validation_all_uniprot[ipath_validation_all_uniprot['valid']=='VALID']\n",
    "print(str(len(valid_ID_list_all_uniprot)) + ' Uniprot IDs present in ipath3 Metabolic Map')\n",
    "\n",
    "#Count total number of valid Uniprot IDs from our orthogroup data\n",
    "\n",
    "#Count total number of valid uniprot IDS from ipath metabolic map\n",
    "ipath_validation = pd.read_table(base_dir + os.sep + os.path.normpath('selected_proteins/ipath/iPath_ID_validation_' + ipath_map + '.txt'), header=None)\n",
    "ipath_validation.rename(columns={0:'ID', 1:'valid'}, inplace=True)\n",
    "\n",
    "valid_ID_list = ipath_validation[ipath_validation['valid']=='VALID']\n",
    "print(str(len(valid_ID_list)) + ' Uniprot IDs present ipath3 ' + ipath_map + ' maps for our orthogroups')\n",
    "\n",
    "print('{:%}'.format(len(valid_ID_list)/len(valid_ID_list_all_uniprot)))"
   ]
  },
  {
   "cell_type": "code",
   "execution_count": 45,
   "metadata": {
    "tags": []
   },
   "outputs": [
    {
     "name": "stdout",
     "output_type": "stream",
     "text": [
      "There were 38 genes that had a Pathway ID but not a Gene.pathways.name ID\n",
      "There were 0 genes that had a Gene.pathways.name ID but not a Pathway ID\n"
     ]
    }
   ],
   "source": [
    "#There were 38 proteins that were missing from my original pathway database because I used Gene.pathways.name instead of Pathway ID\n",
    "#Import yeastmine annotations summary and identify genes that are missing from this pathway.  \n",
    "\n",
    "sc_annotations = pd.read_csv(base_dir + os.sep + os.path.normpath('selected_proteins/annotation/yeastmine_annotation_summary_20211007.csv'))\n",
    "\n",
    "#how many pathways have a 'Pathway ID' but not a 'Gene.pathways.name'?\n",
    "pathway_id = ~(sc_annotations['Pathway ID'].isna())\n",
    "gene_pathways_name = ~(sc_annotations['Gene.pathways.name']=='[]')\n",
    "\n",
    "print('There were {} genes that had a Pathway ID but not a Gene.pathways.name ID'.format(sum(pathway_id & (~gene_pathways_name))))\n",
    "\n",
    "print('There were {} genes that had a Gene.pathways.name ID but not a Pathway ID'.format(sum(gene_pathways_name & (~pathway_id))))\n",
    "\n",
    "sc_annotations[(pathway_id & (~gene_pathways_name))].to_csv(base_dir + os.sep + os.path.normpath('selected_proteins/annotation/Pathway_ID_but_no_Gene_pathways_name.csv'))\n",
    "\n"
   ]
  },
  {
   "cell_type": "code",
   "execution_count": 63,
   "metadata": {
    "tags": []
   },
   "outputs": [
    {
     "name": "stdout",
     "output_type": "stream",
     "text": [
      "243 genes in Ipath but not in yeast pathways database\n",
      "30 ipath genes could have been missed out because of sgd data error\n"
     ]
    }
   ],
   "source": [
    "#Some that weren't listed at all in the pathways Database but were listed in the Ipath Database\n",
    "\n",
    "#Get Ipath Gene List\n",
    "ipath_all_gene_list = []\n",
    "for uniprot_id in valid_ID_list_all_uniprot['ID']:\n",
    "    uniprot_id_clean = uniprot_id.split(':')[1]\n",
    "    try: \n",
    "        ipath_gene = model_gene_swissprot_id_2_id['Scer'][uniprot_id_clean]\n",
    "    except KeyError: \n",
    "        print('No gene mapped to uniprot id ' + uniprot_id_clean)\n",
    "        ipath_gene = None\n",
    "    ipath_all_gene_list.append(ipath_gene)\n",
    "\n",
    "#Get Ipath Gene List present\n",
    "ipath_gene_list = []\n",
    "for uniprot_id in valid_ID_list['ID']:\n",
    "    uniprot_id_clean = uniprot_id.split(':')[1]\n",
    "    try: \n",
    "        ipath_gene = model_gene_swissprot_id_2_id['Scer'][uniprot_id_clean]\n",
    "    except KeyError: \n",
    "        print('No gene mapped to uniprot id ' + uniprot_id_clean)\n",
    "        ipath_gene = None\n",
    "    ipath_gene_list.append(ipath_gene)\n",
    "\n",
    "#Pathways gene list from SGD yeastmine query also was missing genes\n",
    "#pathway_table = pd.read_table(base_dir + os.sep + os.path.normpath('selected_proteins/pathways/pathways_tab_20231122.tsv'), names=['pathway_name','pathway_id','common_name','genename','enzyme_name'])\n",
    "genes_in_pathways_db = sc_annotations[pathway_id]['Unnamed: 0']\n",
    "\n",
    "print(str(len(set(ipath_all_gene_list) - set(genes_in_pathways_db))) + ' genes in Ipath but not in yeast pathways database')\n",
    "\n"
   ]
  },
  {
   "cell_type": "code",
   "execution_count": 69,
   "metadata": {
    "tags": []
   },
   "outputs": [
    {
     "name": "stdout",
     "output_type": "stream",
     "text": [
      "20 filtered out\n",
      "16 of those filtered were in the Ipath Dataset\n"
     ]
    },
    {
     "data": {
      "text/plain": [
       "{'Q0045',\n",
       " 'Q0105',\n",
       " 'Q0115',\n",
       " 'Q0250',\n",
       " 'Q0275',\n",
       " 'YBR252W',\n",
       " 'YDR147W',\n",
       " 'YDR441C',\n",
       " 'YGL256W',\n",
       " 'YGR180C',\n",
       " 'YHL012W',\n",
       " 'YKL216W',\n",
       " 'YNR057C',\n",
       " 'YNR058W',\n",
       " 'YOL126C',\n",
       " 'YOR221C'}"
      ]
     },
     "execution_count": 69,
     "metadata": {},
     "output_type": "execute_result"
    }
   ],
   "source": [
    "#How many in Ipath were filtered out? \n",
    "\n",
    "#Make list of all sc OGs that were filtered out\n",
    "sc_orfs_filtered_dupes = []\n",
    "\n",
    "orf_to_og = {}\n",
    "filtered_og_list = []\n",
    "for og, og_data in og_metadata.items():\n",
    "    if not(og_data['pass_species_filter']):\n",
    "        filtered_og_list.append(og)\n",
    "        for orf in og_data['sc_genes']:\n",
    "            sc_orfs_filtered_dupes.append(orf)\n",
    "            orf_to_og[orf] = og\n",
    "\n",
    "sc_orfs_filtered = list(set(sc_orfs_filtered_dupes))\n",
    "\n",
    "\n",
    "print(str(len(sc_orfs_filtered)) + \" filtered out\")\n",
    "\n",
    "print(str(len(set(sc_orfs_filtered) & set(ipath_all_gene_list))) + \" of those filtered were in the Ipath Dataset\")\n",
    "\n",
    "set(sc_orfs_filtered) & set(ipath_all_gene_list)"
   ]
  },
  {
   "cell_type": "code",
   "execution_count": 74,
   "metadata": {
    "tags": []
   },
   "outputs": [
    {
     "name": "stdout",
     "output_type": "stream",
     "text": [
      "20 ipath genes not in the pathways database but added on as extra orthologs\n"
     ]
    },
    {
     "data": {
      "text/plain": [
       "{'YBR001C',\n",
       " 'YDL246C',\n",
       " 'YDR009W',\n",
       " 'YDR111C',\n",
       " 'YDR516C',\n",
       " 'YFL058W',\n",
       " 'YGR043C',\n",
       " 'YHR033W',\n",
       " 'YIL111W',\n",
       " 'YJR156C',\n",
       " 'YJR159W',\n",
       " 'YLL058W',\n",
       " 'YLR164W',\n",
       " 'YML082W',\n",
       " 'YMR118C',\n",
       " 'YMR323W',\n",
       " 'YNL332W',\n",
       " 'YOL068C',\n",
       " 'YOR393W',\n",
       " 'YPL281C'}"
      ]
     },
     "execution_count": 74,
     "metadata": {},
     "output_type": "execute_result"
    }
   ],
   "source": [
    "#How many ipath genes are not in the pathways database, but were added on as extra orthologs in the end\n",
    "\n",
    "print(str(len((set(ipath_all_gene_list) - set(genes_in_pathways_db) ) & set(ipath_gene_list))) + ' ipath genes not in the pathways database but added on as extra orthologs')\n",
    "\n",
    "(set(ipath_all_gene_list) - set(genes_in_pathways_db) ) & set(ipath_gene_list)"
   ]
  },
  {
   "cell_type": "code",
   "execution_count": 79,
   "metadata": {
    "tags": []
   },
   "outputs": [
    {
     "name": "stdout",
     "output_type": "stream",
     "text": [
      "30 ipath genes could have been missed out because of sgd data error\n",
      "29 genes actually missed out because of sgd data error\n"
     ]
    }
   ],
   "source": [
    "#How many ipath genes are in the pathways database, but we lost them because of the data error\n",
    "\n",
    "print(str(len(set(ipath_all_gene_list) & set(sc_annotations[(pathway_id & (~gene_pathways_name))]['Unnamed: 0']))) + ' ipath genes could have been missed out because of sgd data error')\n",
    "\n",
    "print(str(len((set(ipath_all_gene_list)-set(ipath_gene_list)) & set(sc_annotations[(pathway_id & (~gene_pathways_name))]['Unnamed: 0']))) + ' genes actually missed out because of sgd data error')\n",
    "\n",
    "#That leaves \n",
    "#717 total Ipath Genes\n",
    "#- 243 ipath genes not in pathway \n",
    "#+ 20 ipath genes added back because of paralogs that got included in the set of genes \n",
    "#- 16 genes (of the 20 orthogroups filtered out which didn't have enough species)\n",
    "#- 29 genes which weren't included in the initial dataset because of the SGD database error\n",
    "#= 449 \n",
    "#\n",
    "#This should be 450 - I wonder which one is missing??"
   ]
  },
  {
   "cell_type": "code",
   "execution_count": 40,
   "metadata": {
    "tags": []
   },
   "outputs": [
    {
     "name": "stdout",
     "output_type": "stream",
     "text": [
      "0\n",
      "0\n"
     ]
    }
   ],
   "source": [
    "#Is the old list the same as the new list: \n",
    "print(len(set(pathway_table['genename']) - set(sc_annotations[gene_pathways_name]['Unnamed: 0'])))\n",
    "print(len(set(sc_annotations[gene_pathways_name]['Unnamed: 0']) - set(pathway_table['genename'])))\n",
    "#Yes - it is an empty set both directions"
   ]
  },
  {
   "cell_type": "code",
   "execution_count": null,
   "metadata": {},
   "outputs": [],
   "source": [
    "### ipath validation needs to be run on revised input. "
   ]
  },
  {
   "cell_type": "code",
   "execution_count": 4,
   "metadata": {},
   "outputs": [
    {
     "name": "stdout",
     "output_type": "stream",
     "text": [
      "450 Uniprot IDs present in ipath3 Metabolic Map\n"
     ]
    }
   ],
   "source": [
    "#for metmap_type in ['metabolic','biosynth','diverseenvironments', 'antibiotics']:\n",
    "\n",
    "ipath_validation = pd.read_table(base_dir + os.sep + os.path.normpath('selected_proteins/ipath/iPath_ID_validation_' + 'metabolic' + '_20230202.txt'), header=None)\n",
    "ipath_validation.rename(columns={0:'ID', 1:'valid'}, inplace=True)\n",
    "\n",
    "valid_ID_list = ipath_validation[ipath_validation['valid']=='VALID']\n",
    "print(str(len(valid_ID_list)) + ' Uniprot IDs present in ipath3 Metabolic Map')"
   ]
  },
  {
   "cell_type": "code",
   "execution_count": 7,
   "metadata": {},
   "outputs": [],
   "source": [
    "ipath_map_all = base_dir + os.sep + os.path.normpath('selected_proteins/ipath/ipath_input_present.txt')\n",
    "color = '#8112BD'\n",
    "width = 'W15'\n",
    "with open(ipath_map_all,'w') as f_out: \n",
    "    for ind, (uniprot_id, valid) in valid_ID_list.iterrows():\n",
    "        f_out.write(uniprot_id + ' ' + color + ' ' + width + '\\n' )"
   ]
  },
  {
   "cell_type": "code",
   "execution_count": 28,
   "metadata": {},
   "outputs": [
    {
     "name": "stdout",
     "output_type": "stream",
     "text": [
      "OG1710 from YMR207C not present with conservation data\n",
      "OG1710 from YNR016C not present with conservation data\n"
     ]
    }
   ],
   "source": [
    "ipath_map_all = base_dir + os.sep + os.path.normpath('selected_proteins/ipath/ipath_input_cons.txt')\n",
    "#color = '#8112BD'\n",
    "\n",
    "#Width\n",
    "n_width_bins = 10\n",
    "baseline_width = 4\n",
    "bins = np.linspace(min_cons, max_cons, num=n_width_bins)\n",
    "struct_data_to_plot_og_grouped['width_bins'] = np.digitize(struct_data_to_plot_og_grouped['Mean(Conservation rate AA)'], bins=bins)\n",
    "\n",
    "#Color\n",
    "\n",
    "#Bracket color by min and max of valid ID list\n",
    "cons_rate_vals = []\n",
    "for ind, (uniprot_id, valid) in valid_ID_list.iterrows():\n",
    "    orf = model_gene_swissprot_id_2_id['Scer'][uniprot_id.split(':')[1]]\n",
    "    og = orf_to_og[orf]\n",
    "    if og in struct_data_to_plot_og_grouped.index:\n",
    "        cons_rate_vals.append(struct_data_to_plot_og_grouped.loc[og, 'Mean(Conservation rate AA)'])\n",
    "\n",
    "min_cons = min(cons_rate_vals)\n",
    "max_cons = max(cons_rate_vals)       \n",
    "norm = mpl.colors.Normalize(vmin=min_cons, vmax=max_cons)\n",
    "cmap = mpl.cm.viridis_r\n",
    "cmap_function = mpl.cm.ScalarMappable(norm=norm, cmap=cmap)\n",
    "\n",
    "colorvals_norm = []\n",
    "\n",
    "with open(ipath_map_all,'w') as f_out: \n",
    "    for ind, (uniprot_id, valid) in valid_ID_list.iterrows():\n",
    "        orf = model_gene_swissprot_id_2_id['Scer'][uniprot_id.split(':')[1]]\n",
    "        og = orf_to_og[orf]\n",
    "        if og in struct_data_to_plot_og_grouped.index:\n",
    "            width = struct_data_to_plot_og_grouped.loc[og, 'width_bins'] + baseline_width\n",
    "            color = mpl.colors.to_hex(cmap_function.to_rgba(struct_data_to_plot_og_grouped.loc[og, 'Mean(Conservation rate AA)']))\n",
    "            f_out.write(uniprot_id + ' ' + color + ' W' + str(width) + '\\n' )\n",
    "        else: \n",
    "            print(og+ ' from ' + orf + ' not present with conservation data')"
   ]
  },
  {
   "cell_type": "code",
   "execution_count": 30,
   "metadata": {},
   "outputs": [
    {
     "data": {
      "image/png": "[encoded data removed]",
      "text/plain": [
       "<Figure size 600x100 with 1 Axes>"
      ]
     },
     "metadata": {},
     "output_type": "display_data"
    }
   ],
   "source": [
    "fig, ax = plt.subplots(figsize=(6, 1))\n",
    "fig.subplots_adjust(bottom=0.5)\n",
    "\n",
    "\n",
    "fig.colorbar(mpl.cm.ScalarMappable(norm=norm, cmap=cmap),\n",
    "             cax=ax, orientation='horizontal', label='Conservation Score')\n",
    "\n",
    "fig.savefig(base_dir + os.sep + os.path.normpath('selected_proteins/ipath/ipath_input_cons_colorbar.svg'))"
   ]
  }
 ],
 "metadata": {
  "kernelspec": {
   "display_name": "Python 3 (ipykernel)",
   "language": "python",
   "name": "python3"
  },
  "language_info": {
   "codemirror_mode": {
    "name": "ipython",
    "version": 3
   },
   "file_extension": ".py",
   "mimetype": "text/x-python",
   "name": "python",
   "nbconvert_exporter": "python",
   "pygments_lexer": "ipython3",
   "version": "3.11.5"
  }
 },
 "nbformat": 4,
 "nbformat_minor": 4
}
