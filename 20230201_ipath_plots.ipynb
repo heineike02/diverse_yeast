{
 "cells": [
  {
   "cell_type": "code",
   "execution_count": null,
   "metadata": {
    "tags": []
   },
   "outputs": [
    {
     "name": "stdout",
     "output_type": "stream",
     "text": [
      "The autoreload extension is already loaded. To reload it, use:\n",
      "  %reload_ext autoreload\n"
     ]
    }
   ],
   "source": [
    "%load_ext autoreload\n",
    "%autoreload 2\n",
    "import diverse_yeast_tools as dyt\n",
    "import os\n",
    "import pickle\n",
    "import numpy as np\n",
    "import pandas as pd\n",
    "import json\n",
    "import matplotlib as mpl\n",
    "import matplotlib.pyplot as plt\n",
    "plt.rcParams['svg.fonttype'] = 'none'\n",
    "base_dir = dyt.base_dir"
   ]
  },
  {
   "cell_type": "code",
   "execution_count": null,
   "metadata": {},
   "outputs": [],
   "source": [
    "## Ipath image of selected genes "
   ]
  },
  {
   "cell_type": "code",
   "execution_count": 53,
   "metadata": {
    "tags": []
   },
   "outputs": [],
   "source": [
    "#Go from : G:\\My Drive\\Crick_LMS\\projects\\diverse_yeasts\\alphafold\\selected_proteins\\og_metadata.json\n",
    "#Make a dictionary to map to Uniprot Names\n",
    "#Export list, see what is present in Ipath\n",
    "\n",
    "#Load og_metadata (used to be called og_out_data_full)\n",
    "og_fname = base_dir + os.sep + os.path.normpath('selected_proteins/og_metadata.json')\n",
    "with open(og_fname, 'r') as f:\n",
    "    og_metadata = json.load(f) \n",
    "\n",
    "model_gene_id_2_swissprot_id = dyt.load_model_gene_id_2_swissprot_id()\n",
    "model_gene_swissprot_id_2_id = dyt.load_model_swissprot_id_2_gene_id()\n",
    "\n",
    "#Load data for conservation\n",
    "struct_analysis = pickle.load(open(base_dir + os.sep + os.path.normpath('Output/data/Analysis_new_02.pkl'), 'rb'))\n",
    "\n",
    "## This should be a function or a csv\n",
    "params_to_plot = ['Mean(Mapping rate)', 'Mean(Conservation rate AA)', 'Mean(Conservation rate Type)']\n",
    "\n",
    "struct_data_to_plot = {}\n",
    "\n",
    "for jj, (og_ref, struct_data) in enumerate(struct_analysis.items()): \n",
    "    og = og_ref.split('_')[0]\n",
    "    struct_data_og = []\n",
    "    for param in params_to_plot:\n",
    "        struct_data_og.append(struct_data[param])\n",
    "    struct_data_to_plot[jj] = [og, og_ref] + struct_data_og \n",
    "    \n",
    "struct_data_to_plot_df = pd.DataFrame.from_dict(struct_data_to_plot, orient='index', columns = ['og', 'og_ref'] + params_to_plot )\n",
    "\n",
    "#struct_data_to_plot_og_grouped = struct_data_to_plot_df.groupby('og')\n",
    "\n"
   ]
  },
  {
   "cell_type": "code",
   "execution_count": 53,
   "metadata": {
    "tags": []
   },
   "outputs": [
    {
     "data": {
      "text/html": [
       "<div>\n",
       "<style scoped>\n",
       "    .dataframe tbody tr th:only-of-type {\n",
       "        vertical-align: middle;\n",
       "    }\n",
       "\n",
       "    .dataframe tbody tr th {\n",
       "        vertical-align: top;\n",
       "    }\n",
       "\n",
       "    .dataframe thead th {\n",
       "        text-align: right;\n",
       "    }\n",
       "</style>\n",
       "<table border=\"1\" class=\"dataframe\">\n",
       "  <thead>\n",
       "    <tr style=\"text-align: right;\">\n",
       "      <th></th>\n",
       "      <th>og</th>\n",
       "      <th>og_ref</th>\n",
       "      <th>Mean(Mapping rate)</th>\n",
       "      <th>Mean(Conservation rate AA)</th>\n",
       "      <th>Mean(Conservation rate Type)</th>\n",
       "    </tr>\n",
       "  </thead>\n",
       "  <tbody>\n",
       "    <tr>\n",
       "      <th>0</th>\n",
       "      <td>OG4352</td>\n",
       "      <td>OG4352_REF_Scer_AF-P00127-F1-model_v2</td>\n",
       "      <td>0.515006</td>\n",
       "      <td>0.488312</td>\n",
       "      <td>0.583829</td>\n",
       "    </tr>\n",
       "    <tr>\n",
       "      <th>1</th>\n",
       "      <td>OG3208</td>\n",
       "      <td>OG3208_REF_Scer_AF-P00128-F1-model_v2</td>\n",
       "      <td>0.983085</td>\n",
       "      <td>0.577829</td>\n",
       "      <td>0.742639</td>\n",
       "    </tr>\n",
       "    <tr>\n",
       "      <th>2</th>\n",
       "      <td>OG1016</td>\n",
       "      <td>OG1016_REF_Scer_AF-P00330-F1-model_v2</td>\n",
       "      <td>0.954863</td>\n",
       "      <td>0.736954</td>\n",
       "      <td>0.817145</td>\n",
       "    </tr>\n",
       "    <tr>\n",
       "      <th>3</th>\n",
       "      <td>OG1016</td>\n",
       "      <td>OG1016_REF_Scer_AF-P00331-F1-model_v2</td>\n",
       "      <td>0.938285</td>\n",
       "      <td>0.737345</td>\n",
       "      <td>0.817970</td>\n",
       "    </tr>\n",
       "    <tr>\n",
       "      <th>4</th>\n",
       "      <td>OG1145</td>\n",
       "      <td>OG1145_REF_Scer_AF-P00358-F1-model_v2</td>\n",
       "      <td>0.994326</td>\n",
       "      <td>0.769694</td>\n",
       "      <td>0.856194</td>\n",
       "    </tr>\n",
       "    <tr>\n",
       "      <th>...</th>\n",
       "      <td>...</td>\n",
       "      <td>...</td>\n",
       "      <td>...</td>\n",
       "      <td>...</td>\n",
       "      <td>...</td>\n",
       "    </tr>\n",
       "    <tr>\n",
       "      <th>526</th>\n",
       "      <td>OG1589</td>\n",
       "      <td>OG1589_REF_Scer_AF-Q12680-F1-model_v2</td>\n",
       "      <td>0.933520</td>\n",
       "      <td>0.653170</td>\n",
       "      <td>0.744908</td>\n",
       "    </tr>\n",
       "    <tr>\n",
       "      <th>527</th>\n",
       "      <td>OG2765</td>\n",
       "      <td>OG2765_REF_Scer_AF-Q3E840-F1-model_v2</td>\n",
       "      <td>0.859512</td>\n",
       "      <td>0.633210</td>\n",
       "      <td>0.791702</td>\n",
       "    </tr>\n",
       "    <tr>\n",
       "      <th>528</th>\n",
       "      <td>OG2562</td>\n",
       "      <td>OG2562_REF_Scer_AF-Q99190-F1-model_v2</td>\n",
       "      <td>0.754167</td>\n",
       "      <td>0.473902</td>\n",
       "      <td>0.637396</td>\n",
       "    </tr>\n",
       "    <tr>\n",
       "      <th>529</th>\n",
       "      <td>OG2061</td>\n",
       "      <td>OG2061_REF_Scer_AF-Q99258-F1-model_v2</td>\n",
       "      <td>0.947771</td>\n",
       "      <td>0.608130</td>\n",
       "      <td>0.726445</td>\n",
       "    </tr>\n",
       "    <tr>\n",
       "      <th>530</th>\n",
       "      <td>OG3531</td>\n",
       "      <td>OG3531_REF_Scer_AF-Q99312-F1-model_v2</td>\n",
       "      <td>0.831378</td>\n",
       "      <td>0.542579</td>\n",
       "      <td>0.668640</td>\n",
       "    </tr>\n",
       "  </tbody>\n",
       "</table>\n",
       "<p>531 rows × 5 columns</p>\n",
       "</div>"
      ],
      "text/plain": [
       "         og                                 og_ref  Mean(Mapping rate)  \\\n",
       "0    OG4352  OG4352_REF_Scer_AF-P00127-F1-model_v2            0.515006   \n",
       "1    OG3208  OG3208_REF_Scer_AF-P00128-F1-model_v2            0.983085   \n",
       "2    OG1016  OG1016_REF_Scer_AF-P00330-F1-model_v2            0.954863   \n",
       "3    OG1016  OG1016_REF_Scer_AF-P00331-F1-model_v2            0.938285   \n",
       "4    OG1145  OG1145_REF_Scer_AF-P00358-F1-model_v2            0.994326   \n",
       "..      ...                                    ...                 ...   \n",
       "526  OG1589  OG1589_REF_Scer_AF-Q12680-F1-model_v2            0.933520   \n",
       "527  OG2765  OG2765_REF_Scer_AF-Q3E840-F1-model_v2            0.859512   \n",
       "528  OG2562  OG2562_REF_Scer_AF-Q99190-F1-model_v2            0.754167   \n",
       "529  OG2061  OG2061_REF_Scer_AF-Q99258-F1-model_v2            0.947771   \n",
       "530  OG3531  OG3531_REF_Scer_AF-Q99312-F1-model_v2            0.831378   \n",
       "\n",
       "     Mean(Conservation rate AA)  Mean(Conservation rate Type)  \n",
       "0                      0.488312                      0.583829  \n",
       "1                      0.577829                      0.742639  \n",
       "2                      0.736954                      0.817145  \n",
       "3                      0.737345                      0.817970  \n",
       "4                      0.769694                      0.856194  \n",
       "..                          ...                           ...  \n",
       "526                    0.653170                      0.744908  \n",
       "527                    0.633210                      0.791702  \n",
       "528                    0.473902                      0.637396  \n",
       "529                    0.608130                      0.726445  \n",
       "530                    0.542579                      0.668640  \n",
       "\n",
       "[531 rows x 5 columns]"
      ]
     },
     "execution_count": 53,
     "metadata": {},
     "output_type": "execute_result"
    }
   ],
   "source": [
    "struct_data_to_plot_df"
   ]
  },
  {
   "cell_type": "code",
   "execution_count": 6,
   "metadata": {
    "tags": []
   },
   "outputs": [
    {
     "data": {
      "text/plain": [
       "424"
      ]
     },
     "execution_count": 6,
     "metadata": {},
     "output_type": "execute_result"
    }
   ],
   "source": [
    "len(set(struct_data_to_plot_df['og']))"
   ]
  },
  {
   "cell_type": "code",
   "execution_count": 6,
   "metadata": {
    "tags": []
   },
   "outputs": [
    {
     "name": "stdout",
     "output_type": "stream",
     "text": [
      "534 orfs present in 426 orthogroups\n"
     ]
    }
   ],
   "source": [
    "# #Make list of all sc orfs\n",
    "# sc_orfs_present_dupes = []\n",
    "\n",
    "# orf_to_og = {}\n",
    "# kept_og_list = []\n",
    "# for og, og_data in og_metadata.items():\n",
    "#     if og_data['pass_species_filter']:\n",
    "#         kept_og_list.append(og)\n",
    "#         for orf in og_data['sc_genes']:\n",
    "#             sc_orfs_present_dupes.append(orf)\n",
    "#             orf_to_og[orf] = og\n",
    "\n",
    "# sc_orfs_present = list(set(sc_orfs_present_dupes))\n",
    "\n",
    "# print(str(len(sc_orfs_present)) + ' orfs present in ' + str(len(kept_og_list)) + ' orthogroups')\n",
    "\n",
    "# #output file for Ipath\n",
    "# ipath_full_prot_list = base_dir + os.sep + os.path.normpath('selected_proteins/ipath/ipath_full_prot_list.txt')\n",
    "\n",
    "# with open(ipath_full_prot_list,'w') as f_out: \n",
    "#     for orf in sc_orfs_present: \n",
    "#         if orf in model_gene_id_2_swissprot_id['Scer'].keys():\n",
    "#             f_out.write('UNIPROT:'+model_gene_id_2_swissprot_id['Scer'][orf] + '\\n')\n",
    "#         else: \n",
    "#             print('No Uniprot ID for ' + orf)\n",
    "    \n",
    "#Load this text file into ipath tools.cgi\n",
    "#Identifier valdidator, with Metabolic Pathways Checked, and Output only valid IDs set to NO\n",
    "#Would be useful to see if the other selections have some of the missing genes\n",
    "#\n",
    "#Biosynthesis of secondary metabolites\n",
    "#Microbial Metabolism in diverse environments\n",
    "#Biosynthesis of antibiotics\n",
    "#\n",
    "#output saved as base_dir + os.sep + os.path.normpath('alphafold/selected_proteins/ipath/iPath_ID_validation_metabolic_20230201.txt')\n",
    "\n",
    "#534 orfs present in 426 orthogroups"
   ]
  },
  {
   "cell_type": "code",
   "execution_count": 55,
   "metadata": {
    "tags": []
   },
   "outputs": [
    {
     "name": "stdout",
     "output_type": "stream",
     "text": [
      "529 proteins present in 429 orthogroups\n"
     ]
    }
   ],
   "source": [
    "#'G:\\\\My Drive\\\\Crick_LMS\\\\projects\\\\diverse_yeasts\\\\alphafold\\\\msas\\\\structural\\tm_align\\\\clustering\\\\cluster_sequence_list_initial.json'\n",
    "#G:\\My Drive\\Crick_LMS\\projects\\diverse_yeasts\\alphafold\\msas\\structural\\tm_align\\clustering\n",
    "\n",
    "cluster_seqs_fname = base_dir + os.sep + os.path.normpath('msas/structural/tm_align/clustering/cluster_sequence_list_initial.json')\n",
    "with open(cluster_seqs_fname, 'r') as f:\n",
    "    cluster_seqs = json.load(f) \n",
    "\n",
    "og_list = []\n",
    "sc_genes = []\n",
    "\n",
    "#Make list of all sc_genes, and count ogs\n",
    "\n",
    "#output file for Ipath\n",
    "ipath_full_prot_list = base_dir + os.sep + os.path.normpath('selected_proteins/ipath/ipath_full_prot_list.txt')\n",
    "\n",
    "with open(ipath_full_prot_list,'w') as f_out: \n",
    "    for og_clust, seq_list in cluster_seqs.items(): \n",
    "        for seq in seq_list: \n",
    "            spec, prot_id = dyt.species_from_fasta_id(seq)\n",
    "            if spec == 'saccharomyces_cerevisiae': \n",
    "                og_list.append(og_clust)\n",
    "                sc_genes.append(prot_id)\n",
    "                f_out.write('UNIPROT:'+prot_id + '\\n')\n",
    "\n",
    "                \n",
    "uniprot_to_og_clust = dict(zip(sc_genes,og_list))\n",
    "og_list = list(set(og_list))\n",
    "\n",
    "print(\"{} proteins present in {} orthogroups\".format(len(sc_genes), len(og_list)))\n",
    "\n",
    "#Load this text file into https://pathways.embl.de/tools.cgi\n",
    "#Identifier valdidator, with Metabolic Pathways Checked, and Output only valid IDs set to NO\n",
    "\n",
    "#Save as iPath_ID_validation_metabolic.txt'"
   ]
  },
  {
   "cell_type": "code",
   "execution_count": 56,
   "metadata": {
    "tags": []
   },
   "outputs": [
    {
     "name": "stdout",
     "output_type": "stream",
     "text": [
      "no og_ref for OG1060_C2 which contains P50873\n",
      "no og_ref for OG1603_C2 which contains P25632\n",
      "no og_ref for OG1714_C1 which contains P07702\n",
      "no conservation value for OG2290_torulaspora_delbrueckii__OG2290__135_3975 which comes from cluster OG2290_C2\n",
      "used conservation value from Olivers cluster set that was unfiltered for short sequences for OG2290_C2 using og_ref OG2290_REF_Scer_AF-P15700-F1-model_v2 instead of OG2290_torulaspora_delbrueckii__OG2290__135_3975\n"
     ]
    }
   ],
   "source": [
    "#Make Map from uniprot id to Mean(Conservation rate AA)\n",
    "\n",
    "#Dictionary mapping cluster ID to og_ref name:\n",
    "cluster_mapping = pd.read_csv(base_dir + os.sep + os.path.normpath('msas/structural/tm_align/clustering/cluster_mapping.csv'))\n",
    "cluster_mapping_refs = cluster_mapping[cluster_mapping['cluster_rep']==1]\n",
    "og_ref_lookup_by_og_clust = dict(zip(cluster_mapping_refs['og_clust'],cluster_mapping_refs['primary_id']))\n",
    "cons_lookup_by_og_ref = dict(zip(struct_data_to_plot_df['og_ref'],struct_data_to_plot_df['Mean(Conservation rate AA)']))\n",
    "\n",
    "struct_data_to_plot_df\n",
    "    \n",
    "uniprot_to_cons = {}\n",
    "\n",
    "og_ref_no_cons = []\n",
    "og_clust_no_og_ref = []\n",
    "\n",
    "substitute_sc_ogs = {'OG2290_C2': 'OG2290_REF_Scer_AF-P15700-F1-model_v2'}\n",
    "\n",
    "    \n",
    "for uniprot, og_clust in uniprot_to_og_clust.items(): \n",
    "    \n",
    "    if og_clust in og_ref_lookup_by_og_clust.keys(): \n",
    "        \n",
    "        og_ref = og_ref_lookup_by_og_clust[og_clust]\n",
    "\n",
    "        if og_ref in cons_lookup_by_og_ref.keys():\n",
    "            cons = cons_lookup_by_og_ref[og_ref]\n",
    "            uniprot_to_cons[uniprot] = cons \n",
    "        else:\n",
    "            print('no conservation value for ' + og_ref + ' which comes from cluster ' + og_clust)\n",
    "            og_ref_no_cons.append(og_ref)\n",
    "            \n",
    "            if og_clust in substitute_sc_ogs:\n",
    "                cons = cons_lookup_by_og_ref[substitute_sc_ogs[og_clust]]\n",
    "                print('used conservation value from Olivers cluster set that was unfiltered for short sequences for ' + og_clust + ' using og_ref ' + substitute_sc_ogs[og_clust] + ' instead of ' + og_ref )\n",
    "            \n",
    "    else: \n",
    "        print('no og_ref for ' + og_clust + ' which contains ' + uniprot)\n",
    "        og_clust_no_og_ref.append(og_clust)\n"
   ]
  },
  {
   "cell_type": "code",
   "execution_count": 19,
   "metadata": {
    "tags": []
   },
   "outputs": [],
   "source": [
    "#Use Ipath validation to identify the percentage of iPath3 Genes present in our orthogroups. \n",
    "#ipath3 genes present in all of S. cerevisiae \n",
    "\n",
    "\n",
    "#output file for Ipath\n",
    "ipath_all_sc_uniprot = base_dir + os.sep + os.path.normpath('selected_proteins/ipath/ipath_all_sc_uniprot.txt')\n",
    "\n",
    "with open(ipath_all_sc_uniprot,'w') as f_out: \n",
    "    for uniprot_id in model_gene_swissprot_id_2_id['Scer'].keys(): \n",
    "        if isinstance(uniprot_id, float): \n",
    "            assert np.isnan(uniprot_id)\n",
    "        else: \n",
    "            f_out.write('UNIPROT:'+uniprot_id + '\\n')\n",
    "            \n",
    "#Provide this file to ipath3 identifier validator at https://pathways.embl.de/tools.cgi\n",
    "#check all maps and output valid and invalid ids (check no on 'output only valid IDs')\n",
    "\n",
    "##Save as iPath_ID_validation_metabolic_uniprot.txt'"
   ]
  },
  {
   "cell_type": "code",
   "execution_count": 21,
   "metadata": {
    "tags": []
   },
   "outputs": [
    {
     "name": "stdout",
     "output_type": "stream",
     "text": [
      "717 Uniprot IDs present in ipath3 Metabolic Map\n",
      "448 Uniprot IDs present ipath3 metabolic maps for our orthogroups\n",
      "62.482566%\n"
     ]
    }
   ],
   "source": [
    "#Count total number of valid uniprot IDS from ipath metabolic map\n",
    "ipath_map = 'metabolic'#'all'#'all' #metabolic\n",
    "\n",
    "ipath_validation_all_uniprot = pd.read_table(base_dir + os.sep + os.path.normpath('selected_proteins/ipath/iPath_ID_validation_' + ipath_map +'_uniprot.txt'), header=None)\n",
    "ipath_validation_all_uniprot.rename(columns={0:'ID', 1:'valid'}, inplace=True)\n",
    "\n",
    "valid_ID_list_all_uniprot = ipath_validation_all_uniprot[ipath_validation_all_uniprot['valid']=='VALID']\n",
    "print(str(len(valid_ID_list_all_uniprot)) + ' Uniprot IDs present in ipath3 Metabolic Map')\n",
    "\n",
    "#Count total number of valid Uniprot IDs from our orthogroup data\n",
    "\n",
    "#Count total number of valid uniprot IDS from ipath metabolic map\n",
    "ipath_validation = pd.read_table(base_dir + os.sep + os.path.normpath('selected_proteins/ipath/iPath_ID_validation_' + ipath_map + '.txt'), header=None)\n",
    "ipath_validation.rename(columns={0:'ID', 1:'valid'}, inplace=True)\n",
    "\n",
    "valid_ID_list = ipath_validation[ipath_validation['valid']=='VALID']\n",
    "print(str(len(valid_ID_list)) + ' Uniprot IDs present ipath3 ' + ipath_map + ' maps for our orthogroups')\n",
    "\n",
    "print('{:%}'.format(len(valid_ID_list)/len(valid_ID_list_all_uniprot)))\n",
    "\n",
    "# 717 Uniprot IDs present in ipath3 Metabolic Map\n",
    "# 450 Uniprot IDs present ipath3 metabolic maps for our orthogroups\n",
    "# 62.761506%"
   ]
  },
  {
   "cell_type": "code",
   "execution_count": 27,
   "metadata": {
    "tags": []
   },
   "outputs": [
    {
     "name": "stdout",
     "output_type": "stream",
     "text": [
      "There were 38 genes that had a Pathway ID but not a Gene.pathways.name ID\n",
      "There were 0 genes that had a Gene.pathways.name ID but not a Pathway ID\n"
     ]
    }
   ],
   "source": [
    "#There were 38 proteins that were missing from my original pathway database because I used Gene.pathways.name instead of Pathway ID\n",
    "#Import yeastmine annotations summary and identify genes that are missing from this pathway.  \n",
    "\n",
    "sc_annotations = pd.read_csv(base_dir + os.sep + os.path.normpath('selected_proteins/annotation/yeastmine_annotation_summary_20211007.csv'))\n",
    "\n",
    "#how many pathways have a 'Pathway ID' but not a 'Gene.pathways.name'?\n",
    "pathway_id = ~(sc_annotations['Pathway ID'].isna())\n",
    "gene_pathways_name = ~(sc_annotations['Gene.pathways.name']=='[]')\n",
    "\n",
    "print('There were {} genes that had a Pathway ID but not a Gene.pathways.name ID'.format(sum(pathway_id & (~gene_pathways_name))))\n",
    "\n",
    "print('There were {} genes that had a Gene.pathways.name ID but not a Pathway ID'.format(sum(gene_pathways_name & (~pathway_id))))\n",
    "\n",
    "sc_annotations[(pathway_id & (~gene_pathways_name))].to_csv(base_dir + os.sep + os.path.normpath('selected_proteins/annotation/Pathway_ID_but_no_Gene_pathways_name.csv'))\n",
    "\n"
   ]
  },
  {
   "cell_type": "code",
   "execution_count": 28,
   "metadata": {
    "tags": []
   },
   "outputs": [
    {
     "name": "stdout",
     "output_type": "stream",
     "text": [
      "243 genes in Ipath but not in yeast pathways database\n"
     ]
    }
   ],
   "source": [
    "#Some that weren't listed at all in the pathways Database but were listed in the Ipath Database\n",
    "\n",
    "#Get Ipath Gene List\n",
    "ipath_all_gene_list = []\n",
    "for uniprot_id in valid_ID_list_all_uniprot['ID']:\n",
    "    uniprot_id_clean = uniprot_id.split(':')[1]\n",
    "    try: \n",
    "        ipath_gene = model_gene_swissprot_id_2_id['Scer'][uniprot_id_clean]\n",
    "    except KeyError: \n",
    "        print('No gene mapped to uniprot id ' + uniprot_id_clean)\n",
    "        ipath_gene = None\n",
    "    ipath_all_gene_list.append(ipath_gene)\n",
    "\n",
    "#Get Ipath Gene List present\n",
    "ipath_gene_list = []\n",
    "for uniprot_id in valid_ID_list['ID']:\n",
    "    uniprot_id_clean = uniprot_id.split(':')[1]\n",
    "    try: \n",
    "        ipath_gene = model_gene_swissprot_id_2_id['Scer'][uniprot_id_clean]\n",
    "    except KeyError: \n",
    "        print('No gene mapped to uniprot id ' + uniprot_id_clean)\n",
    "        ipath_gene = None\n",
    "    ipath_gene_list.append(ipath_gene)\n",
    "\n",
    "#Pathways gene list from SGD yeastmine query also was missing genes\n",
    "#pathway_table = pd.read_table(base_dir + os.sep + os.path.normpath('selected_proteins/pathways/pathways_tab_20231122.tsv'), names=['pathway_name','pathway_id','common_name','genename','enzyme_name'])\n",
    "genes_in_pathways_db = sc_annotations[pathway_id]['Unnamed: 0']\n",
    "\n",
    "print(str(len(set(ipath_all_gene_list) - set(genes_in_pathways_db))) + ' genes in Ipath but not in yeast pathways database')\n",
    "\n"
   ]
  },
  {
   "cell_type": "code",
   "execution_count": 29,
   "metadata": {
    "tags": []
   },
   "outputs": [
    {
     "name": "stdout",
     "output_type": "stream",
     "text": [
      "20 filtered out\n",
      "16 of those filtered were in the Ipath Dataset\n"
     ]
    },
    {
     "data": {
      "text/plain": [
       "{'Q0045',\n",
       " 'Q0105',\n",
       " 'Q0115',\n",
       " 'Q0250',\n",
       " 'Q0275',\n",
       " 'YBR252W',\n",
       " 'YDR147W',\n",
       " 'YDR441C',\n",
       " 'YGL256W',\n",
       " 'YGR180C',\n",
       " 'YHL012W',\n",
       " 'YKL216W',\n",
       " 'YNR057C',\n",
       " 'YNR058W',\n",
       " 'YOL126C',\n",
       " 'YOR221C'}"
      ]
     },
     "execution_count": 29,
     "metadata": {},
     "output_type": "execute_result"
    }
   ],
   "source": [
    "#How many in Ipath were filtered out? \n",
    "\n",
    "#Make list of all sc OGs that were filtered out\n",
    "sc_orfs_filtered_dupes = []\n",
    "\n",
    "orf_to_og = {}\n",
    "filtered_og_list = []\n",
    "for og, og_data in og_metadata.items():\n",
    "    if not(og_data['pass_species_filter']):\n",
    "        filtered_og_list.append(og)\n",
    "        for orf in og_data['sc_genes']:\n",
    "            sc_orfs_filtered_dupes.append(orf)\n",
    "            orf_to_og[orf] = og\n",
    "\n",
    "sc_orfs_filtered = list(set(sc_orfs_filtered_dupes))\n",
    "\n",
    "\n",
    "print(str(len(sc_orfs_filtered)) + \" filtered out\")\n",
    "\n",
    "print(str(len(set(sc_orfs_filtered) & set(ipath_all_gene_list))) + \" of those filtered were in the Ipath Dataset\")\n",
    "\n",
    "set(sc_orfs_filtered) & set(ipath_all_gene_list)"
   ]
  },
  {
   "cell_type": "code",
   "execution_count": 30,
   "metadata": {
    "tags": []
   },
   "outputs": [
    {
     "name": "stdout",
     "output_type": "stream",
     "text": [
      "20 ipath genes not in the pathways database but added on as extra orthologs\n"
     ]
    },
    {
     "data": {
      "text/plain": [
       "{'YBR001C',\n",
       " 'YDL246C',\n",
       " 'YDR009W',\n",
       " 'YDR111C',\n",
       " 'YDR516C',\n",
       " 'YFL058W',\n",
       " 'YGR043C',\n",
       " 'YHR033W',\n",
       " 'YIL111W',\n",
       " 'YJR156C',\n",
       " 'YJR159W',\n",
       " 'YLL058W',\n",
       " 'YLR164W',\n",
       " 'YML082W',\n",
       " 'YMR118C',\n",
       " 'YMR323W',\n",
       " 'YNL332W',\n",
       " 'YOL068C',\n",
       " 'YOR393W',\n",
       " 'YPL281C'}"
      ]
     },
     "execution_count": 30,
     "metadata": {},
     "output_type": "execute_result"
    }
   ],
   "source": [
    "#How many ipath genes are not in the pathways database, but were added on as extra orthologs in the end\n",
    "\n",
    "print(str(len((set(ipath_all_gene_list) - set(genes_in_pathways_db) ) & set(ipath_gene_list))) + ' ipath genes not in the pathways database but added on as extra orthologs')\n",
    "\n",
    "(set(ipath_all_gene_list) - set(genes_in_pathways_db) ) & set(ipath_gene_list)"
   ]
  },
  {
   "cell_type": "code",
   "execution_count": 31,
   "metadata": {
    "tags": []
   },
   "outputs": [
    {
     "name": "stdout",
     "output_type": "stream",
     "text": [
      "30 ipath genes could have been missed out because of sgd data error\n",
      "29 genes actually missed out because of sgd data error\n"
     ]
    }
   ],
   "source": [
    "#How many ipath genes are in the pathways database, but we lost them because of the data error\n",
    "\n",
    "print(str(len(set(ipath_all_gene_list) & set(sc_annotations[(pathway_id & (~gene_pathways_name))]['Unnamed: 0']))) + ' ipath genes could have been missed out because of sgd data error')\n",
    "\n",
    "print(str(len((set(ipath_all_gene_list)-set(ipath_gene_list)) & set(sc_annotations[(pathway_id & (~gene_pathways_name))]['Unnamed: 0']))) + ' genes actually missed out because of sgd data error')\n",
    "\n",
    "#That leaves \n",
    "#717 total Ipath Genes\n",
    "#- 243 ipath genes not in pathway \n",
    "#+ 20 ipath genes added back because of paralogs that got included in the set of genes \n",
    "#- 16 genes (of the 20 orthogroups filtered out which didn't have enough species)\n",
    "#- 29 genes which weren't included in the initial dataset because of the SGD database error\n",
    "#= 449 \n",
    "#\n",
    "#This should be 450 - I wonder which one is missing??"
   ]
  },
  {
   "cell_type": "code",
   "execution_count": 37,
   "metadata": {
    "tags": []
   },
   "outputs": [],
   "source": [
    "# #Is the old list the same as the new list: \n",
    "# print(len(set(pathway_table['genename']) - set(sc_annotations[gene_pathways_name]['Unnamed: 0'])))\n",
    "# print(len(set(sc_annotations[gene_pathways_name]['Unnamed: 0']) - set(pathway_table['genename'])))\n",
    "# #Yes - it is an empty set both directions"
   ]
  },
  {
   "cell_type": "code",
   "execution_count": null,
   "metadata": {},
   "outputs": [],
   "source": [
    "### ipath validation needs to be run on revised input. "
   ]
  },
  {
   "cell_type": "code",
   "execution_count": 4,
   "metadata": {},
   "outputs": [
    {
     "name": "stdout",
     "output_type": "stream",
     "text": [
      "450 Uniprot IDs present in ipath3 Metabolic Map\n"
     ]
    }
   ],
   "source": [
    "# #for metmap_type in ['metabolic','biosynth','diverseenvironments', 'antibiotics']:\n",
    "\n",
    "# ipath_validation = pd.read_table(base_dir + os.sep + os.path.normpath('selected_proteins/ipath/iPath_ID_validation_' + 'metabolic' + '_20230202.txt'), header=None)\n",
    "# ipath_validation.rename(columns={0:'ID', 1:'valid'}, inplace=True)\n",
    "\n",
    "# valid_ID_list = ipath_validation[ipath_validation['valid']=='VALID']\n",
    "# print(str(len(valid_ID_list)) + ' Uniprot IDs present in ipath3 Metabolic Map')"
   ]
  },
  {
   "cell_type": "code",
   "execution_count": 33,
   "metadata": {
    "tags": []
   },
   "outputs": [],
   "source": [
    "ipath_map_all = base_dir + os.sep + os.path.normpath('selected_proteins/ipath/ipath_input_present.txt')\n",
    "color = '#8112BD'\n",
    "width = 'W15'\n",
    "with open(ipath_map_all,'w') as f_out: \n",
    "    for ind, (uniprot_id, valid) in valid_ID_list.iterrows():\n",
    "        f_out.write(uniprot_id + ' ' + color + ' ' + width + '\\n' )"
   ]
  },
  {
   "cell_type": "code",
   "execution_count": 95,
   "metadata": {
    "tags": []
   },
   "outputs": [
    {
     "data": {
      "text/html": [
       "<div>\n",
       "<style scoped>\n",
       "    .dataframe tbody tr th:only-of-type {\n",
       "        vertical-align: middle;\n",
       "    }\n",
       "\n",
       "    .dataframe tbody tr th {\n",
       "        vertical-align: top;\n",
       "    }\n",
       "\n",
       "    .dataframe thead th {\n",
       "        text-align: right;\n",
       "    }\n",
       "</style>\n",
       "<table border=\"1\" class=\"dataframe\">\n",
       "  <thead>\n",
       "    <tr style=\"text-align: right;\">\n",
       "      <th></th>\n",
       "      <th>uniprot_id</th>\n",
       "      <th>cons_rate</th>\n",
       "    </tr>\n",
       "  </thead>\n",
       "  <tbody>\n",
       "    <tr>\n",
       "      <th>0</th>\n",
       "      <td>P00127</td>\n",
       "      <td>0.488312</td>\n",
       "    </tr>\n",
       "    <tr>\n",
       "      <th>1</th>\n",
       "      <td>P00128</td>\n",
       "      <td>0.577829</td>\n",
       "    </tr>\n",
       "    <tr>\n",
       "      <th>2</th>\n",
       "      <td>P00330</td>\n",
       "      <td>0.736954</td>\n",
       "    </tr>\n",
       "    <tr>\n",
       "      <th>3</th>\n",
       "      <td>P00331</td>\n",
       "      <td>0.736954</td>\n",
       "    </tr>\n",
       "    <tr>\n",
       "      <th>4</th>\n",
       "      <td>P00358</td>\n",
       "      <td>0.769694</td>\n",
       "    </tr>\n",
       "    <tr>\n",
       "      <th>...</th>\n",
       "      <td>...</td>\n",
       "      <td>...</td>\n",
       "    </tr>\n",
       "    <tr>\n",
       "      <th>441</th>\n",
       "      <td>Q12455</td>\n",
       "      <td>0.551263</td>\n",
       "    </tr>\n",
       "    <tr>\n",
       "      <th>442</th>\n",
       "      <td>Q12676</td>\n",
       "      <td>0.460720</td>\n",
       "    </tr>\n",
       "    <tr>\n",
       "      <th>443</th>\n",
       "      <td>Q12680</td>\n",
       "      <td>0.653170</td>\n",
       "    </tr>\n",
       "    <tr>\n",
       "      <th>444</th>\n",
       "      <td>Q99258</td>\n",
       "      <td>0.608130</td>\n",
       "    </tr>\n",
       "    <tr>\n",
       "      <th>445</th>\n",
       "      <td>Q99312</td>\n",
       "      <td>0.542579</td>\n",
       "    </tr>\n",
       "  </tbody>\n",
       "</table>\n",
       "<p>446 rows × 2 columns</p>\n",
       "</div>"
      ],
      "text/plain": [
       "    uniprot_id  cons_rate\n",
       "0       P00127   0.488312\n",
       "1       P00128   0.577829\n",
       "2       P00330   0.736954\n",
       "3       P00331   0.736954\n",
       "4       P00358   0.769694\n",
       "..         ...        ...\n",
       "441     Q12455   0.551263\n",
       "442     Q12676   0.460720\n",
       "443     Q12680   0.653170\n",
       "444     Q99258   0.608130\n",
       "445     Q99312   0.542579\n",
       "\n",
       "[446 rows x 2 columns]"
      ]
     },
     "execution_count": 95,
     "metadata": {},
     "output_type": "execute_result"
    }
   ],
   "source": []
  },
  {
   "cell_type": "code",
   "execution_count": 43,
   "metadata": {
    "tags": []
   },
   "outputs": [
    {
     "data": {
      "text/html": [
       "<div>\n",
       "<style scoped>\n",
       "    .dataframe tbody tr th:only-of-type {\n",
       "        vertical-align: middle;\n",
       "    }\n",
       "\n",
       "    .dataframe tbody tr th {\n",
       "        vertical-align: top;\n",
       "    }\n",
       "\n",
       "    .dataframe thead th {\n",
       "        text-align: right;\n",
       "    }\n",
       "</style>\n",
       "<table border=\"1\" class=\"dataframe\">\n",
       "  <thead>\n",
       "    <tr style=\"text-align: right;\">\n",
       "      <th></th>\n",
       "      <th>element</th>\n",
       "      <th>uniprot</th>\n",
       "    </tr>\n",
       "  </thead>\n",
       "  <tbody>\n",
       "    <tr>\n",
       "      <th>4920</th>\n",
       "      <td>_G1725</td>\n",
       "      <td>P07807</td>\n",
       "    </tr>\n",
       "    <tr>\n",
       "      <th>6113</th>\n",
       "      <td>_G1723</td>\n",
       "      <td>Q12676</td>\n",
       "    </tr>\n",
       "    <tr>\n",
       "      <th>8013</th>\n",
       "      <td>_G1857</td>\n",
       "      <td>P53228</td>\n",
       "    </tr>\n",
       "    <tr>\n",
       "      <th>9514</th>\n",
       "      <td>_G836</td>\n",
       "      <td>P13711</td>\n",
       "    </tr>\n",
       "    <tr>\n",
       "      <th>17073</th>\n",
       "      <td>_G1051</td>\n",
       "      <td>P00424</td>\n",
       "    </tr>\n",
       "    <tr>\n",
       "      <th>...</th>\n",
       "      <td>...</td>\n",
       "      <td>...</td>\n",
       "    </tr>\n",
       "    <tr>\n",
       "      <th>3568459</th>\n",
       "      <td>_G3400</td>\n",
       "      <td>P38972</td>\n",
       "    </tr>\n",
       "    <tr>\n",
       "      <th>3580320</th>\n",
       "      <td>_G3632</td>\n",
       "      <td>P19414</td>\n",
       "    </tr>\n",
       "    <tr>\n",
       "      <th>3583310</th>\n",
       "      <td>_G510</td>\n",
       "      <td>P15274</td>\n",
       "    </tr>\n",
       "    <tr>\n",
       "      <th>3589227</th>\n",
       "      <td>_G1490</td>\n",
       "      <td>P53954</td>\n",
       "    </tr>\n",
       "    <tr>\n",
       "      <th>3599611</th>\n",
       "      <td>_G1268</td>\n",
       "      <td>P08524</td>\n",
       "    </tr>\n",
       "  </tbody>\n",
       "</table>\n",
       "<p>948 rows × 2 columns</p>\n",
       "</div>"
      ],
      "text/plain": [
       "        element uniprot\n",
       "4920     _G1725  P07807\n",
       "6113     _G1723  Q12676\n",
       "8013     _G1857  P53228\n",
       "9514      _G836  P13711\n",
       "17073    _G1051  P00424\n",
       "...         ...     ...\n",
       "3568459  _G3400  P38972\n",
       "3580320  _G3632  P19414\n",
       "3583310   _G510  P15274\n",
       "3589227  _G1490  P53954\n",
       "3599611  _G1268  P08524\n",
       "\n",
       "[948 rows x 2 columns]"
      ]
     },
     "execution_count": 43,
     "metadata": {},
     "output_type": "execute_result"
    }
   ],
   "source": [
    "ipath_id_uniprot = pd.read_table(base_dir + os.sep + os.path.normpath('selected_proteins/ipath/ipath_element_mapping_uniprot.txt'), skiprows = 2, sep = '|', names=['element','uniprot'], skipfooter=2, engine='python')\n",
    "for col in ['element','uniprot']:\n",
    "    ipath_id_uniprot[col] = [item.strip() for item in ipath_id_uniprot[col]]\n",
    "\n",
    "uniprot_only = [id.split(':')[1] for id in valid_ID_list['ID']]\n",
    "ipath_id_uniprot_scer = ipath_id_uniprot[ipath_id_uniprot['uniprot'].isin(uniprot_only)]\n",
    "\n",
    "uniprot_ids_by_element = {}\n",
    "for element, df in ipath_id_uniprot_scer.groupby('element'):\n",
    "    uniprot_ids_by_element[element] = list(df['uniprot'])\n"
   ]
  },
  {
   "cell_type": "code",
   "execution_count": 87,
   "metadata": {
    "tags": []
   },
   "outputs": [],
   "source": [
    "elements_with_mult_prot = []\n",
    "\n",
    "for element, uniprot_list in uniprot_ids_by_element.items():\n",
    "    if len(uniprot_list)>0:\n",
    "        elements_with_mult_prot.append(element)"
   ]
  },
  {
   "cell_type": "code",
   "execution_count": 89,
   "metadata": {
    "tags": []
   },
   "outputs": [
    {
     "data": {
      "text/plain": [
       "609"
      ]
     },
     "execution_count": 89,
     "metadata": {},
     "output_type": "execute_result"
    }
   ],
   "source": [
    "len(elements_with_mult_prot)"
   ]
  },
  {
   "cell_type": "code",
   "execution_count": 85,
   "metadata": {
    "tags": []
   },
   "outputs": [
    {
     "name": "stdout",
     "output_type": "stream",
     "text": [
      "no conservation value for P15700, element: _G1087\n",
      "no conservation value for P15700, element: _G1091\n",
      "no conservation value for P07702, element: _G1849\n",
      "no conservation value for P15700, element: _G1895\n"
     ]
    }
   ],
   "source": [
    "ipath_map_all = base_dir + os.sep + os.path.normpath('selected_proteins/ipath/ipath_input_cons.txt')\n",
    "\n",
    "#Make a map of element to average conservation value\n",
    "\n",
    "element_to_avg_cons = {}\n",
    "for element, uniprot_id_list in uniprot_ids_by_element.items():\n",
    "    #for uniprot in valid_ID_list_present:\n",
    "\n",
    "    cons_vals = []\n",
    "    for uniprot in uniprot_id_list:\n",
    "        if uniprot in uniprot_to_cons.keys(): \n",
    "            cons_vals.append(uniprot_to_cons[uniprot])\n",
    "        else: \n",
    "            print('no conservation value for ' + uniprot + ', element: ' + element) \n",
    "    \n",
    "    if len(cons_vals)>0: \n",
    "        element_to_avg_cons[element] = np.mean(cons_vals)\n",
    "\n",
    "element_to_avg_cons_df = pd.DataFrame({'avg_cons':element_to_avg_cons})\n",
    "\n",
    "#Digitize average conservation value for width\n",
    "\n",
    "#Color\n",
    "#Bracket color by min and max of valid ID list\n",
    "min_cons = min(element_to_avg_cons_df['avg_cons'])\n",
    "max_cons = max(element_to_avg_cons_df['avg_cons'])       \n",
    "norm = mpl.colors.Normalize(vmin=min_cons, vmax=max_cons)\n",
    "cmap = mpl.cm.viridis_r\n",
    "cmap_function = mpl.cm.ScalarMappable(norm=norm, cmap=cmap)\n",
    "\n",
    "#Width\n",
    "n_width_bins = 10\n",
    "baseline_width = 4\n",
    "bins = np.linspace(min_cons, max_cons, num=n_width_bins)\n",
    "element_to_avg_cons_df['width_bins'] = np.digitize(element_to_avg_cons_df['avg_cons'], bins=bins)\n",
    "\n",
    "\n",
    "#Iterate through all elements and average conservation for all uniprot IDs\n",
    "with open(ipath_map_all,'w') as f_out: \n",
    "    for element, (avg_cons, width_bin) in element_to_avg_cons_df.iterrows(): \n",
    "        width = width_bin + baseline_width\n",
    "        color = mpl.colors.to_hex(cmap_function.to_rgba(avg_cons))\n",
    "        f_out.write('INT' + element + ' ' + color + ' W' + str(int(width)) + '\\n' )\n",
    "        \n",
    "# Take the output file and got to ipath3, tools, direct submission, paste the file into selection\n",
    "\n",
    "# Parameters: \n",
    "\n",
    "# default settings: \n",
    "# default_opacity \n",
    "# default_width 3\n",
    "# default_radius 7\n",
    "# default_color #aaaaaa\n",
    "# background_color #ffffff\n",
    "# whole_pathways unchecked\n",
    "# whole_modules unchecked\n",
    "# query_reactions unchecked\n",
    "# export_type svg\n",
    "\n",
    "\n",
    "\n",
    "# keep_colors \n",
    "\n",
    "#Non_default parameters: \n",
    "# tax_filter sce\n",
    "# map metabolic\n",
    "\n",
    "# Click Export map to graphical format\n",
    "\n",
    "\n",
    "\n",
    "\n",
    "\n",
    "\n",
    "\n",
    "\n",
    "\n",
    "\n",
    "\n",
    "#cons_rate_df['width_bins'] = np.digitize(cons_rate_df['cons_rate'], bins=bins)\n",
    "#cons_rate_df = cons_rate_df.set_index('uniprot_id')\n",
    "\n",
    "\n",
    "\n",
    "\n",
    "\n",
    "\n",
    "# cons_rate_vals = []\n",
    "\n",
    "# valid_ID_list_present = [] #Only keep valid IDs that have a conservation value\n",
    "\n",
    "# for ind, (uniprot_id, valid) in valid_ID_list.iterrows():\n",
    "#     uniprot = uniprot_id.split(':')[1]\n",
    "#     if uniprot in uniprot_to_cons.keys():\n",
    "#         cons_rate_vals.append(uniprot_to_cons[uniprot])\n",
    "#         valid_ID_list_present.append(uniprot)\n",
    "#     else: \n",
    "#         print('No cons rate for ' + uniprot)\n",
    "#     # orf = model_gene_swissprot_id_2_id['Scer'][uniprot_id.split(':')[1]]\n",
    "#     # og = orf_to_og[orf]\n",
    "#     # if og in struct_data_to_plot_og_grouped.index:\n",
    "#     #     cons_rate_vals.append(struct_data_to_plot_og_grouped.loc[og, 'Mean(Conservation rate AA)'])\n",
    "\n",
    "# cons_rate_df = pd.DataFrame(zip(valid_ID_list_present,cons_rate_vals), columns = ['uniprot_id','cons_rate'])\n",
    "\n",
    "\n",
    "\n",
    "# colorvals_norm = []\n",
    "\n",
    "\n",
    "# #Width\n",
    "# n_width_bins = 10\n",
    "# baseline_width = 4\n",
    "# bins = np.linspace(min_cons, max_cons, num=n_width_bins)\n",
    "# #struct_data_to_plot_og_grouped['width_bins'] = np.digitize(struct_data_to_plot_og_grouped['Mean(Conservation rate AA)'], bins=bins)\n",
    "# #cons_rate_df['width_bins'] = np.digitize(cons_rate_df['cons_rate'], bins=bins)\n",
    "# cons_rate_df = cons_rate_df.set_index('uniprot_id')\n",
    "\n",
    "\n",
    "#Iterate through all elements and average conservation for all uniprot IDs\n",
    "#with open(ipath_map_all,'w') as f_out: \n",
    "#     for element, uniprot_id_list in uniprot_ids_by_element.items():\n",
    "#         #for uniprot in valid_ID_list_present:\n",
    "        \n",
    "#         cons_vals = []\n",
    "#         for uniprot in uniprot_id_list:\n",
    "#             if uniprot in cons_rate_df['uniprot_id']: \n",
    "#                 cons_vals.append(\n",
    "#             else: \n",
    "#                 print('no conservation value for ' + uniprot + ', element: ' + element) \n",
    "        \n",
    "#         uniprot_to_cons[uniprot]\n",
    "#         width = cons_rate_df.loc[uniprot, 'width_bins'] + baseline_width\n",
    "#         color = mpl.colors.to_hex(cmap_function.to_rgba(cons_rate_df.loc[uniprot, 'cons_rate']))\n",
    "#         f_out.write('UNIPROT:' + uniprot + ' ' + color + ' W' + str(width) + '\\n' )\n",
    "        \n",
    "# Take the output file and got to ipath3, tools, direct submission, paste the file into selection\n",
    "\n",
    "# Parameters: \n",
    "\n",
    "# default settings: \n",
    "# default_opacity \n",
    "# default_width 3\n",
    "# default_radius 7\n",
    "# default_color #aaaaaa\n",
    "# background_color #ffffff\n",
    "# whole_pathways unchecked\n",
    "# whole_modules unchecked\n",
    "# query_reactions unchecked\n",
    "# export_type svg\n",
    "\n",
    "\n",
    "\n",
    "# keep_colors \n",
    "\n",
    "#Non_default parameters: \n",
    "# tax_filter sce\n",
    "# map metabolic\n",
    "\n",
    "# Click Export map to graphical format\n"
   ]
  },
  {
   "cell_type": "code",
   "execution_count": 101,
   "metadata": {
    "tags": []
   },
   "outputs": [
    {
     "data": {
      "image/png": "[encoded data removed]",
      "text/plain": [
       "<Figure size 600x100 with 1 Axes>"
      ]
     },
     "metadata": {},
     "output_type": "display_data"
    }
   ],
   "source": [
    "fig, ax = plt.subplots(figsize=(6, 1))\n",
    "fig.subplots_adjust(bottom=0.5)\n",
    "\n",
    "ax=plt.colorbar(mpl.cm.ScalarMappable(norm=norm, cmap=cmap),\n",
    "             cax=ax, orientation='horizontal') #, label='Conservation Score')\n",
    "\n",
    "ax.ax.tick_params(labelsize=20)\n",
    "\n",
    "ax.ax.set_xlabel('Conservation Ratio', fontsize=20)\n",
    "                \n",
    "#fig.colorbar(mpl.cm.ScalarMappable(norm=norm, cmap=cmap),\n",
    "#             cax=ax, orientation='horizontal', label='Conservation Score', )\n",
    "\n",
    "\n",
    "fig.savefig(base_dir + os.sep + os.path.normpath('selected_proteins/ipath/ipath_input_cons_colorbar.svg'))"
   ]
  }
 ],
 "metadata": {
  "kernelspec": {
   "display_name": "Python 3 (ipykernel)",
   "language": "python",
   "name": "python3"
  },
  "language_info": {
   "codemirror_mode": {
    "name": "ipython",
    "version": 3
   },
   "file_extension": ".py",
   "mimetype": "text/x-python",
   "name": "python",
   "nbconvert_exporter": "python",
   "pygments_lexer": "ipython3",
   "version": "3.11.5"
  }
 },
 "nbformat": 4,
 "nbformat_minor": 4
}
