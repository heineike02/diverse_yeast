{
 "cells": [
  {
   "cell_type": "code",
   "execution_count": 1,
   "metadata": {},
   "outputs": [],
   "source": [
    "%load_ext autoreload\n",
    "%autoreload 2\n",
    "import diverse_yeast_tools as dyt\n",
    "import os\n",
    "import pickle\n",
    "import numpy as np\n",
    "import pandas as pd\n",
    "import json\n",
    "import matplotlib as mpl"
   ]
  },
  {
   "cell_type": "code",
   "execution_count": null,
   "metadata": {},
   "outputs": [],
   "source": [
    "## Ipath image of selected genes "
   ]
  },
  {
   "cell_type": "code",
   "execution_count": 19,
   "metadata": {},
   "outputs": [],
   "source": [
    "base_dir = os.path.normpath('G:/My Drive/Crick_LMS/projects/diverse_yeasts/alphafold')\n",
    "\n",
    "#Go from : G:\\My Drive\\Crick_LMS\\projects\\diverse_yeasts\\alphafold\\selected_proteins\\og_metadata.json\n",
    "#Make a dictionary to map to Uniprot Names\n",
    "#Export list, see what is present in Ipath\n",
    "\n",
    "#Load og_metadata (used to be called og_out_data_full)\n",
    "og_fname = base_dir + os.sep + os.path.normpath('selected_proteins/og_metadata.json')\n",
    "with open(og_fname, 'r') as f:\n",
    "    og_metadata = json.load(f) \n",
    "\n",
    "model_gene_id_2_swissprot_id = dyt.load_model_gene_id_2_swissprot_id()\n",
    "model_gene_swissprot_id_2_id = dyt.load_model_swissprot_id_2_gene_id()\n",
    "\n",
    "#Load data for conservation\n",
    "struct_analysis = pickle.load(open(base_dir + os.sep + os.path.normpath('Output/data/Analysis_new_02.pkl'), 'rb'))\n",
    "\n",
    "## This should be a function or a csv\n",
    "params_to_plot = ['Mean(Mapping rate)', 'Mean(Conservation rate AA)', 'Mean(Conservation rate Type)']\n",
    "\n",
    "struct_data_to_plot = {}\n",
    "\n",
    "for jj, (og_ref, struct_data) in enumerate(struct_analysis.items()): \n",
    "    og = og_ref.split('_')[0]\n",
    "    struct_data_og = []\n",
    "    for param in params_to_plot:\n",
    "        struct_data_og.append(struct_data[param])\n",
    "    struct_data_to_plot[jj] = [og, og_ref] + struct_data_og \n",
    "    \n",
    "struct_data_to_plot_df = pd.DataFrame.from_dict(struct_data_to_plot, orient='index', columns = ['og', 'og_ref'] + params_to_plot )\n",
    "\n",
    "struct_data_to_plot_og_grouped = struct_data_to_plot_df.groupby('og').mean()\n"
   ]
  },
  {
   "cell_type": "code",
   "execution_count": 20,
   "metadata": {},
   "outputs": [
    {
     "name": "stdout",
     "output_type": "stream",
     "text": [
      "534 orfs present in 445 orthogroups\n"
     ]
    }
   ],
   "source": [
    "#Make list of all sc orfs\n",
    "sc_orfs_present_dupes = []\n",
    "\n",
    "orf_to_og = {}\n",
    "for og, og_data in og_metadata.items():\n",
    "    if og_data['pass_species_filter']:\n",
    "        for orf in og_data['sc_genes']:\n",
    "            sc_orfs_present_dupes.append(orf)\n",
    "            orf_to_og[orf] = og\n",
    "\n",
    "sc_orfs_present = list(set(sc_orfs_present_dupes))\n",
    "\n",
    "print(str(len(sc_orfs_present)) + ' orfs present in ' + str(len(og_metadata)) + ' orthogroups')\n",
    "\n",
    "#output file for Ipath\n",
    "\n",
    "ipath_full_prot_list = base_dir + os.sep + os.path.normpath('selected_proteins/ipath/ipath_full_prot_list.txt')\n",
    "\n",
    "with open(ipath_full_prot_list,'w') as f_out: \n",
    "    for orf in sc_orfs_present: \n",
    "        if orf in model_gene_id_2_swissprot_id['Scer'].keys():\n",
    "            f_out.write('UNIPROT:'+model_gene_id_2_swissprot_id['Scer'][orf] + '\\n')\n",
    "        else: \n",
    "            print('No Uniprot ID for ' + orf)\n",
    "    \n",
    "#Load this text file into ipath tools.cgi\n",
    "#Identifier valdidator, with Metabolic Pathways Checked, and Output only valid IDs set to NO\n",
    "#Would be useful to see if the other selections have some of the missing genes\n",
    "#\n",
    "#Biosynthesis of secondary metabolites\n",
    "#Microbial Metabolism in diverse environments\n",
    "#Biosynthesis of antibiotics\n",
    "#\n",
    "#output saved as base_dir + os.sep + os.path.normpath('alphafold/selected_proteins/ipath/iPath_ID_validation_metabolic_20230201.txt')"
   ]
  },
  {
   "cell_type": "code",
   "execution_count": null,
   "metadata": {},
   "outputs": [],
   "source": [
    "### ipath validation needs to be run on revised input. "
   ]
  },
  {
   "cell_type": "code",
   "execution_count": 21,
   "metadata": {},
   "outputs": [
    {
     "name": "stdout",
     "output_type": "stream",
     "text": [
      "450 Uniprot IDs present in ipath3 Metabolic Map\n"
     ]
    }
   ],
   "source": [
    "#for metmap_type in ['metabolic','biosynth','diverseenvironments', 'antibiotics']:\n",
    "\n",
    "ipath_validation = pd.read_table(base_dir + os.sep + os.path.normpath('selected_proteins/ipath/iPath_ID_validation_' + 'metabolic' + '_20230202.txt'), header=None)\n",
    "ipath_validation.rename(columns={0:'ID', 1:'valid'}, inplace=True)\n",
    "\n",
    "valid_ID_list = ipath_validation[ipath_validation['valid']=='VALID']\n",
    "print(str(len(valid_ID_list)) + ' Uniprot IDs present in ipath3 Metabolic Map')"
   ]
  },
  {
   "cell_type": "code",
   "execution_count": 22,
   "metadata": {},
   "outputs": [],
   "source": [
    "ipath_map_all = base_dir + os.sep + os.path.normpath('selected_proteins/ipath/ipath_input_present.txt')\n",
    "color = '#8112BD'\n",
    "width = 'W15'\n",
    "with open(ipath_map_all,'w') as f_out: \n",
    "    for ind, (uniprot_id, valid) in valid_ID_list.iterrows():\n",
    "        f_out.write(uniprot_id + ' ' + color + ' ' + width + '\\n' )"
   ]
  },
  {
   "cell_type": "code",
   "execution_count": 12,
   "metadata": {},
   "outputs": [
    {
     "data": {
      "text/plain": [
       "\u001b[1;31mInit signature:\u001b[0m \u001b[0mcolors\u001b[0m\u001b[1;33m.\u001b[0m\u001b[0mLinearSegmentedColormap\u001b[0m\u001b[1;33m(\u001b[0m\u001b[0mname\u001b[0m\u001b[1;33m,\u001b[0m \u001b[0msegmentdata\u001b[0m\u001b[1;33m,\u001b[0m \u001b[0mN\u001b[0m\u001b[1;33m=\u001b[0m\u001b[1;36m256\u001b[0m\u001b[1;33m,\u001b[0m \u001b[0mgamma\u001b[0m\u001b[1;33m=\u001b[0m\u001b[1;36m1.0\u001b[0m\u001b[1;33m)\u001b[0m\u001b[1;33m\u001b[0m\u001b[1;33m\u001b[0m\u001b[0m\n",
       "\u001b[1;31mDocstring:\u001b[0m     \n",
       "Colormap objects based on lookup tables using linear segments.\n",
       "\n",
       "The lookup table is generated using linear interpolation for each\n",
       "primary color, with the 0-1 domain divided into any number of\n",
       "segments.\n",
       "\u001b[1;31mInit docstring:\u001b[0m\n",
       "Create color map from linear mapping segments\n",
       "\n",
       "segmentdata argument is a dictionary with a red, green and blue\n",
       "entries. Each entry should be a list of *x*, *y0*, *y1* tuples,\n",
       "forming rows in a table. Entries for alpha are optional.\n",
       "\n",
       "Example: suppose you want red to increase from 0 to 1 over\n",
       "the bottom half, green to do the same over the middle half,\n",
       "and blue over the top half.  Then you would use::\n",
       "\n",
       "    cdict = {'red':   [(0.0,  0.0, 0.0),\n",
       "                       (0.5,  1.0, 1.0),\n",
       "                       (1.0,  1.0, 1.0)],\n",
       "\n",
       "             'green': [(0.0,  0.0, 0.0),\n",
       "                       (0.25, 0.0, 0.0),\n",
       "                       (0.75, 1.0, 1.0),\n",
       "                       (1.0,  1.0, 1.0)],\n",
       "\n",
       "             'blue':  [(0.0,  0.0, 0.0),\n",
       "                       (0.5,  0.0, 0.0),\n",
       "                       (1.0,  1.0, 1.0)]}\n",
       "\n",
       "Each row in the table for a given color is a sequence of\n",
       "*x*, *y0*, *y1* tuples.  In each sequence, *x* must increase\n",
       "monotonically from 0 to 1.  For any input value *z* falling\n",
       "between *x[i]* and *x[i+1]*, the output value of a given color\n",
       "will be linearly interpolated between *y1[i]* and *y0[i+1]*::\n",
       "\n",
       "    row i:   x  y0  y1\n",
       "                   /\n",
       "                  /\n",
       "    row i+1: x  y0  y1\n",
       "\n",
       "Hence y0 in the first row and y1 in the last row are never used.\n",
       "\n",
       "See Also\n",
       "--------\n",
       "LinearSegmentedColormap.from_list\n",
       "    Static method; factory function for generating a smoothly-varying\n",
       "    LinearSegmentedColormap.\n",
       "\n",
       "makeMappingArray\n",
       "    For information about making a mapping array.\n",
       "\u001b[1;31mFile:\u001b[0m           c:\\users\\heineib\\anaconda3\\envs\\sc_seq_py\\lib\\site-packages\\matplotlib\\colors.py\n",
       "\u001b[1;31mType:\u001b[0m           type\n",
       "\u001b[1;31mSubclasses:\u001b[0m     \n"
      ]
     },
     "metadata": {},
     "output_type": "display_data"
    }
   ],
   "source": [
    "colors.LinearSegmentedColormap()"
   ]
  },
  {
   "cell_type": "code",
   "execution_count": 23,
   "metadata": {},
   "outputs": [
    {
     "name": "stdout",
     "output_type": "stream",
     "text": [
      "OG1710 from YMR207C not present with conservation data\n",
      "OG1710 from YNR016C not present with conservation data\n"
     ]
    }
   ],
   "source": [
    "ipath_map_all = base_dir + os.sep + os.path.normpath('selected_proteins/ipath/ipath_input_cons.txt')\n",
    "#color = '#8112BD'\n",
    "\n",
    "min_cons = min(struct_data_to_plot_og_grouped['Mean(Conservation rate AA)'])\n",
    "max_cons = max(struct_data_to_plot_og_grouped['Mean(Conservation rate AA)'])\n",
    "\n",
    "#Width\n",
    "n_width_bins = 15\n",
    "bins = np.linspace(min_cons, max_cons, num=n_width_bins)\n",
    "struct_data_to_plot_og_grouped['width_bins'] = np.digitize(struct_data_to_plot_og_grouped['Mean(Conservation rate AA)'], bins=bins)\n",
    "\n",
    "#Color\n",
    "norm = mpl.colors.Normalize(vmin=min_cons, vmax=max_cons)\n",
    "cmap = mpl.cm.viridis_r\n",
    "cmap_function = mpl.cm.ScalarMappable(norm=norm, cmap=cmap)\n",
    "\n",
    "with open(ipath_map_all,'w') as f_out: \n",
    "    for ind, (uniprot_id, valid) in valid_ID_list.iterrows():\n",
    "        orf = model_gene_swissprot_id_2_id['Scer'][uniprot_id.split(':')[1]]\n",
    "        og = orf_to_og[orf]\n",
    "        if og in struct_data_to_plot_og_grouped.index:\n",
    "            width = struct_data_to_plot_og_grouped.loc[og, 'width_bins']\n",
    "            color = mpl.colors.to_hex(cmap_function.to_rgba(struct_data_to_plot_og_grouped.loc[og, 'Mean(Conservation rate AA)']))\n",
    "            f_out.write(uniprot_id + ' ' + color + ' W' + str(width) + '\\n' )\n",
    "        else: \n",
    "            print(og+ ' from ' + orf + ' not present with conservation data')"
   ]
  }
 ],
 "metadata": {
  "kernelspec": {
   "display_name": "Python 3 (ipykernel)",
   "language": "python",
   "name": "python3"
  },
  "language_info": {
   "codemirror_mode": {
    "name": "ipython",
    "version": 3
   },
   "file_extension": ".py",
   "mimetype": "text/x-python",
   "name": "python",
   "nbconvert_exporter": "python",
   "pygments_lexer": "ipython3",
   "version": "3.7.9"
  }
 },
 "nbformat": 4,
 "nbformat_minor": 4
}
