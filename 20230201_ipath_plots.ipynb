{
 "cells": [
  {
   "cell_type": "code",
   "execution_count": 1,
   "metadata": {},
   "outputs": [],
   "source": [
    "%load_ext autoreload\n",
    "%autoreload 2\n",
    "import diverse_yeast_tools as dyt\n",
    "import os\n",
    "import pickle\n",
    "import numpy as np\n",
    "import pandas as pd\n",
    "import json\n",
    "import matplotlib as mpl\n",
    "import matplotlib.pyplot as plt"
   ]
  },
  {
   "cell_type": "code",
   "execution_count": null,
   "metadata": {},
   "outputs": [],
   "source": [
    "## Ipath image of selected genes "
   ]
  },
  {
   "cell_type": "code",
   "execution_count": 3,
   "metadata": {},
   "outputs": [],
   "source": [
    "base_dir = os.path.normpath('G:/My Drive/Crick_LMS/projects/diverse_yeasts/alphafold')\n",
    "\n",
    "#Go from : G:\\My Drive\\Crick_LMS\\projects\\diverse_yeasts\\alphafold\\selected_proteins\\og_metadata.json\n",
    "#Make a dictionary to map to Uniprot Names\n",
    "#Export list, see what is present in Ipath\n",
    "\n",
    "#Load og_metadata (used to be called og_out_data_full)\n",
    "og_fname = base_dir + os.sep + os.path.normpath('selected_proteins/og_metadata.json')\n",
    "with open(og_fname, 'r') as f:\n",
    "    og_metadata = json.load(f) \n",
    "\n",
    "model_gene_id_2_swissprot_id = dyt.load_model_gene_id_2_swissprot_id()\n",
    "model_gene_swissprot_id_2_id = dyt.load_model_swissprot_id_2_gene_id()\n",
    "\n",
    "#Load data for conservation\n",
    "struct_analysis = pickle.load(open(base_dir + os.sep + os.path.normpath('Output/data/Analysis_new_02.pkl'), 'rb'))\n",
    "\n",
    "## This should be a function or a csv\n",
    "params_to_plot = ['Mean(Mapping rate)', 'Mean(Conservation rate AA)', 'Mean(Conservation rate Type)']\n",
    "\n",
    "struct_data_to_plot = {}\n",
    "\n",
    "for jj, (og_ref, struct_data) in enumerate(struct_analysis.items()): \n",
    "    og = og_ref.split('_')[0]\n",
    "    struct_data_og = []\n",
    "    for param in params_to_plot:\n",
    "        struct_data_og.append(struct_data[param])\n",
    "    struct_data_to_plot[jj] = [og, og_ref] + struct_data_og \n",
    "    \n",
    "struct_data_to_plot_df = pd.DataFrame.from_dict(struct_data_to_plot, orient='index', columns = ['og', 'og_ref'] + params_to_plot )\n",
    "\n",
    "struct_data_to_plot_og_grouped = struct_data_to_plot_df.groupby('og').mean()\n"
   ]
  },
  {
   "cell_type": "code",
   "execution_count": 5,
   "metadata": {},
   "outputs": [
    {
     "name": "stdout",
     "output_type": "stream",
     "text": [
      "534 orfs present in 426 orthogroups\n"
     ]
    }
   ],
   "source": [
    "#Make list of all sc orfs\n",
    "sc_orfs_present_dupes = []\n",
    "\n",
    "orf_to_og = {}\n",
    "kept_og_list = []\n",
    "for og, og_data in og_metadata.items():\n",
    "    if og_data['pass_species_filter']:\n",
    "        kept_og_list.append(og)\n",
    "        for orf in og_data['sc_genes']:\n",
    "            sc_orfs_present_dupes.append(orf)\n",
    "            orf_to_og[orf] = og\n",
    "\n",
    "sc_orfs_present = list(set(sc_orfs_present_dupes))\n",
    "\n",
    "print(str(len(sc_orfs_present)) + ' orfs present in ' + str(len(kept_og_list)) + ' orthogroups')\n",
    "\n",
    "#output file for Ipath\n",
    "ipath_full_prot_list = base_dir + os.sep + os.path.normpath('selected_proteins/ipath/ipath_full_prot_list.txt')\n",
    "\n",
    "with open(ipath_full_prot_list,'w') as f_out: \n",
    "    for orf in sc_orfs_present: \n",
    "        if orf in model_gene_id_2_swissprot_id['Scer'].keys():\n",
    "            f_out.write('UNIPROT:'+model_gene_id_2_swissprot_id['Scer'][orf] + '\\n')\n",
    "        else: \n",
    "            print('No Uniprot ID for ' + orf)\n",
    "    \n",
    "#Load this text file into ipath tools.cgi\n",
    "#Identifier valdidator, with Metabolic Pathways Checked, and Output only valid IDs set to NO\n",
    "#Would be useful to see if the other selections have some of the missing genes\n",
    "#\n",
    "#Biosynthesis of secondary metabolites\n",
    "#Microbial Metabolism in diverse environments\n",
    "#Biosynthesis of antibiotics\n",
    "#\n",
    "#output saved as base_dir + os.sep + os.path.normpath('alphafold/selected_proteins/ipath/iPath_ID_validation_metabolic_20230201.txt')"
   ]
  },
  {
   "cell_type": "code",
   "execution_count": 20,
   "metadata": {},
   "outputs": [],
   "source": [
    "#Use Ipath validation to identify the percentage of iPath3 Genes present in our orthogroups. \n",
    "#ipath3 genes present in all of S. cerevisiae \n",
    "\n",
    "\n",
    "#output file for Ipath\n",
    "ipath_all_sc_uniprot = base_dir + os.sep + os.path.normpath('selected_proteins/ipath/ipath_all_sc_uniprot.txt')\n",
    "\n",
    "with open(ipath_all_sc_uniprot,'w') as f_out: \n",
    "    for uniprot_id in model_gene_swissprot_id_2_id['Scer'].keys(): \n",
    "        if isinstance(uniprot_id, float): \n",
    "            assert np.isnan(uniprot_id)\n",
    "        else: \n",
    "            f_out.write('UNIPROT:'+uniprot_id + '\\n')\n",
    "            \n",
    "#Provide this file to ipath3 identifier validator at https://pathways.embl.de/tools.cgi\n",
    "#check all maps and output valid and invalid ids (check no on 'output only valid IDs')"
   ]
  },
  {
   "cell_type": "code",
   "execution_count": 20,
   "metadata": {},
   "outputs": [
    {
     "name": "stdout",
     "output_type": "stream",
     "text": [
      "717 Uniprot IDs present in ipath3 Metabolic Map\n",
      "450 Uniprot IDs present ipath3 metabolic maps for our orthogroups\n",
      "62.761506%\n"
     ]
    }
   ],
   "source": [
    "#Count total number of valid uniprot IDS from ipath metabolic map\n",
    "ipath_map = 'metabolic'#'all'#'all' #metabolic\n",
    "\n",
    "ipath_validation_all_uniprot = pd.read_table(base_dir + os.sep + os.path.normpath('selected_proteins/ipath/iPath_ID_validation_' + ipath_map +'_uniprot.txt'), header=None)\n",
    "ipath_validation_all_uniprot.rename(columns={0:'ID', 1:'valid'}, inplace=True)\n",
    "\n",
    "valid_ID_list_all_uniprot = ipath_validation_all_uniprot[ipath_validation_all_uniprot['valid']=='VALID']\n",
    "print(str(len(valid_ID_list_all_uniprot)) + ' Uniprot IDs present in ipath3 Metabolic Map')\n",
    "\n",
    "#Count total number of valid Uniprot IDs from our orthogroup data\n",
    "\n",
    "#Count total number of valid uniprot IDS from ipath metabolic map\n",
    "ipath_validation = pd.read_table(base_dir + os.sep + os.path.normpath('selected_proteins/ipath/iPath_ID_validation_' + ipath_map + '.txt'), header=None)\n",
    "ipath_validation.rename(columns={0:'ID', 1:'valid'}, inplace=True)\n",
    "\n",
    "valid_ID_list = ipath_validation[ipath_validation['valid']=='VALID']\n",
    "print(str(len(valid_ID_list)) + ' Uniprot IDs present ipath3 ' + ipath_map + ' maps for our orthogroups')\n",
    "\n",
    "print('{:%}'.format(len(valid_ID_list)/len(valid_ID_list_all_uniprot)))"
   ]
  },
  {
   "cell_type": "code",
   "execution_count": 21,
   "metadata": {},
   "outputs": [
    {
     "data": {
      "text/plain": [
       "0.6276150627615062"
      ]
     },
     "execution_count": 21,
     "metadata": {},
     "output_type": "execute_result"
    }
   ],
   "source": [
    "462/744\n",
    "450/717"
   ]
  },
  {
   "cell_type": "code",
   "execution_count": null,
   "metadata": {},
   "outputs": [],
   "source": [
    "### ipath validation needs to be run on revised input. "
   ]
  },
  {
   "cell_type": "code",
   "execution_count": 4,
   "metadata": {},
   "outputs": [
    {
     "name": "stdout",
     "output_type": "stream",
     "text": [
      "450 Uniprot IDs present in ipath3 Metabolic Map\n"
     ]
    }
   ],
   "source": [
    "#for metmap_type in ['metabolic','biosynth','diverseenvironments', 'antibiotics']:\n",
    "\n",
    "ipath_validation = pd.read_table(base_dir + os.sep + os.path.normpath('selected_proteins/ipath/iPath_ID_validation_' + 'metabolic' + '_20230202.txt'), header=None)\n",
    "ipath_validation.rename(columns={0:'ID', 1:'valid'}, inplace=True)\n",
    "\n",
    "valid_ID_list = ipath_validation[ipath_validation['valid']=='VALID']\n",
    "print(str(len(valid_ID_list)) + ' Uniprot IDs present in ipath3 Metabolic Map')"
   ]
  },
  {
   "cell_type": "code",
   "execution_count": 7,
   "metadata": {},
   "outputs": [],
   "source": [
    "ipath_map_all = base_dir + os.sep + os.path.normpath('selected_proteins/ipath/ipath_input_present.txt')\n",
    "color = '#8112BD'\n",
    "width = 'W15'\n",
    "with open(ipath_map_all,'w') as f_out: \n",
    "    for ind, (uniprot_id, valid) in valid_ID_list.iterrows():\n",
    "        f_out.write(uniprot_id + ' ' + color + ' ' + width + '\\n' )"
   ]
  },
  {
   "cell_type": "code",
   "execution_count": 28,
   "metadata": {},
   "outputs": [
    {
     "name": "stdout",
     "output_type": "stream",
     "text": [
      "OG1710 from YMR207C not present with conservation data\n",
      "OG1710 from YNR016C not present with conservation data\n"
     ]
    }
   ],
   "source": [
    "ipath_map_all = base_dir + os.sep + os.path.normpath('selected_proteins/ipath/ipath_input_cons.txt')\n",
    "#color = '#8112BD'\n",
    "\n",
    "#Width\n",
    "n_width_bins = 10\n",
    "baseline_width = 4\n",
    "bins = np.linspace(min_cons, max_cons, num=n_width_bins)\n",
    "struct_data_to_plot_og_grouped['width_bins'] = np.digitize(struct_data_to_plot_og_grouped['Mean(Conservation rate AA)'], bins=bins)\n",
    "\n",
    "#Color\n",
    "\n",
    "#Bracket color by min and max of valid ID list\n",
    "cons_rate_vals = []\n",
    "for ind, (uniprot_id, valid) in valid_ID_list.iterrows():\n",
    "    orf = model_gene_swissprot_id_2_id['Scer'][uniprot_id.split(':')[1]]\n",
    "    og = orf_to_og[orf]\n",
    "    if og in struct_data_to_plot_og_grouped.index:\n",
    "        cons_rate_vals.append(struct_data_to_plot_og_grouped.loc[og, 'Mean(Conservation rate AA)'])\n",
    "\n",
    "min_cons = min(cons_rate_vals)\n",
    "max_cons = max(cons_rate_vals)       \n",
    "norm = mpl.colors.Normalize(vmin=min_cons, vmax=max_cons)\n",
    "cmap = mpl.cm.viridis_r\n",
    "cmap_function = mpl.cm.ScalarMappable(norm=norm, cmap=cmap)\n",
    "\n",
    "colorvals_norm = []\n",
    "\n",
    "with open(ipath_map_all,'w') as f_out: \n",
    "    for ind, (uniprot_id, valid) in valid_ID_list.iterrows():\n",
    "        orf = model_gene_swissprot_id_2_id['Scer'][uniprot_id.split(':')[1]]\n",
    "        og = orf_to_og[orf]\n",
    "        if og in struct_data_to_plot_og_grouped.index:\n",
    "            width = struct_data_to_plot_og_grouped.loc[og, 'width_bins'] + baseline_width\n",
    "            color = mpl.colors.to_hex(cmap_function.to_rgba(struct_data_to_plot_og_grouped.loc[og, 'Mean(Conservation rate AA)']))\n",
    "            f_out.write(uniprot_id + ' ' + color + ' W' + str(width) + '\\n' )\n",
    "        else: \n",
    "            print(og+ ' from ' + orf + ' not present with conservation data')"
   ]
  },
  {
   "cell_type": "code",
   "execution_count": 30,
   "metadata": {},
   "outputs": [
    {
     "data": {
      "image/png": "[encoded data removed]",
      "text/plain": [
       "<Figure size 600x100 with 1 Axes>"
      ]
     },
     "metadata": {},
     "output_type": "display_data"
    }
   ],
   "source": [
    "fig, ax = plt.subplots(figsize=(6, 1))\n",
    "fig.subplots_adjust(bottom=0.5)\n",
    "\n",
    "\n",
    "fig.colorbar(mpl.cm.ScalarMappable(norm=norm, cmap=cmap),\n",
    "             cax=ax, orientation='horizontal', label='Conservation Score')\n",
    "\n",
    "fig.savefig(base_dir + os.sep + os.path.normpath('selected_proteins/ipath/ipath_input_cons_colorbar.svg'))"
   ]
  }
 ],
 "metadata": {
  "kernelspec": {
   "display_name": "Python 3 (ipykernel)",
   "language": "python",
   "name": "python3"
  },
  "language_info": {
   "codemirror_mode": {
    "name": "ipython",
    "version": 3
   },
   "file_extension": ".py",
   "mimetype": "text/x-python",
   "name": "python",
   "nbconvert_exporter": "python",
   "pygments_lexer": "ipython3",
   "version": "3.10.11"
  }
 },
 "nbformat": 4,
 "nbformat_minor": 4
}
