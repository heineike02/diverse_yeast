{
 "cells": [
  {
   "cell_type": "code",
   "execution_count": 10,
   "id": "8b442c80",
   "metadata": {},
   "outputs": [
    {
     "name": "stdout",
     "output_type": "stream",
     "text": [
      "['C:\\\\Users\\\\bheineike', 'C:\\\\Users\\\\bheineike\\\\anaconda3\\\\envs\\\\bmh_bioinformatics\\\\python311.zip', 'C:\\\\Users\\\\bheineike\\\\anaconda3\\\\envs\\\\bmh_bioinformatics\\\\DLLs', 'C:\\\\Users\\\\bheineike\\\\anaconda3\\\\envs\\\\bmh_bioinformatics\\\\Lib', 'C:\\\\Users\\\\bheineike\\\\anaconda3\\\\envs\\\\bmh_bioinformatics', '', 'C:\\\\Users\\\\bheineike\\\\anaconda3\\\\envs\\\\bmh_bioinformatics\\\\Lib\\\\site-packages', 'C:\\\\Users\\\\bheineike\\\\anaconda3\\\\envs\\\\bmh_bioinformatics\\\\Lib\\\\site-packages\\\\win32', 'C:\\\\Users\\\\bheineike\\\\anaconda3\\\\envs\\\\bmh_bioinformatics\\\\Lib\\\\site-packages\\\\win32\\\\lib', 'C:\\\\Users\\\\bheineike\\\\anaconda3\\\\envs\\\\bmh_bioinformatics\\\\Lib\\\\site-packages\\\\Pythonwin']\n"
     ]
    }
   ],
   "source": [
    "import sys\n",
    "import os\n",
    "\n",
    "print(sys.path)\n",
    "\n",
    "sys.path.append(os.path.normpath('C:/Users/bheineike/Documents/GitHub/diverse_yeast'))"
   ]
  },
  {
   "cell_type": "code",
   "execution_count": 11,
   "id": "29c181f9-280f-43f6-8673-ed631cc04655",
   "metadata": {
    "tags": []
   },
   "outputs": [
    {
     "name": "stdout",
     "output_type": "stream",
     "text": [
      "The autoreload extension is already loaded. To reload it, use:\n",
      "  %reload_ext autoreload\n"
     ]
    }
   ],
   "source": [
    "%load_ext autoreload\n",
    "%autoreload 2\n",
    "import diverse_yeast_tools as dyt\n",
    "import os\n",
    "import sys\n",
    "import pandas as pd\n",
    "from collections import Counter\n",
    "import pickle\n",
    "import json\n",
    "import numpy as np\n",
    "import matplotlib.pyplot as plt\n",
    "import matplotlib.cm as cm\n",
    "import matplotlib.colors as colors\n",
    "import warnings\n",
    "import scipy.stats as stats\n",
    "from Bio import SeqIO, AlignIO, pairwise2, SeqUtils\n",
    "\n",
    "# yeast_esr_flag = input(\"Use yeast_esr_expression functions? (Y/n)\")\n",
    "# if yeast_esr_flag=='Y':\n",
    "#     yeast_esr_exp_path = os.path.normpath('C:/Users/bheineike/Documents/GitHub/yeast_esr_expression_analysis') + os.sep\n",
    "#     #io_library_path_core = io_library_path + 'core' + os.sep\n",
    "#     if not(yeast_esr_exp_path in sys.path):\n",
    "#         sys.path.append(yeast_esr_exp_path)\n",
    "#         print(\"Added \" + yeast_esr_exp_path + \" to path\" )\n",
    "#     from yeast_esr_exp import read_SGD_features\n",
    "#     #yeast_esr_exp.base_dir = yeast_esr_exp_path\n",
    "#     #yeast_esr_exp.data_processing_dir = yeast_esr_exp_path + os.path.normpath('expression_data') + os.sep\n",
    "\n",
    "\n",
    "#from Bio import AlignIO   #, Align\n",
    "#import shutil\n",
    "\n",
    "\n",
    "\n",
    "\n",
    "base_dir = os.path.normpath('G:/My Drive/Crick_LMS/projects/diverse_yeasts/alphafold')\n",
    "\n",
    "summary_data_dir = base_dir + os.sep + os.path.normpath('/Output/Summary')\n",
    "\n",
    "#Load dictionary to translate 3 letter aa code to 1 letter aa code\n",
    "trans_dict = SeqUtils.IUPACData.protein_letters_3to1\n",
    "\n",
    "#SC_orfs_lookup, SC_genename_lookup, SC_features_lookup = read_SGD_features(sgd_features_fname='G:/My Drive/Crick_LMS/external_data/genomes/saccharomyces_cerevisiae/SGD_features.tab')"
   ]
  },
  {
   "cell_type": "code",
   "execution_count": 62,
   "id": "64b20ed1-b195-4ac0-ad5e-e21d568a502d",
   "metadata": {
    "tags": []
   },
   "outputs": [],
   "source": [
    "# First Feature:  Binding Site\n",
    "feature='binding_site'\n",
    "min_feature_size = 5\n",
    "feature_subset_dir = base_dir + os.sep + os.path.normpath('msas/structural/tm_align/feature_subsets/' + feature) + os.sep\n"
   ]
  },
  {
   "cell_type": "code",
   "execution_count": 23,
   "id": "48033ad0-7e33-439e-af65-82c577c9c261",
   "metadata": {
    "tags": []
   },
   "outputs": [
    {
     "name": "stdout",
     "output_type": "stream",
     "text": [
      "OG1022_REF_Scer_AF-P49954-F1-model_v2\n",
      "No uniprot_active_site for OG1022_REF_Scer_AF-P49954-F1-model_v2\n",
      "OG1056_REF_Scer_AF-P21954-F1-model_v2\n"
     ]
    },
    {
     "ename": "FileNotFoundError",
     "evalue": "[Errno 2] No such file or directory: 'G:\\\\My Drive\\\\Crick_LMS\\\\projects\\\\diverse_yeasts\\\\alphafold\\\\msas\\\\structural\\\\tm_align\\\\feature_subsets\\\\uniprot_active_site\\\\fasta_renamed\\\\OG1056_REF_Scer_AF-P21954-F1-model_v2.tm.fasta'",
     "output_type": "error",
     "traceback": [
      "\u001b[1;31m---------------------------------------------------------------------------\u001b[0m",
      "\u001b[1;31mFileNotFoundError\u001b[0m                         Traceback (most recent call last)",
      "Cell \u001b[1;32mIn[23], line 88\u001b[0m\n\u001b[0;32m     86\u001b[0m \u001b[38;5;66;03m#Save alignment subset\u001b[39;00m\n\u001b[0;32m     87\u001b[0m aln_subset_fname_out \u001b[38;5;241m=\u001b[39m feature_subset_dir \u001b[38;5;241m+\u001b[39m os\u001b[38;5;241m.\u001b[39mpath\u001b[38;5;241m.\u001b[39mnormpath(\u001b[38;5;124m'\u001b[39m\u001b[38;5;124mfasta_renamed/\u001b[39m\u001b[38;5;124m'\u001b[39m \u001b[38;5;241m+\u001b[39m og_ref \u001b[38;5;241m+\u001b[39m \u001b[38;5;124m'\u001b[39m\u001b[38;5;124m.tm.fasta\u001b[39m\u001b[38;5;124m'\u001b[39m)\n\u001b[1;32m---> 88\u001b[0m \u001b[38;5;28;01mwith\u001b[39;00m \u001b[38;5;28mopen\u001b[39m(aln_subset_fname_out,\u001b[38;5;124m'\u001b[39m\u001b[38;5;124mw\u001b[39m\u001b[38;5;124m'\u001b[39m) \u001b[38;5;28;01mas\u001b[39;00m f_out: \n\u001b[0;32m     89\u001b[0m     \u001b[38;5;28;01mfor\u001b[39;00m record \u001b[38;5;129;01min\u001b[39;00m aln_subset:\n\u001b[0;32m     90\u001b[0m         f_out\u001b[38;5;241m.\u001b[39mwrite(\u001b[38;5;124m'\u001b[39m\u001b[38;5;124m>\u001b[39m\u001b[38;5;124m'\u001b[39m \u001b[38;5;241m+\u001b[39m record\u001b[38;5;241m.\u001b[39mid \u001b[38;5;241m+\u001b[39m \u001b[38;5;124m'\u001b[39m\u001b[38;5;130;01m\\n\u001b[39;00m\u001b[38;5;124m'\u001b[39m)   \u001b[38;5;66;03m# Could add a length to this\u001b[39;00m\n",
      "File \u001b[1;32m~\\anaconda3\\envs\\bmh_bioinformatics\\Lib\\site-packages\\IPython\\core\\interactiveshell.py:286\u001b[0m, in \u001b[0;36m_modified_open\u001b[1;34m(file, *args, **kwargs)\u001b[0m\n\u001b[0;32m    279\u001b[0m \u001b[38;5;28;01mif\u001b[39;00m file \u001b[38;5;129;01min\u001b[39;00m {\u001b[38;5;241m0\u001b[39m, \u001b[38;5;241m1\u001b[39m, \u001b[38;5;241m2\u001b[39m}:\n\u001b[0;32m    280\u001b[0m     \u001b[38;5;28;01mraise\u001b[39;00m \u001b[38;5;167;01mValueError\u001b[39;00m(\n\u001b[0;32m    281\u001b[0m         \u001b[38;5;124mf\u001b[39m\u001b[38;5;124m\"\u001b[39m\u001b[38;5;124mIPython won\u001b[39m\u001b[38;5;124m'\u001b[39m\u001b[38;5;124mt let you open fd=\u001b[39m\u001b[38;5;132;01m{\u001b[39;00mfile\u001b[38;5;132;01m}\u001b[39;00m\u001b[38;5;124m by default \u001b[39m\u001b[38;5;124m\"\u001b[39m\n\u001b[0;32m    282\u001b[0m         \u001b[38;5;124m\"\u001b[39m\u001b[38;5;124mas it is likely to crash IPython. If you know what you are doing, \u001b[39m\u001b[38;5;124m\"\u001b[39m\n\u001b[0;32m    283\u001b[0m         \u001b[38;5;124m\"\u001b[39m\u001b[38;5;124myou can use builtins\u001b[39m\u001b[38;5;124m'\u001b[39m\u001b[38;5;124m open.\u001b[39m\u001b[38;5;124m\"\u001b[39m\n\u001b[0;32m    284\u001b[0m     )\n\u001b[1;32m--> 286\u001b[0m \u001b[38;5;28;01mreturn\u001b[39;00m io_open(file, \u001b[38;5;241m*\u001b[39margs, \u001b[38;5;241m*\u001b[39m\u001b[38;5;241m*\u001b[39mkwargs)\n",
      "\u001b[1;31mFileNotFoundError\u001b[0m: [Errno 2] No such file or directory: 'G:\\\\My Drive\\\\Crick_LMS\\\\projects\\\\diverse_yeasts\\\\alphafold\\\\msas\\\\structural\\\\tm_align\\\\feature_subsets\\\\uniprot_active_site\\\\fasta_renamed\\\\OG1056_REF_Scer_AF-P21954-F1-model_v2.tm.fasta'"
     ]
    }
   ],
   "source": [
    "# Trim Alignment by Structural Feature\n",
    "\n",
    "#  Note:  Need to make fasta_renamed and cds_align folders before running this\n",
    "#  This routine makes alignments (stored in feature_subsets/<feature>/fasta_renamed) and cds alignments (stored in feature_subsets/<feature>/cds_aln) for just the specified feature\n",
    "\n",
    "#Example OG1316_REF_Scer_AF-P19097-F1-model_v2 -- FAS2 as it is an enzyme with a less conserved binding site\n",
    "#og_ref = 'OG1316_REF_Scer_AF-P19097-F1-model_v2'\n",
    "\n",
    "feature_sizes = {}\n",
    "\n",
    "\n",
    "for fasta_file in os.listdir(base_dir + os.sep + os.path.normpath('msas/structural/tm_align/fasta_renamed/')):\n",
    "    og_ref = fasta_file.split('.')[0]\n",
    "    print(og_ref)\n",
    "\n",
    "    ref = '_'.join(og_ref.split('_')[1:])\n",
    "     \n",
    "    \n",
    "    if ref+'.pkl' in os.listdir(summary_data_dir): \n",
    "        #Load Summary data for given og_ref\n",
    "        og_summary_fname = summary_data_dir + os.sep + ref + '.pkl'\n",
    "        with open(og_summary_fname, 'rb') as f_in:\n",
    "                og_summary = pickle.load(f_in)\n",
    "\n",
    "        #Check to see if the feature exists for that protein\n",
    "        if 'Binding Site' in set(og_summary['Mapping Colors'].keys()):\n",
    "\n",
    "            aln_fname = base_dir + os.sep + os.path.normpath('msas/structural/tm_align/fasta_renamed/' + og_ref + '.tm.fasta')\n",
    "            aln = AlignIO.read(open(aln_fname),'fasta')\n",
    "\n",
    "            aln_cds_fname = base_dir + os.sep + os.path.normpath('msas/structural/tm_align/cds_aln/' + og_ref + '.tm.cds.aln.fasta')\n",
    "            aln_cds = AlignIO.read(open(aln_cds_fname),'fasta')\n",
    "\n",
    "\n",
    "            #Load alignment and make dictionary to map ref structure coordinates to alignment coordinates\n",
    "\n",
    "            ref_ind=None\n",
    "            for (jj, record) in enumerate(aln): \n",
    "                if ref == record.id.split('.')[0]:\n",
    "                    ref_ind = jj\n",
    "\n",
    "            #Get map for reference sequence from msa index\n",
    "            ref_seq_from_msa = str(aln[ref_ind,:].seq)\n",
    "            ref_seq, msa2ref, ref2msa, pair_mapping = dyt.seq_squeeze(ref_seq_from_msa)\n",
    "\n",
    "\n",
    "            #Get list of indices for the feature   \n",
    "            feat_inds_ref = []\n",
    "            for jj, feature_present in enumerate((og_summary['Mapping Colors']['Binding Site']==1)): \n",
    "                if feature_present:\n",
    "                    feat_inds_ref.append(jj)\n",
    "\n",
    "            feature_size = len(feat_inds_ref)\n",
    "            feature_sizes[og_ref] = feature_size\n",
    "\n",
    "            if feature_size>= min_feature_size: \n",
    "                feat_inds_msa = []\n",
    "\n",
    "\n",
    "                for feat_ind in feat_inds_ref: \n",
    "                    feat_inds_msa.append(ref2msa[feat_ind])\n",
    "\n",
    "                    #Verify seq_squeeze is mapping correctly\n",
    "                    assert (ref_seq[feat_ind] == ref_seq_from_msa[ref2msa[feat_ind]]), \"bad mapping to ref from seq_squeeze\"\n",
    "\n",
    "                    #Verify identical sequence in tm_align reference and in Output/Summary data\n",
    "                    aa_3L_caps = og_summary['Mapping']['Amino Acid'][0,:][feat_ind]\n",
    "                    aa_3L = aa_3L_caps[0] + aa_3L_caps[1:].lower()\n",
    "                    trans_dict[aa_3L]\n",
    "                    assert (ref_seq[feat_ind] == trans_dict[aa_3L]), \"Difference in sequence between tm_align alignment and Output/Summary data: \" + og_ref + ' ' + str(feat_ind) + ' ' + ref_seq[feat_ind] + ' vs ' + aa3L \n",
    "\n",
    "                #Extract Alignment Subsets\n",
    "                #A more efficient way of doing this is here: https://www.biostars.org/p/460408/\n",
    "                #Converts alignment to numpy array then converts back to aln object\n",
    "\n",
    "                aln_temp = aln[:,0:0]\n",
    "                aln_cds_temp = aln_cds[:,0:0]\n",
    "\n",
    "                for x in feat_inds_msa:\n",
    "                    aln_subset = aln_temp[:,:] + aln[:, (x-1):x]\n",
    "                    aln_temp = aln_subset\n",
    "\n",
    "                    aln_cds_subset = aln_cds_temp[:,:] + aln_cds[:, (3*(x-1)):(3*x)]\n",
    "                    aln_cds_temp = aln_cds_subset\n",
    "\n",
    "                #Save alignment subset\n",
    "                aln_subset_fname_out = feature_subset_dir + os.path.normpath('fasta_renamed/' + og_ref + '.tm.fasta')\n",
    "                with open(aln_subset_fname_out,'w') as f_out: \n",
    "                    for record in aln_subset:\n",
    "                        f_out.write('>' + record.id + '\\n')   # Could add a length to this\n",
    "                        f_out.write(str(record.seq) + '\\n')\n",
    "\n",
    "                aln_cds_subset_fname_out = feature_subset_dir + os.path.normpath('cds_aln/' + og_ref + '.tm.cds.aln.fasta')\n",
    "                with open(aln_cds_subset_fname_out,'w') as f_out: \n",
    "                    for record in aln_cds_subset:\n",
    "                        f_out.write('>' + record.id + '\\n')   # Could add a length to this\n",
    "                        f_out.write(str(record.seq) + '\\n')\n",
    "            else: \n",
    "                print(feature + ' size of ' + str(feature_size) + ' below threshold size of ' + str(min_feature_size))\n",
    "\n",
    "        else: \n",
    "            print('No ' + feature + ' for ' + og_ref)\n",
    "    \n",
    "    else: \n",
    "        print('No .pkl file for ' + og_ref)"
   ]
  },
  {
   "cell_type": "code",
   "execution_count": 63,
   "id": "63bd5758-25ba-4daa-842b-0ef96b47e534",
   "metadata": {
    "tags": []
   },
   "outputs": [],
   "source": [
    "with open(feature_subset_dir + os.sep + 'feature_sizes.pkl', 'wb') as f_out: \n",
    "    pickle.dump(feature_sizes, f_out)"
   ]
  },
  {
   "cell_type": "code",
   "execution_count": 60,
   "id": "4b68f998-aa89-494c-85be-6d1491e9f1a2",
   "metadata": {
    "tags": []
   },
   "outputs": [],
   "source": [
    "feature_sizes = {'OG1004_REF_Scer_AF-P15938-F1-model_v2': 45,\n",
    " 'OG1004_REF_Scer_AF-P40459-F1-model_v2': 18,\n",
    " 'OG1054_REF_Scer_AF-P16861-F1-model_v2': 31,\n",
    " 'OG1055_REF_Scer_AF-P52910-F1-model_v2': 22,\n",
    " 'OG1056_REF_Scer_AF-P21954-F1-model_v2': 43,\n",
    " 'OG1060_REF_Scer_AF-P06169-F1-model_v2': 56,\n",
    " 'OG1060_REF_Scer_AF-P50873-F1-model_v2': 131,\n",
    " 'OG1070_REF_Scer_AF-P21524-F1-model_v2': 89,\n",
    " 'OG1112_REF_Scer_AF-P23254-F1-model_v2': 39,\n",
    " 'OG1145_REF_Scer_AF-P00358-F1-model_v2': 37,\n",
    " 'OG1180_REF_Scer_AF-P41903-F1-model_v2': 8,\n",
    " 'OG1193_REF_Scer_AF-P00924-F1-model_v2': 38,\n",
    " 'OG1208_REF_Scer_AF-P04806-F1-model_v2': 15,\n",
    " 'OG1266_REF_Scer_AF-P23337-F1-model_v2': 92,\n",
    " 'OG1299_REF_Scer_AF-P00549-F1-model_v2': 41,\n",
    " 'OG1310_REF_Scer_AF-P15202-F1-model_v2': 34,\n",
    " 'OG1316_REF_Scer_AF-P19097-F1-model_v2': 95,\n",
    " 'OG1364_REF_Scer_AF-P27796-F1-model_v2': 26,\n",
    " 'OG1365_REF_Scer_AF-P29509-F1-model_v2': 69,\n",
    " 'OG1377_REF_Scer_AF-P53090-F1-model_v2': 28,\n",
    " 'OG1388_REF_Scer_AF-P07342-F1-model_v2': 101,\n",
    " 'OG1414_REF_Scer_AF-P06700-F1-model_v2': 54,\n",
    " 'OG1424_REF_Scer_AF-P00560-F1-model_v2': 74,\n",
    " 'OG1451_REF_Scer_AF-P38998-F1-model_v2': 45,\n",
    " 'OG1463_REF_Scer_AF-P07149-F1-model_v2': 33,\n",
    " 'OG1487_REF_Scer_AF-P09938-F1-model_v2': 7,\n",
    " 'OG1488_REF_Scer_AF-P38720-F1-model_v2': 18,\n",
    " 'OG1537_REF_Scer_AF-P32288-F1-model_v2': 14,\n",
    " 'OG1567_REF_Scer_AF-P17695-F1-model_v2': 18,\n",
    " 'OG1603_REF_Scer_AF-P16120-F1-model_v2': 20,\n",
    " 'OG1603_REF_Scer_AF-P25632-F1-model_v2': 3,\n",
    " 'OG1629_REF_Scer_AF-P09624-F1-model_v2': 69,\n",
    " 'OG1630_REF_Scer_AF-P50264-F1-model_v2': 77,\n",
    " 'OG1631_REF_Scer_AF-P22217-F1-model_v2': 13,\n",
    " 'OG1650_REF_Scer_AF-P23542-F1-model_v2': 28,\n",
    " 'OG1667_REF_Scer_AF-P15019-F1-model_v2': 91,\n",
    " 'OG1674_REF_Scer_AF-P13298-F1-model_v2': 23,\n",
    " 'OG1684_REF_Scer_AF-P41921-F1-model_v2': 100,\n",
    " 'OG1767_REF_Scer_AF-P05373-F1-model_v2': 37,\n",
    " 'OG1786_REF_Scer_AF-P28241-F1-model_v2': 5,\n",
    " 'OG1807_REF_Scer_AF-Q05871-F1-model_v2': 60,\n",
    " 'OG1810_REF_Scer_AF-P31116-F1-model_v2': 37,\n",
    " 'OG1822_REF_Scer_AF-P43616-F1-model_v2': 9,\n",
    " 'OG1835_REF_Scer_AF-P17505-F1-model_v2': 6,\n",
    " 'OG1933_REF_Scer_AF-P40545-F1-model_v2': 28,\n",
    " 'OG1975_REF_Scer_AF-P15454-F1-model_v2': 8,\n",
    " 'OG1979_REF_Scer_AF-P00445-F1-model_v2': 16,\n",
    " 'OG2006_REF_Scer_AF-P07257-F1-model_v2': 0,\n",
    " 'OG2031_REF_Scer_AF-Q08220-F1-model_v2': 43,\n",
    " 'OG2074_REF_Scer_AF-Q02046-F1-model_v2': 21,\n",
    " 'OG2186_REF_Scer_AF-P32477-F1-model_v2': 67,\n",
    " 'OG2197_REF_Scer_AF-P00942-F1-model_v2': 45,\n",
    " 'OG2248_REF_Scer_AF-P07143-F1-model_v2': 68,\n",
    " 'OG2356_REF_Scer_AF-P33312-F1-model_v2': 31,\n",
    " 'OG2357_REF_Scer_AF-P33734-F1-model_v2': 33,\n",
    " 'OG2365_REF_Scer_AF-P08536-F1-model_v2': 116,\n",
    " 'OG2380_REF_Scer_AF-P53848-F1-model_v2': 36,\n",
    " 'OG2453_REF_Scer_AF-P27616-F1-model_v2': 81,\n",
    " 'OG2537_REF_Scer_AF-P11353-F1-model_v2': 9,\n",
    " 'OG2573_REF_Scer_AF-P38075-F1-model_v2': 24,\n",
    " 'OG2654_REF_Scer_AF-P00572-F1-model_v2': 31,\n",
    " 'OG2677_REF_Scer_AF-P28834-F1-model_v2': 24,\n",
    " 'OG2740_REF_Scer_AF-P07170-F1-model_v2': 53,\n",
    " 'OG2765_REF_Scer_AF-Q3E840-F1-model_v2': 11,\n",
    " 'OG2794_REF_Scer_AF-P00950-F1-model_v2': 21,\n",
    " 'OG2841_REF_Scer_AF-P06738-F1-model_v2': 19,\n",
    " 'OG2845_REF_Scer_AF-P43577-F1-model_v2': 31,\n",
    " 'OG2871_REF_Scer_AF-P18408-F1-model_v2': 29,\n",
    " 'OG2906_REF_Scer_AF-P32178-F1-model_v2': 15,\n",
    " 'OG2960_REF_Scer_AF-P16622-F1-model_v2': 4,\n",
    " 'OG3001_REF_Scer_AF-P15807-F1-model_v2': 23,\n",
    " 'OG3074_REF_Scer_AF-P38913-F1-model_v2': 27,\n",
    " 'OG3114_REF_Scer_AF-P35202-F1-model_v2': 13,\n",
    " 'OG3185_REF_Scer_AF-P00447-F1-model_v2': 9,\n",
    " 'OG3208_REF_Scer_AF-P00128-F1-model_v2': 3,\n",
    " 'OG3214_REF_Scer_AF-P11986-F1-model_v2': 56,\n",
    " 'OG3241_REF_Scer_AF-P40363-F1-model_v2': 4,\n",
    " 'OG3319_REF_Scer_AF-P32626-F1-model_v2': 23,\n",
    " 'OG3336_REF_Scer_AF-P43567-F1-model_v2': 19,\n",
    " 'OG3394_REF_Scer_AF-Q03266-F1-model_v2': 21,\n",
    " 'OG3488_REF_Scer_AF-P53184-F1-model_v2': 13,\n",
    " 'OG3505_REF_Scer_AF-P04037-F1-model_v2': 11,\n",
    " 'OG3509_REF_Scer_AF-P43619-F1-model_v2': 25,\n",
    " 'OG3575_REF_Scer_AF-P08067-F1-model_v2': 30,\n",
    " 'OG3679_REF_Scer_AF-Q12051-F1-model_v2': 47,\n",
    " 'OG3702_REF_Scer_AF-P03962-F1-model_v2': 29,\n",
    " 'OG3767_REF_Scer_AF-P39683-F1-model_v2': 0,\n",
    " 'OG3935_REF_Scer_AF-P38169-F1-model_v2': 41,\n",
    " 'OG3978_REF_Scer_AF-P31373-F1-model_v2': 20,\n",
    " 'OG3994_REF_Scer_AF-P04397-F1-model_v2': 67,\n",
    " 'OG4004_REF_Scer_AF-Q12178-F1-model_v2': 25,\n",
    " 'OG4010_REF_Scer_AF-P50861-F1-model_v2': 27,\n",
    " 'OG4102_REF_Scer_AF-P47096-F1-model_v2': 13,\n",
    " 'OG4150_REF_Scer_AF-P07256-F1-model_v2': 9,\n",
    " 'OG4231_REF_Scer_AF-P04385-F1-model_v2': 43,\n",
    " 'OG4250_REF_Scer_AF-P35731-F1-model_v2': 43,\n",
    " 'OG4312_REF_Scer_AF-P38115-F1-model_v2': 33,\n",
    " 'OG4312_REF_Scer_AF-P38280-F1-model_v2': 26,\n",
    " 'OG4352_REF_Scer_AF-P00127-F1-model_v2': 17,\n",
    " 'OG4360_REF_Scer_AF-P08525-F1-model_v2': 7,\n",
    " 'OG4396_REF_Scer_AF-Q06549-F1-model_v2': 6,\n",
    " 'OG4398_REF_Scer_AF-Q04178-F1-model_v2': 31,\n",
    " 'OG4463_REF_Scer_AF-Q04066-F1-model_v2': 13,\n",
    " 'OG4665_REF_Scer_AF-P32449-F1-model_v2': 48,\n",
    " 'OG4744_REF_Scer_AF-P22289-F1-model_v2': 12,\n",
    " 'OG5096_REF_Scer_AF-P42883-F1-model_v2': 0,\n",
    " 'OG5490_REF_Scer_AF-P32340-F1-model_v2': 138}"
   ]
  },
  {
   "cell_type": "code",
   "execution_count": 7,
   "id": "7193c21b-2ff3-4a18-91d1-ebbe29969470",
   "metadata": {
    "tags": []
   },
   "outputs": [
    {
     "name": "stdout",
     "output_type": "stream",
     "text": [
      "107 files that had binding sites identified\n",
      "100 binding sites with binding site size greater than 5\n"
     ]
    }
   ],
   "source": [
    "print(str(len(feature_sizes)) + \" files that had binding sites identified\")\n",
    "print(str(len([feature for feature, size in feature_sizes.items() if size >= min_feature_size])) + \" binding sites with binding site size greater than \" + str(min_feature_size))"
   ]
  },
  {
   "cell_type": "markdown",
   "id": "b4afabf7-63fb-4a7b-831c-aab75a1695b5",
   "metadata": {},
   "source": [
    "## Calculate M0 for Binding sites as defined by Uniprot"
   ]
  },
  {
   "cell_type": "code",
   "execution_count": 64,
   "id": "3fa6419d-66ad-424e-9bd9-8d1dfda616bd",
   "metadata": {
    "tags": []
   },
   "outputs": [],
   "source": [
    "# Second Feature:  Uniprot Binding Site\n",
    "feature=  'uniprot_binding_site' #'uniprot_active_site' #\n",
    "min_feature_size = 5\n",
    "feature_subset_dir = base_dir + os.sep + os.path.normpath('msas/structural/tm_align/feature_subsets/' + feature) + os.sep"
   ]
  },
  {
   "cell_type": "code",
   "execution_count": 27,
   "id": "3a498976-11bc-490a-a401-e256a7222318",
   "metadata": {
    "tags": []
   },
   "outputs": [
    {
     "name": "stdout",
     "output_type": "stream",
     "text": [
      "building feature alignment for OG1056_REF_Scer_AF-P21954-F1-model_v2\n",
      "building feature alignment for OG1055_REF_Scer_AF-P52910-F1-model_v2\n",
      "building feature alignment for OG1039_REF_Scer_AF-P19414-F1-model_v2\n",
      "building feature alignment for OG1016_REF_Scer_AF-P00330-F1-model_v2\n",
      "building feature alignment for OG1087_REF_Scer_AF-P39518-F1-model_v2\n",
      "building feature alignment for OG1032_REF_Scer_AF-P03965-F1-model_v2\n",
      "building feature alignment for OG1022_REF_Scer_AF-P38715-F1-model_v2\n",
      "OG1052_REF_Scer_AF-P07245-F1-model_v2 removed because NaN present in uniprot data\n",
      "building feature alignment for OG1021_REF_Scer_AF-P40047-F1-model_v2\n",
      "OG1157_REF_Scer_AF-P17649-F1-model_v2 removed because feature size < min feature size of 5\n",
      "building feature alignment for OG1145_REF_Scer_AF-P00358-F1-model_v2\n",
      "building feature alignment for OG1193_REF_Scer_AF-P00924-F1-model_v2\n",
      "OG1111_REF_Scer_AF-P49367-F1-model_v2 removed because feature size < min feature size of 5\n",
      "building feature alignment for OG1208_REF_Scer_AF-P04806-F1-model_v2\n",
      "OG1168_REF_Scer_AF-P32528-F1-model_v2 removed because NaN present in uniprot data\n",
      "building feature alignment for OG1137_REF_Scer_AF-P41911-F1-model_v2\n",
      "building feature alignment for OG1112_REF_Scer_AF-P23254-F1-model_v2\n",
      "OG1303_REF_Scer_AF-P28496-F1-model_v2 removed because NaN present in uniprot data\n",
      "building feature alignment for OG1275_REF_Scer_AF-P47052-F1-model_v2\n",
      "building feature alignment for OG1316_REF_Scer_AF-P19097-F1-model_v2\n",
      "OG1254_REF_Scer_AF-Q01519-F1-model_v2 removed because NaN present in uniprot data\n",
      "OG1276_REF_Scer_AF-P36013-F1-model_v2 removed because feature size < min feature size of 5\n",
      "OG1310_REF_Scer_AF-P15202-F1-model_v2 removed because feature size < min feature size of 5\n",
      "building feature alignment for OG1218_REF_Scer_AF-P08417-F1-model_v2\n",
      "OG1254_REF_Scer_AF-P40395-F1-model_v2 removed because NaN present in uniprot data\n",
      "building feature alignment for OG1299_REF_Scer_AF-P00549-F1-model_v2\n",
      "building feature alignment for OG1313_REF_Scer_AF-P11154-F1-model_v2\n",
      "building feature alignment for OG1302_REF_Scer_AF-P33401-F1-model_v2\n",
      "building feature alignment for OG1240_REF_Scer_AF-P30624-F1-model_v2\n",
      "OG1266_REF_Scer_AF-P23337-F1-model_v2 removed because feature size < min feature size of 5\n",
      "OG1287_REF_Scer_AF-P37298-F1-model_v2 removed because NaN present in uniprot data\n",
      "building feature alignment for OG1273_REF_Scer_AF-P40012-F1-model_v2\n",
      "building feature alignment for OG1318_REF_Scer_AF-Q06147-F1-model_v2\n",
      "OG1377_REF_Scer_AF-P53090-F1-model_v2 removed because NaN present in uniprot data\n",
      "OG1394_REF_Scer_AF-Q12362-F1-model_v2 removed because NaN present in uniprot data\n",
      "building feature alignment for OG1414_REF_Scer_AF-P06700-F1-model_v2\n",
      "OG1355_REF_Scer_AF-P10614-F1-model_v2 removed because feature size < min feature size of 5\n",
      "building feature alignment for OG1333_REF_Scer_AF-P11412-F1-model_v2\n",
      "OG1322_REF_Scer_AF-P38009-F1-model_v2 removed because NaN present in uniprot data\n",
      "OG1422_REF_Scer_AF-P07264-F1-model_v2 removed because feature size < min feature size of 5\n",
      "building feature alignment for OG1388_REF_Scer_AF-P07342-F1-model_v2\n",
      "building feature alignment for OG1354_REF_Scer_AF-P38697-F1-model_v2\n",
      "building feature alignment for OG1380_REF_Scer_AF-Q07729-F1-model_v2\n",
      "building feature alignment for OG1337_REF_Scer_AF-P32356-F1-model_v2\n",
      "building feature alignment for OG1329_REF_Scer_AF-P17709-F1-model_v2\n",
      "building feature alignment for OG1365_REF_Scer_AF-P29509-F1-model_v2\n",
      "building feature alignment for OG1470_REF_Scer_AF-P21147-F1-model_v2\n",
      "building feature alignment for OG1473_REF_Scer_AF-P53204-F1-model_v2\n",
      "building feature alignment for OG1487_REF_Scer_AF-P09938-F1-model_v2\n",
      "building feature alignment for OG1488_REF_Scer_AF-P38720-F1-model_v2\n",
      "building feature alignment for OG1445_REF_Scer_AF-P39522-F1-model_v2\n",
      "building feature alignment for OG1458_REF_Scer_AF-Q08911-F1-model_v2\n",
      "building feature alignment for OG1433_REF_Scer_AF-P40054-F1-model_v2\n",
      "building feature alignment for OG1432_REF_Scer_AF-P14540-F1-model_v2\n",
      "building feature alignment for OG1451_REF_Scer_AF-P38998-F1-model_v2\n",
      "building feature alignment for OG1424_REF_Scer_AF-P00560-F1-model_v2\n",
      "building feature alignment for OG1434_REF_Scer_AF-P25340-F1-model_v2\n",
      "building feature alignment for OG1567_REF_Scer_AF-P17695-F1-model_v2\n",
      "building feature alignment for OG1521_REF_Scer_AF-P32771-F1-model_v2\n",
      "OG1556_REF_Scer_AF-P32895-F1-model_v2 removed because feature size < min feature size of 5\n",
      "building feature alignment for OG1589_REF_Scer_AF-Q12680-F1-model_v2\n",
      "building feature alignment for OG1516_REF_Scer_AF-P10659-F1-model_v2\n",
      "OG1596_REF_Scer_AF-P54781-F1-model_v2 removed because feature size < min feature size of 5\n",
      "OG1564_REF_Scer_AF-P08019-F1-model_v2 removed because feature size < min feature size of 5\n",
      "building feature alignment for OG1595_REF_Scer_AF-P07275-F1-model_v2\n",
      "building feature alignment for OG1498_REF_Scer_AF-Q06702-F1-model_v2\n",
      "OG1597_REF_Scer_AF-P47169-F1-model_v2 removed because feature size < min feature size of 5\n",
      "building feature alignment for OG1569_REF_Scer_AF-P06168-F1-model_v2\n",
      "OG1621_REF_Scer_AF-P08566-F1-model_v2 removed because NaN present in uniprot data\n",
      "building feature alignment for OG1617_REF_Scer_AF-P05150-F1-model_v2\n",
      "building feature alignment for OG1622_REF_Scer_AF-P15274-F1-model_v2\n",
      "building feature alignment for OG1694_REF_Scer_AF-P39713-F1-model_v2\n",
      "building feature alignment for OG1671_REF_Scer_AF-P32861-F1-model_v2\n",
      "building feature alignment for OG1674_REF_Scer_AF-P13298-F1-model_v2\n",
      "building feature alignment for OG1629_REF_Scer_AF-P09624-F1-model_v2\n",
      "OG1631_REF_Scer_AF-P22217-F1-model_v2 removed because NaN present in uniprot data\n",
      "building feature alignment for OG1684_REF_Scer_AF-P41921-F1-model_v2\n",
      "OG1650_REF_Scer_AF-P23542-F1-model_v2 removed because feature size < min feature size of 5\n",
      "building feature alignment for OG1753_REF_Scer_AF-Q00764-F1-model_v2\n",
      "building feature alignment for OG1767_REF_Scer_AF-P05373-F1-model_v2\n",
      "building feature alignment for OG1779_REF_Scer_AF-P38625-F1-model_v2\n",
      "OG1758_REF_Scer_AF-Q03529-F1-model_v2 removed because NaN present in uniprot data\n",
      "building feature alignment for OG1744_REF_Scer_AF-P32264-F1-model_v2\n",
      "building feature alignment for OG1774_REF_Scer_AF-P38972-F1-model_v2\n",
      "building feature alignment for OG1696_REF_Scer_AF-P53598-F1-model_v2\n",
      "building feature alignment for OG1697_REF_Scer_AF-P32469-F1-model_v2\n",
      "building feature alignment for OG1786_REF_Scer_AF-P28241-F1-model_v2\n",
      "building feature alignment for OG1785_REF_Scer_AF-P25578-F1-model_v2\n",
      "OG1746_REF_Scer_AF-P32642-F1-model_v2 removed because NaN present in uniprot data\n",
      "building feature alignment for OG1815_REF_Scer_AF-P09201-F1-model_v2\n",
      "OG1880_REF_Scer_AF-P29952-F1-model_v2 removed because feature size < min feature size of 5\n",
      "building feature alignment for OG1899_REF_Scer_AF-P09950-F1-model_v2\n",
      "building feature alignment for OG1810_REF_Scer_AF-P31116-F1-model_v2\n",
      "building feature alignment for OG1857_REF_Scer_AF-P38795-F1-model_v2\n",
      "building feature alignment for OG1835_REF_Scer_AF-P17505-F1-model_v2\n",
      "building feature alignment for OG1892_REF_Scer_AF-P07262-F1-model_v2\n",
      "OG1819_REF_Scer_AF-P04046-F1-model_v2 removed because feature size < min feature size of 5\n",
      "building feature alignment for OG1807_REF_Scer_AF-Q05871-F1-model_v2\n",
      "building feature alignment for OG1822_REF_Scer_AF-P43616-F1-model_v2\n",
      "OG1854_REF_Scer_AF-P40487-F1-model_v2 removed because feature size < min feature size of 5\n",
      "building feature alignment for OG1813_REF_Scer_AF-P05694-F1-model_v2\n",
      "building feature alignment for OG1897_REF_Scer_AF-P41338-F1-model_v2\n",
      "building feature alignment for OG1881_REF_Scer_AF-P10963-F1-model_v2\n",
      "OG1825_REF_Scer_AF-P07244-F1-model_v2 removed because NaN present in uniprot data\n",
      "building feature alignment for OG1883_REF_Scer_AF-P13663-F1-model_v2\n",
      "OG2007_REF_Scer_AF-Q12265-F1-model_v2 removed because feature size < min feature size of 5\n",
      "OG1959_REF_Scer_AF-P32473-F1-model_v2 removed because feature size < min feature size of 5\n",
      "building feature alignment for OG2031_REF_Scer_AF-Q08220-F1-model_v2\n",
      "building feature alignment for OG1979_REF_Scer_AF-P00445-F1-model_v2\n",
      "building feature alignment for OG1935_REF_Scer_AF-P38999-F1-model_v2\n",
      "OG1955_REF_Scer_AF-P32461-F1-model_v2 removed because NaN present in uniprot data\n",
      "OG2006_REF_Scer_AF-P07257-F1-model_v2 removed because NaN present in uniprot data\n",
      "building feature alignment for OG1977_REF_Scer_AF-P38066-F1-model_v2\n",
      "building feature alignment for OG1975_REF_Scer_AF-P15454-F1-model_v2\n",
      "building feature alignment for OG2028_REF_Scer_AF-P00899-F1-model_v2\n",
      "building feature alignment for OG2086_REF_Scer_AF-P80210-F1-model_v2\n",
      "building feature alignment for OG2056_REF_Scer_AF-P20051-F1-model_v2\n",
      "building feature alignment for OG2038_REF_Scer_AF-P12709-F1-model_v2\n",
      "building feature alignment for OG2099_REF_Scer_AF-P28240-F1-model_v2\n",
      "OG2074_REF_Scer_AF-Q02046-F1-model_v2 removed because feature size < min feature size of 5\n",
      "building feature alignment for OG2062_REF_Scer_AF-P32347-F1-model_v2\n",
      "OG2112_REF_Scer_AF-P33421-F1-model_v2 removed because NaN present in uniprot data\n",
      "building feature alignment for OG2098_REF_Scer_AF-P32462-F1-model_v2\n",
      "building feature alignment for OG2061_REF_Scer_AF-Q99258-F1-model_v2\n",
      "building feature alignment for OG2044_REF_Scer_AF-P38225-F1-model_v2\n",
      "building feature alignment for OG2053_REF_Scer_AF-P21264-F1-model_v2\n",
      "building feature alignment for OG2116_REF_Scer_AF-P53199-F1-model_v2\n",
      "OG2113_REF_Scer_AF-P00815-F1-model_v2 removed because NaN present in uniprot data\n",
      "building feature alignment for OG2183_REF_Scer_AF-P27515-F1-model_v2\n",
      "building feature alignment for OG2129_REF_Scer_AF-P06785-F1-model_v2\n",
      "building feature alignment for OG2126_REF_Scer_AF-Q08645-F1-model_v2\n",
      "building feature alignment for OG2147_REF_Scer_AF-P39692-F1-model_v2\n",
      "building feature alignment for OG2214_REF_Scer_AF-P13259-F1-model_v2\n",
      "OG2197_REF_Scer_AF-P00942-F1-model_v2 removed because feature size < min feature size of 5\n",
      "building feature alignment for OG2218_REF_Scer_AF-P20049-F1-model_v2\n",
      "building feature alignment for OG2161_REF_Scer_AF-P46969-F1-model_v2\n",
      "building feature alignment for OG2148_REF_Scer_AF-Q05911-F1-model_v2\n",
      "building feature alignment for OG2156_REF_Scer_AF-P08524-F1-model_v2\n",
      "building feature alignment for OG2308_REF_Scer_AF-Q07938-F1-model_v2\n",
      "OG2228_REF_Scer_AF-P53037-F1-model_v2 removed because feature size < min feature size of 5\n",
      "OG2348_REF_Scer_AF-Q06625-F1-model_v2 removed because NaN present in uniprot data\n",
      "building feature alignment for OG2265_REF_Scer_AF-P07286-F1-model_v2\n",
      "OG2282_REF_Scer_AF-P49435-F1-model_v2 removed because feature size < min feature size of 5\n",
      "building feature alignment for OG2283_REF_Scer_AF-Q04212-F1-model_v2\n",
      "building feature alignment for OG2246_REF_Scer_AF-P46151-F1-model_v2\n",
      "OG2248_REF_Scer_AF-P07143-F1-model_v2 removed because feature size < min feature size of 5\n",
      "building feature alignment for OG2347_REF_Scer_AF-P07283-F1-model_v2\n",
      "building feature alignment for OG2369_REF_Scer_AF-P38145-F1-model_v2\n",
      "building feature alignment for OG2356_REF_Scer_AF-P33312-F1-model_v2\n",
      "building feature alignment for OG2455_REF_Scer_AF-P32190-F1-model_v2\n",
      "OG2380_REF_Scer_AF-P53848-F1-model_v2 removed because NaN present in uniprot data\n",
      "building feature alignment for OG2397_REF_Scer_AF-P32796-F1-model_v2\n",
      "building feature alignment for OG2365_REF_Scer_AF-P08536-F1-model_v2\n",
      "building feature alignment for OG2495_REF_Scer_AF-P53128-F1-model_v2\n",
      "OG2357_REF_Scer_AF-P33734-F1-model_v2 removed because feature size < min feature size of 5\n",
      "building feature alignment for OG2409_REF_Scer_AF-P53312-F1-model_v2\n",
      "building feature alignment for OG2578_REF_Scer_AF-Q03941-F1-model_v2\n",
      "OG2588_REF_Scer_AF-P38063-F1-model_v2 removed because feature size < min feature size of 5\n",
      "building feature alignment for OG2537_REF_Scer_AF-P11353-F1-model_v2\n",
      "building feature alignment for OG2573_REF_Scer_AF-P38075-F1-model_v2\n",
      "OG2577_REF_Scer_AF-P25605-F1-model_v2 removed because NaN present in uniprot data\n",
      "building feature alignment for OG2567_REF_Scer_AF-P24521-F1-model_v2\n",
      "building feature alignment for OG2508_REF_Scer_AF-Q12074-F1-model_v2\n",
      "building feature alignment for OG2704_REF_Scer_AF-P21801-F1-model_v2\n",
      "building feature alignment for OG2647_REF_Scer_AF-P38787-F1-model_v2\n",
      "building feature alignment for OG2684_REF_Scer_AF-P41735-F1-model_v2\n",
      "OG2645_REF_Scer_AF-P05375-F1-model_v2 removed because feature size < min feature size of 5\n",
      "OG2677_REF_Scer_AF-P28834-F1-model_v2 removed because feature size < min feature size of 5\n",
      "building feature alignment for OG2655_REF_Scer_AF-P06633-F1-model_v2\n",
      "building feature alignment for OG2678_REF_Scer_AF-P07277-F1-model_v2\n",
      "building feature alignment for OG2654_REF_Scer_AF-P00572-F1-model_v2\n",
      "building feature alignment for OG2637_REF_Scer_AF-P80235-F1-model_v2\n",
      "OG2714_REF_Scer_AF-P00427-F1-model_v2 removed because NaN present in uniprot data\n",
      "building feature alignment for OG2794_REF_Scer_AF-P00950-F1-model_v2\n",
      "building feature alignment for OG2746_REF_Scer_AF-P40495-F1-model_v2\n",
      "building feature alignment for OG2740_REF_Scer_AF-P07170-F1-model_v2\n",
      "building feature alignment for OG2808_REF_Scer_AF-P40471-F1-model_v2\n",
      "building feature alignment for OG2837_REF_Scer_AF-Q02196-F1-model_v2\n",
      "building feature alignment for OG2741_REF_Scer_AF-Q05584-F1-model_v2\n",
      "OG2765_REF_Scer_AF-Q3E840-F1-model_v2 removed because NaN present in uniprot data\n",
      "OG2774_REF_Scer_AF-P51601-F1-model_v2 removed because feature size < min feature size of 5\n",
      "building feature alignment for OG2906_REF_Scer_AF-P32178-F1-model_v2\n",
      "building feature alignment for OG2868_REF_Scer_AF-P50107-F1-model_v2\n",
      "OG2903_REF_Scer_AF-P27680-F1-model_v2 removed because NaN present in uniprot data\n",
      "building feature alignment for OG2852_REF_Scer_AF-P43123-F1-model_v2\n",
      "building feature alignment for OG2924_REF_Scer_AF-P53915-F1-model_v2\n",
      "building feature alignment for OG2845_REF_Scer_AF-P43577-F1-model_v2\n",
      "building feature alignment for OG2936_REF_Scer_AF-P00812-F1-model_v2\n",
      "building feature alignment for OG2930_REF_Scer_AF-P04173-F1-model_v2\n",
      "OG3001_REF_Scer_AF-P15807-F1-model_v2 removed because NaN present in uniprot data\n",
      "OG3048_REF_Scer_AF-Q02784-F1-model_v2 removed because NaN present in uniprot data\n",
      "building feature alignment for OG3062_REF_Scer_AF-P18900-F1-model_v2\n",
      "OG3030_REF_Scer_AF-P47095-F1-model_v2 removed because feature size < min feature size of 5\n",
      "building feature alignment for OG3043_REF_Scer_AF-P04161-F1-model_v2\n",
      "OG2968_REF_Scer_AF-P38689-F1-model_v2 removed because feature size < min feature size of 5\n",
      "OG3069_REF_Scer_AF-P49017-F1-model_v2 removed because feature size < min feature size of 5\n",
      "building feature alignment for OG3120_REF_Scer_AF-P17423-F1-model_v2\n",
      "building feature alignment for OG3100_REF_Scer_AF-P32191-F1-model_v2\n",
      "building feature alignment for OG3115_REF_Scer_AF-P38628-F1-model_v2\n",
      "OG3108_REF_Scer_AF-P00937-F1-model_v2 removed because NaN present in uniprot data\n",
      "building feature alignment for OG3074_REF_Scer_AF-P38913-F1-model_v2\n",
      "building feature alignment for OG3063_REF_Scer_AF-P36010-F1-model_v2\n",
      "OG3185_REF_Scer_AF-P00447-F1-model_v2 removed because feature size < min feature size of 5\n",
      "building feature alignment for OG3151_REF_Scer_AF-P42826-F1-model_v2\n",
      "building feature alignment for OG3196_REF_Scer_AF-P06197-F1-model_v2\n",
      "building feature alignment for OG3304_REF_Scer_AF-P32375-F1-model_v2\n",
      "OG3208_REF_Scer_AF-P00128-F1-model_v2 removed because NaN present in uniprot data\n",
      "building feature alignment for OG3214_REF_Scer_AF-P11986-F1-model_v2\n",
      "building feature alignment for OG3416_REF_Scer_AF-P40099-F1-model_v2\n",
      "building feature alignment for OG3319_REF_Scer_AF-P32626-F1-model_v2\n",
      "OG3336_REF_Scer_AF-P43567-F1-model_v2 removed because feature size < min feature size of 5\n",
      "building feature alignment for OG3313_REF_Scer_AF-P38342-F1-model_v2\n",
      "building feature alignment for OG3207_REF_Scer_AF-Q05788-F1-model_v2\n",
      "OG3241_REF_Scer_AF-P40363-F1-model_v2 removed because feature size < min feature size of 5\n",
      "OG3525_REF_Scer_AF-Q01802-F1-model_v2 removed because feature size < min feature size of 5\n",
      "OG3429_REF_Scer_AF-P39726-F1-model_v2 removed because NaN present in uniprot data\n",
      "OG3488_REF_Scer_AF-P53184-F1-model_v2 removed because feature size < min feature size of 5\n",
      "OG3499_REF_Scer_AF-P48016-F1-model_v2 removed because feature size < min feature size of 5\n",
      "building feature alignment for OG3458_REF_Scer_AF-P53164-F1-model_v2\n",
      "building feature alignment for OG3443_REF_Scer_AF-P42941-F1-model_v2\n",
      "building feature alignment for OG3445_REF_Scer_AF-P08432-F1-model_v2\n",
      "building feature alignment for OG3509_REF_Scer_AF-P43619-F1-model_v2\n",
      "OG3505_REF_Scer_AF-P04037-F1-model_v2 removed because NaN present in uniprot data\n",
      "building feature alignment for OG3551_REF_Scer_AF-Q12452-F1-model_v2\n",
      "building feature alignment for OG3676_REF_Scer_AF-P15496-F1-model_v2\n",
      "OG3677_REF_Scer_AF-P47125-F1-model_v2 removed because feature size < min feature size of 5\n",
      "building feature alignment for OG3639_REF_Scer_AF-P38840-F1-model_v2\n",
      "building feature alignment for OG3612_REF_Scer_AF-P18562-F1-model_v2\n",
      "building feature alignment for OG3679_REF_Scer_AF-Q12051-F1-model_v2\n",
      "OG3581_REF_Scer_AF-P41835-F1-model_v2 removed because NaN present in uniprot data\n",
      "building feature alignment for OG3531_REF_Scer_AF-Q99312-F1-model_v2\n",
      "OG3575_REF_Scer_AF-P08067-F1-model_v2 removed because feature size < min feature size of 5\n",
      "building feature alignment for OG3702_REF_Scer_AF-P03962-F1-model_v2\n",
      "building feature alignment for OG3782_REF_Scer_AF-P35497-F1-model_v2\n",
      "building feature alignment for OG3774_REF_Scer_AF-P32377-F1-model_v2\n",
      "building feature alignment for OG3767_REF_Scer_AF-P39683-F1-model_v2\n",
      "OG3811_REF_Scer_AF-Q06490-F1-model_v2 removed because NaN present in uniprot data\n",
      "building feature alignment for OG3740_REF_Scer_AF-Q05979-F1-model_v2\n",
      "building feature alignment for OG3801_REF_Scer_AF-Q12455-F1-model_v2\n",
      "OG3714_REF_Scer_AF-Q03677-F1-model_v2 removed because NaN present in uniprot data\n",
      "building feature alignment for OG3935_REF_Scer_AF-P38169-F1-model_v2\n",
      "building feature alignment for OG3902_REF_Scer_AF-P14020-F1-model_v2\n",
      "OG3994_REF_Scer_AF-P04397-F1-model_v2 removed because NaN present in uniprot data\n",
      "OG3978_REF_Scer_AF-P31373-F1-model_v2 removed because feature size < min feature size of 5\n",
      "building feature alignment for OG4004_REF_Scer_AF-Q12178-F1-model_v2\n",
      "building feature alignment for OG4102_REF_Scer_AF-P47096-F1-model_v2\n",
      "building feature alignment for OG4016_REF_Scer_AF-P32582-F1-model_v2\n",
      "building feature alignment for OG4061_REF_Scer_AF-P32476-F1-model_v2\n",
      "building feature alignment for OG4043_REF_Scer_AF-Q05902-F1-model_v2\n",
      "OG4021_REF_Scer_AF-P38242-F1-model_v2 removed because NaN present in uniprot data\n",
      "building feature alignment for OG4110_REF_Scer_AF-P39988-F1-model_v2\n",
      "building feature alignment for OG4010_REF_Scer_AF-P50861-F1-model_v2\n",
      "building feature alignment for OG4008_REF_Scer_AF-Q12676-F1-model_v2\n",
      "building feature alignment for OG4275_REF_Scer_AF-P32451-F1-model_v2\n",
      "OG4150_REF_Scer_AF-P07256-F1-model_v2 removed because NaN present in uniprot data\n",
      "building feature alignment for OG4231_REF_Scer_AF-P04385-F1-model_v2\n",
      "OG4118_REF_Scer_AF-P07255-F1-model_v2 removed because NaN present in uniprot data\n",
      "building feature alignment for OG4250_REF_Scer_AF-P35731-F1-model_v2\n",
      "OG4185_REF_Scer_AF-P0CX77-F1-model_v2 removed because feature size < min feature size of 5\n",
      "OG4171_REF_Scer_AF-P48015-F1-model_v2 removed because feature size < min feature size of 5\n",
      "building feature alignment for OG4226_REF_Scer_AF-P53909-F1-model_v2\n",
      "building feature alignment for OG4312_REF_Scer_AF-P38115-F1-model_v2\n",
      "OG4346_REF_Scer_AF-P10174-F1-model_v2 removed because NaN present in uniprot data\n",
      "OG4316_REF_Scer_AF-P00424-F1-model_v2 removed because NaN present in uniprot data\n",
      "building feature alignment for OG4379_REF_Scer_AF-P07807-F1-model_v2\n",
      "building feature alignment for OG4396_REF_Scer_AF-Q06549-F1-model_v2\n",
      "OG4352_REF_Scer_AF-P00127-F1-model_v2 removed because NaN present in uniprot data\n",
      "building feature alignment for OG4391_REF_Scer_AF-P40017-F1-model_v2\n",
      "OG4360_REF_Scer_AF-P08525-F1-model_v2 removed because NaN present in uniprot data\n",
      "OG4552_REF_Scer_AF-P37299-F1-model_v2 removed because NaN present in uniprot data\n",
      "building feature alignment for OG4583_REF_Scer_AF-P38710-F1-model_v2\n",
      "building feature alignment for OG4398_REF_Scer_AF-Q04178-F1-model_v2\n",
      "OG4555_REF_Scer_AF-P32799-F1-model_v2 removed because NaN present in uniprot data\n",
      "building feature alignment for OG4581_REF_Scer_AF-P33330-F1-model_v2\n",
      "building feature alignment for OG4605_REF_Scer_AF-P32419-F1-model_v2\n",
      "building feature alignment for OG4524_REF_Scer_AF-P36143-F1-model_v2\n",
      "OG4751_REF_Scer_AF-P04039-F1-model_v2 removed because NaN present in uniprot data\n",
      "OG4645_REF_Scer_AF-Q03778-F1-model_v2 removed because feature size < min feature size of 5\n",
      "building feature alignment for OG5118_REF_Scer_AF-P26364-F1-model_v2\n",
      "OG4744_REF_Scer_AF-P22289-F1-model_v2 removed because NaN present in uniprot data\n",
      "OG5096_REF_Scer_AF-P42883-F1-model_v2 removed because feature size < min feature size of 5\n",
      "building feature alignment for OG4959_REF_Scer_AF-P38286-F1-model_v2\n",
      "OG4758_REF_Scer_AF-P25372-F1-model_v2 removed because NaN present in uniprot data\n",
      "building feature alignment for OG4707_REF_Scer_AF-P08431-F1-model_v2\n",
      "OG5404_REF_Scer_AF-P06115-F1-model_v2 removed because feature size < min feature size of 5\n",
      "building feature alignment for OG5441_REF_Scer_AF-P00724-F1-model_v2\n",
      "OG5735_REF_Scer_AF-Q03579-F1-model_v2 removed because NaN present in uniprot data\n",
      "building feature alignment for OG5490_REF_Scer_AF-P32340-F1-model_v2\n",
      "OG3008_REF_Scer_AF-P36076-F1-model_v2 removed because NaN present in uniprot data\n",
      "building feature alignment for OG1060_REF_Scer_AF-P06169-F1-model_v2\n",
      "building feature alignment for OG1004_REF_Scer_AF-P15938-F1-model_v2\n",
      "OG2084_REF_Scer_AF-P36024-F1-model_v2 removed because NaN present in uniprot data\n",
      "building feature alignment for OG1070_REF_Scer_AF-P21524-F1-model_v2\n",
      "building feature alignment for OG1360_REF_Scer_AF-P12683-F1-model_v2\n",
      "building feature alignment for OG1096_REF_Scer_AF-P48570-F1-model_v2\n",
      "building feature alignment for OG1054_REF_Scer_AF-P16861-F1-model_v2\n",
      "OG1115_REF_Scer_AF-P06208-F1-model_v2 removed because feature size < min feature size of 5\n"
     ]
    }
   ],
   "source": [
    "uniprot_data_fname = base_dir + os.sep + os.path.normpath('external_data/enzymatic_data_from_uniprot.pkl')\n",
    "\n",
    "with open(uniprot_data_fname, 'rb') as f_in:\n",
    "    uniprot_data = pickle.load(f_in)\n",
    "\n",
    "feature_sizes = {}\n",
    "\n",
    "for fasta_file in os.listdir(base_dir + os.sep + os.path.normpath('msas/structural/tm_align/fasta_renamed/')):\n",
    "    og_ref = fasta_file.split('.')[0]\n",
    "    \n",
    "    if og_ref.split('_')[1]=='REF':\n",
    "        uniprot_id = og_ref.split('_')[3].split('-')[1]\n",
    "        \n",
    "        ref = '_'.join(og_ref.split('_')[1:])\n",
    "        \n",
    "        #Identify coordinates in alignment for binding site\n",
    "              \n",
    "        #Check to see if there is a binding site listed\n",
    "        \n",
    "        uniprot_data_ref = uniprot_data[uniprot_id]\n",
    "        \n",
    "        bs_indicator_vec = uniprot_data_ref[1]\n",
    "        if bs_indicator_vec[0] == 'NaN': \n",
    "            print(og_ref + ' removed because NaN present in uniprot data')\n",
    "\n",
    "        else: \n",
    "            bs_size = sum(bs_indicator_vec)\n",
    "            feature_sizes[og_ref]= bs_size\n",
    "\n",
    "            if bs_size>0:\n",
    "                if bs_size < min_feature_size: \n",
    "                    print(og_ref + ' removed because feature size < min feature size of ' + str(min_feature_size))\n",
    "                else:  \n",
    "                    print('building feature alignment for ' + og_ref)\n",
    "                    #Binding site is present and larger than min feature size. \n",
    "                    #Identify coordinates within the alignment\n",
    "                    \n",
    "                    #Load alignment and make dictionary to map ref structure coordinates to alignment coordinates\n",
    "                    aln_fname = base_dir + os.sep + os.path.normpath('msas/structural/tm_align/fasta_renamed/' + og_ref + '.tm.fasta')\n",
    "                    aln = AlignIO.read(open(aln_fname),'fasta')\n",
    "\n",
    "                    aln_cds_fname = base_dir + os.sep + os.path.normpath('msas/structural/tm_align/cds_aln/' + og_ref + '.tm.cds.aln.fasta')\n",
    "                    aln_cds = AlignIO.read(open(aln_cds_fname),'fasta')\n",
    "                                      \n",
    "                    ref_ind=None\n",
    "                    for (jj, record) in enumerate(aln): \n",
    "                        if ref == record.id.split('.')[0]:\n",
    "                            ref_ind = jj\n",
    "\n",
    "                    #Get map for reference sequence from msa index\n",
    "                    ref_seq_from_msa = str(aln[ref_ind,:].seq)\n",
    "                    ref_seq, msa2ref, ref2msa, pair_mapping = dyt.seq_squeeze(ref_seq_from_msa)\n",
    "                    \n",
    "                    assert ref_seq == uniprot_data_ref[3], 'Sequence mismatch between uniprot data file and alignment'\n",
    "                    \n",
    "                    \n",
    "                    #Get list of indices for the feature   \n",
    "                    feat_inds_ref = []\n",
    "                    for jj, feature_present in enumerate(bs_indicator_vec==1): \n",
    "                        if feature_present:\n",
    "                            feat_inds_ref.append(jj)\n",
    "                    \n",
    "                    feat_inds_msa = []\n",
    "\n",
    "\n",
    "                    for feat_ind in feat_inds_ref: \n",
    "                        feat_inds_msa.append(ref2msa[feat_ind])\n",
    "                        \n",
    "                    \n",
    "\n",
    "                    #Verify seq_squeeze is mapping correctly\n",
    "                    assert (ref_seq[feat_ind] == ref_seq_from_msa[ref2msa[feat_ind]]), \"bad mapping to ref from seq_squeeze\"\n",
    "                    \n",
    "                    #Extract Alignment Subsets\n",
    "                    #A more efficient way of doing this is here: https://www.biostars.org/p/460408/\n",
    "                    #Converts alignment to numpy array then converts back to aln object\n",
    "\n",
    "                    aln_temp = aln[:,0:0]\n",
    "                    aln_cds_temp = aln_cds[:,0:0]\n",
    "\n",
    "                    for x in feat_inds_msa:\n",
    "                        aln_subset = aln_temp[:,:] + aln[:, (x-1):x]\n",
    "                        aln_temp = aln_subset\n",
    "                        \n",
    "                        aln_cds_subset = aln_cds_temp[:,:] + aln_cds[:, (3*(x-1)):(3*x)]\n",
    "                        aln_cds_temp = aln_cds_subset\n",
    "\n",
    "                    #Save alignment subset\n",
    "                    aln_subset_fname_out = feature_subset_dir + os.path.normpath('fasta_renamed/' + og_ref + '.tm.fasta')\n",
    "                    with open(aln_subset_fname_out,'w') as f_out: \n",
    "                        for record in aln_subset:\n",
    "                            f_out.write('>' + record.id + '\\n')   # Could add a length to this\n",
    "                            f_out.write(str(record.seq) + '\\n')\n",
    "\n",
    "                    aln_cds_subset_fname_out = feature_subset_dir + os.path.normpath('cds_aln/' + og_ref + '.tm.cds.aln.fasta')\n",
    "                    with open(aln_cds_subset_fname_out,'w') as f_out: \n",
    "                        for record in aln_cds_subset:\n",
    "                            f_out.write('>' + record.id + '\\n')   # Could add a length to this\n",
    "                            f_out.write(str(record.seq) + '\\n')\n",
    "                    "
   ]
  },
  {
   "cell_type": "code",
   "execution_count": 49,
   "id": "d9c2d825-4314-4ae2-be78-e280458deec4",
   "metadata": {
    "tags": []
   },
   "outputs": [],
   "source": [
    "with open(feature_subset_dir + os.sep + 'feature_sizes.pkl', 'wb') as f_out: \n",
    "    pickle.dump(feature_sizes, f_out)"
   ]
  },
  {
   "cell_type": "code",
   "execution_count": 29,
   "id": "53010e00-b9a2-4b66-b43d-806411e13842",
   "metadata": {
    "tags": []
   },
   "outputs": [],
   "source": [
    "feature_sizes = {'OG1022_REF_Scer_AF-P49954-F1-model_v2': 0,\n",
    " 'OG1056_REF_Scer_AF-P21954-F1-model_v2': 21,\n",
    " 'OG1055_REF_Scer_AF-P52910-F1-model_v2': 16,\n",
    " 'OG1103_REF_Scer_AF-P47771-F1-model_v2': 0,\n",
    " 'OG1039_REF_Scer_AF-P19414-F1-model_v2': 10,\n",
    " 'OG1016_REF_Scer_AF-P00330-F1-model_v2': 18,\n",
    " 'OG1087_REF_Scer_AF-P39518-F1-model_v2': 11,\n",
    " 'OG1032_REF_Scer_AF-P03965-F1-model_v2': 110,\n",
    " 'OG1030_REF_Scer_AF-P37291-F1-model_v2': 0,\n",
    " 'OG1022_REF_Scer_AF-P38715-F1-model_v2': 68,\n",
    " 'OG1004_REF_Scer_AF-P40459-F1-model_v2': 0,\n",
    " 'OG1021_REF_Scer_AF-P40047-F1-model_v2': 5,\n",
    " 'OG1157_REF_Scer_AF-P17649-F1-model_v2': 3,\n",
    " 'OG1145_REF_Scer_AF-P00358-F1-model_v2': 9,\n",
    " 'OG1210_REF_Scer_AF-P38891-F1-model_v2': 0,\n",
    " 'OG1193_REF_Scer_AF-P00924-F1-model_v2': 9,\n",
    " 'OG1126_REF_Scer_AF-P38067-F1-model_v2': 0,\n",
    " 'OG1121_REF_Scer_AF-P53045-F1-model_v2': 0,\n",
    " 'OG1111_REF_Scer_AF-P49367-F1-model_v2': 3,\n",
    " 'OG1170_REF_Scer_AF-P21826-F1-model_v2': 0,\n",
    " 'OG1180_REF_Scer_AF-P41903-F1-model_v2': 0,\n",
    " 'OG1208_REF_Scer_AF-P04806-F1-model_v2': 21,\n",
    " 'OG1137_REF_Scer_AF-P41911-F1-model_v2': 11,\n",
    " 'OG1112_REF_Scer_AF-P23254-F1-model_v2': 16,\n",
    " 'OG1129_REF_Scer_AF-P37303-F1-model_v2': 0,\n",
    " 'OG1275_REF_Scer_AF-P47052-F1-model_v2': 27,\n",
    " 'OG1316_REF_Scer_AF-P19097-F1-model_v2': 21,\n",
    " 'OG1276_REF_Scer_AF-P36013-F1-model_v2': 4,\n",
    " 'OG1310_REF_Scer_AF-P15202-F1-model_v2': 1,\n",
    " 'OG1218_REF_Scer_AF-P08417-F1-model_v2': 11,\n",
    " 'OG1299_REF_Scer_AF-P00549-F1-model_v2': 21,\n",
    " 'OG1313_REF_Scer_AF-P11154-F1-model_v2': 12,\n",
    " 'OG1302_REF_Scer_AF-P33401-F1-model_v2': 10,\n",
    " 'OG1240_REF_Scer_AF-P30624-F1-model_v2': 11,\n",
    " 'OG1266_REF_Scer_AF-P23337-F1-model_v2': 1,\n",
    " 'OG1242_REF_Scer_AF-P36107-F1-model_v2': 0,\n",
    " 'OG1306_REF_Scer_AF-P38298-F1-model_v2': 0,\n",
    " 'OG1273_REF_Scer_AF-P40012-F1-model_v2': 13,\n",
    " 'OG1264_REF_Scer_AF-P52892-F1-model_v2': 0,\n",
    " 'OG1318_REF_Scer_AF-Q06147-F1-model_v2': 13,\n",
    " 'OG1414_REF_Scer_AF-P06700-F1-model_v2': 31,\n",
    " 'OG1355_REF_Scer_AF-P10614-F1-model_v2': 3,\n",
    " 'OG1333_REF_Scer_AF-P11412-F1-model_v2': 17,\n",
    " 'OG1364_REF_Scer_AF-P27796-F1-model_v2': 0,\n",
    " 'OG1422_REF_Scer_AF-P07264-F1-model_v2': 3,\n",
    " 'OG1388_REF_Scer_AF-P07342-F1-model_v2': 45,\n",
    " 'OG1390_REF_Scer_AF-P47164-F1-model_v2': 0,\n",
    " 'OG1354_REF_Scer_AF-P38697-F1-model_v2': 19,\n",
    " 'OG1380_REF_Scer_AF-Q07729-F1-model_v2': 9,\n",
    " 'OG1357_REF_Scer_AF-P14742-F1-model_v2': 0,\n",
    " 'OG1337_REF_Scer_AF-P32356-F1-model_v2': 13,\n",
    " 'OG1329_REF_Scer_AF-P17709-F1-model_v2': 6,\n",
    " 'OG1416_REF_Scer_AF-P00890-F1-model_v2': 0,\n",
    " 'OG1365_REF_Scer_AF-P29509-F1-model_v2': 11,\n",
    " 'OG1446_REF_Scer_AF-P41940-F1-model_v2': 0,\n",
    " 'OG1470_REF_Scer_AF-P21147-F1-model_v2': 11,\n",
    " 'OG1473_REF_Scer_AF-P53204-F1-model_v2': 13,\n",
    " 'OG1487_REF_Scer_AF-P09938-F1-model_v2': 6,\n",
    " 'OG1488_REF_Scer_AF-P38720-F1-model_v2': 18,\n",
    " 'OG1445_REF_Scer_AF-P39522-F1-model_v2': 6,\n",
    " 'OG1458_REF_Scer_AF-Q08911-F1-model_v2': 13,\n",
    " 'OG1433_REF_Scer_AF-P40054-F1-model_v2': 8,\n",
    " 'OG1432_REF_Scer_AF-P14540-F1-model_v2': 12,\n",
    " 'OG1497_REF_Scer_AF-P38143-F1-model_v2': 0,\n",
    " 'OG1468_REF_Scer_AF-P17898-F1-model_v2': 0,\n",
    " 'OG1451_REF_Scer_AF-P38998-F1-model_v2': 16,\n",
    " 'OG1424_REF_Scer_AF-P00560-F1-model_v2': 15,\n",
    " 'OG1471_REF_Scer_AF-P33333-F1-model_v2': 0,\n",
    " 'OG1491_REF_Scer_AF-P40506-F1-model_v2': 0,\n",
    " 'OG1463_REF_Scer_AF-P07149-F1-model_v2': 0,\n",
    " 'OG1434_REF_Scer_AF-P25340-F1-model_v2': 10,\n",
    " 'OG1567_REF_Scer_AF-P17695-F1-model_v2': 7,\n",
    " 'OG1521_REF_Scer_AF-P32771-F1-model_v2': 20,\n",
    " 'OG1556_REF_Scer_AF-P32895-F1-model_v2': 3,\n",
    " 'OG1589_REF_Scer_AF-Q12680-F1-model_v2': 73,\n",
    " 'OG1615_REF_Scer_AF-P38992-F1-model_v2': 0,\n",
    " 'OG1603_REF_Scer_AF-P16120-F1-model_v2': 0,\n",
    " 'OG1516_REF_Scer_AF-P10659-F1-model_v2': 15,\n",
    " 'OG1596_REF_Scer_AF-P54781-F1-model_v2': 1,\n",
    " 'OG1502_REF_Scer_AF-P33300-F1-model_v2': 0,\n",
    " 'OG1564_REF_Scer_AF-P08019-F1-model_v2': 1,\n",
    " 'OG1500_REF_Scer_AF-P28274-F1-model_v2': 0,\n",
    " 'OG1537_REF_Scer_AF-P32288-F1-model_v2': 0,\n",
    " 'OG1595_REF_Scer_AF-P07275-F1-model_v2': 5,\n",
    " 'OG1585_REF_Scer_AF-P20967-F1-model_v2': 0,\n",
    " 'OG1498_REF_Scer_AF-Q06702-F1-model_v2': 5,\n",
    " 'OG1565_REF_Scer_AF-P38604-F1-model_v2': 0,\n",
    " 'OG1597_REF_Scer_AF-P47169-F1-model_v2': 4,\n",
    " 'OG1569_REF_Scer_AF-P06168-F1-model_v2': 23,\n",
    " 'OG1630_REF_Scer_AF-P50264-F1-model_v2': 0,\n",
    " 'OG1617_REF_Scer_AF-P05150-F1-model_v2': 12,\n",
    " 'OG1622_REF_Scer_AF-P15274-F1-model_v2': 13,\n",
    " 'OG1694_REF_Scer_AF-P39713-F1-model_v2': 6,\n",
    " 'OG1659_REF_Scer_AF-P32775-F1-model_v2': 0,\n",
    " 'OG1640_REF_Scer_AF-P23501-F1-model_v2': 0,\n",
    " 'OG1673_REF_Scer_AF-P16661-F1-model_v2': 0,\n",
    " 'OG1665_REF_Scer_AF-P10869-F1-model_v2': 0,\n",
    " 'OG1671_REF_Scer_AF-P32861-F1-model_v2': 11,\n",
    " 'OG1674_REF_Scer_AF-P13298-F1-model_v2': 16,\n",
    " 'OG1629_REF_Scer_AF-P09624-F1-model_v2': 27,\n",
    " 'OG1634_REF_Scer_AF-P31688-F1-model_v2': 0,\n",
    " 'OG1685_REF_Scer_AF-P07991-F1-model_v2': 0,\n",
    " 'OG1667_REF_Scer_AF-P15019-F1-model_v2': 0,\n",
    " 'OG1684_REF_Scer_AF-P41921-F1-model_v2': 53,\n",
    " 'OG1650_REF_Scer_AF-P23542-F1-model_v2': 4,\n",
    " 'OG1683_REF_Scer_AF-P40970-F1-model_v2': 0,\n",
    " 'OG1695_REF_Scer_AF-P38221-F1-model_v2': 0,\n",
    " 'OG1730_REF_Scer_AF-P25087-F1-model_v2': 0,\n",
    " 'OG1753_REF_Scer_AF-Q00764-F1-model_v2': 14,\n",
    " 'OG1767_REF_Scer_AF-P05373-F1-model_v2': 7,\n",
    " 'OG1779_REF_Scer_AF-P38625-F1-model_v2': 6,\n",
    " 'OG1744_REF_Scer_AF-P32264-F1-model_v2': 10,\n",
    " 'OG1774_REF_Scer_AF-P38972-F1-model_v2': 19,\n",
    " 'OG1788_REF_Scer_AF-P00927-F1-model_v2': 0,\n",
    " 'OG1696_REF_Scer_AF-P53598-F1-model_v2': 7,\n",
    " 'OG1697_REF_Scer_AF-P32469-F1-model_v2': 7,\n",
    " 'OG1786_REF_Scer_AF-P28241-F1-model_v2': 6,\n",
    " 'OG1785_REF_Scer_AF-P25578-F1-model_v2': 7,\n",
    " 'OG1764_REF_Scer_AF-Q12189-F1-model_v2': 0,\n",
    " 'OG1759_REF_Scer_AF-P47039-F1-model_v2': 0,\n",
    " 'OG1724_REF_Scer_AF-P00931-F1-model_v2': 0,\n",
    " 'OG1815_REF_Scer_AF-P09201-F1-model_v2': 29,\n",
    " 'OG1880_REF_Scer_AF-P29952-F1-model_v2': 4,\n",
    " 'OG1899_REF_Scer_AF-P09950-F1-model_v2': 9,\n",
    " 'OG1810_REF_Scer_AF-P31116-F1-model_v2': 10,\n",
    " 'OG1857_REF_Scer_AF-P38795-F1-model_v2': 7,\n",
    " 'OG1835_REF_Scer_AF-P17505-F1-model_v2': 15,\n",
    " 'OG1892_REF_Scer_AF-P07262-F1-model_v2': 29,\n",
    " 'OG1819_REF_Scer_AF-P04046-F1-model_v2': 2,\n",
    " 'OG1807_REF_Scer_AF-Q05871-F1-model_v2': 5,\n",
    " 'OG1822_REF_Scer_AF-P43616-F1-model_v2': 5,\n",
    " 'OG1854_REF_Scer_AF-P40487-F1-model_v2': 3,\n",
    " 'OG1813_REF_Scer_AF-P05694-F1-model_v2': 14,\n",
    " 'OG1897_REF_Scer_AF-P41338-F1-model_v2': 7,\n",
    " 'OG1881_REF_Scer_AF-P10963-F1-model_v2': 7,\n",
    " 'OG1883_REF_Scer_AF-P13663-F1-model_v2': 11,\n",
    " 'OG2007_REF_Scer_AF-Q12265-F1-model_v2': 4,\n",
    " 'OG1959_REF_Scer_AF-P32473-F1-model_v2': 1,\n",
    " 'OG2031_REF_Scer_AF-Q08220-F1-model_v2': 31,\n",
    " 'OG1924_REF_Scer_AF-P19262-F1-model_v2': 0,\n",
    " 'OG1979_REF_Scer_AF-P00445-F1-model_v2': 9,\n",
    " 'OG1933_REF_Scer_AF-P40545-F1-model_v2': 0,\n",
    " 'OG1904_REF_Scer_AF-P54839-F1-model_v2': 0,\n",
    " 'OG1935_REF_Scer_AF-P38999-F1-model_v2': 15,\n",
    " 'OG1944_REF_Scer_AF-P06106-F1-model_v2': 0,\n",
    " 'OG1977_REF_Scer_AF-P38066-F1-model_v2': 13,\n",
    " 'OG1966_REF_Scer_AF-P36150-F1-model_v2': 0,\n",
    " 'OG1975_REF_Scer_AF-P15454-F1-model_v2': 16,\n",
    " 'OG2028_REF_Scer_AF-P00899-F1-model_v2': 11,\n",
    " 'OG2057_REF_Scer_AF-P28789-F1-model_v2': 0,\n",
    " 'OG2086_REF_Scer_AF-P80210-F1-model_v2': 25,\n",
    " 'OG2056_REF_Scer_AF-P20051-F1-model_v2': 6,\n",
    " 'OG2071_REF_Scer_AF-P12695-F1-model_v2': 0,\n",
    " 'OG2038_REF_Scer_AF-P12709-F1-model_v2': 10,\n",
    " 'OG2099_REF_Scer_AF-P28240-F1-model_v2': 10,\n",
    " 'OG2048_REF_Scer_AF-P33412-F1-model_v2': 0,\n",
    " 'OG2074_REF_Scer_AF-Q02046-F1-model_v2': 4,\n",
    " 'OG2062_REF_Scer_AF-P32347-F1-model_v2': 10,\n",
    " 'OG2032_REF_Scer_AF-P14843-F1-model_v2': 0,\n",
    " 'OG2098_REF_Scer_AF-P32462-F1-model_v2': 11,\n",
    " 'OG2082_REF_Scer_AF-P28777-F1-model_v2': 0,\n",
    " 'OG2061_REF_Scer_AF-Q99258-F1-model_v2': 7,\n",
    " 'OG2044_REF_Scer_AF-P38225-F1-model_v2': 11,\n",
    " 'OG2053_REF_Scer_AF-P21264-F1-model_v2': 55,\n",
    " 'OG2116_REF_Scer_AF-P53199-F1-model_v2': 15,\n",
    " 'OG2190_REF_Scer_AF-Q04430-F1-model_v2': 0,\n",
    " 'OG2183_REF_Scer_AF-P27515-F1-model_v2': 7,\n",
    " 'OG2186_REF_Scer_AF-P32477-F1-model_v2': 0,\n",
    " 'OG2129_REF_Scer_AF-P06785-F1-model_v2': 9,\n",
    " 'OG2126_REF_Scer_AF-Q08645-F1-model_v2': 8,\n",
    " 'OG2147_REF_Scer_AF-P39692-F1-model_v2': 21,\n",
    " 'OG2123_REF_Scer_AF-P32378-F1-model_v2': 0,\n",
    " 'OG2214_REF_Scer_AF-P13259-F1-model_v2': 16,\n",
    " 'OG2197_REF_Scer_AF-P00942-F1-model_v2': 2,\n",
    " 'OG2218_REF_Scer_AF-P20049-F1-model_v2': 29,\n",
    " 'OG2182_REF_Scer_AF-P20485-F1-model_v2': 0,\n",
    " 'OG2161_REF_Scer_AF-P46969-F1-model_v2': 11,\n",
    " 'OG2148_REF_Scer_AF-Q05911-F1-model_v2': 9,\n",
    " 'OG2156_REF_Scer_AF-P08524-F1-model_v2': 12,\n",
    " 'OG2215_REF_Scer_AF-P39525-F1-model_v2': 0,\n",
    " 'OG2308_REF_Scer_AF-Q07938-F1-model_v2': 7,\n",
    " 'OG2228_REF_Scer_AF-P53037-F1-model_v2': 3,\n",
    " 'OG2227_REF_Scer_AF-P49095-F1-model_v2': 0,\n",
    " 'OG2265_REF_Scer_AF-P07286-F1-model_v2': 16,\n",
    " 'OG2282_REF_Scer_AF-P49435-F1-model_v2': 4,\n",
    " 'OG2283_REF_Scer_AF-Q04212-F1-model_v2': 67,\n",
    " 'OG2246_REF_Scer_AF-P46151-F1-model_v2': 16,\n",
    " 'OG2248_REF_Scer_AF-P07143-F1-model_v2': 4,\n",
    " 'OG2238_REF_Scer_AF-P07172-F1-model_v2': 0,\n",
    " 'OG2353_REF_Scer_AF-P32352-F1-model_v2': 0,\n",
    " 'OG2262_REF_Scer_AF-P37254-F1-model_v2': 0,\n",
    " 'OG2347_REF_Scer_AF-P07283-F1-model_v2': 12,\n",
    " 'OG2369_REF_Scer_AF-P38145-F1-model_v2': 19,\n",
    " 'OG2356_REF_Scer_AF-P33312-F1-model_v2': 7,\n",
    " 'OG2465_REF_Scer_AF-P32353-F1-model_v2': 0,\n",
    " 'OG2382_REF_Scer_AF-P25045-F1-model_v2': 0,\n",
    " 'OG2384_REF_Scer_AF-P47143-F1-model_v2': 0,\n",
    " 'OG2455_REF_Scer_AF-P32190-F1-model_v2': 11,\n",
    " 'OG2397_REF_Scer_AF-P32796-F1-model_v2': 12,\n",
    " 'OG2365_REF_Scer_AF-P08536-F1-model_v2': 8,\n",
    " 'OG2453_REF_Scer_AF-P27616-F1-model_v2': 0,\n",
    " 'OG2394_REF_Scer_AF-P39006-F1-model_v2': 0,\n",
    " 'OG2498_REF_Scer_AF-P29704-F1-model_v2': 0,\n",
    " 'OG2495_REF_Scer_AF-P53128-F1-model_v2': 16,\n",
    " 'OG2357_REF_Scer_AF-P33734-F1-model_v2': 3,\n",
    " 'OG2409_REF_Scer_AF-P53312-F1-model_v2': 9,\n",
    " 'OG2578_REF_Scer_AF-Q03941-F1-model_v2': 7,\n",
    " 'OG2557_REF_Scer_AF-Q05567-F1-model_v2': 0,\n",
    " 'OG2629_REF_Scer_AF-P09368-F1-model_v2': 0,\n",
    " 'OG2552_REF_Scer_AF-P32263-F1-model_v2': 0,\n",
    " 'OG2588_REF_Scer_AF-P38063-F1-model_v2': 4,\n",
    " 'OG2562_REF_Scer_AF-Q99190-F1-model_v2': 0,\n",
    " 'OG2506_REF_Scer_AF-P54783-F1-model_v2': 0,\n",
    " 'OG2537_REF_Scer_AF-P11353-F1-model_v2': 8,\n",
    " 'OG2573_REF_Scer_AF-P38075-F1-model_v2': 18,\n",
    " 'OG2567_REF_Scer_AF-P24521-F1-model_v2': 10,\n",
    " 'OG2603_REF_Scer_AF-P50076-F1-model_v2': 0,\n",
    " 'OG2508_REF_Scer_AF-Q12074-F1-model_v2': 10,\n",
    " 'OG2704_REF_Scer_AF-P21801-F1-model_v2': 12,\n",
    " 'OG2647_REF_Scer_AF-P38787-F1-model_v2': 10,\n",
    " 'OG2684_REF_Scer_AF-P41735-F1-model_v2': 6,\n",
    " 'OG2721_REF_Scer_AF-P07258-F1-model_v2': 0,\n",
    " 'OG2645_REF_Scer_AF-P05375-F1-model_v2': 3,\n",
    " 'OG2677_REF_Scer_AF-P28834-F1-model_v2': 3,\n",
    " 'OG2655_REF_Scer_AF-P06633-F1-model_v2': 27,\n",
    " 'OG2678_REF_Scer_AF-P07277-F1-model_v2': 10,\n",
    " 'OG2654_REF_Scer_AF-P00572-F1-model_v2': 7,\n",
    " 'OG2637_REF_Scer_AF-P80235-F1-model_v2': 15,\n",
    " 'OG2646_REF_Scer_AF-P53730-F1-model_v2': 0,\n",
    " 'OG2794_REF_Scer_AF-P00950-F1-model_v2': 15,\n",
    " 'OG2746_REF_Scer_AF-P40495-F1-model_v2': 17,\n",
    " 'OG2740_REF_Scer_AF-P07170-F1-model_v2': 18,\n",
    " 'OG2808_REF_Scer_AF-P40471-F1-model_v2': 8,\n",
    " 'OG2837_REF_Scer_AF-Q02196-F1-model_v2': 7,\n",
    " 'OG2807_REF_Scer_AF-P16387-F1-model_v2': 0,\n",
    " 'OG2841_REF_Scer_AF-P06738-F1-model_v2': 0,\n",
    " 'OG2741_REF_Scer_AF-Q05584-F1-model_v2': 12,\n",
    " 'OG2752_REF_Scer_AF-P54885-F1-model_v2': 0,\n",
    " 'OG2738_REF_Scer_AF-P40351-F1-model_v2': 0,\n",
    " 'OG2774_REF_Scer_AF-P51601-F1-model_v2': 3,\n",
    " 'OG2783_REF_Scer_AF-P53318-F1-model_v2': 0,\n",
    " 'OG2906_REF_Scer_AF-P32178-F1-model_v2': 7,\n",
    " 'OG2913_REF_Scer_AF-P53178-F1-model_v2': 0,\n",
    " 'OG2956_REF_Scer_AF-P08456-F1-model_v2': 0,\n",
    " 'OG2868_REF_Scer_AF-P50107-F1-model_v2': 8,\n",
    " 'OG2882_REF_Scer_AF-P38122-F1-model_v2': 0,\n",
    " 'OG2852_REF_Scer_AF-P43123-F1-model_v2': 10,\n",
    " 'OG2871_REF_Scer_AF-P18408-F1-model_v2': 0,\n",
    " 'OG2924_REF_Scer_AF-P53915-F1-model_v2': 19,\n",
    " 'OG2845_REF_Scer_AF-P43577-F1-model_v2': 18,\n",
    " 'OG2936_REF_Scer_AF-P00812-F1-model_v2': 13,\n",
    " 'OG2930_REF_Scer_AF-P04173-F1-model_v2': 28,\n",
    " 'OG2901_REF_Scer_AF-Q12001-F1-model_v2': 0,\n",
    " 'OG2912_REF_Scer_AF-P21182-F1-model_v2': 0,\n",
    " 'OG3021_REF_Scer_AF-P25358-F1-model_v2': 0,\n",
    " 'OG3018_REF_Scer_AF-P38635-F1-model_v2': 0,\n",
    " 'OG3006_REF_Scer_AF-P08465-F1-model_v2': 0,\n",
    " 'OG3025_REF_Scer_AF-P53332-F1-model_v2': 0,\n",
    " 'OG3062_REF_Scer_AF-P18900-F1-model_v2': 11,\n",
    " 'OG2960_REF_Scer_AF-P16622-F1-model_v2': 0,\n",
    " 'OG2999_REF_Scer_AF-P43636-F1-model_v2': 0,\n",
    " 'OG3030_REF_Scer_AF-P47095-F1-model_v2': 4,\n",
    " 'OG3000_REF_Scer_AF-P40350-F1-model_v2': 0,\n",
    " 'OG3043_REF_Scer_AF-P04161-F1-model_v2': 8,\n",
    " 'OG2968_REF_Scer_AF-P38689-F1-model_v2': 4,\n",
    " 'OG3069_REF_Scer_AF-P49017-F1-model_v2': 4,\n",
    " 'OG3120_REF_Scer_AF-P17423-F1-model_v2': 10,\n",
    " 'OG3100_REF_Scer_AF-P32191-F1-model_v2': 28,\n",
    " 'OG3104_REF_Scer_AF-P53954-F1-model_v2': 0,\n",
    " 'OG3115_REF_Scer_AF-P38628-F1-model_v2': 11,\n",
    " 'OG3074_REF_Scer_AF-P38913-F1-model_v2': 8,\n",
    " 'OG3063_REF_Scer_AF-P36010-F1-model_v2': 6,\n",
    " 'OG3065_REF_Scer_AF-P07285-F1-model_v2': 0,\n",
    " 'OG3112_REF_Scer_AF-Q05521-F1-model_v2': 0,\n",
    " 'OG3185_REF_Scer_AF-P00447-F1-model_v2': 4,\n",
    " 'OG3151_REF_Scer_AF-P42826-F1-model_v2': 9,\n",
    " 'OG3095_REF_Scer_AF-Q06489-F1-model_v2': 0,\n",
    " 'OG3114_REF_Scer_AF-P35202-F1-model_v2': 0,\n",
    " 'OG3196_REF_Scer_AF-P06197-F1-model_v2': 7,\n",
    " 'OG3394_REF_Scer_AF-Q03266-F1-model_v2': 0,\n",
    " 'OG3242_REF_Scer_AF-P38179-F1-model_v2': 0,\n",
    " 'OG3304_REF_Scer_AF-P32375-F1-model_v2': 6,\n",
    " 'OG3214_REF_Scer_AF-P11986-F1-model_v2': 27,\n",
    " 'OG3416_REF_Scer_AF-P40099-F1-model_v2': 13,\n",
    " 'OG3319_REF_Scer_AF-P32626-F1-model_v2': 5,\n",
    " 'OG3221_REF_Scer_AF-P25335-F1-model_v2': 0,\n",
    " 'OG3336_REF_Scer_AF-P43567-F1-model_v2': 1,\n",
    " 'OG3313_REF_Scer_AF-P38342-F1-model_v2': 6,\n",
    " 'OG3207_REF_Scer_AF-Q05788-F1-model_v2': 8,\n",
    " 'OG3241_REF_Scer_AF-P40363-F1-model_v2': 2,\n",
    " 'OG3413_REF_Scer_AF-P32452-F1-model_v2': 0,\n",
    " 'OG3350_REF_Scer_AF-P38332-F1-model_v2': 0,\n",
    " 'OG3525_REF_Scer_AF-Q01802-F1-model_v2': 4,\n",
    " 'OG3488_REF_Scer_AF-P53184-F1-model_v2': 3,\n",
    " 'OG3499_REF_Scer_AF-P48016-F1-model_v2': 2,\n",
    " 'OG3458_REF_Scer_AF-P53164-F1-model_v2': 9,\n",
    " 'OG3443_REF_Scer_AF-P42941-F1-model_v2': 8,\n",
    " 'OG3445_REF_Scer_AF-P08432-F1-model_v2': 8,\n",
    " 'OG3509_REF_Scer_AF-P43619-F1-model_v2': 9,\n",
    " 'OG3624_REF_Scer_AF-P40857-F1-model_v2': 0,\n",
    " 'OG3551_REF_Scer_AF-Q12452-F1-model_v2': 6,\n",
    " 'OG3676_REF_Scer_AF-P15496-F1-model_v2': 8,\n",
    " 'OG3677_REF_Scer_AF-P47125-F1-model_v2': 1,\n",
    " 'OG3639_REF_Scer_AF-P38840-F1-model_v2': 8,\n",
    " 'OG3638_REF_Scer_AF-P53868-F1-model_v2': 0,\n",
    " 'OG3612_REF_Scer_AF-P18562-F1-model_v2': 21,\n",
    " 'OG3679_REF_Scer_AF-Q12051-F1-model_v2': 13,\n",
    " 'OG3630_REF_Scer_AF-P40582-F1-model_v2': 0,\n",
    " 'OG3531_REF_Scer_AF-Q99312-F1-model_v2': 8,\n",
    " 'OG3575_REF_Scer_AF-P08067-F1-model_v2': 4,\n",
    " 'OG3557_REF_Scer_AF-P53101-F1-model_v2': 0,\n",
    " 'OG3702_REF_Scer_AF-P03962-F1-model_v2': 14,\n",
    " 'OG3782_REF_Scer_AF-P35497-F1-model_v2': 13,\n",
    " 'OG3774_REF_Scer_AF-P32377-F1-model_v2': 10,\n",
    " 'OG3681_REF_Scer_AF-Q07560-F1-model_v2': 0,\n",
    " 'OG3767_REF_Scer_AF-P39683-F1-model_v2': 5,\n",
    " 'OG3740_REF_Scer_AF-Q05979-F1-model_v2': 11,\n",
    " 'OG3801_REF_Scer_AF-Q12455-F1-model_v2': 5,\n",
    " 'OG3837_REF_Scer_AF-P00498-F1-model_v2': 0,\n",
    " 'OG3856_REF_Scer_AF-P06174-F1-model_v2': 0,\n",
    " 'OG3683_REF_Scer_AF-P32459-F1-model_v2': 0,\n",
    " 'OG3935_REF_Scer_AF-P38169-F1-model_v2': 15,\n",
    " 'OG3902_REF_Scer_AF-P14020-F1-model_v2': 13,\n",
    " 'OG3909_REF_Scer_AF-P40319-F1-model_v2': 0,\n",
    " 'OG3917_REF_Scer_AF-Q04179-F1-model_v2': 0,\n",
    " 'OG3874_REF_Scer_AF-P00912-F1-model_v2': 0,\n",
    " 'OG3877_REF_Scer_AF-P05374-F1-model_v2': 0,\n",
    " 'OG3978_REF_Scer_AF-P31373-F1-model_v2': 4,\n",
    " 'OG3991_REF_Scer_AF-P38858-F1-model_v2': 0,\n",
    " 'OG4004_REF_Scer_AF-Q12178-F1-model_v2': 5,\n",
    " 'OG4102_REF_Scer_AF-P47096-F1-model_v2': 10,\n",
    " 'OG4016_REF_Scer_AF-P32582-F1-model_v2': 6,\n",
    " 'OG4061_REF_Scer_AF-P32476-F1-model_v2': 6,\n",
    " 'OG4043_REF_Scer_AF-Q05902-F1-model_v2': 7,\n",
    " 'OG4110_REF_Scer_AF-P39988-F1-model_v2': 17,\n",
    " 'OG4010_REF_Scer_AF-P50861-F1-model_v2': 8,\n",
    " 'OG4008_REF_Scer_AF-Q12676-F1-model_v2': 7,\n",
    " 'OG4275_REF_Scer_AF-P32451-F1-model_v2': 7,\n",
    " 'OG4231_REF_Scer_AF-P04385-F1-model_v2': 10,\n",
    " 'OG4250_REF_Scer_AF-P35731-F1-model_v2': 16,\n",
    " 'OG4185_REF_Scer_AF-P0CX77-F1-model_v2': 2,\n",
    " 'OG4171_REF_Scer_AF-P48015-F1-model_v2': 3,\n",
    " 'OG4226_REF_Scer_AF-P53909-F1-model_v2': 5,\n",
    " 'OG4312_REF_Scer_AF-P38115-F1-model_v2': 55,\n",
    " 'OG4379_REF_Scer_AF-P07807-F1-model_v2': 24,\n",
    " 'OG4396_REF_Scer_AF-Q06549-F1-model_v2': 5,\n",
    " 'OG4391_REF_Scer_AF-P40017-F1-model_v2': 14,\n",
    " 'OG4317_REF_Scer_AF-P47165-F1-model_v2': 0,\n",
    " 'OG4583_REF_Scer_AF-P38710-F1-model_v2': 6,\n",
    " 'OG4398_REF_Scer_AF-Q04178-F1-model_v2': 16,\n",
    " 'OG4581_REF_Scer_AF-P33330-F1-model_v2': 6,\n",
    " 'OG4624_REF_Scer_AF-P38954-F1-model_v2': 0,\n",
    " 'OG4605_REF_Scer_AF-P32419-F1-model_v2': 15,\n",
    " 'OG4524_REF_Scer_AF-P36143-F1-model_v2': 22,\n",
    " 'OG4463_REF_Scer_AF-Q04066-F1-model_v2': 0,\n",
    " 'OG4645_REF_Scer_AF-Q03778-F1-model_v2': 2,\n",
    " 'OG5118_REF_Scer_AF-P26364-F1-model_v2': 18,\n",
    " 'OG5096_REF_Scer_AF-P42883-F1-model_v2': 3,\n",
    " 'OG4959_REF_Scer_AF-P38286-F1-model_v2': 6,\n",
    " 'OG4665_REF_Scer_AF-P32449-F1-model_v2': 0,\n",
    " 'OG4707_REF_Scer_AF-P08431-F1-model_v2': 16,\n",
    " 'OG5404_REF_Scer_AF-P06115-F1-model_v2': 1,\n",
    " 'OG5441_REF_Scer_AF-P00724-F1-model_v2': 8,\n",
    " 'OG5327_REF_Scer_AF-P43635-F1-model_v2': 0,\n",
    " 'OG5490_REF_Scer_AF-P32340-F1-model_v2': 66,\n",
    " 'OG1230_REF_Scer_AF-P29465-F1-model_v2': 0,\n",
    " 'OG1122_REF_Scer_AF-P13711-F1-model_v2': 0,\n",
    " 'OG1060_REF_Scer_AF-P06169-F1-model_v2': 15,\n",
    " 'OG1004_REF_Scer_AF-P15938-F1-model_v2': 7,\n",
    " 'OG1012_REF_Scer_AF-P08004-F1-model_v2': 0,\n",
    " 'OG1070_REF_Scer_AF-P21524-F1-model_v2': 21,\n",
    " 'OG1360_REF_Scer_AF-P12683-F1-model_v2': 20,\n",
    " 'OG1096_REF_Scer_AF-P48570-F1-model_v2': 7,\n",
    " 'OG1054_REF_Scer_AF-P16861-F1-model_v2': 29,\n",
    " 'OG1115_REF_Scer_AF-P06208-F1-model_v2': 4,\n",
    " 'OG1081_REF_Scer_AF-P32784-F1-model_v2': 0}"
   ]
  },
  {
   "cell_type": "code",
   "execution_count": 30,
   "id": "4f4ee985-dff8-4d43-9c53-4387c7107a35",
   "metadata": {
    "tags": []
   },
   "outputs": [
    {
     "name": "stdout",
     "output_type": "stream",
     "text": [
      "248 files that had binding sites identified\n",
      "203 binding sites with binding site size greater than 5\n"
     ]
    }
   ],
   "source": [
    "print(str(len([feature for feature, size in feature_sizes.items() if size >0])) + \" files that had binding sites identified\")\n",
    "print(str(len([feature for feature, size in feature_sizes.items() if size >= min_feature_size])) + \" binding sites with binding site size greater than \" + str(min_feature_size))"
   ]
  },
  {
   "cell_type": "markdown",
   "id": "32740063-0844-4f52-977e-29e64b4a7119",
   "metadata": {},
   "source": [
    "# Binding site alignments then trimmed and dN/dS calculated using CodeML on charite ms03 computer\n",
    "\n",
    "Prepare and trim alignments\n",
    "\n",
    "Oliver's definition: \n",
    "20230913_struct_align_dnds_msas_binding_site.sh calls\n",
    "20230913_struct_align_dnds_msas_binding_site.py which trims and prepares alignments for dnds calculations\n",
    "\n",
    "Uniprot definition: \n",
    "20240109_struct_align_dnds_msas_uniprot_binding_site.sh calls\n",
    "20240909_struct_align_dnds_msas_uniprot_binding_site.py which trims and prepares alignments for dnds calculations\n",
    "\n",
    "\n",
    "Calculate M0: \n",
    "\n",
    "Oliver's definition: \n",
    "20230914_run_m0_features.sh\n",
    "\n",
    "Uniprot definition: \n",
    "20240109_run_m0_features.sh\n"
   ]
  },
  {
   "cell_type": "markdown",
   "id": "9def8ac3-c947-4596-b550-59a6ac5c9c9e",
   "metadata": {},
   "source": [
    "# Compile binding site data into dataframe"
   ]
  },
  {
   "cell_type": "code",
   "execution_count": 110,
   "id": "f9ccdfbd-985d-4679-ab93-98f7d355d6a1",
   "metadata": {
    "tags": []
   },
   "outputs": [],
   "source": [
    "binding_site_type = 'uniprot_binding_site' #Binding site as defined by uniprot\n",
    "\n",
    "#'binding_site' # Oliver's 5A definition"
   ]
  },
  {
   "cell_type": "code",
   "execution_count": 111,
   "id": "c779419a-bf2b-4e21-b2dd-66102cb718ed",
   "metadata": {
    "tags": []
   },
   "outputs": [],
   "source": [
    "#Only need to do this once to load data\n",
    "# m0_base = base_dir + os.sep + os.path.normpath('selection_calculations/m0_features/' + binding_site_type) + os.sep\n",
    "\n",
    "# dnds_m0_binding_site, branch_tables = dyt.load_m0_data(m0_base, branch_table_out=True)\n",
    "\n",
    "# dnds_m0_binding_site.to_csv(base_dir + os.sep + os.path.normpath('selection_calculations/m0_features/' + binding_site_type +'/m0_binding_site.csv'))"
   ]
  },
  {
   "cell_type": "code",
   "execution_count": 112,
   "id": "5943a023-3188-4430-a253-744705da5835",
   "metadata": {
    "tags": []
   },
   "outputs": [],
   "source": [
    "#Load and process compiled data"
   ]
  },
  {
   "cell_type": "code",
   "execution_count": 113,
   "id": "6cdc96e3-0bce-43f4-9b6a-9b4dbeccfd29",
   "metadata": {
    "tags": []
   },
   "outputs": [
    {
     "name": "stdout",
     "output_type": "stream",
     "text": [
      "184 binding sites where dN/dS was calculated\n",
      "61 of those had a convergence issue\n"
     ]
    }
   ],
   "source": [
    "dnds_m0_binding_site = pd.read_csv(base_dir + os.sep + os.path.normpath('selection_calculations/m0_features/' + binding_site_type + '/m0_binding_site.csv'), index_col=0)\n",
    "\n",
    "print(str(sum(dnds_m0_binding_site['dN_dS_found'])) + ' binding sites where dN/dS was calculated')\n",
    "\n",
    "dnds_m0_binding_site_found = dnds_m0_binding_site[dnds_m0_binding_site['dN_dS_found']==True]\n",
    "\n",
    "print(str(sum(dnds_m0_binding_site_found['convergence_issue']==True)) + ' of those had a convergence issue')\n",
    "dnds_m0_binding_site_found.to_csv(base_dir + os.sep + os.path.normpath('selection_calculations/m0_features/' + binding_site_type + '/m0_binding_site_found.csv'))"
   ]
  },
  {
   "cell_type": "code",
   "execution_count": 114,
   "id": "511dd5bc-6e23-4091-ace9-da0105d07bc2",
   "metadata": {
    "tags": []
   },
   "outputs": [
    {
     "data": {
      "image/png": "[encoded data removed]",
      "text/plain": [
       "<Figure size 500x500 with 1 Axes>"
      ]
     },
     "metadata": {},
     "output_type": "display_data"
    }
   ],
   "source": [
    "#Visualize dN vs dS with convergence issue flagged\n",
    "\n",
    "#Plot dN/dS vs mean dS value\n",
    "fig, ax = plt.subplots(1,1, figsize=(5,5))\n",
    "\n",
    "#y_values = ['dN_mean', 'dS_mean', 'dN_dS_struct']\n",
    "\n",
    "#for jj, y_value in enumerate(y_values): \n",
    "#ax = axarr[jj]\n",
    "#xlim = (-0.2,1.2)\n",
    "\n",
    "y_value =  'dN_mean' #'dN_mean_m0' #'dN_dS_struct_m0' #'dN_mean_m0'#'dN_dS_struct_m0'  #'Median(log2(Abundances)) 10 Sp [EXP]'#'Mean(Conservation Rate) [ALL]' #'dN_dS_struct_yn00'#'dN_dS_struct_m0'\n",
    "x_value = 'dS_mean'# 'Mean(Conservation Rate) [ALL]' # #'Median(log2(Abundances)) 10 Sp [EXP]' #'dN_dS_struct_yn00' #'dN_dS_nielsen_SCE'#'dN_dS_struct_yn00'\n",
    "\n",
    "\n",
    "dnds_struct_data = dnds_m0_binding_site_found\n",
    "\n",
    "\n",
    "#dnds_foreground = (dnds_struct_data.loc[list(example_proteins.values()), :],'r',0.6,'example proteins')\n",
    "#dnds_background = (dnds_struct_data.loc[list(set(dnds_struct_data.index)-set(example_proteins.values())), :], 'b', 0.2,'')\n",
    "\n",
    "dnds_foreground = (dnds_struct_data[dnds_struct_data['convergence_issue']==True], 'r',0.6,'Convergence Issue')\n",
    "dnds_background = (dnds_struct_data[dnds_struct_data['convergence_issue']==False], 'b',0.2,'No Convergence Issue')  #(dnds_struct_data, 'b',0.2,'') \n",
    "\n",
    "#good to quantify r2 here\n",
    "for (data_to_plot, color, alpha, label) in [dnds_background, dnds_foreground]:\n",
    "    ax.scatter(data_to_plot[x_value], data_to_plot[y_value], color = color, alpha = alpha, label=label)\n",
    "    # ax.set_xlim(xlim)\n",
    "    # ax.set_ylim(xlim)\n",
    "    ax.set_ylabel(y_value)\n",
    "    ax.set_xlabel(x_value)\n",
    "    ax.legend()\n",
    "\n",
    "#add linear regression line to scatterplot \n",
    "x_data = dnds_struct_data[x_value]\n",
    "y_data = dnds_struct_data[y_value]\n",
    "\n",
    "na_filt = x_data.notna() & y_data.notna()\n",
    "\n",
    "x_data = x_data[na_filt]\n",
    "y_data = y_data[na_filt]\n",
    "\n",
    "#m, b = np.polyfit(x_data, y_data, 1)\n",
    "#slope, intercept, r_value, p_value, std_err = stats.linregress(x_data, y_data)\n",
    "#ax.plot(list(x_data), list(slope*x_data+intercept))\n",
    "#ax.plot(x_data,x_data)\n"
   ]
  },
  {
   "cell_type": "markdown",
   "id": "a162dbda",
   "metadata": {},
   "source": [
    "## Compare M0 between active site and whole protein"
   ]
  },
  {
   "cell_type": "code",
   "execution_count": 137,
   "id": "ec06fa23",
   "metadata": {
    "tags": []
   },
   "outputs": [],
   "source": [
    "#Load M0 Data\n",
    "dnds_m0 = pd.read_csv(base_dir + os.sep + os.path.normpath('selection_calculations/m0/m0_dS_filter_20231128.csv'), index_col = 0 )\n",
    "m0_col_rename = {col : col + '_m0' for col in dnds_m0.columns}\n",
    "dnds_m0_for_merge = dnds_m0.rename(columns = m0_col_rename)\n",
    "\n",
    "dnds_m0_binding_site = pd.read_csv(base_dir + os.sep + os.path.normpath('selection_calculations/m0_features/' + binding_site_type + '/m0_binding_site_found.csv'), index_col=0)\n",
    "m0_binding_site_col_rename = {col : col + '_m0-BS' for col in dnds_m0_binding_site.columns}\n",
    "dnds_m0_binding_site_for_merge = dnds_m0_binding_site.rename(columns = m0_binding_site_col_rename)\n",
    "\n",
    "dnds_struct_data = dnds_m0_binding_site_for_merge.merge(dnds_m0_for_merge, how='inner', left_index=True, right_index=True)"
   ]
  },
  {
   "cell_type": "code",
   "execution_count": 138,
   "id": "c3a492c7",
   "metadata": {
    "tags": []
   },
   "outputs": [],
   "source": [
    "feature_subset_dir = base_dir + os.sep + os.path.normpath('msas/structural/tm_align/feature_subsets/' + binding_site_type) + os.sep\n",
    "\n",
    "with open(feature_subset_dir + os.sep + 'feature_sizes.pkl', 'rb') as f_in: \n",
    "    feature_sizes = pickle.load(f_in)\n",
    "\n",
    "binding_site_size =[]\n",
    "\n",
    "for og_ref in dnds_struct_data.index: \n",
    "    if og_ref in feature_sizes.keys(): \n",
    "        binding_site_size.append(feature_sizes[og_ref])\n",
    "    else: \n",
    "        binding_site_size.append(None)\n",
    "\n",
    "binding_site_size\n",
    "\n",
    "dnds_struct_data['BS_size']=binding_site_size"
   ]
  },
  {
   "cell_type": "code",
   "execution_count": 139,
   "id": "df88688b",
   "metadata": {
    "tags": []
   },
   "outputs": [
    {
     "data": {
      "text/html": [
       "<div>\n",
       "<style scoped>\n",
       "    .dataframe tbody tr th:only-of-type {\n",
       "        vertical-align: middle;\n",
       "    }\n",
       "\n",
       "    .dataframe tbody tr th {\n",
       "        vertical-align: top;\n",
       "    }\n",
       "\n",
       "    .dataframe thead th {\n",
       "        text-align: right;\n",
       "    }\n",
       "</style>\n",
       "<table border=\"1\" class=\"dataframe\">\n",
       "  <thead>\n",
       "    <tr style=\"text-align: right;\">\n",
       "      <th></th>\n",
       "      <th>og_m0-BS</th>\n",
       "      <th>tree_length_m0-BS</th>\n",
       "      <th>kappa_m0-BS</th>\n",
       "      <th>dN_dS_struct_m0-BS</th>\n",
       "      <th>tree_length_dN_m0-BS</th>\n",
       "      <th>tree_length_dS_m0-BS</th>\n",
       "      <th>convergence_issue_m0-BS</th>\n",
       "      <th>dN_dS_found_m0-BS</th>\n",
       "      <th>dN_mean_m0-BS</th>\n",
       "      <th>dN_std_m0-BS</th>\n",
       "      <th>...</th>\n",
       "      <th>dS&gt;7.5_m0</th>\n",
       "      <th>Mean(Conservation Rate) [ALL]_m0</th>\n",
       "      <th>CV(Type Conservation Rate) [ALL]_m0</th>\n",
       "      <th>Mean(Type Conservation Rate) [ALL]_m0</th>\n",
       "      <th>CV(Conservation Rate) [ALL]_m0</th>\n",
       "      <th>Mean(log2(Abundances)) 10 Sp [EXP]_m0</th>\n",
       "      <th>Median(log2(Abundances)) 10 Sp [EXP]_m0</th>\n",
       "      <th>Std(log2(Abundances)) 10 Sp [EXP]_m0</th>\n",
       "      <th>1k_Mean_log2_Abundances [EXP]_m0</th>\n",
       "      <th>BS_size</th>\n",
       "    </tr>\n",
       "  </thead>\n",
       "  <tbody>\n",
       "    <tr>\n",
       "      <th>OG4312_REF_Scer_AF-P38115-F1-model_v2</th>\n",
       "      <td>OG4312</td>\n",
       "      <td>31.546352</td>\n",
       "      <td>1.48014</td>\n",
       "      <td>0.10729</td>\n",
       "      <td>3.3390</td>\n",
       "      <td>31.1203</td>\n",
       "      <td>False</td>\n",
       "      <td>True</td>\n",
       "      <td>0.123659</td>\n",
       "      <td>0.106018</td>\n",
       "      <td>...</td>\n",
       "      <td>False</td>\n",
       "      <td>0.525630</td>\n",
       "      <td>0.097200</td>\n",
       "      <td>0.682713</td>\n",
       "      <td>0.144966</td>\n",
       "      <td>15.192733</td>\n",
       "      <td>14.613761</td>\n",
       "      <td>1.469610</td>\n",
       "      <td>9.110360</td>\n",
       "      <td>55</td>\n",
       "    </tr>\n",
       "    <tr>\n",
       "      <th>OG3313_REF_Scer_AF-P38342-F1-model_v2</th>\n",
       "      <td>OG3313</td>\n",
       "      <td>92.559095</td>\n",
       "      <td>1.93928</td>\n",
       "      <td>0.09536</td>\n",
       "      <td>6.5705</td>\n",
       "      <td>68.9051</td>\n",
       "      <td>False</td>\n",
       "      <td>True</td>\n",
       "      <td>0.211955</td>\n",
       "      <td>0.282893</td>\n",
       "      <td>...</td>\n",
       "      <td>True</td>\n",
       "      <td>0.411345</td>\n",
       "      <td>0.083793</td>\n",
       "      <td>0.601597</td>\n",
       "      <td>0.131049</td>\n",
       "      <td>11.214743</td>\n",
       "      <td>11.214743</td>\n",
       "      <td>2.007136</td>\n",
       "      <td>6.457404</td>\n",
       "      <td>6</td>\n",
       "    </tr>\n",
       "    <tr>\n",
       "      <th>OG2061_REF_Scer_AF-Q99258-F1-model_v2</th>\n",
       "      <td>OG2061</td>\n",
       "      <td>121.350833</td>\n",
       "      <td>1.79162</td>\n",
       "      <td>0.06800</td>\n",
       "      <td>5.2636</td>\n",
       "      <td>77.4072</td>\n",
       "      <td>False</td>\n",
       "      <td>True</td>\n",
       "      <td>0.128380</td>\n",
       "      <td>0.339718</td>\n",
       "      <td>...</td>\n",
       "      <td>False</td>\n",
       "      <td>0.637089</td>\n",
       "      <td>0.043867</td>\n",
       "      <td>0.761037</td>\n",
       "      <td>0.099613</td>\n",
       "      <td>14.922156</td>\n",
       "      <td>14.450668</td>\n",
       "      <td>1.469696</td>\n",
       "      <td>8.905814</td>\n",
       "      <td>7</td>\n",
       "    </tr>\n",
       "    <tr>\n",
       "      <th>OG2356_REF_Scer_AF-P33312-F1-model_v2</th>\n",
       "      <td>OG2356</td>\n",
       "      <td>288.645047</td>\n",
       "      <td>1.86426</td>\n",
       "      <td>0.06606</td>\n",
       "      <td>11.8684</td>\n",
       "      <td>179.6522</td>\n",
       "      <td>False</td>\n",
       "      <td>True</td>\n",
       "      <td>0.263742</td>\n",
       "      <td>0.515155</td>\n",
       "      <td>...</td>\n",
       "      <td>True</td>\n",
       "      <td>0.521993</td>\n",
       "      <td>0.082753</td>\n",
       "      <td>0.670846</td>\n",
       "      <td>0.122843</td>\n",
       "      <td>14.035608</td>\n",
       "      <td>14.035608</td>\n",
       "      <td>0.171885</td>\n",
       "      <td>NaN</td>\n",
       "      <td>7</td>\n",
       "    </tr>\n",
       "    <tr>\n",
       "      <th>OG2906_REF_Scer_AF-P32178-F1-model_v2</th>\n",
       "      <td>OG2906</td>\n",
       "      <td>106.206299</td>\n",
       "      <td>1.09374</td>\n",
       "      <td>0.06063</td>\n",
       "      <td>6.6266</td>\n",
       "      <td>109.2959</td>\n",
       "      <td>False</td>\n",
       "      <td>True</td>\n",
       "      <td>0.129931</td>\n",
       "      <td>0.179180</td>\n",
       "      <td>...</td>\n",
       "      <td>False</td>\n",
       "      <td>0.645487</td>\n",
       "      <td>0.086492</td>\n",
       "      <td>0.755975</td>\n",
       "      <td>0.138334</td>\n",
       "      <td>13.011857</td>\n",
       "      <td>13.119088</td>\n",
       "      <td>0.869737</td>\n",
       "      <td>8.048515</td>\n",
       "      <td>7</td>\n",
       "    </tr>\n",
       "    <tr>\n",
       "      <th>...</th>\n",
       "      <td>...</td>\n",
       "      <td>...</td>\n",
       "      <td>...</td>\n",
       "      <td>...</td>\n",
       "      <td>...</td>\n",
       "      <td>...</td>\n",
       "      <td>...</td>\n",
       "      <td>...</td>\n",
       "      <td>...</td>\n",
       "      <td>...</td>\n",
       "      <td>...</td>\n",
       "      <td>...</td>\n",
       "      <td>...</td>\n",
       "      <td>...</td>\n",
       "      <td>...</td>\n",
       "      <td>...</td>\n",
       "      <td>...</td>\n",
       "      <td>...</td>\n",
       "      <td>...</td>\n",
       "      <td>...</td>\n",
       "      <td>...</td>\n",
       "    </tr>\n",
       "    <tr>\n",
       "      <th>OG3214_REF_Scer_AF-P11986-F1-model_v2</th>\n",
       "      <td>OG3214</td>\n",
       "      <td>437.164501</td>\n",
       "      <td>0.27446</td>\n",
       "      <td>0.00050</td>\n",
       "      <td>0.4981</td>\n",
       "      <td>998.6013</td>\n",
       "      <td>True</td>\n",
       "      <td>True</td>\n",
       "      <td>0.011069</td>\n",
       "      <td>0.015944</td>\n",
       "      <td>...</td>\n",
       "      <td>False</td>\n",
       "      <td>0.698937</td>\n",
       "      <td>0.031221</td>\n",
       "      <td>0.820621</td>\n",
       "      <td>0.049243</td>\n",
       "      <td>19.172579</td>\n",
       "      <td>19.180205</td>\n",
       "      <td>0.349849</td>\n",
       "      <td>13.151980</td>\n",
       "      <td>27</td>\n",
       "    </tr>\n",
       "    <tr>\n",
       "      <th>OG1302_REF_Scer_AF-P33401-F1-model_v2</th>\n",
       "      <td>OG1302</td>\n",
       "      <td>400.570913</td>\n",
       "      <td>0.87123</td>\n",
       "      <td>0.00048</td>\n",
       "      <td>0.2058</td>\n",
       "      <td>432.6978</td>\n",
       "      <td>True</td>\n",
       "      <td>True</td>\n",
       "      <td>0.003747</td>\n",
       "      <td>0.006830</td>\n",
       "      <td>...</td>\n",
       "      <td>False</td>\n",
       "      <td>0.686994</td>\n",
       "      <td>0.051137</td>\n",
       "      <td>0.794184</td>\n",
       "      <td>0.074967</td>\n",
       "      <td>15.586996</td>\n",
       "      <td>15.358808</td>\n",
       "      <td>1.569293</td>\n",
       "      <td>6.449244</td>\n",
       "      <td>10</td>\n",
       "    </tr>\n",
       "    <tr>\n",
       "      <th>OG1977_REF_Scer_AF-P38066-F1-model_v2</th>\n",
       "      <td>OG1977</td>\n",
       "      <td>187.300684</td>\n",
       "      <td>0.26248</td>\n",
       "      <td>0.00038</td>\n",
       "      <td>0.1761</td>\n",
       "      <td>457.5136</td>\n",
       "      <td>True</td>\n",
       "      <td>True</td>\n",
       "      <td>0.003590</td>\n",
       "      <td>0.007989</td>\n",
       "      <td>...</td>\n",
       "      <td>False</td>\n",
       "      <td>0.720899</td>\n",
       "      <td>0.047670</td>\n",
       "      <td>0.828083</td>\n",
       "      <td>0.073210</td>\n",
       "      <td>13.146469</td>\n",
       "      <td>13.071283</td>\n",
       "      <td>0.696048</td>\n",
       "      <td>NaN</td>\n",
       "      <td>13</td>\n",
       "    </tr>\n",
       "    <tr>\n",
       "      <th>OG1813_REF_Scer_AF-P05694-F1-model_v2</th>\n",
       "      <td>OG1813</td>\n",
       "      <td>399.610803</td>\n",
       "      <td>0.55103</td>\n",
       "      <td>0.00028</td>\n",
       "      <td>0.1924</td>\n",
       "      <td>675.2683</td>\n",
       "      <td>True</td>\n",
       "      <td>True</td>\n",
       "      <td>0.003630</td>\n",
       "      <td>0.006901</td>\n",
       "      <td>...</td>\n",
       "      <td>False</td>\n",
       "      <td>0.756699</td>\n",
       "      <td>0.042698</td>\n",
       "      <td>0.834169</td>\n",
       "      <td>0.068704</td>\n",
       "      <td>19.456072</td>\n",
       "      <td>19.429356</td>\n",
       "      <td>0.596394</td>\n",
       "      <td>14.750440</td>\n",
       "      <td>14</td>\n",
       "    </tr>\n",
       "    <tr>\n",
       "      <th>OG1779_REF_Scer_AF-P38625-F1-model_v2</th>\n",
       "      <td>OG1779</td>\n",
       "      <td>139.417453</td>\n",
       "      <td>0.70148</td>\n",
       "      <td>0.00010</td>\n",
       "      <td>0.0221</td>\n",
       "      <td>221.0942</td>\n",
       "      <td>False</td>\n",
       "      <td>True</td>\n",
       "      <td>0.000413</td>\n",
       "      <td>0.000942</td>\n",
       "      <td>...</td>\n",
       "      <td>False</td>\n",
       "      <td>0.828145</td>\n",
       "      <td>0.037399</td>\n",
       "      <td>0.886594</td>\n",
       "      <td>0.056058</td>\n",
       "      <td>15.824816</td>\n",
       "      <td>16.047305</td>\n",
       "      <td>0.645035</td>\n",
       "      <td>10.147344</td>\n",
       "      <td>6</td>\n",
       "    </tr>\n",
       "  </tbody>\n",
       "</table>\n",
       "<p>184 rows × 36 columns</p>\n",
       "</div>"
      ],
      "text/plain": [
       "                                      og_m0-BS  tree_length_m0-BS  \\\n",
       "OG4312_REF_Scer_AF-P38115-F1-model_v2   OG4312          31.546352   \n",
       "OG3313_REF_Scer_AF-P38342-F1-model_v2   OG3313          92.559095   \n",
       "OG2061_REF_Scer_AF-Q99258-F1-model_v2   OG2061         121.350833   \n",
       "OG2356_REF_Scer_AF-P33312-F1-model_v2   OG2356         288.645047   \n",
       "OG2906_REF_Scer_AF-P32178-F1-model_v2   OG2906         106.206299   \n",
       "...                                        ...                ...   \n",
       "OG3214_REF_Scer_AF-P11986-F1-model_v2   OG3214         437.164501   \n",
       "OG1302_REF_Scer_AF-P33401-F1-model_v2   OG1302         400.570913   \n",
       "OG1977_REF_Scer_AF-P38066-F1-model_v2   OG1977         187.300684   \n",
       "OG1813_REF_Scer_AF-P05694-F1-model_v2   OG1813         399.610803   \n",
       "OG1779_REF_Scer_AF-P38625-F1-model_v2   OG1779         139.417453   \n",
       "\n",
       "                                       kappa_m0-BS  dN_dS_struct_m0-BS  \\\n",
       "OG4312_REF_Scer_AF-P38115-F1-model_v2      1.48014             0.10729   \n",
       "OG3313_REF_Scer_AF-P38342-F1-model_v2      1.93928             0.09536   \n",
       "OG2061_REF_Scer_AF-Q99258-F1-model_v2      1.79162             0.06800   \n",
       "OG2356_REF_Scer_AF-P33312-F1-model_v2      1.86426             0.06606   \n",
       "OG2906_REF_Scer_AF-P32178-F1-model_v2      1.09374             0.06063   \n",
       "...                                            ...                 ...   \n",
       "OG3214_REF_Scer_AF-P11986-F1-model_v2      0.27446             0.00050   \n",
       "OG1302_REF_Scer_AF-P33401-F1-model_v2      0.87123             0.00048   \n",
       "OG1977_REF_Scer_AF-P38066-F1-model_v2      0.26248             0.00038   \n",
       "OG1813_REF_Scer_AF-P05694-F1-model_v2      0.55103             0.00028   \n",
       "OG1779_REF_Scer_AF-P38625-F1-model_v2      0.70148             0.00010   \n",
       "\n",
       "                                       tree_length_dN_m0-BS  \\\n",
       "OG4312_REF_Scer_AF-P38115-F1-model_v2                3.3390   \n",
       "OG3313_REF_Scer_AF-P38342-F1-model_v2                6.5705   \n",
       "OG2061_REF_Scer_AF-Q99258-F1-model_v2                5.2636   \n",
       "OG2356_REF_Scer_AF-P33312-F1-model_v2               11.8684   \n",
       "OG2906_REF_Scer_AF-P32178-F1-model_v2                6.6266   \n",
       "...                                                     ...   \n",
       "OG3214_REF_Scer_AF-P11986-F1-model_v2                0.4981   \n",
       "OG1302_REF_Scer_AF-P33401-F1-model_v2                0.2058   \n",
       "OG1977_REF_Scer_AF-P38066-F1-model_v2                0.1761   \n",
       "OG1813_REF_Scer_AF-P05694-F1-model_v2                0.1924   \n",
       "OG1779_REF_Scer_AF-P38625-F1-model_v2                0.0221   \n",
       "\n",
       "                                       tree_length_dS_m0-BS  \\\n",
       "OG4312_REF_Scer_AF-P38115-F1-model_v2               31.1203   \n",
       "OG3313_REF_Scer_AF-P38342-F1-model_v2               68.9051   \n",
       "OG2061_REF_Scer_AF-Q99258-F1-model_v2               77.4072   \n",
       "OG2356_REF_Scer_AF-P33312-F1-model_v2              179.6522   \n",
       "OG2906_REF_Scer_AF-P32178-F1-model_v2              109.2959   \n",
       "...                                                     ...   \n",
       "OG3214_REF_Scer_AF-P11986-F1-model_v2              998.6013   \n",
       "OG1302_REF_Scer_AF-P33401-F1-model_v2              432.6978   \n",
       "OG1977_REF_Scer_AF-P38066-F1-model_v2              457.5136   \n",
       "OG1813_REF_Scer_AF-P05694-F1-model_v2              675.2683   \n",
       "OG1779_REF_Scer_AF-P38625-F1-model_v2              221.0942   \n",
       "\n",
       "                                       convergence_issue_m0-BS  \\\n",
       "OG4312_REF_Scer_AF-P38115-F1-model_v2                    False   \n",
       "OG3313_REF_Scer_AF-P38342-F1-model_v2                    False   \n",
       "OG2061_REF_Scer_AF-Q99258-F1-model_v2                    False   \n",
       "OG2356_REF_Scer_AF-P33312-F1-model_v2                    False   \n",
       "OG2906_REF_Scer_AF-P32178-F1-model_v2                    False   \n",
       "...                                                        ...   \n",
       "OG3214_REF_Scer_AF-P11986-F1-model_v2                     True   \n",
       "OG1302_REF_Scer_AF-P33401-F1-model_v2                     True   \n",
       "OG1977_REF_Scer_AF-P38066-F1-model_v2                     True   \n",
       "OG1813_REF_Scer_AF-P05694-F1-model_v2                     True   \n",
       "OG1779_REF_Scer_AF-P38625-F1-model_v2                    False   \n",
       "\n",
       "                                       dN_dS_found_m0-BS  dN_mean_m0-BS  \\\n",
       "OG4312_REF_Scer_AF-P38115-F1-model_v2               True       0.123659   \n",
       "OG3313_REF_Scer_AF-P38342-F1-model_v2               True       0.211955   \n",
       "OG2061_REF_Scer_AF-Q99258-F1-model_v2               True       0.128380   \n",
       "OG2356_REF_Scer_AF-P33312-F1-model_v2               True       0.263742   \n",
       "OG2906_REF_Scer_AF-P32178-F1-model_v2               True       0.129931   \n",
       "...                                                  ...            ...   \n",
       "OG3214_REF_Scer_AF-P11986-F1-model_v2               True       0.011069   \n",
       "OG1302_REF_Scer_AF-P33401-F1-model_v2               True       0.003747   \n",
       "OG1977_REF_Scer_AF-P38066-F1-model_v2               True       0.003590   \n",
       "OG1813_REF_Scer_AF-P05694-F1-model_v2               True       0.003630   \n",
       "OG1779_REF_Scer_AF-P38625-F1-model_v2               True       0.000413   \n",
       "\n",
       "                                       dN_std_m0-BS  ...  dS>7.5_m0  \\\n",
       "OG4312_REF_Scer_AF-P38115-F1-model_v2      0.106018  ...      False   \n",
       "OG3313_REF_Scer_AF-P38342-F1-model_v2      0.282893  ...       True   \n",
       "OG2061_REF_Scer_AF-Q99258-F1-model_v2      0.339718  ...      False   \n",
       "OG2356_REF_Scer_AF-P33312-F1-model_v2      0.515155  ...       True   \n",
       "OG2906_REF_Scer_AF-P32178-F1-model_v2      0.179180  ...      False   \n",
       "...                                             ...  ...        ...   \n",
       "OG3214_REF_Scer_AF-P11986-F1-model_v2      0.015944  ...      False   \n",
       "OG1302_REF_Scer_AF-P33401-F1-model_v2      0.006830  ...      False   \n",
       "OG1977_REF_Scer_AF-P38066-F1-model_v2      0.007989  ...      False   \n",
       "OG1813_REF_Scer_AF-P05694-F1-model_v2      0.006901  ...      False   \n",
       "OG1779_REF_Scer_AF-P38625-F1-model_v2      0.000942  ...      False   \n",
       "\n",
       "                                       Mean(Conservation Rate) [ALL]_m0  \\\n",
       "OG4312_REF_Scer_AF-P38115-F1-model_v2                          0.525630   \n",
       "OG3313_REF_Scer_AF-P38342-F1-model_v2                          0.411345   \n",
       "OG2061_REF_Scer_AF-Q99258-F1-model_v2                          0.637089   \n",
       "OG2356_REF_Scer_AF-P33312-F1-model_v2                          0.521993   \n",
       "OG2906_REF_Scer_AF-P32178-F1-model_v2                          0.645487   \n",
       "...                                                                 ...   \n",
       "OG3214_REF_Scer_AF-P11986-F1-model_v2                          0.698937   \n",
       "OG1302_REF_Scer_AF-P33401-F1-model_v2                          0.686994   \n",
       "OG1977_REF_Scer_AF-P38066-F1-model_v2                          0.720899   \n",
       "OG1813_REF_Scer_AF-P05694-F1-model_v2                          0.756699   \n",
       "OG1779_REF_Scer_AF-P38625-F1-model_v2                          0.828145   \n",
       "\n",
       "                                      CV(Type Conservation Rate) [ALL]_m0  \\\n",
       "OG4312_REF_Scer_AF-P38115-F1-model_v2                            0.097200   \n",
       "OG3313_REF_Scer_AF-P38342-F1-model_v2                            0.083793   \n",
       "OG2061_REF_Scer_AF-Q99258-F1-model_v2                            0.043867   \n",
       "OG2356_REF_Scer_AF-P33312-F1-model_v2                            0.082753   \n",
       "OG2906_REF_Scer_AF-P32178-F1-model_v2                            0.086492   \n",
       "...                                                                   ...   \n",
       "OG3214_REF_Scer_AF-P11986-F1-model_v2                            0.031221   \n",
       "OG1302_REF_Scer_AF-P33401-F1-model_v2                            0.051137   \n",
       "OG1977_REF_Scer_AF-P38066-F1-model_v2                            0.047670   \n",
       "OG1813_REF_Scer_AF-P05694-F1-model_v2                            0.042698   \n",
       "OG1779_REF_Scer_AF-P38625-F1-model_v2                            0.037399   \n",
       "\n",
       "                                       Mean(Type Conservation Rate) [ALL]_m0  \\\n",
       "OG4312_REF_Scer_AF-P38115-F1-model_v2                               0.682713   \n",
       "OG3313_REF_Scer_AF-P38342-F1-model_v2                               0.601597   \n",
       "OG2061_REF_Scer_AF-Q99258-F1-model_v2                               0.761037   \n",
       "OG2356_REF_Scer_AF-P33312-F1-model_v2                               0.670846   \n",
       "OG2906_REF_Scer_AF-P32178-F1-model_v2                               0.755975   \n",
       "...                                                                      ...   \n",
       "OG3214_REF_Scer_AF-P11986-F1-model_v2                               0.820621   \n",
       "OG1302_REF_Scer_AF-P33401-F1-model_v2                               0.794184   \n",
       "OG1977_REF_Scer_AF-P38066-F1-model_v2                               0.828083   \n",
       "OG1813_REF_Scer_AF-P05694-F1-model_v2                               0.834169   \n",
       "OG1779_REF_Scer_AF-P38625-F1-model_v2                               0.886594   \n",
       "\n",
       "                                       CV(Conservation Rate) [ALL]_m0  \\\n",
       "OG4312_REF_Scer_AF-P38115-F1-model_v2                        0.144966   \n",
       "OG3313_REF_Scer_AF-P38342-F1-model_v2                        0.131049   \n",
       "OG2061_REF_Scer_AF-Q99258-F1-model_v2                        0.099613   \n",
       "OG2356_REF_Scer_AF-P33312-F1-model_v2                        0.122843   \n",
       "OG2906_REF_Scer_AF-P32178-F1-model_v2                        0.138334   \n",
       "...                                                               ...   \n",
       "OG3214_REF_Scer_AF-P11986-F1-model_v2                        0.049243   \n",
       "OG1302_REF_Scer_AF-P33401-F1-model_v2                        0.074967   \n",
       "OG1977_REF_Scer_AF-P38066-F1-model_v2                        0.073210   \n",
       "OG1813_REF_Scer_AF-P05694-F1-model_v2                        0.068704   \n",
       "OG1779_REF_Scer_AF-P38625-F1-model_v2                        0.056058   \n",
       "\n",
       "                                       Mean(log2(Abundances)) 10 Sp [EXP]_m0  \\\n",
       "OG4312_REF_Scer_AF-P38115-F1-model_v2                              15.192733   \n",
       "OG3313_REF_Scer_AF-P38342-F1-model_v2                              11.214743   \n",
       "OG2061_REF_Scer_AF-Q99258-F1-model_v2                              14.922156   \n",
       "OG2356_REF_Scer_AF-P33312-F1-model_v2                              14.035608   \n",
       "OG2906_REF_Scer_AF-P32178-F1-model_v2                              13.011857   \n",
       "...                                                                      ...   \n",
       "OG3214_REF_Scer_AF-P11986-F1-model_v2                              19.172579   \n",
       "OG1302_REF_Scer_AF-P33401-F1-model_v2                              15.586996   \n",
       "OG1977_REF_Scer_AF-P38066-F1-model_v2                              13.146469   \n",
       "OG1813_REF_Scer_AF-P05694-F1-model_v2                              19.456072   \n",
       "OG1779_REF_Scer_AF-P38625-F1-model_v2                              15.824816   \n",
       "\n",
       "                                       Median(log2(Abundances)) 10 Sp [EXP]_m0  \\\n",
       "OG4312_REF_Scer_AF-P38115-F1-model_v2                                14.613761   \n",
       "OG3313_REF_Scer_AF-P38342-F1-model_v2                                11.214743   \n",
       "OG2061_REF_Scer_AF-Q99258-F1-model_v2                                14.450668   \n",
       "OG2356_REF_Scer_AF-P33312-F1-model_v2                                14.035608   \n",
       "OG2906_REF_Scer_AF-P32178-F1-model_v2                                13.119088   \n",
       "...                                                                        ...   \n",
       "OG3214_REF_Scer_AF-P11986-F1-model_v2                                19.180205   \n",
       "OG1302_REF_Scer_AF-P33401-F1-model_v2                                15.358808   \n",
       "OG1977_REF_Scer_AF-P38066-F1-model_v2                                13.071283   \n",
       "OG1813_REF_Scer_AF-P05694-F1-model_v2                                19.429356   \n",
       "OG1779_REF_Scer_AF-P38625-F1-model_v2                                16.047305   \n",
       "\n",
       "                                       Std(log2(Abundances)) 10 Sp [EXP]_m0  \\\n",
       "OG4312_REF_Scer_AF-P38115-F1-model_v2                              1.469610   \n",
       "OG3313_REF_Scer_AF-P38342-F1-model_v2                              2.007136   \n",
       "OG2061_REF_Scer_AF-Q99258-F1-model_v2                              1.469696   \n",
       "OG2356_REF_Scer_AF-P33312-F1-model_v2                              0.171885   \n",
       "OG2906_REF_Scer_AF-P32178-F1-model_v2                              0.869737   \n",
       "...                                                                     ...   \n",
       "OG3214_REF_Scer_AF-P11986-F1-model_v2                              0.349849   \n",
       "OG1302_REF_Scer_AF-P33401-F1-model_v2                              1.569293   \n",
       "OG1977_REF_Scer_AF-P38066-F1-model_v2                              0.696048   \n",
       "OG1813_REF_Scer_AF-P05694-F1-model_v2                              0.596394   \n",
       "OG1779_REF_Scer_AF-P38625-F1-model_v2                              0.645035   \n",
       "\n",
       "                                      1k_Mean_log2_Abundances [EXP]_m0 BS_size  \n",
       "OG4312_REF_Scer_AF-P38115-F1-model_v2                         9.110360      55  \n",
       "OG3313_REF_Scer_AF-P38342-F1-model_v2                         6.457404       6  \n",
       "OG2061_REF_Scer_AF-Q99258-F1-model_v2                         8.905814       7  \n",
       "OG2356_REF_Scer_AF-P33312-F1-model_v2                              NaN       7  \n",
       "OG2906_REF_Scer_AF-P32178-F1-model_v2                         8.048515       7  \n",
       "...                                                                ...     ...  \n",
       "OG3214_REF_Scer_AF-P11986-F1-model_v2                        13.151980      27  \n",
       "OG1302_REF_Scer_AF-P33401-F1-model_v2                         6.449244      10  \n",
       "OG1977_REF_Scer_AF-P38066-F1-model_v2                              NaN      13  \n",
       "OG1813_REF_Scer_AF-P05694-F1-model_v2                        14.750440      14  \n",
       "OG1779_REF_Scer_AF-P38625-F1-model_v2                        10.147344       6  \n",
       "\n",
       "[184 rows x 36 columns]"
      ]
     },
     "execution_count": 139,
     "metadata": {},
     "output_type": "execute_result"
    }
   ],
   "source": [
    "dnds_struct_data.sort_values(by=['dN_dS_struct_m0-BS'], axis = 0, ascending=False)"
   ]
  },
  {
   "cell_type": "code",
   "execution_count": 140,
   "id": "7d888a24-7afa-4bb4-845a-6fb596c2f179",
   "metadata": {
    "tags": []
   },
   "outputs": [],
   "source": [
    "#Add dS>3 filter \n",
    "\n",
    "dnds_struct_data['dS>3_m0-BS'] = (dnds_struct_data['dS_mean_m0-BS']>3)"
   ]
  },
  {
   "cell_type": "code",
   "execution_count": 144,
   "id": "057e52d9-c88d-4fcc-adc2-a370450cf5dd",
   "metadata": {
    "tags": []
   },
   "outputs": [],
   "source": [
    "dnds_struct_data.to_csv(base_dir + os.sep + os.path.normpath('selection_calculations/m0_features/' + binding_site_type + '/m0_binding_site_and_full.csv'))"
   ]
  },
  {
   "cell_type": "code",
   "execution_count": 142,
   "id": "e4257ce6",
   "metadata": {
    "tags": []
   },
   "outputs": [
    {
     "data": {
      "image/png": "[encoded data removed]",
      "text/plain": [
       "<Figure size 640x480 with 1 Axes>"
      ]
     },
     "metadata": {},
     "output_type": "display_data"
    }
   ],
   "source": [
    "#color_col = [ 'dN_dS_struct_m0','dN_dS_struct_yn00','dN_dS_nielsen_SCE', 'dN_dS_nielsen_03_02']\n",
    "\n",
    "fig, ax = plt.subplots()\n",
    "\n",
    "#xlim = (-0.2,1.2)\n",
    "\n",
    "x_value = 'dN_dS_struct_m0' #'tree_length_dS_m0'#'dN_dS_struct_m0'#'Median(log2(Abundances)) 10 Sp [EXP]'#'Mean(Conservation Rate) [ALL]' #'dN_dS_struct_yn00'#'dN_dS_struct_m0'\n",
    "y_value = 'dN_dS_struct_m0-BS' #'tree_length_dS_m0-BS'#'dN_dS_struct_m0-BS' #'dN_dS_struct_yn00' #'dN_dS_nielsen_SCE'#'dN_dS_struct_yn00'\n",
    "\n",
    "dnds_background = (dnds_struct_data, 'b',0.2,'All data')\n",
    "#dnds_background = (dnds_struct_data[dnds_struct_data['convergence_issue_m0-BS']==False], 'b',0.2,'No Convergence Issue')\n",
    "#dnds_foreground = (dnds_struct_data[dnds_struct_data['convergence_issue_m0-BS']==True], 'r',0.6,'Convergence Issue')\n",
    "\n",
    "(data_to_plot, color, alpha, label) = dnds_background\n",
    "\n",
    "#good to quantify r2 here\n",
    "for (data_to_plot, color, alpha, label) in [dnds_background]: #, dnds_foreground]:\n",
    "    ax.scatter(data_to_plot[x_value], data_to_plot[y_value], color = color, alpha = alpha, label=label)\n",
    "    # ax.set_xlim(xlim)\n",
    "    # ax.set_ylim(xlim)\n",
    "    ax.set_ylabel(y_value)\n",
    "    ax.set_xlabel(x_value)\n",
    "    ax.legend()"
   ]
  },
  {
   "cell_type": "code",
   "execution_count": 121,
   "id": "57199596",
   "metadata": {
    "tags": []
   },
   "outputs": [
    {
     "data": {
      "image/png": "[encoded data removed]",
      "text/plain": [
       "<Figure size 640x480 with 1 Axes>"
      ]
     },
     "metadata": {},
     "output_type": "display_data"
    }
   ],
   "source": [
    "#color_col = [ 'dN_dS_struct_m0','dN_dS_struct_yn00','dN_dS_nielsen_SCE', 'dN_dS_nielsen_03_02']\n",
    "\n",
    "fig, ax = plt.subplots()\n",
    "\n",
    "#xlim = (-0.2,1.2)\n",
    "\n",
    "x_value = 'BS_size'#'Median(log2(Abundances)) 10 Sp [EXP]'#'Mean(Conservation Rate) [ALL]' #'dN_dS_struct_yn00'#'dN_dS_struct_m0'\n",
    "y_value = 'dN_dS_struct_m0-BS' #'dN_dS_struct_yn00' #'dN_dS_nielsen_SCE'#'dN_dS_struct_yn00'\n",
    "\n",
    "dnds_background = (dnds_struct_data, 'b',0.2,'All data')\n",
    "#dnds_background = (dnds_struct_data[dnds_struct_data['convergence_issue_m0-BS']==False], 'b',0.2,'No Convergence Issue')\n",
    "#dnds_foreground = (dnds_struct_data[dnds_struct_data['convergence_issue_m0-BS']==True], 'r',0.6,'Convergence Issue')\n",
    "\n",
    "(data_to_plot, color, alpha, label) = dnds_background\n",
    "\n",
    "#good to quantify r2 here\n",
    "for (data_to_plot, color, alpha, label) in [dnds_background]: #, dnds_foreground]:\n",
    "    ax.scatter(data_to_plot[x_value], data_to_plot[y_value], color = color, alpha = alpha, label=label)\n",
    "    # ax.set_xlim(xlim)\n",
    "    # ax.set_ylim(xlim)\n",
    "    ax.set_ylabel(y_value)\n",
    "    ax.set_xlabel(x_value)\n",
    "    ax.legend()"
   ]
  },
  {
   "cell_type": "code",
   "execution_count": 122,
   "id": "2f14966e",
   "metadata": {
    "tags": []
   },
   "outputs": [],
   "source": [
    "#Add in Conservation overall and Conservation of Binding Site\n",
    "\n",
    "#Extract particular binding sites that look interesting\n",
    "\n"
   ]
  },
  {
   "cell_type": "code",
   "execution_count": 123,
   "id": "dc895506-f3cb-483b-83a9-e5a32748cb10",
   "metadata": {
    "tags": []
   },
   "outputs": [
    {
     "data": {
      "text/plain": [
       "Index(['og_m0-BS', 'tree_length_m0-BS', 'kappa_m0-BS', 'dN_dS_struct_m0-BS',\n",
       "       'tree_length_dN_m0-BS', 'tree_length_dS_m0-BS',\n",
       "       'convergence_issue_m0-BS', 'dN_dS_found_m0-BS', 'dN_mean_m0-BS',\n",
       "       'dN_std_m0-BS', 'dS_mean_m0-BS', 'dS_std_m0-BS', 'og_m0',\n",
       "       'tree_length_m0', 'kappa_m0', 'dN_dS_struct_m0', 'tree_length_dN_m0',\n",
       "       'tree_length_dS_m0', 'convergence_issue_m0', 'dN_dS_found_m0',\n",
       "       'dN_mean_m0', 'dN_std_m0', 'dS_mean_m0', 'dS_std_m0', 'dS>3_m0',\n",
       "       'dS>5_m0', 'dS>7.5_m0', 'Mean(Conservation Rate) [ALL]_m0',\n",
       "       'CV(Type Conservation Rate) [ALL]_m0',\n",
       "       'Mean(Type Conservation Rate) [ALL]_m0',\n",
       "       'CV(Conservation Rate) [ALL]_m0',\n",
       "       'Mean(log2(Abundances)) 10 Sp [EXP]_m0',\n",
       "       'Median(log2(Abundances)) 10 Sp [EXP]_m0',\n",
       "       'Std(log2(Abundances)) 10 Sp [EXP]_m0',\n",
       "       '1k_Mean_log2_Abundances [EXP]_m0', 'BS_size', 'dS>3_m0-BS'],\n",
       "      dtype='object')"
      ]
     },
     "execution_count": 123,
     "metadata": {},
     "output_type": "execute_result"
    }
   ],
   "source": [
    "dnds_struct_data.columns"
   ]
  },
  {
   "cell_type": "code",
   "execution_count": 124,
   "id": "c0914e59",
   "metadata": {
    "tags": []
   },
   "outputs": [
    {
     "data": {
      "image/png": "[encoded data removed]",
      "text/plain": [
       "<Figure size 500x1000 with 2 Axes>"
      ]
     },
     "metadata": {},
     "output_type": "display_data"
    }
   ],
   "source": [
    "#dN/dS showing convergence issues\n",
    "\n",
    "fig, axarr = plt.subplots(2,1,figsize=(5,10))\n",
    "\n",
    "#xlim = (-0.2,1.2)\n",
    "\n",
    "x_value = 'dN_dS_struct_m0' # 'tree_length_dS_m0'#'dN_dS_struct_m0'#'Median(log2(Abundances)) 10 Sp [EXP]'#'Mean(Conservation Rate) [ALL]' #'dN_dS_struct_yn00'#'dN_dS_struct_m0'\n",
    "y_value = 'dN_dS_struct_m0-BS' #'tree_length_dS_m0-BS'#'dN_dS_struct_m0-BS' #'dN_dS_struct_yn00' #'dN_dS_nielsen_SCE'#'dN_dS_struct_yn00'\n",
    "\n",
    "\n",
    "for jj, highlight in enumerate(['convergence_issue_m0', 'convergence_issue_m0-BS']):\n",
    "    ax = axarr[jj]\n",
    "    dnds_background = (dnds_struct_data[dnds_struct_data[highlight]==False], 'b',0.2,'background')\n",
    "    dnds_foreground = (dnds_struct_data[dnds_struct_data[highlight]==True], 'r',0.6,highlight)\n",
    "\n",
    "    (data_to_plot, color, alpha, label) = dnds_background\n",
    "\n",
    "    #good to quantify r2 here\n",
    "    for (data_to_plot, color, alpha, label) in [dnds_background, dnds_foreground]:\n",
    "        ax.scatter(data_to_plot[x_value], data_to_plot[y_value], color = color, alpha = alpha, label=label)\n",
    "        # ax.set_xlim(xlim)\n",
    "        # ax.set_ylim(xlim)\n",
    "        ax.set_ylabel(y_value)\n",
    "        ax.set_xlabel(x_value)\n",
    "        ax.legend()"
   ]
  },
  {
   "cell_type": "code",
   "execution_count": 125,
   "id": "c494b1d0-b657-4281-9c6d-62483f168f27",
   "metadata": {
    "tags": []
   },
   "outputs": [
    {
     "name": "stdout",
     "output_type": "stream",
     "text": [
      "There are 108 ogs which have dN/dS calculated for the binding site and no convergence issues either for the full protein or for the binding site itself\n"
     ]
    }
   ],
   "source": [
    "print('There are ' + str(sum((dnds_struct_data['convergence_issue_m0']==False) & (dnds_struct_data['convergence_issue_m0-BS']==False))) + ' ogs which have dN/dS calculated for the binding site and no convergence issues either for the full protein or for the binding site itself')"
   ]
  },
  {
   "cell_type": "code",
   "execution_count": 126,
   "id": "e583a86c-7d6a-478b-9f6d-fb6b73181a5c",
   "metadata": {
    "tags": []
   },
   "outputs": [],
   "source": [
    "dnds_struct_data_conv_filt=dnds_struct_data[(dnds_struct_data['convergence_issue_m0']==False) & (dnds_struct_data['convergence_issue_m0-BS']==False)]\n",
    "dnds_struct_data_conv_filt = dnds_struct_data_conv_filt.copy()"
   ]
  },
  {
   "cell_type": "code",
   "execution_count": 127,
   "id": "8d728477-7104-4bca-af0f-6bdbabc00e0e",
   "metadata": {
    "tags": []
   },
   "outputs": [],
   "source": [
    "#After filtering out convergence issue, filter out dS > 3 for both\n",
    "\n",
    "dnds_struct_data_conv_filt['dS>3_m0-BS'] = (dnds_struct_data_conv_filt['dS_mean_m0-BS']>3)"
   ]
  },
  {
   "cell_type": "code",
   "execution_count": 128,
   "id": "5a58a33c-4a6f-405e-88b9-899e8fef0365",
   "metadata": {
    "tags": []
   },
   "outputs": [
    {
     "data": {
      "image/png": "[encoded data removed]",
      "text/plain": [
       "<Figure size 500x1000 with 2 Axes>"
      ]
     },
     "metadata": {},
     "output_type": "display_data"
    }
   ],
   "source": [
    "#dN/dS showing dS>3\n",
    "\n",
    "fig, axarr = plt.subplots(2,1,figsize=(5,10))\n",
    "\n",
    "#xlim = (-0.2,1.2)\n",
    "\n",
    "x_value = 'dN_dS_struct_m0' # 'tree_length_dS_m0'#'dN_dS_struct_m0'#'Median(log2(Abundances)) 10 Sp [EXP]'#'Mean(Conservation Rate) [ALL]' #'dN_dS_struct_yn00'#'dN_dS_struct_m0'\n",
    "y_value = 'dN_dS_struct_m0-BS' #'tree_length_dS_m0-BS'#'dN_dS_struct_m0-BS' #'dN_dS_struct_yn00' #'dN_dS_nielsen_SCE'#'dN_dS_struct_yn00'\n",
    "\n",
    "dnds_struct_data_in = dnds_struct_data_conv_filt\n",
    "\n",
    "for jj, highlight in enumerate(['dS>3_m0', 'dS>3_m0-BS']):\n",
    "    ax = axarr[jj]\n",
    "    dnds_background = (dnds_struct_data_in[dnds_struct_data_in[highlight]==False], 'b',0.2,'background')\n",
    "    dnds_foreground = (dnds_struct_data_in[dnds_struct_data_in[highlight]==True], 'r',0.6,highlight)\n",
    "\n",
    "    (data_to_plot, color, alpha, label) = dnds_background\n",
    "\n",
    "    #good to quantify r2 here\n",
    "    for (data_to_plot, color, alpha, label) in [dnds_background, dnds_foreground]:\n",
    "        ax.scatter(data_to_plot[x_value], data_to_plot[y_value], color = color, alpha = alpha, label=label)\n",
    "        # ax.set_xlim(xlim)\n",
    "        # ax.set_ylim(xlim)\n",
    "        ax.set_ylabel(y_value)\n",
    "        ax.set_xlabel(x_value)\n",
    "        ax.legend()"
   ]
  },
  {
   "cell_type": "code",
   "execution_count": 129,
   "id": "99c7f867-2ccc-4c87-a60b-d95943dcdd63",
   "metadata": {
    "tags": []
   },
   "outputs": [
    {
     "name": "stdout",
     "output_type": "stream",
     "text": [
      "There are 42 orthogroups with binding sites calculated that have dS<3 for both the binding site and for the entire orthogroup\n"
     ]
    }
   ],
   "source": [
    "print('There are ' + str(sum((dnds_struct_data_conv_filt['dS>3_m0']==False) & (dnds_struct_data_conv_filt['dS>3_m0-BS']==False))) + ' orthogroups with binding sites calculated that have dS<3 for both the binding site and for the entire orthogroup')"
   ]
  },
  {
   "cell_type": "code",
   "execution_count": 130,
   "id": "f53acc26-8602-4fc7-8faa-f791a22c82b3",
   "metadata": {
    "tags": []
   },
   "outputs": [],
   "source": [
    "dnds_struct_data_ds_filt = dnds_struct_data_conv_filt[(dnds_struct_data_conv_filt['dS>3_m0']==False) & (dnds_struct_data_conv_filt['dS>3_m0-BS']==False)]\n",
    "dnds_struct_data_ds_filt = dnds_struct_data_ds_filt.copy()"
   ]
  },
  {
   "cell_type": "code",
   "execution_count": 131,
   "id": "391e648a-6d84-47c2-90eb-9292991eacf3",
   "metadata": {
    "tags": []
   },
   "outputs": [
    {
     "data": {
      "text/plain": [
       "Text(0.02, 0.08, 'R=-0.046\\np=0.8')"
      ]
     },
     "execution_count": 131,
     "metadata": {},
     "output_type": "execute_result"
    },
    {
     "data": {
      "image/png": "[encoded data removed]",
      "text/plain": [
       "<Figure size 640x480 with 1 Axes>"
      ]
     },
     "metadata": {},
     "output_type": "display_data"
    }
   ],
   "source": [
    "#dN/dS with all filters applied \n",
    "\n",
    "fig, ax = plt.subplots()\n",
    "\n",
    "#xlim = (-0.2,1.2)\n",
    "\n",
    "x_value = 'dN_dS_struct_m0' # 'tree_length_dS_m0'#'dN_dS_struct_m0'#'Median(log2(Abundances)) 10 Sp [EXP]'#'Mean(Conservation Rate) [ALL]' #'dN_dS_struct_yn00'#'dN_dS_struct_m0'\n",
    "y_value = 'dN_dS_struct_m0-BS' #'tree_length_dS_m0-BS'#'dN_dS_struct_m0-BS' #'dN_dS_struct_yn00' #'dN_dS_nielsen_SCE'#'dN_dS_struct_yn00'\n",
    "\n",
    "dnds_struct_data_in = dnds_struct_data_ds_filt\n",
    "\n",
    "#for jj, highlight in enumerate(['dS>3_m0', 'dS>3_m0-BS']):\n",
    "#    ax = axarr[jj]\n",
    "#    dnds_background = (dnds_struct_data_in[dnds_struct_data_in[highlight]==False], 'b',0.2,'background')\n",
    "#    dnds_foreground = (dnds_struct_data_in[dnds_struct_data_in[highlight]==True], 'r',0.6,highlight)\n",
    "\n",
    "#(data_to_plot, color, alpha, label) = dnds_background\n",
    "\n",
    "(data_to_plot, color, alpha, label) = (dnds_struct_data_in, 'b',0.6,'all data')\n",
    "\n",
    "#good to quantify r2 here\n",
    "#for (data_to_plot, color, alpha, label) in [dnds_background, dnds_foreground]:\n",
    "ax.scatter(data_to_plot[x_value], data_to_plot[y_value], color = color, alpha = alpha, label=label)\n",
    "# ax.set_xlim(xlim)\n",
    "# ax.set_ylim(xlim)\n",
    "ax.set_ylabel(y_value)\n",
    "ax.set_xlabel(x_value)\n",
    "#ax.legend()\n",
    "\n",
    "#add linear regression line to scatterplot for background\n",
    "x_data = data_to_plot[x_value]\n",
    "y_data = data_to_plot[y_value]\n",
    "\n",
    "na_filt = x_data.notna() & y_data.notna()\n",
    "\n",
    "x_data = x_data[na_filt]\n",
    "y_data = y_data[na_filt]\n",
    "\n",
    "#m, b = np.polyfit(x_data, y_data, 1)\n",
    "slope, intercept, r_value, p_value, std_err = stats.linregress(x_data, y_data)\n",
    "ax.plot(list(x_data), list(slope*x_data+intercept))\n",
    "ax.text(0.02, 0.08, 'R={:.2}\\np={:.1}'.format(r_value, p_value))"
   ]
  },
  {
   "cell_type": "markdown",
   "id": "d5884f89-e064-41eb-b56d-4e6d1e39faab",
   "metadata": {},
   "source": [
    "# Look at m0 for Enzymes that have unexpectedly low conservation of Binding site: "
   ]
  },
  {
   "cell_type": "code",
   "execution_count": 134,
   "id": "5c243472-dc95-4858-8de0-2e1e934d2bc9",
   "metadata": {
    "tags": []
   },
   "outputs": [],
   "source": [
    "struct_align_cluster_gene_lists_fname = base_dir + os.sep + os.path.normpath('msas/structural/tm_align/cluster_gene_lists.json')\n",
    "with open(struct_align_cluster_gene_lists_fname, 'r') as f:\n",
    "    struct_align_cluster_gene_lists = json.load(f)\n",
    "    \n",
    "#build dictionary from genename to OG_ref\n",
    "\n",
    "og_ref_lookup_genename = {}\n",
    "\n",
    "for og_ref, sequence_names in struct_align_cluster_gene_lists.items():\n",
    "    sc_genes = sequence_names['scer_sequences']['genename']\n",
    "    for sc_gene in sc_genes: \n",
    "        og_ref_lookup_genename[sc_gene] = og_ref\n",
    "    "
   ]
  },
  {
   "cell_type": "code",
   "execution_count": 135,
   "id": "c279f487-cf86-4815-8066-dbb3dee7fc80",
   "metadata": {
    "tags": []
   },
   "outputs": [
    {
     "name": "stdout",
     "output_type": "stream",
     "text": [
      "SFGH not in ORF Lookup\n",
      "KFA not in ORF Lookup\n",
      "PLMT not in ORF Lookup\n",
      "GYS1 not in ORF Lookup\n",
      "GYS2 not in ORF Lookup\n",
      "SFGH not in ORF Lookup\n"
     ]
    }
   ],
   "source": [
    "low_bsite_cons = {'5A':['QCR6', 'QCR7', 'FAS2', 'SFGH', 'KFA'],    #Filter out RSC6 as it is divided up because of the clustering\n",
    "            'uniprot': ['PLMT', 'PUT2', 'FAS2', 'GYS1','GYS2','GRE3','YAT2', 'SFGH']\n",
    "           }\n",
    "\n",
    "missing_common_names_to_orf = {'SFGH': 'YJL068C', \n",
    "                               'GYS1': 'YFR015C', \n",
    "                               'GYS2': 'YLR258W', \n",
    "                               'KFA': 'YDR428C',  #BNA7\n",
    "                               'PLMT': 'YJR073C'  #OPI3\n",
    "                              }\n",
    "                               \n",
    "                               \n",
    "\n",
    "#convert to genename\n",
    "\n",
    "low_bsite_cons_genename = {}\n",
    "low_bsite_cons_og_ref = {}\n",
    "for bsite_cat, common_name_list in low_bsite_cons.items():  \n",
    "    genename_list = [] \n",
    "    og_ref_list = []\n",
    "    for common_name in common_name_list: \n",
    "        if common_name in SC_orfs_lookup.keys(): \n",
    "            genename = SC_orfs_lookup[common_name]\n",
    "        else: \n",
    "            genename = missing_common_names_to_orf[common_name]\n",
    "            print(common_name + ' not in ORF Lookup')\n",
    "        genename_list.append(genename)\n",
    "        og_ref_list.append(og_ref_lookup_genename[genename]) \n",
    "    \n",
    "    low_bsite_cons_genename[bsite_cat] = genename_list\n",
    "    low_bsite_cons_og_ref[bsite_cat] = og_ref_list\n",
    "\n",
    "#These share SFGH FAS2\n",
    "#Find "
   ]
  },
  {
   "cell_type": "code",
   "execution_count": 145,
   "id": "f6ff3b00-2d04-4ddb-a6cd-e1f8db481332",
   "metadata": {
    "tags": []
   },
   "outputs": [],
   "source": [
    "dnds_struct_data = pd.read_csv(base_dir + os.sep + os.path.normpath('selection_calculations/m0_features/' + binding_site_type + '/m0_binding_site_and_full.csv'), index_col = 0)"
   ]
  },
  {
   "cell_type": "code",
   "execution_count": 146,
   "id": "48da6997-c560-4e46-8aa4-a516749ad44a",
   "metadata": {
    "tags": []
   },
   "outputs": [
    {
     "data": {
      "text/plain": [
       "{'OG1595_REF_Scer_AF-P07275-F1-model_v2',\n",
       " 'OG4391_REF_Scer_AF-P40017-F1-model_v2'}"
      ]
     },
     "execution_count": 146,
     "metadata": {},
     "output_type": "execute_result"
    }
   ],
   "source": [
    "set(dnds_struct_data.index) & set(low_bsite_cons_og_ref['uniprot'])"
   ]
  },
  {
   "cell_type": "code",
   "execution_count": 147,
   "id": "860cae4f-a815-4981-9f1e-06c02ae2814a",
   "metadata": {
    "tags": []
   },
   "outputs": [
    {
     "data": {
      "text/plain": [
       "['OG2645_REF_Scer_AF-P05375-F1-model_v2',\n",
       " 'OG1595_REF_Scer_AF-P07275-F1-model_v2',\n",
       " 'OG1316_REF_Scer_AF-P19097-F1-model_v2',\n",
       " 'OG1266_REF_Scer_AF-P23337-F1-model_v2',\n",
       " 'OG1266_REF_Scer_AF-P23337-F1-model_v2',\n",
       " 'OG1022_REF_Scer_AF-P38715-F1-model_v2',\n",
       " 'OG4391_REF_Scer_AF-P40017-F1-model_v2',\n",
       " 'OG3241_REF_Scer_AF-P40363-F1-model_v2']"
      ]
     },
     "execution_count": 147,
     "metadata": {},
     "output_type": "execute_result"
    }
   ],
   "source": [
    "low_bsite_cons_og_ref['uniprot']"
   ]
  },
  {
   "cell_type": "code",
   "execution_count": 176,
   "id": "98eade20-3692-4dbd-a465-9da8cf4835e1",
   "metadata": {
    "tags": []
   },
   "outputs": [
    {
     "data": {
      "text/plain": [
       "{'all_sequences': ['Calb_AF-A0A1D8PKM5-F1-model_v2',\n",
       "  'REF_Scer_AF-P05375-F1-model_v2',\n",
       "  'Spom_AF-O74827-F1-model_v2',\n",
       "  'alloascoidea_hylecoeti__OG2645__0_4987',\n",
       "  'ascoidea_rubescens__OG2645__6_4396',\n",
       "  'candida_apicola__OG2645__13_663',\n",
       "  'candida_tropicalis__OG2645__30_5327',\n",
       "  'cyberlindnera_jadinii__OG2645__35_4400',\n",
       "  'debaryomyces_hansenii__OG2645__36_4456',\n",
       "  'eremothecium_gossypii__OG2645__40_1907',\n",
       "  'geotrichum_candidum__OG2645__43_5016',\n",
       "  'kazachstania_naganishii__OG2645__49_969',\n",
       "  'kluyveromyces_lactis__OG2645__50_1107',\n",
       "  'kluyveromyces_marxianus__OG2645__51_3365',\n",
       "  'komagataella_pastoris__OG2645__52_2659',\n",
       "  'lachancea_thermotolerans__OG2645__64_3112',\n",
       "  'lipomyces_starkeyi__OG2645__66_726',\n",
       "  'ogataea_parapolymorpha__OG2645__104_2289',\n",
       "  'pachysolen_tannophilus__OG2645__106_3128',\n",
       "  'tortispora_caseinolytica__OG2645__134_4012',\n",
       "  'torulaspora_delbrueckii__OG2645__135_1927',\n",
       "  'vanderwaltozyma_polyspora__OG2645__136_4985',\n",
       "  'wickerhamomyces_anomalus__OG2645__139_91',\n",
       "  'yHMPu5000034604_sporopachydermia_lactativora_160519__OG2645__170_1138',\n",
       "  'yHMPu5000034957_hanseniaspora_osmophila_160519__OG2645__247_1876',\n",
       "  'yarrowia_lipolytica__OG2645__144_5328',\n",
       "  'zygosaccharomyces_rouxii__OG2645__342_1939'],\n",
       " 'scer_sequences': {'common_name': ['OPI3'],\n",
       "  'genename': ['YJR073C'],\n",
       "  'id': ['REF_Scer_AF-P05375-F1-model_v2.pdb'],\n",
       "  'uniprot_id': ['P05375']}}"
      ]
     },
     "execution_count": 176,
     "metadata": {},
     "output_type": "execute_result"
    }
   ],
   "source": [
    "goi = 'OG2645_REF_Scer_AF-P05375-F1-model_v2'\n",
    "struct_align_cluster_gene_lists[goi]"
   ]
  },
  {
   "cell_type": "code",
   "execution_count": 177,
   "id": "9af59962-8195-4ce3-a6a8-7c9c22e2ea76",
   "metadata": {
    "tags": []
   },
   "outputs": [
    {
     "data": {
      "text/plain": [
       "3"
      ]
     },
     "execution_count": 177,
     "metadata": {},
     "output_type": "execute_result"
    }
   ],
   "source": [
    "feature_sizes[goi]"
   ]
  },
  {
   "cell_type": "code",
   "execution_count": 170,
   "id": "8f0d1c35-d1cd-45a0-a33e-f1e8b85e3b2d",
   "metadata": {
    "tags": []
   },
   "outputs": [
    {
     "ename": "KeyError",
     "evalue": "'OG1022_REF_Scer_AF-P38715-F1-model_v2'",
     "output_type": "error",
     "traceback": [
      "\u001b[1;31m---------------------------------------------------------------------------\u001b[0m",
      "\u001b[1;31mKeyError\u001b[0m                                  Traceback (most recent call last)",
      "File \u001b[1;32m~\\anaconda3\\envs\\bmh_bioinformatics\\Lib\\site-packages\\pandas\\core\\indexes\\base.py:3790\u001b[0m, in \u001b[0;36mIndex.get_loc\u001b[1;34m(self, key)\u001b[0m\n\u001b[0;32m   3789\u001b[0m \u001b[38;5;28;01mtry\u001b[39;00m:\n\u001b[1;32m-> 3790\u001b[0m     \u001b[38;5;28;01mreturn\u001b[39;00m \u001b[38;5;28mself\u001b[39m\u001b[38;5;241m.\u001b[39m_engine\u001b[38;5;241m.\u001b[39mget_loc(casted_key)\n\u001b[0;32m   3791\u001b[0m \u001b[38;5;28;01mexcept\u001b[39;00m \u001b[38;5;167;01mKeyError\u001b[39;00m \u001b[38;5;28;01mas\u001b[39;00m err:\n",
      "File \u001b[1;32mindex.pyx:152\u001b[0m, in \u001b[0;36mpandas._libs.index.IndexEngine.get_loc\u001b[1;34m()\u001b[0m\n",
      "File \u001b[1;32mindex.pyx:181\u001b[0m, in \u001b[0;36mpandas._libs.index.IndexEngine.get_loc\u001b[1;34m()\u001b[0m\n",
      "File \u001b[1;32mpandas\\_libs\\hashtable_class_helper.pxi:7080\u001b[0m, in \u001b[0;36mpandas._libs.hashtable.PyObjectHashTable.get_item\u001b[1;34m()\u001b[0m\n",
      "File \u001b[1;32mpandas\\_libs\\hashtable_class_helper.pxi:7088\u001b[0m, in \u001b[0;36mpandas._libs.hashtable.PyObjectHashTable.get_item\u001b[1;34m()\u001b[0m\n",
      "\u001b[1;31mKeyError\u001b[0m: 'OG1022_REF_Scer_AF-P38715-F1-model_v2'",
      "\nThe above exception was the direct cause of the following exception:\n",
      "\u001b[1;31mKeyError\u001b[0m                                  Traceback (most recent call last)",
      "Cell \u001b[1;32mIn[170], line 1\u001b[0m\n\u001b[1;32m----> 1\u001b[0m dnds_struct_data\u001b[38;5;241m.\u001b[39mloc[goi]\n",
      "File \u001b[1;32m~\\anaconda3\\envs\\bmh_bioinformatics\\Lib\\site-packages\\pandas\\core\\indexing.py:1153\u001b[0m, in \u001b[0;36m_LocationIndexer.__getitem__\u001b[1;34m(self, key)\u001b[0m\n\u001b[0;32m   1150\u001b[0m axis \u001b[38;5;241m=\u001b[39m \u001b[38;5;28mself\u001b[39m\u001b[38;5;241m.\u001b[39maxis \u001b[38;5;129;01mor\u001b[39;00m \u001b[38;5;241m0\u001b[39m\n\u001b[0;32m   1152\u001b[0m maybe_callable \u001b[38;5;241m=\u001b[39m com\u001b[38;5;241m.\u001b[39mapply_if_callable(key, \u001b[38;5;28mself\u001b[39m\u001b[38;5;241m.\u001b[39mobj)\n\u001b[1;32m-> 1153\u001b[0m \u001b[38;5;28;01mreturn\u001b[39;00m \u001b[38;5;28mself\u001b[39m\u001b[38;5;241m.\u001b[39m_getitem_axis(maybe_callable, axis\u001b[38;5;241m=\u001b[39maxis)\n",
      "File \u001b[1;32m~\\anaconda3\\envs\\bmh_bioinformatics\\Lib\\site-packages\\pandas\\core\\indexing.py:1393\u001b[0m, in \u001b[0;36m_LocIndexer._getitem_axis\u001b[1;34m(self, key, axis)\u001b[0m\n\u001b[0;32m   1391\u001b[0m \u001b[38;5;66;03m# fall thru to straight lookup\u001b[39;00m\n\u001b[0;32m   1392\u001b[0m \u001b[38;5;28mself\u001b[39m\u001b[38;5;241m.\u001b[39m_validate_key(key, axis)\n\u001b[1;32m-> 1393\u001b[0m \u001b[38;5;28;01mreturn\u001b[39;00m \u001b[38;5;28mself\u001b[39m\u001b[38;5;241m.\u001b[39m_get_label(key, axis\u001b[38;5;241m=\u001b[39maxis)\n",
      "File \u001b[1;32m~\\anaconda3\\envs\\bmh_bioinformatics\\Lib\\site-packages\\pandas\\core\\indexing.py:1343\u001b[0m, in \u001b[0;36m_LocIndexer._get_label\u001b[1;34m(self, label, axis)\u001b[0m\n\u001b[0;32m   1341\u001b[0m \u001b[38;5;28;01mdef\u001b[39;00m \u001b[38;5;21m_get_label\u001b[39m(\u001b[38;5;28mself\u001b[39m, label, axis: AxisInt):\n\u001b[0;32m   1342\u001b[0m     \u001b[38;5;66;03m# GH#5567 this will fail if the label is not present in the axis.\u001b[39;00m\n\u001b[1;32m-> 1343\u001b[0m     \u001b[38;5;28;01mreturn\u001b[39;00m \u001b[38;5;28mself\u001b[39m\u001b[38;5;241m.\u001b[39mobj\u001b[38;5;241m.\u001b[39mxs(label, axis\u001b[38;5;241m=\u001b[39maxis)\n",
      "File \u001b[1;32m~\\anaconda3\\envs\\bmh_bioinformatics\\Lib\\site-packages\\pandas\\core\\generic.py:4236\u001b[0m, in \u001b[0;36mNDFrame.xs\u001b[1;34m(self, key, axis, level, drop_level)\u001b[0m\n\u001b[0;32m   4234\u001b[0m             new_index \u001b[38;5;241m=\u001b[39m index[loc]\n\u001b[0;32m   4235\u001b[0m \u001b[38;5;28;01melse\u001b[39;00m:\n\u001b[1;32m-> 4236\u001b[0m     loc \u001b[38;5;241m=\u001b[39m index\u001b[38;5;241m.\u001b[39mget_loc(key)\n\u001b[0;32m   4238\u001b[0m     \u001b[38;5;28;01mif\u001b[39;00m \u001b[38;5;28misinstance\u001b[39m(loc, np\u001b[38;5;241m.\u001b[39mndarray):\n\u001b[0;32m   4239\u001b[0m         \u001b[38;5;28;01mif\u001b[39;00m loc\u001b[38;5;241m.\u001b[39mdtype \u001b[38;5;241m==\u001b[39m np\u001b[38;5;241m.\u001b[39mbool_:\n",
      "File \u001b[1;32m~\\anaconda3\\envs\\bmh_bioinformatics\\Lib\\site-packages\\pandas\\core\\indexes\\base.py:3797\u001b[0m, in \u001b[0;36mIndex.get_loc\u001b[1;34m(self, key)\u001b[0m\n\u001b[0;32m   3792\u001b[0m     \u001b[38;5;28;01mif\u001b[39;00m \u001b[38;5;28misinstance\u001b[39m(casted_key, \u001b[38;5;28mslice\u001b[39m) \u001b[38;5;129;01mor\u001b[39;00m (\n\u001b[0;32m   3793\u001b[0m         \u001b[38;5;28misinstance\u001b[39m(casted_key, abc\u001b[38;5;241m.\u001b[39mIterable)\n\u001b[0;32m   3794\u001b[0m         \u001b[38;5;129;01mand\u001b[39;00m \u001b[38;5;28many\u001b[39m(\u001b[38;5;28misinstance\u001b[39m(x, \u001b[38;5;28mslice\u001b[39m) \u001b[38;5;28;01mfor\u001b[39;00m x \u001b[38;5;129;01min\u001b[39;00m casted_key)\n\u001b[0;32m   3795\u001b[0m     ):\n\u001b[0;32m   3796\u001b[0m         \u001b[38;5;28;01mraise\u001b[39;00m InvalidIndexError(key)\n\u001b[1;32m-> 3797\u001b[0m     \u001b[38;5;28;01mraise\u001b[39;00m \u001b[38;5;167;01mKeyError\u001b[39;00m(key) \u001b[38;5;28;01mfrom\u001b[39;00m \u001b[38;5;21;01merr\u001b[39;00m\n\u001b[0;32m   3798\u001b[0m \u001b[38;5;28;01mexcept\u001b[39;00m \u001b[38;5;167;01mTypeError\u001b[39;00m:\n\u001b[0;32m   3799\u001b[0m     \u001b[38;5;66;03m# If we have a listlike key, _check_indexing_error will raise\u001b[39;00m\n\u001b[0;32m   3800\u001b[0m     \u001b[38;5;66;03m#  InvalidIndexError. Otherwise we fall through and re-raise\u001b[39;00m\n\u001b[0;32m   3801\u001b[0m     \u001b[38;5;66;03m#  the TypeError.\u001b[39;00m\n\u001b[0;32m   3802\u001b[0m     \u001b[38;5;28mself\u001b[39m\u001b[38;5;241m.\u001b[39m_check_indexing_error(key)\n",
      "\u001b[1;31mKeyError\u001b[0m: 'OG1022_REF_Scer_AF-P38715-F1-model_v2'"
     ]
    }
   ],
   "source": [
    "dnds_struct_data.loc[goi]"
   ]
  },
  {
   "cell_type": "code",
   "execution_count": 63,
   "id": "435f5422-444c-4633-97cc-b26f4c30977b",
   "metadata": {
    "tags": []
   },
   "outputs": [
    {
     "data": {
      "text/plain": [
       "['PLMT: OG2645_REF_Scer_AF-P05375-F1-model_v2',\n",
       " 'GYS1: OG1266_REF_Scer_AF-P23337-F1-model_v2',\n",
       " 'GYS2: OG1266_REF_Scer_AF-P23337-F1-model_v2']"
      ]
     },
     "execution_count": 63,
     "metadata": {},
     "output_type": "execute_result"
    }
   ],
   "source": [
    "[uniprot_common_name + ': ' + og_ref_lookup_genename[missing_common_names_to_orf[uniprot_common_name]]  for uniprot_common_name in ['PLMT', 'GYS1', 'GYS2']]\n",
    "#og_ref_lookup_genename[missing_common_names_to_orf['KFA']]  og_ref_lookup_genename[SC_orfs_lookup[gene]]"
   ]
  },
  {
   "cell_type": "code",
   "execution_count": 64,
   "id": "19fda7a2-8f49-4399-a90b-7eeaf4b3b768",
   "metadata": {
    "tags": []
   },
   "outputs": [
    {
     "data": {
      "text/plain": [
       "['PUT2: OG1595_REF_Scer_AF-P07275-F1-model_v2',\n",
       " 'GRE3: OG1022_REF_Scer_AF-P38715-F1-model_v2',\n",
       " 'YAT2: OG4391_REF_Scer_AF-P40017-F1-model_v2']"
      ]
     },
     "execution_count": 64,
     "metadata": {},
     "output_type": "execute_result"
    }
   ],
   "source": [
    "[sc_common_name + ': ' + og_ref_lookup_genename[SC_orfs_lookup[sc_common_name]]  for sc_common_name in ['PUT2','GRE3','YAT2']]"
   ]
  },
  {
   "cell_type": "markdown",
   "id": "c16fd477-222b-4b17-970e-76bad49bcbb9",
   "metadata": {},
   "source": [
    "Results: \n",
    "\n",
    "5A: \n",
    "\n",
    "RSC - wierd alignment\n",
    "\n",
    "Fas2 looks like a normal group - the others have been filtered out. \n",
    "\n",
    "DN/dS 0.06745\n",
    "DN/dS binding site: 0.09599\n",
    "\n",
    "'QCR6': 'OG4352_REF_Scer_AF-P00127-F1-model_v2'  \n",
    "The thing designated as binding site is very gappy and fails my trimming filter - strict trimming makes it smaller than 0.25 of the average sequence length.  Looks like the binding site is really only there in S. cer.  \n",
    "'QCR7', 'OG3208_REF_Scer_AF-P00128-F1-model_v2'  Size 3 - filtered out\n",
    "'SFGH', 'OG3241_REF_Scer_AF-P40363-F1-model_v2'  Size 4 - filtered out \n",
    "'KFA', 'OG4463_REF_Scer_AF-Q04066-F1-model_v2'   very high dS\n",
    "\n",
    "\n",
    "Uniprot: \n",
    "\n",
    "FAS2\n",
    "GYS1: OG1266_REF_Scer_AF-P23337-F1-model_v2,\n",
    "GYS2: OG1266_REF_Scer_AF-P23337-F1-model_v2\n",
    "\n",
    " \n",
    "Filtered out: \n",
    "'SFGH' as above \n",
    "\n",
    "\n",
    "'PLMT: OG2645_REF_Scer_AF-P05375-F1-model_v2',\n",
    "'PUT2: OG1595_REF_Scer_AF-P07275-F1-model_v2',\n",
    " 'GRE3: OG1022_REF_Scer_AF-P38715-F1-model_v2',\n",
    " 'YAT2: OG4391_REF_Scer_AF-P40017-F1-model_v2']\n",
    "\n"
   ]
  },
  {
   "cell_type": "code",
   "execution_count": null,
   "id": "0601eb05-b1cc-431a-b26b-c9b8df94713b",
   "metadata": {},
   "outputs": [],
   "source": [
    "OG4352_REF_Scer_AF-P00127-F1-model_v2 OG3208_REF_Scer_AF-P00128-F1-model_v2 OG3241_REF_Scer_AF-P40363-F1-model_v2 OG4463_REF_Scer_AF-Q04066-F1-model_v2\n",
    "\n",
    "#Try to run binding site M0 calculation for these four\n",
    "\n",
    "#If any succeed, try to run it for all\n"
   ]
  },
  {
   "cell_type": "code",
   "execution_count": null,
   "id": "fc0f1d02-5952-4c6a-83cf-09006cdd6207",
   "metadata": {},
   "outputs": [],
   "source": [
    "QCR6\n",
    "\n",
    ">Calb_AF-A0A1D8PJT8-F1-model_v2.pdb\n",
    "---------V----T--\n",
    ">REF_Scer_AF-P00127-F1-model_v2.pdb\n",
    "EE-LK-TV--VV-A-NE\n",
    ">Spom_AF-O42932-F1-model_v2.pdb\n",
    "KF------T----A-SL\n",
    ">alloascoidea_hylecoeti__OG4352__0_4899.pdb\n",
    "-V---------------\n",
    ">ascoidea_rubescens__OG4352__6_2774.pdb\n",
    "----K------------\n",
    ">candida_tropicalis__OG4352__30_4463.pdb\n",
    "-----------------\n",
    ">cyberlindnera_jadinii__OG4352__35_207.pdb\n",
    "---YT-LK---------\n",
    ">debaryomyces_hansenii__OG4352__36_96.pdb\n",
    "-----------------\n",
    ">geotrichum_candidum__OG4352__43_1164.pdb\n",
    "--WTD-VE---------\n",
    ">komagataella_pastoris__OG4352__52_2977.pdb\n",
    "-Y--T------------\n",
    ">lipomyces_starkeyi__OG4352__66_2394.pdb\n",
    "----I-------E----\n",
    ">ogataea_parapolymorpha__OG4352__104_3664.pdb\n",
    "-F--D-----IT-Y---\n",
    ">pachysolen_tannophilus__OG4352__106_5701.pdb\n",
    "-----------S-----\n",
    ">tortispora_caseinolytica__OG4352__134_1986.pdb\n",
    "-----I-----------\n",
    ">torulaspora_delbrueckii__OG4352__135_1899.pdb\n",
    "-----------S-----\n",
    ">wickerhamomyces_anomalus__OG4352__139_5006.pdb\n",
    "----A------------\n",
    ">yHMPu5000034604_sporopachydermia_lactativora_160519__OG4352__170_4168.pdb\n",
    "-S-LL-TV---------\n",
    ">yarrowia_lipolytica__OG4352__144_3930.pdb\n",
    "-----------------\n",
    ">zygosaccharomyces_rouxii__OG4352__342_4105.pdb\n",
    "-----------E-----\n"
   ]
  },
  {
   "cell_type": "markdown",
   "id": "c65d4988-05c9-4457-9d28-9a89ddd2631d",
   "metadata": {},
   "source": [
    "## Features;  Surface and Core\n",
    "\n"
   ]
  },
  {
   "cell_type": "code",
   "execution_count": 12,
   "id": "e69f4e1e-e7af-48f1-a60d-cdd631062ec2",
   "metadata": {
    "tags": []
   },
   "outputs": [],
   "source": [
    "# Surface / Core: \n",
    "# Note that these are only calculated for residues in Olivers alignments that means they are not calculated for residues in \n",
    "# a sequence that do not align with the reference sequence. \n",
    "\n",
    "\n",
    "#feature='surface'  #core\n",
    "min_feature_size = 5\n",
    "#feature_subset_dir = base_dir + os.sep + os.path.normpath('msas/structural/tm_align/feature_subsets/' + feature) + os.sep\n",
    "\n",
    "sasa_cut = 0.25\n",
    "\n",
    "dict_sasa_max = {'ALA': 1.2831596, 'CYS': 1.6075546, 'ASP': 1.6942018, 'GLU': 1.9520556, 'PHE': 2.3931725, \n",
    "                     'GLY': 0.9859995, 'HIS': 2.1476686, 'ILE': 1.9781175, 'LYS': 2.4149895, 'LEU': 1.9980704, \n",
    "                     'MET': 2.1391654, 'ASN': 1.8180864, 'PRO': 1.6501249, 'GLN': 1.996297, 'ARG': 2.7603362, \n",
    "                     'SER': 1.4527341, 'THR': 1.6533911, 'VAL': 1.7248302, 'TRP': 2.773364, 'TYR': 2.5169885,\n",
    "                     'XYZ': 1.}\n",
    "\n",
    "surface_core_abbrev = {'core':'C',\n",
    "                      'surface':'S'\n",
    "                      }\n",
    "\n",
    "#Threshold for a column of an alignment to call it \"core\" (above 0.94 core), \"surface\" (below 0.06 core) or \"unclear\"\n",
    "surface_core_pct_thresholds = (0.2, 0.8) # Should test sensitivity to this parameter. \n"
   ]
  },
  {
   "cell_type": "code",
   "execution_count": 32,
   "id": "f5e67018-d23f-47e9-9344-0d7cc23503de",
   "metadata": {
    "tags": []
   },
   "outputs": [
    {
     "name": "stdout",
     "output_type": "stream",
     "text": [
      "OG1694_REF_Scer_AF-P39713-F1-model_v2\n"
     ]
    },
    {
     "ename": "KeyError",
     "evalue": "'C'",
     "output_type": "error",
     "traceback": [
      "\u001b[1;31m---------------------------------------------------------------------------\u001b[0m",
      "\u001b[1;31mKeyError\u001b[0m                                  Traceback (most recent call last)",
      "Cell \u001b[1;32mIn[32], line 34\u001b[0m\n\u001b[0;32m     31\u001b[0m         og_summary \u001b[38;5;241m=\u001b[39m pickle\u001b[38;5;241m.\u001b[39mload(f_in)\n\u001b[0;32m     33\u001b[0m \u001b[38;5;66;03m#Identify Core and Surface Residues for the orthogroup.  \u001b[39;00m\n\u001b[1;32m---> 34\u001b[0m og_surface_core_data \u001b[38;5;241m=\u001b[39m dyt\u001b[38;5;241m.\u001b[39mextract_surface_core(og_summary, sasa_cut, dict_sasa_max)\n\u001b[0;32m     36\u001b[0m \u001b[38;5;66;03m#For untrimmed alignment extract percentage core/surface for each column in the alignment\u001b[39;00m\n\u001b[0;32m     37\u001b[0m \u001b[38;5;66;03m# Load Untrimmed Alignment\u001b[39;00m\n\u001b[0;32m     38\u001b[0m aln_fname \u001b[38;5;241m=\u001b[39m base_dir \u001b[38;5;241m+\u001b[39m os\u001b[38;5;241m.\u001b[39msep \u001b[38;5;241m+\u001b[39m os\u001b[38;5;241m.\u001b[39mpath\u001b[38;5;241m.\u001b[39mnormpath(\u001b[38;5;124m'\u001b[39m\u001b[38;5;124mmsas/structural/tm_align/fasta_renamed/\u001b[39m\u001b[38;5;124m'\u001b[39m \u001b[38;5;241m+\u001b[39m og_ref \u001b[38;5;241m+\u001b[39m \u001b[38;5;124m'\u001b[39m\u001b[38;5;124m.tm.fasta\u001b[39m\u001b[38;5;124m'\u001b[39m)\n",
      "File \u001b[1;32m~\\Documents\\GitHub\\diverse_yeast\\diverse_yeast_tools.py:1092\u001b[0m, in \u001b[0;36mextract_surface_core\u001b[1;34m(og_summary, sasa_cut, dict_sasa_max)\u001b[0m\n\u001b[0;32m   1087\u001b[0m     \u001b[38;5;28;01mfor\u001b[39;00m key, count \u001b[38;5;129;01min\u001b[39;00m surface_core_count\u001b[38;5;241m.\u001b[39mitems():\n\u001b[0;32m   1088\u001b[0m         surface_core_pct[key] \u001b[38;5;241m=\u001b[39m count\u001b[38;5;241m/\u001b[39m\u001b[38;5;28mlen\u001b[39m(mol_res)\n\u001b[0;32m   1090\u001b[0m     og_surface_core_data[\u001b[38;5;124m'\u001b[39m\u001b[38;5;124mprotein_data\u001b[39m\u001b[38;5;124m'\u001b[39m][prot_name] \u001b[38;5;241m=\u001b[39m {\u001b[38;5;124m'\u001b[39m\u001b[38;5;124mfull_protein_assignment\u001b[39m\u001b[38;5;124m'\u001b[39m : surface_core,\n\u001b[0;32m   1091\u001b[0m                                       \u001b[38;5;124m'\u001b[39m\u001b[38;5;124mfull_protein_count\u001b[39m\u001b[38;5;124m'\u001b[39m: {\u001b[38;5;124m'\u001b[39m\u001b[38;5;124mcore\u001b[39m\u001b[38;5;124m'\u001b[39m: surface_core_count[\u001b[38;5;124m'\u001b[39m\u001b[38;5;124mC\u001b[39m\u001b[38;5;124m'\u001b[39m], \u001b[38;5;124m'\u001b[39m\u001b[38;5;124msurface\u001b[39m\u001b[38;5;124m'\u001b[39m: surface_core_count[\u001b[38;5;124m'\u001b[39m\u001b[38;5;124mS\u001b[39m\u001b[38;5;124m'\u001b[39m]}, \n\u001b[1;32m-> 1092\u001b[0m                                       \u001b[38;5;124m'\u001b[39m\u001b[38;5;124mfull_protein_pct\u001b[39m\u001b[38;5;124m'\u001b[39m :  {\u001b[38;5;124m'\u001b[39m\u001b[38;5;124mcore\u001b[39m\u001b[38;5;124m'\u001b[39m: surface_core_pct[\u001b[38;5;124m'\u001b[39m\u001b[38;5;124mC\u001b[39m\u001b[38;5;124m'\u001b[39m], \u001b[38;5;124m'\u001b[39m\u001b[38;5;124msurface\u001b[39m\u001b[38;5;124m'\u001b[39m: surface_core_pct[\u001b[38;5;124m'\u001b[39m\u001b[38;5;124mS\u001b[39m\u001b[38;5;124m'\u001b[39m]}\n\u001b[0;32m   1093\u001b[0m                                      }\n\u001b[0;32m   1095\u001b[0m cores \u001b[38;5;241m=\u001b[39m []\n\u001b[0;32m   1096\u001b[0m surfaces \u001b[38;5;241m=\u001b[39m []\n",
      "\u001b[1;31mKeyError\u001b[0m: 'C'"
     ]
    }
   ],
   "source": [
    "# Trim Alignment by Structural Feature\n",
    "\n",
    "#  Note:  Need to make fasta_renamed and cds_align folders before running this\n",
    "#  This routine makes alignments (stored in feature_subsets/<feature>/fasta_renamed) and cds alignments (stored in feature_subsets/<feature>/cds_aln) for just the specified feature\n",
    "\n",
    "#Example OG1316_REF_Scer_AF-P19097-F1-model_v2 -- FAS2 as it is an enzyme with a less conserved binding site\n",
    "#og_ref = 'OG1316_REF_Scer_AF-P19097-F1-model_v2'\n",
    "\n",
    "feature_sizes = {'surface':{},\n",
    "                 'core': {}\n",
    "                }\n",
    "\n",
    "surface_core_data = {}\n",
    "\n",
    "#for fasta_file in os.listdir(base_dir + os.sep + os.path.normpath('msas/structural/tm_align/fasta_renamed/')):\n",
    "#og_ref = 'OG1030_REF_Scer_AF-P37291-F1-model_v2'\n",
    "og_ref = 'OG1694_REF_Scer_AF-P39713-F1-model_v2'\n",
    "og_ref = fasta_file.split('.')[0]\n",
    "print(og_ref)\n",
    "\n",
    "ref = '_'.join(og_ref.split('_')[1:])\n",
    "\n",
    "\n",
    "#Could add much more to og_surface_core_data and save that\n",
    "\n",
    "\n",
    "if ref+'.pkl' in os.listdir(summary_data_dir): \n",
    "    #Load Summary data for given og_ref\n",
    "    og_summary_fname = summary_data_dir + os.sep + ref + '.pkl'\n",
    "    with open(og_summary_fname, 'rb') as f_in:\n",
    "            og_summary = pickle.load(f_in)\n",
    "\n",
    "    #Identify Core and Surface Residues for the orthogroup.  \n",
    "    og_surface_core_data = dyt.extract_surface_core(og_summary, sasa_cut, dict_sasa_max)\n",
    "\n",
    "    #For untrimmed alignment extract percentage core/surface for each column in the alignment\n",
    "    # Load Untrimmed Alignment\n",
    "    aln_fname = base_dir + os.sep + os.path.normpath('msas/structural/tm_align/fasta_renamed/' + og_ref + '.tm.fasta')\n",
    "    aln = AlignIO.read(open(aln_fname),'fasta')\n",
    "\n",
    "    core_column_pct_untrimmed, column_occupancy_untrimmed, surface_core_aligned_mat_untrimmed, record_order_untrimmed = dyt.surface_core_analysis_alignment(aln, og_surface_core_data)\n",
    "\n",
    "    #For each trimmed alignment extract percentage core/surface for each column in the alignment.  \n",
    "    aln_trim_fname = base_dir + os.sep + os.path.normpath('msas/structural/tm_align/trim_strict/' + og_ref + '.tm.fasta.clipkit')\n",
    "\n",
    "    core_column_pct, column_occupancy, surface_core_aligned_mat, record_order = dyt.surface_core_analysis_untrimmed_to_trimmed(aln_trim_fname,surface_core_aligned_mat_untrimmed)\n",
    "\n",
    "    #Extract a protein and codon alignment for core and surface\n",
    "    aln_trimmed = AlignIO.read(open(aln_trim_fname),'fasta')\n",
    "    aln_trimmed_len = aln_trimmed.get_alignment_length()\n",
    "\n",
    "    aln_cds_fname_short = og_ref + '.tm.fasta.clipkit.cds'\n",
    "    if aln_cds_fname_short in os.listdir(base_dir + os.sep + os.path.normpath('msas/structural/tm_align/cds_trim_strict/')):\n",
    "                                            \n",
    "        aln_cds_fname = base_dir + os.sep + os.path.normpath('msas/structural/tm_align/cds_trim_strict/' + aln_cds_fname_short)\n",
    "        \n",
    "        aln_cds = AlignIO.read(open(aln_cds_fname),'fasta')\n",
    "\n",
    "        og_surface_core_data['trimmed_alignment'] = {}\n",
    "\n",
    "        #Based on trimmed alignment threshold choose Core / Surface part of protein\n",
    "\n",
    "        surface_core_discrete = []\n",
    "        for col_core_pct in core_column_pct:\n",
    "            if col_core_pct<surface_core_pct_thresholds[0]:\n",
    "                surface_core_discrete.append('S')\n",
    "            elif col_core_pct>surface_core_pct_thresholds[1]:\n",
    "                surface_core_discrete.append('C')\n",
    "            else: \n",
    "                surface_core_discrete.append('N')\n",
    "\n",
    "        #Quantify amount of core, surface and neither\n",
    "        og_surface_core_count = Counter(surface_core_discrete)\n",
    "\n",
    "        og_surface_core_data['trimmed_alignment']['pct_core'] = og_surface_core_count['C']/aln_trimmed_len\n",
    "        og_surface_core_data['trimmed_alignment']['pct_surface'] = og_surface_core_count['S']/aln_trimmed_len\n",
    "        og_surface_core_data['trimmed_alignment']['pct_unclear'] = og_surface_core_count['N']/aln_trimmed_len\n",
    "\n",
    "\n",
    "        #Could also compare this to Oliver's based only on the ref. \n",
    "\n",
    "        #Extract a protein and codon alignment for core and surface and save\n",
    "\n",
    "        #A more efficient way of doing this is here: https://www.biostars.org/p/460408/\n",
    "        #Converts alignment to numpy array then converts back to aln object\n",
    "\n",
    "        for feature in ['surface','core']: \n",
    "            feature_subset_dir = base_dir + os.sep + os.path.normpath('msas/structural/tm_align/feature_subsets/' + feature) + os.sep\n",
    "\n",
    "            feature_inds = [jj for jj,col_status in enumerate(surface_core_discrete) if col_status==surface_core_abbrev[feature]]\n",
    "\n",
    "            aln_temp = aln_trimmed[:,0:0]\n",
    "            aln_cds_temp = aln_cds[:,0:0]\n",
    "\n",
    "            for x in feature_inds:\n",
    "                aln_subset = aln_temp[:,:] + aln_trimmed[:, (x-1):x]\n",
    "                aln_temp = aln_subset\n",
    "\n",
    "                aln_cds_subset = aln_cds_temp[:,:] + aln_cds[:, (3*(x-1)):(3*x)]\n",
    "                aln_cds_temp = aln_cds_subset\n",
    "\n",
    "            #Save alignment subset\n",
    "            aln_subset_fname_out = feature_subset_dir + os.path.normpath('fasta_renamed/' + og_ref + '.tm.fasta')\n",
    "            with open(aln_subset_fname_out,'w') as f_out: \n",
    "                for record in aln_subset:\n",
    "                    f_out.write('>' + record.id + '\\n')   # Could add a length to this\n",
    "                    f_out.write(str(record.seq) + '\\n')\n",
    "\n",
    "            aln_cds_subset_fname_out = feature_subset_dir + os.path.normpath('cds_aln/' + og_ref + '.tm.cds.aln.fasta')\n",
    "            with open(aln_cds_subset_fname_out,'w') as f_out: \n",
    "                for record in aln_cds_subset:\n",
    "                    f_out.write('>' + record.id + '\\n')   # Could add a length to this\n",
    "                    f_out.write(str(record.seq) + '\\n')\n",
    "\n",
    "            feature_sizes[feature][og_ref] = aln_subset.get_alignment_length()\n",
    "\n",
    "        surface_core_data[og_ref] = og_surface_core_data\n",
    "    else: \n",
    "        print(og_ref + ' does not have trimmed codon alignment.  May not have minimum structure/sequence filter')\n"
   ]
  },
  {
   "cell_type": "code",
   "execution_count": 31,
   "id": "bb387961",
   "metadata": {},
   "outputs": [
    {
     "ename": "NameError",
     "evalue": "name 'jupyter' is not defined",
     "output_type": "error",
     "traceback": [
      "\u001b[1;31m---------------------------------------------------------------------------\u001b[0m",
      "\u001b[1;31mNameError\u001b[0m                                 Traceback (most recent call last)",
      "Cell \u001b[1;32mIn[31], line 1\u001b[0m\n\u001b[1;32m----> 1\u001b[0m jupyter\u001b[38;5;241m.\u001b[39mdebugJustMyCode\n",
      "\u001b[1;31mNameError\u001b[0m: name 'jupyter' is not defined"
     ]
    }
   ],
   "source": [
    "jupyter.debugJustMyCode"
   ]
  },
  {
   "cell_type": "code",
   "execution_count": 21,
   "id": "b4242fac-a970-4ca8-93f5-5b152790d6fa",
   "metadata": {
    "tags": []
   },
   "outputs": [
    {
     "data": {
      "text/plain": [
       "False"
      ]
     },
     "execution_count": 21,
     "metadata": {},
     "output_type": "execute_result"
    }
   ],
   "source": [
    "og_ref = 'OG1306_REF_Scer_AF-P38298-F1-model_v2'  #'OG2290_torulaspora_delbrueckii__OG2290__135_3975'\n"
   ]
  },
  {
   "cell_type": "code",
   "execution_count": 269,
   "id": "5d0e587e-2dda-4d23-95da-15f5629b6278",
   "metadata": {
    "tags": []
   },
   "outputs": [
    {
     "data": {
      "text/plain": [
       "'-----------------------------------------------------'"
      ]
     },
     "execution_count": 269,
     "metadata": {},
     "output_type": "execute_result"
    }
   ],
   "source": [
    "aln[:,492]"
   ]
  },
  {
   "cell_type": "code",
   "execution_count": 266,
   "id": "c1327886-8973-4386-8696-3f429a4d3c98",
   "metadata": {
    "tags": []
   },
   "outputs": [
    {
     "data": {
      "text/plain": [
       "'C'"
      ]
     },
     "execution_count": 266,
     "metadata": {},
     "output_type": "execute_result"
    }
   ],
   "source": [
    "og_surface_core_data['protein_data']['REF_Scer_AF-P37291-F1-model_v2']['full_protein_assignment'][67]"
   ]
  },
  {
   "cell_type": "code",
   "execution_count": 240,
   "id": "5b7eafb0-a901-40e1-b317-ae6e62ae8251",
   "metadata": {
    "tags": []
   },
   "outputs": [
    {
     "data": {
      "text/plain": [
       "<<class 'Bio.Align.MultipleSeqAlignment'> instance (26 records of length 2448) at 1a1dfb89010>"
      ]
     },
     "execution_count": 240,
     "metadata": {},
     "output_type": "execute_result"
    }
   ],
   "source": [
    "aln_cds_subset"
   ]
  },
  {
   "cell_type": "code",
   "execution_count": 239,
   "id": "a8ed1b0c-971d-48aa-ae14-17d6caeb9e21",
   "metadata": {
    "tags": []
   },
   "outputs": [
    {
     "data": {
      "text/plain": [
       "<<class 'Bio.Align.MultipleSeqAlignment'> instance (26 records of length 816) at 1a1d9e6cf10>"
      ]
     },
     "execution_count": 239,
     "metadata": {},
     "output_type": "execute_result"
    }
   ],
   "source": [
    "aln_subset"
   ]
  },
  {
   "cell_type": "code",
   "execution_count": 276,
   "id": "9436c562-aedb-4b29-b7fa-e90028e8e6b1",
   "metadata": {
    "tags": []
   },
   "outputs": [],
   "source": [
    "def surface_core_analysis_untrimmed_to_trimmed(aln_trim_fname,surface_core_aligned_mat_untrimmed):\n",
    "    zerocolumns = False\n",
    "    aln_trimmed = AlignIO.read(open(aln_trim_fname),'fasta')\n",
    "    \n",
    "    #Load clipkit log\n",
    "    aln_trim_log_fname = aln_trim_fname + '.log'\n",
    "    aln_trim = AlignIO.read(open(aln_trim_fname),'fasta')\n",
    "    \n",
    "    record_order = []\n",
    "    for record in aln_trim:\n",
    "        record_order.append(record.id)\n",
    "        \n",
    "    aln_trim_log = pd.read_table(aln_trim_log_fname, sep=' ', header=None, index_col=0)\n",
    "    aln_trim_log.rename(columns={1:'trim',2:'note',3:'value'}, inplace=True)\n",
    "\n",
    "    #makes a zero-based list of indices of the original full alignment index for extracting the trimmed index\n",
    "    #trim_ind_2_orig_ind = {}\n",
    "    aln_trim_log_kept = aln_trim_log[aln_trim_log['trim']=='keep']\n",
    "    aln_trim_log_kept_list = []\n",
    "    for trim_ind, orig_ind in enumerate(aln_trim_log_kept.index): \n",
    "        aln_trim_log_kept_list.append(orig_ind-1)\n",
    "        #trim_ind_2_orig_ind[trim_ind+1] = orig_ind\n",
    "\n",
    "    surface_core_aligned_mat = surface_core_aligned_mat_untrimmed[:,aln_trim_log_kept_list]\n",
    "    \n",
    "    core_column_pct = [] #Surface column pct will be 1-core column pct\n",
    "    column_occupancy = []\n",
    "    nspecs = surface_core_aligned_mat.shape[0]\n",
    "    for jj in range(surface_core_aligned_mat.shape[1]): \n",
    "        col = surface_core_aligned_mat[:,jj]\n",
    "        col_count = Counter(col)\n",
    "        if (col_count['C']+col_count['S'])==0: \n",
    "            zerocolumns = True  \n",
    "            core_column_pct.append(np.nan)\n",
    "        else: \n",
    "            core_column_pct.append(col_count['C']/(col_count['C']+col_count['S']))\n",
    "        column_occupancy.append((nspecs-col_count['-'])/nspecs)\n",
    "    \n",
    "    if zerocolumns: \n",
    "        print('at least one trimmed alignment column has no surface or core residues - may be empty')\n",
    "        \n",
    "    return core_column_pct, column_occupancy, surface_core_aligned_mat, record_order"
   ]
  },
  {
   "cell_type": "code",
   "execution_count": 264,
   "id": "3f74c15e-dbab-4540-ac4e-ab64930aae01",
   "metadata": {
    "tags": []
   },
   "outputs": [],
   "source": [
    "seq_out, msa2input, input2msa, pair_mapping = dyt.seq_squeeze(aln[2].seq)"
   ]
  },
  {
   "cell_type": "code",
   "execution_count": 275,
   "id": "bd2917cd-3ca4-437c-a13a-5374510bab85",
   "metadata": {
    "tags": []
   },
   "outputs": [],
   "source": [
    "def surface_core_analysis_alignment(aln, og_surface_core_data):\n",
    "    #Given an untrimmed alignment, extracts the percentage of residues that are core, and the percentage of columns of the alignment that are occupied, and the full matrix with \"I\", \"O\", or \"-\" in each column.  \n",
    "    #Also provides the order of the proteins from the alignment which may not be the same as in the core/surface data\n",
    "    zerocolumns = False\n",
    "    \n",
    "    surface_core_aligned = []\n",
    "    record_order = []\n",
    "    for record in aln:\n",
    "        record_order.append(record.id)\n",
    "        seq_out, msa2input, input2msa, pair_mapping = dyt.seq_squeeze(record.seq)\n",
    "\n",
    "        surface_core_unaligned_prot = og_surface_core_data['protein_data'][record.id.split('.')[0]]['full_protein_assignment']\n",
    "\n",
    "        surface_core_aligned_prot = []\n",
    "\n",
    "        for jj, res in enumerate(record.seq): \n",
    "            if res=='-': \n",
    "                surface_core_aligned_prot.append('-')\n",
    "            else: \n",
    "                surface_core_aligned_prot.append(surface_core_unaligned_prot[msa2input[jj]])\n",
    "\n",
    "        surface_core_aligned.append(surface_core_aligned_prot)\n",
    "\n",
    "    surface_core_aligned_mat = np.array(surface_core_aligned)\n",
    "\n",
    "    core_column_pct = [] #Surface column pct will be 1-core column pct\n",
    "    column_occupancy = []\n",
    "    nspecs = surface_core_aligned_mat.shape[0]\n",
    "    for jj in range(surface_core_aligned_mat.shape[1]): \n",
    "        col = surface_core_aligned_mat[:,jj]\n",
    "        col_count = Counter(col)\n",
    "        if (col_count['C']+col_count['S'])==0: \n",
    "            zerocolumns=True\n",
    "            core_column_pct.append(np.nan)\n",
    "        else: \n",
    "            core_column_pct.append(col_count['C']/(col_count['C']+col_count['S']))\n",
    "        column_occupancy.append((nspecs-col_count['-'])/nspecs)\n",
    "    \n",
    "    if zerocolumns: \n",
    "        print('alignment column has no surface or core residues - may be empty') \n",
    "    \n",
    "    return core_column_pct, column_occupancy, surface_core_aligned_mat, record_order"
   ]
  },
  {
   "cell_type": "code",
   "execution_count": 246,
   "id": "bfd6883c-4709-42fd-98ca-5b2b812ca8b4",
   "metadata": {
    "tags": []
   },
   "outputs": [
    {
     "data": {
      "image/png": "[encoded data removed]",
      "text/plain": [
       "<Figure size 640x480 with 2 Axes>"
      ]
     },
     "metadata": {},
     "output_type": "display_data"
    }
   ],
   "source": [
    "#Example analysis of core column percentage and column occupancy for untrimmed alignment. \n",
    "\n",
    "fig, axarr = plt.subplots(2,1)\n",
    "ind_range = (0,len(core_column_pct))#(1000,1100)#(0,120)\n",
    "ylim = (0,1)\n",
    "xlim = (0,len(core_column_pct))\n",
    "\n",
    "ax0 = axarr[0]\n",
    "ax0.stairs(core_column_pct[ind_range[0]:ind_range[1]], color='blue')\n",
    "ax0.set_ylim(ylim)\n",
    "ax0.set_xlim(xlim)\n",
    "ax0.set_title(\"Percentage of core residues\")\n",
    "\n",
    "ax1 = axarr[1]\n",
    "ax1.stairs(column_occupancy[ind_range[0]:ind_range[1]], color='grey')\n",
    "ax1.set_ylim(ylim)\n",
    "ax1.set_xlim(xlim)\n",
    "ax1.set_title(\"Percentage of column with residues\")\n",
    "\n",
    "fig.tight_layout()\n"
   ]
  },
  {
   "cell_type": "code",
   "execution_count": 247,
   "id": "c976378f-574a-40b6-80cc-ae7c073d5515",
   "metadata": {
    "tags": []
   },
   "outputs": [
    {
     "data": {
      "image/png": "[encoded data removed]",
      "text/plain": [
       "<Figure size 640x480 with 2 Axes>"
      ]
     },
     "metadata": {},
     "output_type": "display_data"
    }
   ],
   "source": [
    "fig, axarr = plt.subplots(2,1)\n",
    "\n",
    "ax0 = axarr[0]\n",
    "ax0.hist(core_column_pct, color='blue', bins=50)\n",
    "#ax0.set_ylim(ylim)\n",
    "#ax0.set_xlim(xlim)\n",
    "ax0.set_title(\"Histogram of core residue pct\")\n",
    "\n",
    "ax1 = axarr[1]\n",
    "ax1.hist(column_occupancy, color='grey')\n",
    "#ax1.set_ylim(ylim)\n",
    "ax1.set_xlim((-0.05,1.01))\n",
    "ax1.set_title(\"Histogram of column occupancy\")\n",
    "\n",
    "fig.tight_layout()"
   ]
  },
  {
   "cell_type": "code",
   "execution_count": 248,
   "id": "4711304d-c4b0-4756-9e07-a6c45576dce9",
   "metadata": {
    "tags": []
   },
   "outputs": [
    {
     "data": {
      "text/plain": [
       "Text(0, 0.5, 'Column occupancy')"
      ]
     },
     "execution_count": 248,
     "metadata": {},
     "output_type": "execute_result"
    },
    {
     "data": {
      "image/png": "[encoded data removed]",
      "text/plain": [
       "<Figure size 640x480 with 1 Axes>"
      ]
     },
     "metadata": {},
     "output_type": "display_data"
    }
   ],
   "source": [
    "fig, ax = plt.subplots(1,1)\n",
    "\n",
    "ax.scatter(core_column_pct, column_occupancy, color='black', alpha=0.02)\n",
    "ax.set_ylim(-0.1,1.1)\n",
    "ax.set_xlim(-0.1,1.1)\n",
    "#ax0.set_xlim(xlim)\n",
    "ax.set_xlabel(\"core residue pct\")\n",
    "ax.set_ylabel(\"Column occupancy\")\n",
    "\n",
    "#fig.tight_layout()"
   ]
  },
  {
   "cell_type": "code",
   "execution_count": 230,
   "id": "f0161378-08a6-4a60-96a9-48cbf1d253b5",
   "metadata": {
    "tags": []
   },
   "outputs": [],
   "source": [
    "def extract_surface_core(og_summary, sasa_cut, dict_sasa_max):\n",
    "    #For a given protein lists how many are Core, Surface, Missing From Alignment, Not assigned \n",
    "    #Would be good to check Oliver's alignment vs my alignment to make sure it is correct.  \n",
    "    #This should be something saved somewhere as a reference\n",
    "\n",
    "    og_surface_core_data = {}\n",
    "    og_surface_core_data['protein_data']={}\n",
    "\n",
    "    for prot_ind, prot_name in enumerate(og_summary['Molecules'].keys()): \n",
    "        #prot_name = 'yHMPu5000034957_hanseniaspora_osmophila_160519__OG1316__247_2096'\n",
    "        #prot_ind = prot_ind_lookup[prot_name]\n",
    "        mol_sasa = og_summary['Molecules'][prot_name]['SASA']\n",
    "        mol_res = og_summary['Molecules'][prot_name]['Residues']\n",
    "\n",
    "        core_res_all = (mol_sasa/np.vectorize(dict_sasa_max.get)(mol_res))<sasa_cut\n",
    "        surface_res_all = (mol_sasa/np.vectorize(dict_sasa_max.get)(mol_res))>sasa_cut\n",
    "\n",
    "        #Initialize surface_core, a vector that indicates whether a residue in the sequence is, core, surface, or NA if not calculated \n",
    "        surface_core = ['NA']*len(mol_res)\n",
    "\n",
    "        #surface_residues: \n",
    "        for jj, surface_bool in enumerate(surface_res_all): \n",
    "            if surface_bool: \n",
    "                #seq_ind = mapping_ref_based_aln[jj]\n",
    "                surface_core[jj]= 'S'\n",
    "\n",
    "        #core_residues: \n",
    "        for jj, core_bool in enumerate(core_res_all): \n",
    "            if core_bool: \n",
    "                #seq_ind = mapping_ref_based_aln[jj]\n",
    "                surface_core[jj]= 'C'\n",
    "\n",
    "        surface_core_count = Counter(surface_core)\n",
    "\n",
    "        #Check that all residues for the protein in the ref_based alignment are assigned to either core or surface. \n",
    "        assert len(mol_res) == (surface_core_count['S'] + surface_core_count['C']), 'Residue aligned to reference structure not assigned as core or surface'\n",
    "\n",
    "        \n",
    "        surface_core_pct = {}\n",
    "        for key, count in surface_core_count.items():\n",
    "            surface_core_pct[key] = count/len(mol_res)\n",
    "\n",
    "        og_surface_core_data['protein_data'][prot_name] = {'full_protein_assignment' : surface_core,\n",
    "                                          'full_protein_count': {'core': surface_core_count['C'], 'surface': surface_core_count['S']}, \n",
    "                                          'full_protein_pct' :  {'core': surface_core_pct['C'], 'surface': surface_core_pct['S']}\n",
    "                                         }\n",
    "\n",
    "    cores = []\n",
    "    surfaces = []\n",
    "\n",
    "    for key, data in og_surface_core_data['protein_data'].items(): \n",
    "        #print(key)\n",
    "        cores.append(data['full_protein_pct']['core'])\n",
    "        surfaces.append(data['full_protein_pct']['surface'])\n",
    "\n",
    "    og_surface_core_data['core_mean'] = np.mean(cores)\n",
    "    og_surface_core_data['core_std'] = np.std(cores)\n",
    "        \n",
    "    return og_surface_core_data\n",
    "\n"
   ]
  },
  {
   "cell_type": "code",
   "execution_count": null,
   "id": "67399bb4-968d-47a6-8ca8-bb3f0dc624bd",
   "metadata": {},
   "outputs": [],
   "source": [
    "    \n",
    "    \n",
    "#         #Check to see if the feature exists for that protein\n",
    "#         if 'Binding Site' in set(og_summary['Mapping Colors'].keys()):\n",
    "\n",
    "#             aln_fname = base_dir + os.sep + os.path.normpath('msas/structural/tm_align/fasta_renamed/' + og_ref + '.tm.fasta')\n",
    "#             aln = AlignIO.read(open(aln_fname),'fasta')\n",
    "\n",
    "#             aln_cds_fname = base_dir + os.sep + os.path.normpath('msas/structural/tm_align/cds_aln/' + og_ref + '.tm.cds.aln.fasta')\n",
    "#             aln_cds = AlignIO.read(open(aln_cds_fname),'fasta')\n",
    "\n",
    "\n",
    "#             #Load alignment and make dictionary to map ref structure coordinates to alignment coordinates\n",
    "\n",
    "#             ref_ind=None\n",
    "#             for (jj, record) in enumerate(aln): \n",
    "#                 if ref == record.id.split('.')[0]:\n",
    "#                     ref_ind = jj\n",
    "\n",
    "#             #Get map for reference sequence from msa index\n",
    "#             ref_seq_from_msa = str(aln[ref_ind,:].seq)\n",
    "#             ref_seq, msa2ref, ref2msa, pair_mapping = dyt.seq_squeeze(ref_seq_from_msa)\n",
    "\n",
    "\n",
    "#             #Get list of indices for the feature   \n",
    "#             feat_inds_ref = []\n",
    "#             for jj, feature_present in enumerate((og_summary['Mapping Colors']['Binding Site']==1)): \n",
    "#                 if feature_present:\n",
    "#                     feat_inds_ref.append(jj)\n",
    "\n",
    "#             feature_size = len(feat_inds_ref)\n",
    "#             feature_sizes[og_ref] = feature_size\n",
    "\n",
    "#             if feature_size>= min_feature_size: \n",
    "#                 feat_inds_msa = []\n",
    "\n",
    "\n",
    "#                 for feat_ind in feat_inds_ref: \n",
    "#                     feat_inds_msa.append(ref2msa[feat_ind])\n",
    "\n",
    "#                     #Verify seq_squeeze is mapping correctly\n",
    "#                     assert (ref_seq[feat_ind] == ref_seq_from_msa[ref2msa[feat_ind]]), \"bad mapping to ref from seq_squeeze\"\n",
    "\n",
    "#                     #Verify identical sequence in tm_align reference and in Output/Summary data\n",
    "#                     aa_3L_caps = og_summary['Mapping']['Amino Acid'][0,:][feat_ind]\n",
    "#                     aa_3L = aa_3L_caps[0] + aa_3L_caps[1:].lower()\n",
    "#                     trans_dict[aa_3L]\n",
    "#                     assert (ref_seq[feat_ind] == trans_dict[aa_3L]), \"Difference in sequence between tm_align alignment and Output/Summary data: \" + og_ref + ' ' + str(feat_ind) + ' ' + ref_seq[feat_ind] + ' vs ' + aa3L \n",
    "\n",
    "#                 #Extract Alignment Subsets\n",
    "#                 #A more efficient way of doing this is here: https://www.biostars.org/p/460408/\n",
    "#                 #Converts alignment to numpy array then converts back to aln object\n",
    "\n",
    "#                 aln_temp = aln[:,0:0]\n",
    "#                 aln_cds_temp = aln_cds[:,0:0]\n",
    "\n",
    "#                 for x in feat_inds_msa:\n",
    "#                     aln_subset = aln_temp[:,:] + aln[:, (x-1):x]\n",
    "#                     aln_temp = aln_subset\n",
    "\n",
    "#                     aln_cds_subset = aln_cds_temp[:,:] + aln_cds[:, (3*(x-1)):(3*x)]\n",
    "#                     aln_cds_temp = aln_cds_subset\n",
    "\n",
    "#                 #Save alignment subset\n",
    "#                 aln_subset_fname_out = feature_subset_dir + os.path.normpath('fasta_renamed/' + og_ref + '.tm.fasta')\n",
    "#                 with open(aln_subset_fname_out,'w') as f_out: \n",
    "#                     for record in aln_subset:\n",
    "#                         f_out.write('>' + record.id + '\\n')   # Could add a length to this\n",
    "#                         f_out.write(str(record.seq) + '\\n')\n",
    "\n",
    "#                 aln_cds_subset_fname_out = feature_subset_dir + os.path.normpath('cds_aln/' + og_ref + '.tm.cds.aln.fasta')\n",
    "#                 with open(aln_cds_subset_fname_out,'w') as f_out: \n",
    "#                     for record in aln_cds_subset:\n",
    "#                         f_out.write('>' + record.id + '\\n')   # Could add a length to this\n",
    "#                         f_out.write(str(record.seq) + '\\n')\n",
    "#             else: \n",
    "#                 print(feature + ' size of ' + str(feature_size) + ' below threshold size of ' + str(min_feature_size))\n",
    "\n",
    "#         else: \n",
    "#             print('No ' + feature + ' for ' + og_ref)\n",
    "    \n",
    "#     else: \n",
    "#         print('No .pkl file for ' + og_ref)"
   ]
  },
  {
   "cell_type": "code",
   "execution_count": null,
   "id": "a64f7fc8-3dcc-4530-91e1-479cbb08c6df",
   "metadata": {},
   "outputs": [],
   "source": [
    "# #Protein sequence: \n",
    "# og_prot_unaligned_fname = os.path.normpath(base_dir + '/selected_proteins/og_sequences/proteome_tm/' + og_ref + '.pep.fasta')\n",
    "\n",
    "# og_prot_unaligned = {}\n",
    "# for record in SeqIO.parse(og_prot_unaligned_fname, \"fasta\"):\n",
    "#         og_prot_unaligned[record.id] = record.seq\n",
    "\n",
    "# #From Reference Based Alignment\n"
   ]
  },
  {
   "cell_type": "code",
   "execution_count": 7,
   "id": "3d42b49e-9f6e-45ed-9853-45f804eb1f46",
   "metadata": {
    "tags": []
   },
   "outputs": [],
   "source": [
    "#og_inner_outer_data['vanderwaltozyma_polyspora__OG1316__136_1009']['full_protein_assignment']"
   ]
  },
  {
   "cell_type": "code",
   "execution_count": 18,
   "id": "e615d499-951b-4b21-8dc1-351961bf7080",
   "metadata": {
    "tags": []
   },
   "outputs": [
    {
     "data": {
      "text/plain": [
       "<matplotlib.collections.PathCollection at 0x2c28e515010>"
      ]
     },
     "execution_count": 18,
     "metadata": {},
     "output_type": "execute_result"
    },
    {
     "data": {
      "image/png": "[encoded data removed]",
      "text/plain": [
       "<Figure size 640x480 with 1 Axes>"
      ]
     },
     "metadata": {},
     "output_type": "display_data"
    }
   ],
   "source": [
    "#Plot percentage inner and outer for a given OG.  Calculate averages and std. \n",
    "\n",
    "fig, ax = plt.subplots(1,1)\n",
    "\n",
    "inners = []\n",
    "outers = []\n",
    "\n",
    "for key, data in og_inner_outer_data.items(): \n",
    "    #print(key)\n",
    "    inners.append(data['full_protein_pct']['inner'])\n",
    "    outers.append(data['full_protein_pct']['outer'])\n",
    "    \n",
    "ax.scatter(inners, outers)\n",
    "\n",
    "np.std(inners)\n"
   ]
  },
  {
   "cell_type": "code",
   "execution_count": 21,
   "id": "dd111f98-6c88-4e74-b48c-2c30e59b207d",
   "metadata": {
    "tags": []
   },
   "outputs": [
    {
     "data": {
      "text/plain": [
       "0.012437847603155932"
      ]
     },
     "execution_count": 21,
     "metadata": {},
     "output_type": "execute_result"
    }
   ],
   "source": []
  },
  {
   "cell_type": "code",
   "execution_count": null,
   "id": "4cbe0ed9-96b0-4618-ab8c-295c6ba72964",
   "metadata": {},
   "outputs": [],
   "source": [
    "inner_res = ((data_dict[\"SASA\"]/np.vectorize(dict_sasa_max.get)(data_dict[\"Amino Acid\"])) < sasa_cut) & (data_dict[\"SASA\"] != -1)\n",
    "outer_res = ((data_dict[\"SASA\"]/np.vectorize(dict_sasa_max.get)(data_dict[\"Amino Acid\"])) >= sasa_cut) & (data_dict[\"SASA\"] != -1)"
   ]
  },
  {
   "cell_type": "code",
   "execution_count": 10,
   "id": "ad143fd2-9307-4bb6-b7e1-5383f694b962",
   "metadata": {
    "tags": []
   },
   "outputs": [
    {
     "data": {
      "text/plain": [
       "1577"
      ]
     },
     "execution_count": 10,
     "metadata": {},
     "output_type": "execute_result"
    }
   ],
   "source": [
    "len(og_inner_outer_data[prot_name]['full_protein_assignment'])"
   ]
  },
  {
   "cell_type": "code",
   "execution_count": 26,
   "id": "1dc8cff9-45a0-46a3-935a-af1690f7ba8e",
   "metadata": {
    "tags": []
   },
   "outputs": [],
   "source": [
    "a = og_inner_outer_data[prot_name]['full_protein_assignment']"
   ]
  },
  {
   "cell_type": "code",
   "execution_count": 27,
   "id": "04fd3b3d-9cf2-4039-9b5a-7203fda28c09",
   "metadata": {
    "tags": []
   },
   "outputs": [
    {
     "data": {
      "text/plain": [
       "'outer'"
      ]
     },
     "execution_count": 27,
     "metadata": {},
     "output_type": "execute_result"
    }
   ],
   "source": [
    "a[85]"
   ]
  },
  {
   "cell_type": "code",
   "execution_count": 28,
   "id": "97c337d1-233a-4942-8b5d-7886f9643789",
   "metadata": {
    "tags": []
   },
   "outputs": [
    {
     "data": {
      "text/plain": [
       "True"
      ]
     },
     "execution_count": 28,
     "metadata": {},
     "output_type": "execute_result"
    }
   ],
   "source": [
    "outer_res_all[85]"
   ]
  },
  {
   "cell_type": "code",
   "execution_count": 11,
   "id": "fcf3291d-45fc-44ac-8e29-885978a6d6cc",
   "metadata": {
    "tags": []
   },
   "outputs": [
    {
     "data": {
      "text/plain": [
       "1577"
      ]
     },
     "execution_count": 11,
     "metadata": {},
     "output_type": "execute_result"
    }
   ],
   "source": [
    "len(og_summary['Molecules']['yHMPu5000034957_hanseniaspora_osmophila_160519__OG1316__247_2096']['SASA'])"
   ]
  },
  {
   "cell_type": "code",
   "execution_count": 29,
   "id": "7fe3429f-71d2-42c8-93de-652da7eaee1e",
   "metadata": {
    "tags": []
   },
   "outputs": [],
   "source": [
    "for jj, (oliver, inner, outer) in enumerate(zip(og_inner_outer_data[prot_name]['full_protein_assignment'], inner_res_all, outer_res_all )):\n",
    "    if oliver != 'NA': \n",
    "        if oliver=='inner':\n",
    "            if inner != True: \n",
    "                print(jj)\n",
    "        elif oliver == 'outer': \n",
    "            if outer != True: \n",
    "                print(jj)\n",
    "            "
   ]
  },
  {
   "cell_type": "code",
   "execution_count": 16,
   "id": "eb58b5ab-f565-40c2-b2ad-4a6a16f1aaf7",
   "metadata": {
    "tags": []
   },
   "outputs": [],
   "source": []
  },
  {
   "cell_type": "code",
   "execution_count": 19,
   "id": "2442d0cf-5dad-4489-addd-76bffe05e672",
   "metadata": {
    "tags": []
   },
   "outputs": [],
   "source": []
  },
  {
   "cell_type": "code",
   "execution_count": 20,
   "id": "964010db-f6d2-4a40-ad55-2c59e8e8b8b2",
   "metadata": {
    "tags": []
   },
   "outputs": [
    {
     "data": {
      "text/plain": [
       "748"
      ]
     },
     "execution_count": 20,
     "metadata": {},
     "output_type": "execute_result"
    }
   ],
   "source": [
    "sum(inner_res_all)\n"
   ]
  },
  {
   "cell_type": "code",
   "execution_count": 21,
   "id": "925acb9d-29b7-49f3-ad95-9b00339e27f7",
   "metadata": {
    "tags": []
   },
   "outputs": [
    {
     "data": {
      "text/plain": [
       "829"
      ]
     },
     "execution_count": 21,
     "metadata": {},
     "output_type": "execute_result"
    }
   ],
   "source": [
    "sum(outer_res_all)"
   ]
  },
  {
   "cell_type": "code",
   "execution_count": null,
   "id": "ddb52426-3b39-4c0b-88e8-9df9848925e1",
   "metadata": {},
   "outputs": [],
   "source": [
    "og_summary['Molecules']['yHMPu5000034957_hanseniaspora_osmophila_160519__OG1316__247_2096']['SASA']"
   ]
  },
  {
   "cell_type": "code",
   "execution_count": 87,
   "id": "754ae691-c399-4e96-8e74-69030a80b81f",
   "metadata": {
    "tags": []
   },
   "outputs": [
    {
     "data": {
      "text/plain": [
       "898"
      ]
     },
     "execution_count": 87,
     "metadata": {},
     "output_type": "execute_result"
    }
   ],
   "source": [
    "inner_outer_count['outer'] + inner_outer_count['inner']"
   ]
  },
  {
   "cell_type": "code",
   "execution_count": 56,
   "id": "d41cac39-7ebb-4139-b832-fe983e42135a",
   "metadata": {
    "tags": []
   },
   "outputs": [
    {
     "data": {
      "text/plain": [
       "{'REF_Scer_AF-P19097-F1-model_v2': 0,\n",
       " 'Calb_AF-A0A1D8PK65-F1-model_v2': 1,\n",
       " 'Spom_AF-Q10289-F1-model_v2': 2,\n",
       " 'alloascoidea_hylecoeti__OG1316__0_7309': 3,\n",
       " 'ascoidea_rubescens__OG1316__6_2952': 4,\n",
       " 'candida_apicola__OG1316__13_3208': 5,\n",
       " 'candida_tropicalis__OG1316__30_3680': 6,\n",
       " 'debaryomyces_hansenii__OG1316__36_4062': 7,\n",
       " 'eremothecium_gossypii__OG1316__40_3799': 8,\n",
       " 'geotrichum_candidum__OG1316__43_5811': 9,\n",
       " 'geotrichum_candidum__OG1316__43_5871': 10,\n",
       " 'kluyveromyces_lactis__OG1316__50_2356': 11,\n",
       " 'kluyveromyces_marxianus__OG1316__51_2665': 12,\n",
       " 'komagataella_pastoris__OG1316__52_2577': 13,\n",
       " 'lachancea_thermotolerans__OG1316__64_2372': 14,\n",
       " 'lachancea_thermotolerans__OG1316__64_48': 15,\n",
       " 'lipomyces_starkeyi__OG1316__66_1600': 16,\n",
       " 'lipomyces_starkeyi__OG1316__66_5841': 17,\n",
       " 'ogataea_parapolymorpha__OG1316__104_2685': 18,\n",
       " 'pachysolen_tannophilus__OG1316__106_2759': 19,\n",
       " 'tortispora_caseinolytica__OG1316__134_385': 20,\n",
       " 'torulaspora_delbrueckii__OG1316__135_1867': 21,\n",
       " 'vanderwaltozyma_polyspora__OG1316__136_1009': 22,\n",
       " 'wickerhamomyces_anomalus__OG1316__139_1158': 23,\n",
       " 'yHMPu5000034604_sporopachydermia_lactativora_160519__OG1316__170_4247': 24,\n",
       " 'yHMPu5000034957_hanseniaspora_osmophila_160519__OG1316__247_2096': 25}"
      ]
     },
     "execution_count": 56,
     "metadata": {},
     "output_type": "execute_result"
    }
   ],
   "source": [
    "prot_ind_lookup"
   ]
  },
  {
   "cell_type": "code",
   "execution_count": 18,
   "id": "ec0d6294-813e-4211-aadc-f75ccfa10aec",
   "metadata": {
    "tags": []
   },
   "outputs": [
    {
     "data": {
      "text/plain": [
       "dict_keys(['Mapping', 'Mapping distance', 'Keys', 'Amino Acid', 'Amino Acid Type', 'pLDDT', 'DSSP', 'SASA'])"
      ]
     },
     "execution_count": 18,
     "metadata": {},
     "output_type": "execute_result"
    }
   ],
   "source": [
    "og_summary['Mapping'].keys()"
   ]
  },
  {
   "cell_type": "code",
   "execution_count": 48,
   "id": "7225922e-7527-477b-a67c-96c9c19f99c1",
   "metadata": {
    "tags": []
   },
   "outputs": [
    {
     "data": {
      "text/plain": [
       "array([1446, 1447, 1448, 1449, 1450, 1451, 1452, 1453, 1454, 1455, 1456,\n",
       "       1457, 1458, 1459, 1460, 1461, 1462, 1463, 1464, 1465,   -1,   -1,\n",
       "       1466, 1467, 1468, 1469, 1470, 1471, 1472, 1473, 1474, 1475, 1476,\n",
       "       1477, 1478, 1479, 1480, 1481,   -1,   -1,   -1,   -1,   -1,   -1,\n",
       "         -1,   -1,   -1,   -1,   -1,   -1,   -1,   -1,   -1,   -1,   -1,\n",
       "         -1,   -1,   -1, 1574,   -1,   -1,   -1, 1573,   -1,   -1,   -1,\n",
       "         -1,   -1, 1559,   -1, 1544,   -1,   -1,   -1,   -1,   -1,   -1,\n",
       "         -1,   -1,   -1,   -1,   -1,   -1,   -1,   -1,   -1,   -1,   -1,\n",
       "         -1,   -1,   -1,   -1,   -1,   -1,   -1,   -1,   -1,   -1,   -1,\n",
       "         -1,   -1,   -1,   -1,   -1,   -1,   -1,   -1,   -1,   -1,   -1,\n",
       "         -1,   -1,   -1,   -1,   -1,   -1,   -1,   -1,   -1,   -1,   -1,\n",
       "         -1,   -1,   -1,   -1,   -1,   -1,   -1,   -1,   -1,   -1,   -1,\n",
       "         -1,   -1,   -1,   -1,   -1,   -1,   -1,   -1,   -1,   -1,   -1,\n",
       "         -1,   -1,   -1,   -1,   -1,   -1,   -1,   -1,   -1,   -1,   -1,\n",
       "         -1,   -1,   -1,   -1,   -1,   -1,   -1,   -1,   -1,   -1,   -1,\n",
       "         -1,   -1,   -1,   -1,   -1,   -1,   -1,   -1,   -1,   -1,   -1,\n",
       "         -1,   -1,   -1,   -1,   -1,   -1,   -1,   -1,   -1, 1554,   -1,\n",
       "         -1,   -1,   -1,   -1,   -1,   -1,   -1,   -1,   -1,   -1,   -1,\n",
       "         -1], dtype=int64)"
      ]
     },
     "execution_count": 48,
     "metadata": {},
     "output_type": "execute_result"
    }
   ],
   "source": [
    "[-200:-1]"
   ]
  },
  {
   "cell_type": "code",
   "execution_count": 34,
   "id": "0ea23ec2-0b66-4678-9d46-905078e3afd2",
   "metadata": {
    "tags": []
   },
   "outputs": [],
   "source": [
    "a = og_summary['Mapping']['Amino Acid'][0]\n",
    "for aa in a: \n",
    "    if aa == 'XYZ': \n",
    "        print(aa)"
   ]
  },
  {
   "cell_type": "code",
   "execution_count": 14,
   "id": "d392a241-b34b-471d-b081-d5c805f8f07e",
   "metadata": {
    "tags": []
   },
   "outputs": [
    {
     "data": {
      "text/plain": [
       "952"
      ]
     },
     "execution_count": 14,
     "metadata": {},
     "output_type": "execute_result"
    }
   ],
   "source": [
    "Counter(outer_res[0])[True]"
   ]
  },
  {
   "cell_type": "code",
   "execution_count": null,
   "id": "765e7d16-8b65-4a6e-9703-151ea902d47a",
   "metadata": {},
   "outputs": [],
   "source": []
  },
  {
   "cell_type": "code",
   "execution_count": 43,
   "id": "4ca52e4f-5b43-4172-83d9-aea66a8cdbf0",
   "metadata": {
    "tags": []
   },
   "outputs": [
    {
     "data": {
      "text/plain": [
       "<function dict.get(key, default=None, /)>"
      ]
     },
     "execution_count": 43,
     "metadata": {},
     "output_type": "execute_result"
    }
   ],
   "source": [
    "dict_sasa_max.get"
   ]
  },
  {
   "cell_type": "code",
   "execution_count": 38,
   "id": "4eabed2c-72f9-487a-87fd-abde4f01e6f1",
   "metadata": {
    "tags": []
   },
   "outputs": [
    {
     "data": {
      "text/plain": [
       "array([['MET', 'LYS', 'PRO', ..., 'THR', 'LYS', 'LYS'],\n",
       "       ['XYZ', 'XYZ', 'XYZ', ..., 'XYZ', 'XYZ', 'XYZ'],\n",
       "       ['XYZ', 'XYZ', 'XYZ', ..., 'XYZ', 'XYZ', 'XYZ'],\n",
       "       ...,\n",
       "       ['XYZ', 'XYZ', 'XYZ', ..., 'XYZ', 'XYZ', 'XYZ'],\n",
       "       ['XYZ', 'XYZ', 'XYZ', ..., 'XYZ', 'XYZ', 'XYZ'],\n",
       "       ['XYZ', 'XYZ', 'XYZ', ..., 'XYZ', 'XYZ', 'XYZ']], dtype='<U25')"
      ]
     },
     "execution_count": 38,
     "metadata": {},
     "output_type": "execute_result"
    }
   ],
   "source": [
    "#list(list((data_dict[\"SASA\"]/np.vectorize(dict_sasa_max.get)(data_dict[\"Amino Acid\"]))[1]))\n",
    "data_dict['SASA']\n",
    "np.vectorize(dict_sasa_max.get)(data_dict[\"Amino Acid\"])\n",
    "data_dict[\"Amino Acid\"]"
   ]
  },
  {
   "cell_type": "code",
   "execution_count": 11,
   "id": "c2f07acc-6ee0-4c29-89dd-ccb3b5745c58",
   "metadata": {
    "tags": []
   },
   "outputs": [
    {
     "data": {
      "text/plain": [
       "array([[ 2.00551414,  1.29303646,  0.97706592, ...,  0.62784964,\n",
       "         0.98011053,  2.25241661],\n",
       "       [-1.        , -1.        , -1.        , ..., -1.        ,\n",
       "        -1.        , -1.        ],\n",
       "       [-1.        , -1.        , -1.        , ..., -1.        ,\n",
       "        -1.        , -1.        ],\n",
       "       ...,\n",
       "       [-1.        , -1.        , -1.        , ..., -1.        ,\n",
       "        -1.        , -1.        ],\n",
       "       [-1.        , -1.        , -1.        , ..., -1.        ,\n",
       "        -1.        , -1.        ],\n",
       "       [-1.        , -1.        , -1.        , ..., -1.        ,\n",
       "        -1.        , -1.        ]])"
      ]
     },
     "execution_count": 11,
     "metadata": {},
     "output_type": "execute_result"
    }
   ],
   "source": [
    "data_dict[\"SASA\"]"
   ]
  },
  {
   "cell_type": "code",
   "execution_count": 10,
   "id": "37dd38f1-f3df-4d49-b0f1-87ab99d4fedb",
   "metadata": {
    "tags": []
   },
   "outputs": [
    {
     "data": {
      "text/plain": [
       "array([[False, False, False, ..., False, False, False],\n",
       "       [False, False, False, ..., False, False, False],\n",
       "       [False, False, False, ..., False, False, False],\n",
       "       ...,\n",
       "       [False, False, False, ..., False, False, False],\n",
       "       [False, False, False, ..., False, False, False],\n",
       "       [False, False, False, ..., False, False, False]])"
      ]
     },
     "execution_count": 10,
     "metadata": {},
     "output_type": "execute_result"
    }
   ],
   "source": [
    "#Older version going from Olivers\n",
    "\n",
    "#For a given protein lists how many are Inner, Outer, Missing From Alignment, Not assigned \n",
    "#Would be good to check Oliver's alignment vs my alignment to make sure it is correct.  \n",
    "#This should be something saved somewhere as a reference\n",
    "\n",
    "\n",
    "og_inner_outer_data = {}\n",
    "\n",
    "\n",
    "\n",
    "#Protein sequence: \n",
    "og_prot_unaligned_fname = os.path.normpath(base_dir + '/selected_proteins/og_sequences/proteome_tm/' + og_ref + '.pep.fasta')\n",
    "\n",
    "og_prot_unaligned = {}\n",
    "for record in SeqIO.parse(og_prot_unaligned_fname, \"fasta\"):\n",
    "        og_prot_unaligned[record.id] = record.seq\n",
    "\n",
    "#From Reference Based Alignment\n",
    "\n",
    "\n",
    "for prot_ind, prot_name in enumerate(og_summary['Molecules'].keys()): \n",
    "    #prot_name = 'yHMPu5000034957_hanseniaspora_osmophila_160519__OG1316__247_2096'\n",
    "    #prot_ind = prot_ind_lookup[prot_name]\n",
    "    mapping_ref_based_aln = og_summary['Mapping']['Mapping'][prot_ind]\n",
    "\n",
    "    prot_seq = og_prot_unaligned[prot_name + '.pdb']\n",
    "\n",
    "    #Initialize inner_outer, a vector that indicates whether a residue in the sequence is, core, surface, or NA if not calculated \n",
    "    inner_outer = ['NA']*len(prot_seq)\n",
    "\n",
    "    #outer_residues: \n",
    "    for jj, outer_bool in enumerate(outer_res[prot_ind]): \n",
    "        if outer_bool: \n",
    "            seq_ind = mapping_ref_based_aln[jj]\n",
    "            inner_outer[seq_ind]= 'outer'\n",
    "\n",
    "    #inner_residues: \n",
    "    for jj, inner_bool in enumerate(inner_res[prot_ind]): \n",
    "        if inner_bool: \n",
    "            seq_ind = mapping_ref_based_aln[jj]\n",
    "            inner_outer[seq_ind]= 'inner'\n",
    "\n",
    "    inner_outer_count = Counter(inner_outer)\n",
    "\n",
    "    #Check that all residues for the protein in the ref_based alignment are assigned to either core or surface. \n",
    "    assert len([item for item in mapping_ref_based_aln if item != -1])== (inner_outer_count['outer'] + inner_outer_count['inner']), 'Residue aligned to reference structure not assigned as inner or outer'\n",
    "\n",
    "    inner_outer_pct = {}\n",
    "    for key, count in inner_outer_count.items():\n",
    "        inner_outer_pct[key] = count/len(prot_seq)\n",
    "\n",
    "    og_inner_outer_data[prot_name] = {'full_protein_assignment' : inner_outer,\n",
    "                                      'full_protein_count': dict(inner_outer_count), \n",
    "                                      'full_protein_pct' : inner_outer_pct,\n",
    "                                      'ref_alignment_index' : prot_ind\n",
    "                                     }\n"
   ]
  }
 ],
 "metadata": {
  "kernelspec": {
   "display_name": "Python 3 (ipykernel)",
   "language": "python",
   "name": "python3"
  },
  "language_info": {
   "codemirror_mode": {
    "name": "ipython",
    "version": 3
   },
   "file_extension": ".py",
   "mimetype": "text/x-python",
   "name": "python",
   "nbconvert_exporter": "python",
   "pygments_lexer": "ipython3",
   "version": "3.11.5"
  }
 },
 "nbformat": 4,
 "nbformat_minor": 5
}
